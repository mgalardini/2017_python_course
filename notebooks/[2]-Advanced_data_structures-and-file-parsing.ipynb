{
 "cells": [
  {
   "cell_type": "markdown",
   "metadata": {},
   "source": [
    "# Imports\n",
    "\n",
    "**Importing the package you will need on the top of your notebook is a good programming practice** "
   ]
  },
  {
   "cell_type": "code",
   "execution_count": 116,
   "metadata": {
    "ExecuteTime": {
     "end_time": "2017-09-11T16:59:45.815955",
     "start_time": "2017-09-11T16:59:45.426425Z"
    },
    "collapsed": false,
    "init_cell": true,
    "run_control": {
     "frozen": false,
     "read_only": false
    }
   },
   "outputs": [
    {
     "data": {
      "text/html": [
       "<style>.container { width:90% !important; }</style>"
      ],
      "text/plain": [
       "<IPython.core.display.HTML object>"
      ]
     },
     "metadata": {},
     "output_type": "display_data"
    }
   ],
   "source": [
    "# Import the packages that will be usefull for this part of the lesson\n",
    "from collections import OrderedDict, Counter, namedtuple\n",
    "import pandas as pd\n",
    "from pprint import pprint\n",
    "\n",
    "# Small trick to get a larger display\n",
    "from IPython.core.display import display, HTML\n",
    "display(HTML(\"<style>.container { width:90% !important; }</style>\"))"
   ]
  },
  {
   "cell_type": "markdown",
   "metadata": {},
   "source": [
    "---"
   ]
  },
  {
   "cell_type": "markdown",
   "metadata": {
    "heading_collapsed": true
   },
   "source": [
    "# General file parsing strategy"
   ]
  },
  {
   "cell_type": "markdown",
   "metadata": {
    "hidden": true
   },
   "source": [
    "* **1. Read the first line of the file and try to understand the structure and determine the length of the file**"
   ]
  },
  {
   "cell_type": "code",
   "execution_count": 2,
   "metadata": {
    "collapsed": true,
    "hidden": true,
    "run_control": {
     "frozen": false,
     "read_only": false
    }
   },
   "outputs": [],
   "source": [
    "file = \"../data/gencode_sample.gff3\""
   ]
  },
  {
   "cell_type": "code",
   "execution_count": 3,
   "metadata": {
    "collapsed": false,
    "hidden": true,
    "run_control": {
     "frozen": false,
     "read_only": false
    }
   },
   "outputs": [
    {
     "name": "stdout",
     "output_type": "stream",
     "text": [
      "100 lines found\n"
     ]
    }
   ],
   "source": [
    "# Count all the lines in python\n",
    "i = 0\n",
    "with open (file, \"r\") as fp:\n",
    "    for line in fp:\n",
    "        i += 1\n",
    "print (i, \"lines found\")"
   ]
  },
  {
   "cell_type": "code",
   "execution_count": 4,
   "metadata": {
    "collapsed": false,
    "hidden": true,
    "run_control": {
     "frozen": false,
     "read_only": false
    }
   },
   "outputs": [
    {
     "name": "stdout",
     "output_type": "stream",
     "text": [
      "  100   900 48233 ../data/gencode_sample.gff3\r\n"
     ]
    }
   ],
   "source": [
    "# Count all the lines in bash\n",
    "!wc {file}"
   ]
  },
  {
   "cell_type": "code",
   "execution_count": 5,
   "metadata": {
    "collapsed": false,
    "hidden": true,
    "run_control": {
     "frozen": false,
     "read_only": false
    }
   },
   "outputs": [
    {
     "name": "stdout",
     "output_type": "stream",
     "text": [
      "chr1\tHAVANA\texon\t181715338\t181715391\t.\t+\t.\tID=exon:ENST00000367573.6:9;Parent=ENST00000367573.6;gene_id=ENSG00000198216.10;transcript_id=ENST00000367573.6;gene_type=protein_coding;gene_status=KNOWN;gene_name=CACNA1E;transcript_type=protein_coding;transcript_status=KNOWN;transcript_name=CACNA1E-003;exon_number=9;exon_id=ENSE00003728811.1;level=2;protein_id=ENSP00000356545.2;transcript_support_level=1;tag=non_canonical_U12,basic,appris_alternative_2,CCDS;ccdsid=CCDS55664.1;havana_gene=OTTHUMG00000037301.6;havana_transcript=OTTHUMT00000090793.2\n",
      "chr1\tHAVANA\ttranscript\t26647447\t26647681\t.\t+\t.\tID=ENST00000443847.2;Parent=ENSG00000235069.2;gene_id=ENSG00000235069.2;transcript_id=ENST00000443847.2;gene_type=processed_pseudogene;gene_status=KNOWN;gene_name=RP4-785J1.1;transcript_type=processed_pseudogene;transcript_status=KNOWN;transcript_name=RP4-785J1.1-001;level=1;transcript_support_level=NA;ont=PGO:0000004;tag=pseudo_consens,basic;havana_gene=OTTHUMG00000057507.2;havana_transcript=OTTHUMT00000127800.2\n"
     ]
    }
   ],
   "source": [
    "# Read the first 2 lines in python\n",
    "with open (file, \"r\") as fp:\n",
    "    for _ in range (2):\n",
    "        print (next(fp).strip())"
   ]
  },
  {
   "cell_type": "code",
   "execution_count": 6,
   "metadata": {
    "collapsed": false,
    "hidden": true,
    "run_control": {
     "frozen": false,
     "read_only": false
    }
   },
   "outputs": [
    {
     "name": "stdout",
     "output_type": "stream",
     "text": [
      "chr1\tHAVANA\texon\t181715338\t181715391\t.\t+\t.\tID=exon:ENST00000367573.6:9;Parent=ENST00000367573.6;gene_id=ENSG00000198216.10;transcript_id=ENST00000367573.6;gene_type=protein_coding;gene_status=KNOWN;gene_name=CACNA1E;transcript_type=protein_coding;transcript_status=KNOWN;transcript_name=CACNA1E-003;exon_number=9;exon_id=ENSE00003728811.1;level=2;protein_id=ENSP00000356545.2;transcript_support_level=1;tag=non_canonical_U12,basic,appris_alternative_2,CCDS;ccdsid=CCDS55664.1;havana_gene=OTTHUMG00000037301.6;havana_transcript=OTTHUMT00000090793.2\r\n",
      "chr1\tHAVANA\ttranscript\t26647447\t26647681\t.\t+\t.\tID=ENST00000443847.2;Parent=ENSG00000235069.2;gene_id=ENSG00000235069.2;transcript_id=ENST00000443847.2;gene_type=processed_pseudogene;gene_status=KNOWN;gene_name=RP4-785J1.1;transcript_type=processed_pseudogene;transcript_status=KNOWN;transcript_name=RP4-785J1.1-001;level=1;transcript_support_level=NA;ont=PGO:0000004;tag=pseudo_consens,basic;havana_gene=OTTHUMG00000057507.2;havana_transcript=OTTHUMT00000127800.2\r\n"
     ]
    }
   ],
   "source": [
    "# Read the first 2 lines in Bash\n",
    "!head {file} -n 2"
   ]
  },
  {
   "cell_type": "markdown",
   "metadata": {
    "hidden": true
   },
   "source": [
    "* **2. If the file is a standard genomic/proteomic format, read the documentation**\n",
    "\n",
    "> There is no central database. You have to find it by yourself\n",
    "\n",
    "> Wikipedia is usually a good starting point, but try to identify the orginal source which is usually more up to date."
   ]
  },
  {
   "cell_type": "markdown",
   "metadata": {
    "hidden": true
   },
   "source": [
    "* **3. Think about the most efficient way to parse the file to get the information you want**\n",
    "\n",
    "> How are you going to access the field(s) of interest ? (you can test that with 1 line before starting with the whole file)\n",
    "    \n",
    "> A real life file will contain millions of lines and file reading is usually slow. Try to read the file only 1 time, even if you need to parse multiple element per line. \n",
    "    \n",
    "> How are you going to collect the information (dictionary, list, dataframe...) ?\n",
    "    \n",
    "**... Now you can parse the file**"
   ]
  },
  {
   "cell_type": "markdown",
   "metadata": {
    "hidden": true
   },
   "source": [
    "---"
   ]
  },
  {
   "cell_type": "markdown",
   "metadata": {
    "heading_collapsed": true
   },
   "source": [
    "# High-performance container datatypes from the standard library"
   ]
  },
  {
   "cell_type": "markdown",
   "metadata": {
    "hidden": true
   },
   "source": [
    "**Python standard library contains a very interesting package to simplify the parsing a file: \"collections\" (See [documentation](https://docs.python.org/3.5/library/collections.html) for detailed information)**\n",
    "\n",
    "**This module implements specialized container datatypes providing alternatives to Python’s native data structures (dict, list, set...)**\n",
    "\n",
    "| **Collection** \t| **Functionality**                                                    \t|\n",
    "|------------------ |----------------------------------------------------------------------\t|\n",
    "| **Counter**     \t| Dict subclass for counting hashable objects                          \t|\n",
    "| **OrderedDict** \t| Dict subclass that remembers the order entries were added            \t|\n",
    "| **namedtuple**  \t| Factory function for creating tuple subclasses with named fields     \t|\n",
    "| **deque**       \t| List-like container with fast appends and pops on either end         \t|\n",
    "| **ChainMap**    \t| Dict-like class for creating a single view of multiple mappings      \t|\n",
    "| **defaultdict** \t| Dict subclass that calls a factory function to supply missing values \t|\n",
    "| **UserDict**    \t| Wrapper around dictionary objects for easier dict subclassing        \t|\n",
    "| **UserList**    \t| Wrapper around list objects for easier list subclassing              \t|\n",
    "| **UserString**  \t| Wrapper around string objects for easier string subclassing          \t|"
   ]
  },
  {
   "cell_type": "markdown",
   "metadata": {
    "hidden": true
   },
   "source": [
    "---"
   ]
  },
  {
   "cell_type": "markdown",
   "metadata": {
    "heading_collapsed": true,
    "hidden": true
   },
   "source": [
    "## Counter"
   ]
  },
  {
   "cell_type": "markdown",
   "metadata": {
    "hidden": true
   },
   "source": [
    "**A [Counter](https://docs.python.org/3.5/library/collections.html#collections.Counter) container is provided to support convenient and rapid counting of specific occurences.**\n",
    "\n",
    "**See also [defaultdict](https://docs.python.org/3.5/library/collections.html#collections.defaultdict) for a generalization to other types than integer.**"
   ]
  },
  {
   "cell_type": "markdown",
   "metadata": {
    "hidden": true
   },
   "source": [
    "***Example: counting words in a text*** "
   ]
  },
  {
   "cell_type": "code",
   "execution_count": 12,
   "metadata": {
    "ExecuteTime": {
     "end_time": "2017-09-11T11:16:44.766063",
     "start_time": "2017-09-11T11:16:44.756118Z"
    },
    "collapsed": true,
    "hidden": true,
    "run_control": {
     "frozen": false,
     "read_only": false
    }
   },
   "outputs": [],
   "source": [
    "random_text = \"\"\"Ukip is likely to be asked to repay tens of thousands of euros by European parliament finance chiefs\n",
    "who have accused the party of misspending EU funds on party workers and Nigel Farage’s failed bid to win a seat in\n",
    "Westminster.The Alliance for Direct Democracy in Europe (ADDE), a Ukip-dominated political vehicle, will be asked to\n",
    "repay €173,000 (£148,000) in misspent funds and denied a further €501,000 in EU grants for breaking European rules\n",
    "that ban spending EU money on national election campaigns and referendums. According to a European parliament audit\n",
    "report seen by the Guardian, Ukip spent EU funds on polling and analysis in constituencies where they hoped to win a \n",
    "seat in the 2015 general election, including the South Thanet seat that party leader Farage contested. The party also\n",
    "funded polls to gauge the public mood on leaving the EU, months before the official campaign kicked off in April 2016\"\"\""
   ]
  },
  {
   "cell_type": "code",
   "execution_count": 52,
   "metadata": {
    "ExecuteTime": {
     "end_time": "2017-09-11T12:38:49.197904",
     "start_time": "2017-09-11T12:38:49.185829Z"
    },
    "collapsed": false,
    "hidden": true,
    "run_control": {
     "frozen": false,
     "read_only": false
    },
    "scrolled": true
   },
   "outputs": [
    {
     "data": {
      "text/plain": [
       "[('the', 8),\n",
       " ('in', 7),\n",
       " ('to', 7),\n",
       " ('a', 5),\n",
       " ('party', 4),\n",
       " ('on', 4),\n",
       " ('and', 4),\n",
       " ('eu', 4),\n",
       " ('european', 3),\n",
       " ('funds', 3)]"
      ]
     },
     "execution_count": 52,
     "metadata": {},
     "output_type": "execute_result"
    }
   ],
   "source": [
    "# Example with a Counter \n",
    "c = Counter()\n",
    "\n",
    "# Iterate over each word of the string\n",
    "for word in random_text.split():\n",
    "    # Increment the counter for the current element\n",
    "    c[word.lower()] += 1\n",
    "\n",
    "# Order by most frequent element\n",
    "c.most_common(10)"
   ]
  },
  {
   "cell_type": "code",
   "execution_count": 53,
   "metadata": {
    "ExecuteTime": {
     "end_time": "2017-09-11T12:38:54.055937",
     "start_time": "2017-09-11T12:38:54.037185Z"
    },
    "collapsed": false,
    "hidden": true,
    "run_control": {
     "frozen": false,
     "read_only": false
    }
   },
   "outputs": [
    {
     "data": {
      "text/plain": [
       "[('the', 8),\n",
       " ('in', 7),\n",
       " ('to', 7),\n",
       " ('a', 5),\n",
       " ('party', 4),\n",
       " ('on', 4),\n",
       " ('and', 4),\n",
       " ('eu', 4),\n",
       " ('european', 3),\n",
       " ('funds', 3)]"
      ]
     },
     "execution_count": 53,
     "metadata": {},
     "output_type": "execute_result"
    }
   ],
   "source": [
    "# Same thing but with native dict\n",
    "d = {}\n",
    "\n",
    "# Iterate over each characters of the string\n",
    "for word in random_text.split():\n",
    "    word = word.lower()\n",
    "    # If the element is not in the dict we have to create an entry first\n",
    "    if word not in d:\n",
    "        d[word] = 0\n",
    "    # Increment the counter for the current element\n",
    "    d[word]+=1\n",
    "    \n",
    "# Order by most frequent element\n",
    "sorted(d.items(), key=lambda t: t[1], reverse=True)[:10]"
   ]
  },
  {
   "cell_type": "markdown",
   "metadata": {
    "hidden": true
   },
   "source": [
    "---"
   ]
  },
  {
   "cell_type": "markdown",
   "metadata": {
    "heading_collapsed": true,
    "hidden": true
   },
   "source": [
    "## OrderedDict"
   ]
  },
  {
   "cell_type": "markdown",
   "metadata": {
    "hidden": true
   },
   "source": [
    "**In a standard python dictionary, the order of the elements is not guaranteed and can change between 2 successive calls. In many situations, it can be annoying particularly if the order of elements in a parsed file matters (fastq, fasta...)**\n",
    "\n",
    "**[Ordered dictionaries](https://docs.python.org/3.5/library/collections.html#collections.OrderedDict) are just like regular dictionaries but they remember the order that items were inserted, like lists.**\n",
    "\n",
    "**When iterating over an ordered dictionary, the items are returned in the order their keys were first added.**"
   ]
  },
  {
   "cell_type": "code",
   "execution_count": 10,
   "metadata": {
    "collapsed": false,
    "hidden": true,
    "run_control": {
     "frozen": false,
     "read_only": false
    }
   },
   "outputs": [],
   "source": [
    "fruit_str = \"banana ripe:banana unripe:banana ripe:banana rotten:apple ripe:apple ripe:apple ripe:apple unripe:orange unripe:orange unripe:orange unripe:pear rotten:pear rotten:pear ripe\""
   ]
  },
  {
   "cell_type": "markdown",
   "metadata": {
    "hidden": true
   },
   "source": [
    "***Parsing with a normal dictionary*** "
   ]
  },
  {
   "cell_type": "code",
   "execution_count": 11,
   "metadata": {
    "collapsed": false,
    "hidden": true,
    "run_control": {
     "frozen": false,
     "read_only": false
    },
    "scrolled": true
   },
   "outputs": [
    {
     "data": {
      "text/plain": [
       "{'apple': Counter({'ripe': 3, 'unripe': 1}),\n",
       " 'banana': Counter({'ripe': 2, 'rotten': 1, 'unripe': 1}),\n",
       " 'orange': Counter({'unripe': 3}),\n",
       " 'pear': Counter({'ripe': 1, 'rotten': 2})}"
      ]
     },
     "execution_count": 11,
     "metadata": {},
     "output_type": "execute_result"
    }
   ],
   "source": [
    "d={}\n",
    "\n",
    "for element in fruit_str.split(\":\"):\n",
    "    fruit, status = element.split(\" \")\n",
    "    if fruit not in d:\n",
    "        d[fruit] = Counter()\n",
    "    d[fruit][status]+=1\n",
    "\n",
    "d"
   ]
  },
  {
   "cell_type": "markdown",
   "metadata": {
    "hidden": true
   },
   "source": [
    "***Parsing with a Ordered dictionary*** "
   ]
  },
  {
   "cell_type": "code",
   "execution_count": 12,
   "metadata": {
    "collapsed": false,
    "hidden": true,
    "run_control": {
     "frozen": false,
     "read_only": false
    },
    "scrolled": true
   },
   "outputs": [
    {
     "data": {
      "text/plain": [
       "OrderedDict([('banana', Counter({'ripe': 2, 'rotten': 1, 'unripe': 1})),\n",
       "             ('apple', Counter({'ripe': 3, 'unripe': 1})),\n",
       "             ('orange', Counter({'unripe': 3})),\n",
       "             ('pear', Counter({'ripe': 1, 'rotten': 2}))])"
      ]
     },
     "execution_count": 12,
     "metadata": {},
     "output_type": "execute_result"
    }
   ],
   "source": [
    "d=OrderedDict()\n",
    "\n",
    "for element in fruit_str.split(\":\"):\n",
    "    fruit, status = element.split(\" \")\n",
    "    if fruit not in d:\n",
    "        d[fruit] = Counter()\n",
    "    d[fruit][status]+=1\n",
    "\n",
    "d"
   ]
  },
  {
   "cell_type": "markdown",
   "metadata": {
    "hidden": true
   },
   "source": [
    "**Since an ordered dictionary remembers its insertion order, it can be used in conjunction with sorting to make a sorted dictionary (by key or value) from a standard dictionary**\n"
   ]
  },
  {
   "cell_type": "code",
   "execution_count": 3,
   "metadata": {
    "ExecuteTime": {
     "end_time": "2017-09-11T10:39:23.146544",
     "start_time": "2017-09-11T10:39:23.123470Z"
    },
    "collapsed": false,
    "hidden": true,
    "run_control": {
     "frozen": false,
     "read_only": false
    }
   },
   "outputs": [
    {
     "name": "stdout",
     "output_type": "stream",
     "text": [
      "\n",
      "Standard unsorted dictionary\n",
      "{'apple': 4, 'apricot': 2, 'banana': 3, 'orange': 2, 'peach': 10, 'pear': 1}\n",
      "\n",
      "Dictionary sorted by key\n",
      "OrderedDict([('apple', 4),\n",
      "             ('apricot', 2),\n",
      "             ('banana', 3),\n",
      "             ('orange', 2),\n",
      "             ('peach', 10),\n",
      "             ('pear', 1)])\n",
      "\n",
      "Dictionary sorted by value\n",
      "OrderedDict([('pear', 1),\n",
      "             ('apricot', 2),\n",
      "             ('orange', 2),\n",
      "             ('banana', 3),\n",
      "             ('apple', 4),\n",
      "             ('peach', 10)])\n"
     ]
    }
   ],
   "source": [
    "print (\"\\nStandard unsorted dictionary\")\n",
    "d = {'banana':3, 'apple':4, 'pear':1, 'orange':2, \"peach\":10, \"apricot\":2}\n",
    "pprint (d)\n",
    "\n",
    "print(\"\\nDictionary sorted by key\")\n",
    "d_per_key = OrderedDict(sorted(d.items(), key=lambda t: t[0]))\n",
    "pprint (d_per_key)\n",
    "\n",
    "print(\"\\nDictionary sorted by value\")\n",
    "d_per_val = OrderedDict(sorted(d.items(), key=lambda t: t[1]))\n",
    "pprint (d_per_val)"
   ]
  },
  {
   "cell_type": "markdown",
   "metadata": {
    "hidden": true
   },
   "source": [
    "---"
   ]
  },
  {
   "cell_type": "markdown",
   "metadata": {
    "heading_collapsed": true,
    "hidden": true
   },
   "source": [
    "## Namedtuple"
   ]
  },
  {
   "cell_type": "markdown",
   "metadata": {
    "hidden": true
   },
   "source": [
    "**[Namedtuple](https://docs.python.org/3.5/library/collections.html#collections.namedtuple) are tuples with customizable field names, which makes them more intuitive to use**\n",
    "\n",
    "**Similar to normal tuples**\n",
    "* Immutable sequence that can contain any type\n",
    "* Much **faster** than lists\n",
    "\n",
    "** Contrary to normal tuples**\n",
    "* Initialization creates a new tuple subclass with a custom name\n",
    "* Attribute fields can be named\n",
    "* Access to the fields by name, like an object field\n",
    "* helpful rendering thanks to a __repr__() method"
   ]
  },
  {
   "cell_type": "markdown",
   "metadata": {
    "hidden": true
   },
   "source": [
    "** Simple Example of initialisation and instantiation **"
   ]
  },
  {
   "cell_type": "code",
   "execution_count": 25,
   "metadata": {
    "ExecuteTime": {
     "end_time": "2017-09-11T11:23:58.898886",
     "start_time": "2017-09-11T11:23:58.893773Z"
    },
    "collapsed": false,
    "hidden": true,
    "run_control": {
     "frozen": false,
     "read_only": false
    }
   },
   "outputs": [],
   "source": [
    "# Create the new type\n",
    "Point = namedtuple('Point', ['x', 'y'])"
   ]
  },
  {
   "cell_type": "code",
   "execution_count": 30,
   "metadata": {
    "ExecuteTime": {
     "end_time": "2017-09-11T11:24:55.861817",
     "start_time": "2017-09-11T11:24:55.855887Z"
    },
    "collapsed": false,
    "hidden": true,
    "run_control": {
     "frozen": false,
     "read_only": false
    }
   },
   "outputs": [
    {
     "data": {
      "text/plain": [
       "Point(x=10, y=23)"
      ]
     },
     "execution_count": 30,
     "metadata": {},
     "output_type": "execute_result"
    }
   ],
   "source": [
    "# Create a new Point Object\n",
    "p = Point(x=10, y=23)\n",
    "p"
   ]
  },
  {
   "cell_type": "code",
   "execution_count": 51,
   "metadata": {
    "ExecuteTime": {
     "end_time": "2017-09-11T11:37:09.621362",
     "start_time": "2017-09-11T11:37:09.612559Z"
    },
    "collapsed": false,
    "hidden": true,
    "run_control": {
     "frozen": false,
     "read_only": false
    },
    "scrolled": true
   },
   "outputs": [
    {
     "name": "stdout",
     "output_type": "stream",
     "text": [
      "10\n",
      "10\n"
     ]
    }
   ],
   "source": [
    "# Access to the fields by index or by point\n",
    "print(p[0])\n",
    "print(p.x)"
   ]
  },
  {
   "cell_type": "markdown",
   "metadata": {
    "hidden": true
   },
   "source": [
    "**Example of file parsing**"
   ]
  },
  {
   "cell_type": "code",
   "execution_count": 60,
   "metadata": {
    "ExecuteTime": {
     "end_time": "2017-09-11T12:54:56.749686",
     "start_time": "2017-09-11T12:54:56.512967Z"
    },
    "collapsed": false,
    "hidden": true,
    "run_control": {
     "frozen": false,
     "read_only": false
    }
   },
   "outputs": [
    {
     "name": "stdout",
     "output_type": "stream",
     "text": [
      "target_id\tlength\teff_length\test_counts\ttpm\n",
      "ENST00000473358.1\t712\t578.499\t13.8323\t1.80247\n",
      "ENST00000469289.1\t535\t341.689\t7.17452\t1.58284\n",
      "ENST00000417324.1\t1187\t891.822\t0\t0\n",
      "ENST00000461467.1\t590\t292.837\t155.164\t39.9428\n",
      "ENST00000466430.5\t2748\t2767.37\t240.02\t6.53814\n",
      "ENST00000477740.5\t491\t208.346\t1.03396\t0.374103\n",
      "ENST00000471248.1\t629\t324.741\t0\t0\n",
      "ENST00000610542.1\t723\t426.744\t0\t0\n",
      "ENST00000453576.2\t336\t56.0393\t0\t0\n",
      "28032 ../data/abundance.tsv\n"
     ]
    }
   ],
   "source": [
    "!head \"../data/abundance.tsv\"\n",
    "!wc -l \"../data/abundance.tsv\""
   ]
  },
  {
   "cell_type": "markdown",
   "metadata": {
    "hidden": true
   },
   "source": [
    "**We will represent each line with a namedtuple, themselves stored in a list representing the entire file.**\n",
    "\n",
    "**We will store only the field we are interested in: `target_id`, `eff_length`, `tpm`**\n",
    "\n",
    "**In addition only line with `length` greater than 50,000 will be saved**"
   ]
  },
  {
   "cell_type": "code",
   "execution_count": 69,
   "metadata": {
    "ExecuteTime": {
     "end_time": "2017-09-11T13:01:30.470997",
     "start_time": "2017-09-11T13:01:30.456530Z"
    },
    "collapsed": false,
    "hidden": true,
    "run_control": {
     "frozen": false,
     "read_only": false
    }
   },
   "outputs": [
    {
     "data": {
      "text/plain": [
       "__main__.abundance_line"
      ]
     },
     "execution_count": 69,
     "metadata": {},
     "output_type": "execute_result"
    }
   ],
   "source": [
    "abundance_line = namedtuple(\"abundance_line\", [\"target_id\", \"length\", \"tpm\"])\n",
    "abundance_line"
   ]
  },
  {
   "cell_type": "code",
   "execution_count": 76,
   "metadata": {
    "ExecuteTime": {
     "end_time": "2017-09-11T13:03:10.679185",
     "start_time": "2017-09-11T13:03:10.634925Z"
    },
    "collapsed": false,
    "hidden": true,
    "run_control": {
     "frozen": false,
     "read_only": false
    }
   },
   "outputs": [
    {
     "name": "stdout",
     "output_type": "stream",
     "text": [
      "[abundance_line(target_id='ENST00000597346.1', length=91667, tpm=1.47826),\n",
      " abundance_line(target_id='ENST00000626826.1', length=205012, tpm=5.37456),\n",
      " abundance_line(target_id='ENST00000623130.1', length=84332, tpm=4.26835),\n",
      " abundance_line(target_id='ENST00000623959.1', length=54079, tpm=3.38065),\n",
      " abundance_line(target_id='ENST00000623111.1', length=54538, tpm=13.2025)]\n"
     ]
    }
   ],
   "source": [
    "with open (\"../data/abundance.tsv\", \"r\") as fp:\n",
    "    # Flush the first header line\n",
    "    header = next(fp)\n",
    "    \n",
    "    # Init an empty list to store each parsed line\n",
    "    line_list = []\n",
    "    \n",
    "    # Iterate over all the lines and save the information in a list of namedtuples\n",
    "    for line in fp:\n",
    "        line = line.split()\n",
    "        \n",
    "        # Select lines with a length > 50000, create an abundance_line namedtuple and append to the list\n",
    "        if int(line[1]) > 50000:\n",
    "            a = abundance_line(target_id = line[0], length = int(line[1]), tpm = float(line[4])) # Cast in numeric types\n",
    "            line_list.append(a)\n",
    "\n",
    "pprint(line_list)"
   ]
  },
  {
   "cell_type": "markdown",
   "metadata": {
    "hidden": true
   },
   "source": [
    "**Access to the stored element is straightforward and intuitive** "
   ]
  },
  {
   "cell_type": "code",
   "execution_count": 78,
   "metadata": {
    "ExecuteTime": {
     "end_time": "2017-09-11T13:06:07.734898",
     "start_time": "2017-09-11T13:06:07.724665Z"
    },
    "collapsed": false,
    "hidden": true,
    "run_control": {
     "frozen": false,
     "read_only": false
    }
   },
   "outputs": [
    {
     "data": {
      "text/plain": [
       "'ENST00000626826.1'"
      ]
     },
     "execution_count": 78,
     "metadata": {},
     "output_type": "execute_result"
    }
   ],
   "source": [
    "# Access to the feature_id of the second line\n",
    "line_list[1].target_id"
   ]
  },
  {
   "cell_type": "markdown",
   "metadata": {
    "hidden": true
   },
   "source": [
    "---"
   ]
  },
  {
   "cell_type": "markdown",
   "metadata": {
    "heading_collapsed": true
   },
   "source": [
    "# Generators"
   ]
  },
  {
   "cell_type": "markdown",
   "metadata": {
    "hidden": true
   },
   "source": [
    "A generator is an object that will return values computed **on the fly**. The size could be **indefinite or not** and can encapsulate significant computing. \n",
    "\n",
    "Contrary to mappings (dict, list...) the values of the series are **not stored in memory**, but generated only when required.\n",
    "\n",
    "Can be used in place of a list when the size of the series is very long to save memory.\n",
    "\n",
    "A good example is the randint function from the random package."
   ]
  },
  {
   "cell_type": "code",
   "execution_count": 7,
   "metadata": {
    "ExecuteTime": {
     "end_time": "2017-09-11T14:53:00.263272",
     "start_time": "2017-09-11T14:53:00.245097Z"
    },
    "collapsed": false,
    "hidden": true,
    "run_control": {
     "frozen": false,
     "read_only": false
    }
   },
   "outputs": [
    {
     "data": {
      "text/plain": [
       "50"
      ]
     },
     "execution_count": 7,
     "metadata": {},
     "output_type": "execute_result"
    }
   ],
   "source": [
    "from random import randint\n",
    "randint(10, 100)"
   ]
  },
  {
   "cell_type": "markdown",
   "metadata": {
    "hidden": true
   },
   "source": [
    "A generator is a function (or a class method) using a ***yield* statement in place of a *return* statement**\n",
    "\n",
    "**Example of a generator function to parse gencode gff3 file and extract the feature ID field if the feature matches specific requirements**\n",
    "\n",
    "First we write the generator function"
   ]
  },
  {
   "cell_type": "code",
   "execution_count": 83,
   "metadata": {
    "ExecuteTime": {
     "end_time": "2017-09-11T16:50:18.270904",
     "start_time": "2017-09-11T16:50:18.255803Z"
    },
    "collapsed": true,
    "hidden": true,
    "run_control": {
     "frozen": false,
     "read_only": false
    }
   },
   "outputs": [],
   "source": [
    "def gencode_ID_generator (file, max_lines=10): # max_lines is to control the maximal number of lines generated\n",
    "    \n",
    "    # Open the file using a with statement\n",
    "    with open (file, \"r\") as fp:\n",
    "        \n",
    "        # The loop will provide the iteration for the generator.\n",
    "        # Lines are counted by the enumerate statement and a control break will exit when the max number of lines is reached \n",
    "        for i, line in enumerate(fp):\n",
    "            if i > max_lines:\n",
    "                break\n",
    "            \n",
    "            # Extract the ID from the attribute field (attribute = 9th field, ID = first field of attribute + get rid of the field name)\n",
    "            ID = line.split(\"\\t\")[8].split(\";\")[0].split(\"=\")[1]\n",
    "            \n",
    "            # The yield statement will return a value each time the generator is called\n",
    "            yield ID"
   ]
  },
  {
   "cell_type": "markdown",
   "metadata": {
    "hidden": true
   },
   "source": [
    "Now we can create the generator from a gencode gff3 file"
   ]
  },
  {
   "cell_type": "code",
   "execution_count": 110,
   "metadata": {
    "ExecuteTime": {
     "end_time": "2017-09-11T16:53:55.717380",
     "start_time": "2017-09-11T16:53:55.713313Z"
    },
    "collapsed": false,
    "hidden": true,
    "scrolled": true
   },
   "outputs": [],
   "source": [
    "gen = gencode_ID_generator(\"../data/gencode_sample.gff3\", max_lines=10)"
   ]
  },
  {
   "cell_type": "markdown",
   "metadata": {
    "hidden": true
   },
   "source": [
    "Elements can be generated by calling the generator with the *next* function"
   ]
  },
  {
   "cell_type": "code",
   "execution_count": 111,
   "metadata": {
    "ExecuteTime": {
     "end_time": "2017-09-11T16:53:57.181124",
     "start_time": "2017-09-11T16:53:57.170713Z"
    },
    "collapsed": false,
    "hidden": true
   },
   "outputs": [
    {
     "data": {
      "text/plain": [
       "'exon:ENST00000367573.6:9'"
      ]
     },
     "execution_count": 111,
     "metadata": {},
     "output_type": "execute_result"
    }
   ],
   "source": [
    "next(gen)"
   ]
  },
  {
   "cell_type": "markdown",
   "metadata": {
    "hidden": true
   },
   "source": [
    "Or using a *for* loop until the generator is exhausted"
   ]
  },
  {
   "cell_type": "code",
   "execution_count": 112,
   "metadata": {
    "ExecuteTime": {
     "end_time": "2017-09-11T16:53:58.735566",
     "start_time": "2017-09-11T16:53:58.730152Z"
    },
    "collapsed": false,
    "hidden": true
   },
   "outputs": [
    {
     "name": "stdout",
     "output_type": "stream",
     "text": [
      "ENST00000443847.2\n",
      "UTR5:ENST00000370684.5\n",
      "exon:ENST00000464631.6:4\n",
      "CDS:ENST00000358779.9\n",
      "ENST00000622395.4\n",
      "stop_codon:ENST00000622561.4\n",
      "ENST00000413093.2\n",
      "exon:ENST00000395445.5:7\n",
      "exon:ENST00000434147.1:2\n"
     ]
    }
   ],
   "source": [
    "for ID in gen:\n",
    "    print (ID)"
   ]
  },
  {
   "cell_type": "markdown",
   "metadata": {},
   "source": [
    "# Pandas: Powerful data structures for data analysis, time series, and statistics"
   ]
  },
  {
   "cell_type": "markdown",
   "metadata": {},
   "source": [
    "* Flexible, and expressive data structures **Series** (1D) and **DataFrame** (2D) and **Panel** (3D) \n",
    "* High-level building block for doing **practical, real world data analysis**\n",
    "* **Nearly as fast as C language** = Build on top of Numpy and extensive use of Cython\n",
    "* **Robust IO tools** for loading and parsing data from text files, excel files and databases."
   ]
  },
  {
   "cell_type": "markdown",
   "metadata": {
    "heading_collapsed": true
   },
   "source": [
    "## Series"
   ]
  },
  {
   "cell_type": "markdown",
   "metadata": {
    "hidden": true
   },
   "source": [
    "* **1D labeled array capable of holding any data type** (integers, strings, float...)\n",
    "\n",
    "* Similar to a python standard dictionary but **faster** (because based on C datatypes) and more **user-friendly** in Jupyter\n",
    "\n",
    "* **Adding/removing new elements is inefficient** as it is store as a block in memory and thus requires a resizing and reallocation each time an element is added or removed"
   ]
  },
  {
   "cell_type": "markdown",
   "metadata": {
    "hidden": true
   },
   "source": [
    "### Create series"
   ]
  },
  {
   "cell_type": "markdown",
   "metadata": {
    "hidden": true
   },
   "source": [
    "***From 2 lists or sets ***"
   ]
  },
  {
   "cell_type": "code",
   "execution_count": 14,
   "metadata": {
    "collapsed": false,
    "hidden": true,
    "run_control": {
     "frozen": false,
     "read_only": false
    }
   },
   "outputs": [
    {
     "data": {
      "text/plain": [
       "A    0.21\n",
       "T    0.24\n",
       "C    0.27\n",
       "G    0.25\n",
       "N    0.03\n",
       "dtype: float64"
      ]
     },
     "execution_count": 14,
     "metadata": {},
     "output_type": "execute_result"
    }
   ],
   "source": [
    "Base = ('A','T','C','G','N')\n",
    "Freq = (0.21, 0.24, 0.27, 0.25, 0.03)\n",
    "pd.Series(data=Freq, index=Base)"
   ]
  },
  {
   "cell_type": "markdown",
   "metadata": {
    "hidden": true
   },
   "source": [
    "***From a python dictionary***"
   ]
  },
  {
   "cell_type": "code",
   "execution_count": 15,
   "metadata": {
    "collapsed": false,
    "hidden": true,
    "run_control": {
     "frozen": false,
     "read_only": false
    }
   },
   "outputs": [
    {
     "data": {
      "text/plain": [
       "A    0.21\n",
       "C    0.27\n",
       "G    0.25\n",
       "N    0.03\n",
       "T    0.24\n",
       "dtype: float64"
      ]
     },
     "execution_count": 15,
     "metadata": {},
     "output_type": "execute_result"
    }
   ],
   "source": [
    "d = {'A':0.21, 'T':0.24, 'C':0.27, 'G':0.25, 'N':0.03}\n",
    "pd.Series(d)"
   ]
  },
  {
   "cell_type": "markdown",
   "metadata": {
    "hidden": true
   },
   "source": [
    "***The data type and series names can be specified*** "
   ]
  },
  {
   "cell_type": "code",
   "execution_count": 16,
   "metadata": {
    "collapsed": false,
    "hidden": true,
    "run_control": {
     "frozen": false,
     "read_only": false
    }
   },
   "outputs": [
    {
     "data": {
      "text/plain": [
       "A    21\n",
       "C    27\n",
       "G    25\n",
       "N     3\n",
       "T    24\n",
       "Name: Percent, dtype: int64"
      ]
     },
     "execution_count": 16,
     "metadata": {},
     "output_type": "execute_result"
    }
   ],
   "source": [
    "d = {'A':21.0, 'T':24.0, 'C':27.0, 'G':25.0, 'N':3.0}\n",
    "pd.Series(d, name=\"Percent\", dtype=int)"
   ]
  },
  {
   "cell_type": "markdown",
   "metadata": {
    "hidden": true
   },
   "source": [
    "**From a file containing 2 columns with the squeeze option**"
   ]
  },
  {
   "cell_type": "code",
   "execution_count": 17,
   "metadata": {
    "collapsed": false,
    "hidden": true,
    "run_control": {
     "frozen": false,
     "read_only": false
    }
   },
   "outputs": [
    {
     "data": {
      "text/plain": [
       "base\n",
       "A    0.21\n",
       "T    0.24\n",
       "C    0.27\n",
       "G    0.25\n",
       "N    0.03\n",
       "Name: freq, dtype: float64"
      ]
     },
     "execution_count": 17,
     "metadata": {},
     "output_type": "execute_result"
    }
   ],
   "source": [
    "pd.read_table(\"../data/DNA_distrib.tsv\", index_col=0, squeeze=True, sep=\"\\t\")"
   ]
  },
  {
   "cell_type": "markdown",
   "metadata": {
    "hidden": true
   },
   "source": [
    "### Manipulate series"
   ]
  },
  {
   "cell_type": "markdown",
   "metadata": {
    "hidden": true
   },
   "source": [
    "***Support list methods***"
   ]
  },
  {
   "cell_type": "code",
   "execution_count": 18,
   "metadata": {
    "collapsed": false,
    "hidden": true,
    "run_control": {
     "frozen": false,
     "read_only": false
    }
   },
   "outputs": [
    {
     "name": "stdout",
     "output_type": "stream",
     "text": [
      "A    0.21\n",
      "C    0.27\n",
      "G    0.25\n",
      "T    0.24\n",
      "N    0.03\n",
      "Y    0.01\n",
      "dtype: float64\n",
      "G    0.25\n",
      "T    0.24\n",
      "dtype: float64\n",
      "0.25\n",
      "0.21\n",
      "0.27\n",
      "0.25\n",
      "0.24\n"
     ]
    }
   ],
   "source": [
    "s = pd.Series({'A':0.21, 'T':0.24, 'C':0.27, 'G':0.25})\n",
    "\n",
    "# Concat 2 series\n",
    "s2 = pd.Series({'Y':0.01, 'N':0.03})\n",
    "s3 = s.append(s2)\n",
    "print(s3)\n",
    "\n",
    "# Slicing\n",
    "print(s[2:4])\n",
    "\n",
    "# Extraction\n",
    "print(s[2])\n",
    "\n",
    "# the \"for\" loop works as for a list \n",
    "for i in s:\n",
    "    print (i)\n"
   ]
  },
  {
   "cell_type": "markdown",
   "metadata": {
    "collapsed": false,
    "hidden": true,
    "run_control": {
     "frozen": false,
     "read_only": false
    }
   },
   "source": [
    "***Support dictionary methods***"
   ]
  },
  {
   "cell_type": "code",
   "execution_count": 19,
   "metadata": {
    "collapsed": false,
    "hidden": true,
    "run_control": {
     "frozen": false,
     "read_only": false
    }
   },
   "outputs": [
    {
     "name": "stdout",
     "output_type": "stream",
     "text": [
      "A    22\n",
      "C    27\n",
      "G    25\n",
      "N     3\n",
      "T    24\n",
      "Name: Percent, dtype: int64\n",
      "22\n",
      "True\n",
      "False\n"
     ]
    }
   ],
   "source": [
    "s = pd.Series({'A':21.0, 'T':24.0, 'C':27.0, 'G':25.0, 'N':3.0}, name=\"Percent\", dtype=int)\n",
    "\n",
    "# Update value\n",
    "s[\"A\"] = 22\n",
    "print(s)\n",
    "\n",
    "# Named indexing\n",
    "print(s[\"A\"])\n",
    "\n",
    "# Test for existence\n",
    "print (\"A\" in s)\n",
    "print (\"V\" in s)"
   ]
  },
  {
   "cell_type": "markdown",
   "metadata": {
    "collapsed": true,
    "hidden": true,
    "run_control": {
     "frozen": false,
     "read_only": false
    }
   },
   "source": [
    "***Support a wide range of mathematic operations (thanks to numpy)***"
   ]
  },
  {
   "cell_type": "code",
   "execution_count": 20,
   "metadata": {
    "collapsed": false,
    "hidden": true,
    "run_control": {
     "frozen": false,
     "read_only": false
    }
   },
   "outputs": [
    {
     "name": "stdout",
     "output_type": "stream",
     "text": [
      "27\n",
      "20.0\n",
      "False\n",
      "4.35889894354\n",
      "A    21.2\n",
      "C    27.4\n",
      "G    26.5\n",
      "N     0.0\n",
      "T    24.7\n",
      "Name: Percent, dtype: float64\n"
     ]
    }
   ],
   "source": [
    "s = pd.Series({'A':21, 'T':24, 'C':27, 'G':25, 'N':3}, name=\"Percent\")\n",
    "\n",
    "print(s.max())\n",
    "print(s.mean())\n",
    "print(s.all()>20)\n",
    "print(s.sem())\n",
    "\n",
    "# Addition of 2 series will return a results for all values in the 2 series\n",
    "s2 = pd.Series({'A':0.2, 'T':0.7, 'C':0.4, 'G':1.5, 'N':-3}, name=\"Percent\")\n",
    "\n",
    "print (s + s2)"
   ]
  },
  {
   "cell_type": "markdown",
   "metadata": {
    "collapsed": true,
    "run_control": {
     "frozen": false,
     "read_only": false
    }
   },
   "source": [
    "## Dataframes"
   ]
  },
  {
   "cell_type": "markdown",
   "metadata": {
    "collapsed": true,
    "run_control": {
     "frozen": false,
     "read_only": false
    }
   },
   "source": [
    "* **2-dimensional labeled data structure** with columns of potentially different types\n",
    "* Beautiful **HTML rendering in jupyter**\n",
    "* Same as for Series **Adding/removing new elements is inefficient** because of memory reallocation."
   ]
  },
  {
   "cell_type": "markdown",
   "metadata": {},
   "source": [
    "### Create dataframe from another datatypes"
   ]
  },
  {
   "cell_type": "markdown",
   "metadata": {},
   "source": [
    "***You can optionally pass index (row labels) and columns (column labels) arguments***"
   ]
  },
  {
   "cell_type": "markdown",
   "metadata": {},
   "source": [
    "***From a pandas Series***"
   ]
  },
  {
   "cell_type": "code",
   "execution_count": 21,
   "metadata": {
    "collapsed": false,
    "run_control": {
     "frozen": false,
     "read_only": false
    }
   },
   "outputs": [
    {
     "data": {
      "text/html": [
       "<div>\n",
       "<table border=\"1\" class=\"dataframe\">\n",
       "  <thead>\n",
       "    <tr style=\"text-align: right;\">\n",
       "      <th></th>\n",
       "      <th>Percent</th>\n",
       "    </tr>\n",
       "  </thead>\n",
       "  <tbody>\n",
       "    <tr>\n",
       "      <th>A</th>\n",
       "      <td>21</td>\n",
       "    </tr>\n",
       "    <tr>\n",
       "      <th>C</th>\n",
       "      <td>27</td>\n",
       "    </tr>\n",
       "    <tr>\n",
       "      <th>G</th>\n",
       "      <td>25</td>\n",
       "    </tr>\n",
       "    <tr>\n",
       "      <th>N</th>\n",
       "      <td>3</td>\n",
       "    </tr>\n",
       "    <tr>\n",
       "      <th>T</th>\n",
       "      <td>24</td>\n",
       "    </tr>\n",
       "  </tbody>\n",
       "</table>\n",
       "</div>"
      ],
      "text/plain": [
       "   Percent\n",
       "A       21\n",
       "C       27\n",
       "G       25\n",
       "N        3\n",
       "T       24"
      ]
     },
     "execution_count": 21,
     "metadata": {},
     "output_type": "execute_result"
    }
   ],
   "source": [
    "s = pd.Series({'A':21.0, 'T':24.0, 'C':27.0, 'G':25.0, 'N':3.0})\n",
    "pd.DataFrame(s, columns=[\"Percent\"])"
   ]
  },
  {
   "cell_type": "markdown",
   "metadata": {},
   "source": [
    "***From a list of pandas Series***"
   ]
  },
  {
   "cell_type": "code",
   "execution_count": 85,
   "metadata": {
    "ExecuteTime": {
     "end_time": "2017-09-11T13:23:35.273016",
     "start_time": "2017-09-11T13:23:35.254311Z"
    },
    "collapsed": false,
    "run_control": {
     "frozen": false,
     "read_only": false
    }
   },
   "outputs": [
    {
     "data": {
      "text/html": [
       "<div>\n",
       "<style>\n",
       "    .dataframe thead tr:only-child th {\n",
       "        text-align: right;\n",
       "    }\n",
       "\n",
       "    .dataframe thead th {\n",
       "        text-align: left;\n",
       "    }\n",
       "\n",
       "    .dataframe tbody tr th {\n",
       "        vertical-align: top;\n",
       "    }\n",
       "</style>\n",
       "<table border=\"1\" class=\"dataframe\">\n",
       "  <thead>\n",
       "    <tr style=\"text-align: right;\">\n",
       "      <th></th>\n",
       "      <th>A</th>\n",
       "      <th>C</th>\n",
       "      <th>G</th>\n",
       "      <th>N</th>\n",
       "      <th>T</th>\n",
       "    </tr>\n",
       "  </thead>\n",
       "  <tbody>\n",
       "    <tr>\n",
       "      <th>Percent</th>\n",
       "      <td>21.0</td>\n",
       "      <td>27.0</td>\n",
       "      <td>25.0</td>\n",
       "      <td>3.0</td>\n",
       "      <td>24.0</td>\n",
       "    </tr>\n",
       "    <tr>\n",
       "      <th>MolecularWeight</th>\n",
       "      <td>331.2</td>\n",
       "      <td>307.2</td>\n",
       "      <td>347.2</td>\n",
       "      <td>NaN</td>\n",
       "      <td>322.2</td>\n",
       "    </tr>\n",
       "    <tr>\n",
       "      <th>AbsorbanceMax</th>\n",
       "      <td>259.0</td>\n",
       "      <td>271.0</td>\n",
       "      <td>253.0</td>\n",
       "      <td>NaN</td>\n",
       "      <td>267.0</td>\n",
       "    </tr>\n",
       "  </tbody>\n",
       "</table>\n",
       "</div>"
      ],
      "text/plain": [
       "                     A      C      G    N      T\n",
       "Percent           21.0   27.0   25.0  3.0   24.0\n",
       "MolecularWeight  331.2  307.2  347.2  NaN  322.2\n",
       "AbsorbanceMax    259.0  271.0  253.0  NaN  267.0"
      ]
     },
     "execution_count": 85,
     "metadata": {},
     "output_type": "execute_result"
    }
   ],
   "source": [
    "series_list = [\n",
    "    pd.Series({'A':21, 'T':24, 'C':27, 'G':25, 'N':3}, name=\"Percent\"),\n",
    "    pd.Series({'A':331.2, 'T':322.2, 'C':307.2, 'G':347.2, 'N':None}, name=\"MolecularWeight\"),\n",
    "    pd.Series({'A':259, 'T':267, 'C':271, 'G':253, 'N':None}, name=\"AbsorbanceMax\")]\n",
    "\n",
    "pd.DataFrame(series_list)"
   ]
  },
  {
   "cell_type": "markdown",
   "metadata": {},
   "source": [
    "**From a simple list of list** "
   ]
  },
  {
   "cell_type": "code",
   "execution_count": 90,
   "metadata": {
    "ExecuteTime": {
     "end_time": "2017-09-11T13:24:45.711332",
     "start_time": "2017-09-11T13:24:45.688897Z"
    },
    "collapsed": false,
    "run_control": {
     "frozen": false,
     "read_only": false
    },
    "scrolled": true
   },
   "outputs": [
    {
     "data": {
      "text/html": [
       "<div>\n",
       "<style>\n",
       "    .dataframe thead tr:only-child th {\n",
       "        text-align: right;\n",
       "    }\n",
       "\n",
       "    .dataframe thead th {\n",
       "        text-align: left;\n",
       "    }\n",
       "\n",
       "    .dataframe tbody tr th {\n",
       "        vertical-align: top;\n",
       "    }\n",
       "</style>\n",
       "<table border=\"1\" class=\"dataframe\">\n",
       "  <thead>\n",
       "    <tr style=\"text-align: right;\">\n",
       "      <th></th>\n",
       "      <th>A</th>\n",
       "      <th>T</th>\n",
       "      <th>C</th>\n",
       "      <th>G</th>\n",
       "      <th>N</th>\n",
       "    </tr>\n",
       "  </thead>\n",
       "  <tbody>\n",
       "    <tr>\n",
       "      <th>Percent</th>\n",
       "      <td>21.0</td>\n",
       "      <td>24.0</td>\n",
       "      <td>27.0</td>\n",
       "      <td>25.0</td>\n",
       "      <td>3.0</td>\n",
       "    </tr>\n",
       "    <tr>\n",
       "      <th>MolecularWeight</th>\n",
       "      <td>331.2</td>\n",
       "      <td>322.2</td>\n",
       "      <td>307.2</td>\n",
       "      <td>347.2</td>\n",
       "      <td>NaN</td>\n",
       "    </tr>\n",
       "    <tr>\n",
       "      <th>AbsorbanceMax</th>\n",
       "      <td>259.0</td>\n",
       "      <td>267.0</td>\n",
       "      <td>271.0</td>\n",
       "      <td>253.0</td>\n",
       "      <td>NaN</td>\n",
       "    </tr>\n",
       "  </tbody>\n",
       "</table>\n",
       "</div>"
      ],
      "text/plain": [
       "                     A      T      C      G    N\n",
       "Percent           21.0   24.0   27.0   25.0  3.0\n",
       "MolecularWeight  331.2  322.2  307.2  347.2  NaN\n",
       "AbsorbanceMax    259.0  267.0  271.0  253.0  NaN"
      ]
     },
     "execution_count": 90,
     "metadata": {},
     "output_type": "execute_result"
    }
   ],
   "source": [
    "list_list = [[21, 24, 27, 25, 3], [331.2, 322.2, 307.2, 347.2, None], [259, 267, 271, 253, None]]\n",
    "column_list = ['A', 'T', 'C', 'G', 'N']\n",
    "index_list = [\"Percent\", \"MolecularWeight\", \"AbsorbanceMax\"]\n",
    "\n",
    "pd.DataFrame(list_list, index=index_list, columns=column_list)"
   ]
  },
  {
   "cell_type": "markdown",
   "metadata": {},
   "source": [
    "**From a simple list of namedtuples ++** "
   ]
  },
  {
   "cell_type": "code",
   "execution_count": 91,
   "metadata": {
    "ExecuteTime": {
     "end_time": "2017-09-11T13:24:48.656401",
     "start_time": "2017-09-11T13:24:48.614090Z"
    },
    "collapsed": false,
    "run_control": {
     "frozen": false,
     "read_only": false
    }
   },
   "outputs": [
    {
     "data": {
      "text/html": [
       "<div>\n",
       "<style>\n",
       "    .dataframe thead tr:only-child th {\n",
       "        text-align: right;\n",
       "    }\n",
       "\n",
       "    .dataframe thead th {\n",
       "        text-align: left;\n",
       "    }\n",
       "\n",
       "    .dataframe tbody tr th {\n",
       "        vertical-align: top;\n",
       "    }\n",
       "</style>\n",
       "<table border=\"1\" class=\"dataframe\">\n",
       "  <thead>\n",
       "    <tr style=\"text-align: right;\">\n",
       "      <th></th>\n",
       "      <th>A</th>\n",
       "      <th>T</th>\n",
       "      <th>C</th>\n",
       "      <th>G</th>\n",
       "      <th>N</th>\n",
       "    </tr>\n",
       "    <tr>\n",
       "      <th>Variable</th>\n",
       "      <th></th>\n",
       "      <th></th>\n",
       "      <th></th>\n",
       "      <th></th>\n",
       "      <th></th>\n",
       "    </tr>\n",
       "  </thead>\n",
       "  <tbody>\n",
       "    <tr>\n",
       "      <th>AbsorbanceMax</th>\n",
       "      <td>21.0</td>\n",
       "      <td>24.0</td>\n",
       "      <td>27.0</td>\n",
       "      <td>25.0</td>\n",
       "      <td>3.0</td>\n",
       "    </tr>\n",
       "    <tr>\n",
       "      <th>MolecularWeight</th>\n",
       "      <td>331.2</td>\n",
       "      <td>322.2</td>\n",
       "      <td>307.2</td>\n",
       "      <td>347.2</td>\n",
       "      <td>NaN</td>\n",
       "    </tr>\n",
       "    <tr>\n",
       "      <th>AbsorbanceMax</th>\n",
       "      <td>259.0</td>\n",
       "      <td>267.0</td>\n",
       "      <td>271.0</td>\n",
       "      <td>253.0</td>\n",
       "      <td>NaN</td>\n",
       "    </tr>\n",
       "  </tbody>\n",
       "</table>\n",
       "</div>"
      ],
      "text/plain": [
       "                     A      T      C      G    N\n",
       "Variable                                        \n",
       "AbsorbanceMax     21.0   24.0   27.0   25.0  3.0\n",
       "MolecularWeight  331.2  322.2  307.2  347.2  NaN\n",
       "AbsorbanceMax    259.0  267.0  271.0  253.0  NaN"
      ]
     },
     "execution_count": 91,
     "metadata": {},
     "output_type": "execute_result"
    }
   ],
   "source": [
    "nc = namedtuple(\"nucleotide_info\", [\"Variable\", 'A', 'T', 'C', 'G', 'N'])\n",
    "\n",
    "list_namedtuple = [\n",
    "    nc (Variable=\"AbsorbanceMax\", A=21.0, T=24.0, C=27.0, G=25.0, N=3.0),\n",
    "    nc (Variable=\"MolecularWeight\", A=331.2, T=322.2, C=307.2, G=347.2, N=None),\n",
    "    nc (Variable=\"AbsorbanceMax\", A=259, T=267, C=271, G=253, N=None)]\n",
    "\n",
    "df = pd.DataFrame(l)\n",
    "df.set_index(\"Variable\", inplace=True)\n",
    "df"
   ]
  },
  {
   "cell_type": "markdown",
   "metadata": {},
   "source": [
    "***The Dataframe creation is very versatile and can also be done from Dictionaries of lists, dicts, or Series and from numpy.ndarray...***\n",
    "\n",
    "***The orientation may differ depending on the source data (columns or index orientation)***"
   ]
  },
  {
   "cell_type": "code",
   "execution_count": 24,
   "metadata": {
    "collapsed": false,
    "run_control": {
     "frozen": false,
     "read_only": false
    },
    "scrolled": true
   },
   "outputs": [
    {
     "data": {
      "text/html": [
       "<div>\n",
       "<table border=\"1\" class=\"dataframe\">\n",
       "  <thead>\n",
       "    <tr style=\"text-align: right;\">\n",
       "      <th></th>\n",
       "      <th>AbsorbanceMax</th>\n",
       "      <th>MolecularWeight</th>\n",
       "      <th>Percent</th>\n",
       "    </tr>\n",
       "  </thead>\n",
       "  <tbody>\n",
       "    <tr>\n",
       "      <th>0</th>\n",
       "      <td>259</td>\n",
       "      <td>331.2</td>\n",
       "      <td>21</td>\n",
       "    </tr>\n",
       "    <tr>\n",
       "      <th>1</th>\n",
       "      <td>267</td>\n",
       "      <td>322.2</td>\n",
       "      <td>24</td>\n",
       "    </tr>\n",
       "    <tr>\n",
       "      <th>2</th>\n",
       "      <td>271</td>\n",
       "      <td>307.2</td>\n",
       "      <td>27</td>\n",
       "    </tr>\n",
       "    <tr>\n",
       "      <th>3</th>\n",
       "      <td>253</td>\n",
       "      <td>347.2</td>\n",
       "      <td>25</td>\n",
       "    </tr>\n",
       "    <tr>\n",
       "      <th>4</th>\n",
       "      <td>NaN</td>\n",
       "      <td>NaN</td>\n",
       "      <td>3</td>\n",
       "    </tr>\n",
       "  </tbody>\n",
       "</table>\n",
       "</div>"
      ],
      "text/plain": [
       "   AbsorbanceMax  MolecularWeight  Percent\n",
       "0            259            331.2       21\n",
       "1            267            322.2       24\n",
       "2            271            307.2       27\n",
       "3            253            347.2       25\n",
       "4            NaN              NaN        3"
      ]
     },
     "execution_count": 24,
     "metadata": {},
     "output_type": "execute_result"
    }
   ],
   "source": [
    "dict_list = { \"Percent\":[21.0, 24.0, 27.0, 25.0, 3.0], \"MolecularWeight\":[331.2, 322.2, 307.2, 347.2, None], \"AbsorbanceMax\":[259, 267, 271, 253, None]}\n",
    "\n",
    "pd.DataFrame(dict_list, )"
   ]
  },
  {
   "cell_type": "markdown",
   "metadata": {
    "collapsed": true,
    "run_control": {
     "frozen": false,
     "read_only": false
    }
   },
   "source": [
    "***One of the major strength of Pandas is its ability to perform \"moderately\" complex files parsing into a comprehensive dataframe format***"
   ]
  },
  {
   "cell_type": "markdown",
   "metadata": {},
   "source": [
    "***Example with a gff3 file***"
   ]
  },
  {
   "cell_type": "code",
   "execution_count": 114,
   "metadata": {
    "ExecuteTime": {
     "end_time": "2017-09-11T16:59:28.085971",
     "start_time": "2017-09-11T16:59:28.079259Z"
    },
    "collapsed": true,
    "run_control": {
     "frozen": false,
     "read_only": false
    }
   },
   "outputs": [],
   "source": [
    "file = \"../data/gencode_sample.gff3\""
   ]
  },
  {
   "cell_type": "code",
   "execution_count": 125,
   "metadata": {
    "ExecuteTime": {
     "end_time": "2017-09-11T17:02:37.377224",
     "start_time": "2017-09-11T17:02:37.260823Z"
    },
    "collapsed": false,
    "scrolled": true
   },
   "outputs": [
    {
     "name": "stdout",
     "output_type": "stream",
     "text": [
      "100 ../data/gencode_sample.gff3\r\n"
     ]
    }
   ],
   "source": [
    "!wc -l $file"
   ]
  },
  {
   "cell_type": "code",
   "execution_count": 126,
   "metadata": {
    "ExecuteTime": {
     "end_time": "2017-09-11T17:02:41.100206",
     "start_time": "2017-09-11T17:02:40.980000Z"
    },
    "collapsed": false
   },
   "outputs": [
    {
     "name": "stdout",
     "output_type": "stream",
     "text": [
      "chr1\tHAVANA\texon\t181715338\t181715391\t.\t+\t.\tID=exon:ENST00000367573.6:9;Parent=ENST00000367573.6;gene_id=ENSG00000198216.10;transcript_id=ENST00000367573.6;gene_type=protein_coding;gene_status=KNOWN;gene_name=CACNA1E;transcript_type=protein_coding;transcript_status=KNOWN;transcript_name=CACNA1E-003;exon_number=9;exon_id=ENSE00003728811.1;level=2;protein_id=ENSP00000356545.2;transcript_support_level=1;tag=non_canonical_U12,basic,appris_alternative_2,CCDS;ccdsid=CCDS55664.1;havana_gene=OTTHUMG00000037301.6;havana_transcript=OTTHUMT00000090793.2\r\n",
      "chr1\tHAVANA\ttranscript\t26647447\t26647681\t.\t+\t.\tID=ENST00000443847.2;Parent=ENSG00000235069.2;gene_id=ENSG00000235069.2;transcript_id=ENST00000443847.2;gene_type=processed_pseudogene;gene_status=KNOWN;gene_name=RP4-785J1.1;transcript_type=processed_pseudogene;transcript_status=KNOWN;transcript_name=RP4-785J1.1-001;level=1;transcript_support_level=NA;ont=PGO:0000004;tag=pseudo_consens,basic;havana_gene=OTTHUMG00000057507.2;havana_transcript=OTTHUMT00000127800.2\r\n"
     ]
    }
   ],
   "source": [
    "!head -2 $file"
   ]
  },
  {
   "cell_type": "markdown",
   "metadata": {},
   "source": [
    "*The file is a standard genomic/proteomic format*\n",
    "\n",
    ">[gff3 documentation](http://gmod.org/wiki/GFF3)\n",
    "\n",
    ">In this case the gff3 format consists of 9 tab delimited fields\n",
    "\n",
    ">The standard fields are named \"seqid\", \"source\", \"type\", \"start\", \"end\", \"score\", \"strand\", \"phase\", \"attributes\""
   ]
  },
  {
   "cell_type": "markdown",
   "metadata": {},
   "source": [
    "*The hard way with a list of dictionaries... But you control everything and you can parse very complex structured files*\n",
    "\n",
    "*The output is not very user friendly, but once again you can do hardcore stuff. In this case it is possible to parse completely the file, including the attribute field*"
   ]
  },
  {
   "cell_type": "code",
   "execution_count": 130,
   "metadata": {
    "ExecuteTime": {
     "end_time": "2017-09-11T17:06:42.783790",
     "start_time": "2017-09-11T17:06:42.744076Z"
    },
    "collapsed": false,
    "run_control": {
     "frozen": false,
     "read_only": false
    },
    "scrolled": true
   },
   "outputs": [
    {
     "data": {
      "text/plain": [
       "[OrderedDict([('score', '.'),\n",
       "              ('end', 181715391),\n",
       "              ('start', 181715338),\n",
       "              ('seqid', 'chr1'),\n",
       "              ('type', 'exon'),\n",
       "              ('source', 'HAVANA'),\n",
       "              ('strand', '+'),\n",
       "              ('phase', '.'),\n",
       "              ('ID', 'exon:ENST00000367573.6:9'),\n",
       "              ('Parent', 'ENST00000367573.6'),\n",
       "              ('gene_id', 'ENSG00000198216.10'),\n",
       "              ('transcript_id', 'ENST00000367573.6'),\n",
       "              ('gene_type', 'protein_coding'),\n",
       "              ('gene_status', 'KNOWN'),\n",
       "              ('gene_name', 'CACNA1E'),\n",
       "              ('transcript_type', 'protein_coding'),\n",
       "              ('transcript_status', 'KNOWN'),\n",
       "              ('transcript_name', 'CACNA1E-003'),\n",
       "              ('exon_number', '9'),\n",
       "              ('exon_id', 'ENSE00003728811.1'),\n",
       "              ('level', '2'),\n",
       "              ('protein_id', 'ENSP00000356545.2'),\n",
       "              ('transcript_support_level', '1'),\n",
       "              ('tag', 'non_canonical_U12,basic,appris_alternative_2,CCDS'),\n",
       "              ('ccdsid', 'CCDS55664.1'),\n",
       "              ('havana_gene', 'OTTHUMG00000037301.6'),\n",
       "              ('havana_transcript', 'OTTHUMT00000090793.2')]),\n",
       " OrderedDict([('score', '.'),\n",
       "              ('end', 26647681),\n",
       "              ('start', 26647447),\n",
       "              ('seqid', 'chr1'),\n",
       "              ('type', 'transcript'),\n",
       "              ('source', 'HAVANA'),\n",
       "              ('strand', '+'),\n",
       "              ('phase', '.'),\n",
       "              ('ID', 'ENST00000443847.2'),\n",
       "              ('Parent', 'ENSG00000235069.2'),\n",
       "              ('gene_id', 'ENSG00000235069.2'),\n",
       "              ('transcript_id', 'ENST00000443847.2'),\n",
       "              ('gene_type', 'processed_pseudogene'),\n",
       "              ('gene_status', 'KNOWN'),\n",
       "              ('gene_name', 'RP4-785J1.1'),\n",
       "              ('transcript_type', 'processed_pseudogene'),\n",
       "              ('transcript_status', 'KNOWN'),\n",
       "              ('transcript_name', 'RP4-785J1.1-001'),\n",
       "              ('level', '1'),\n",
       "              ('transcript_support_level', 'NA'),\n",
       "              ('ont', 'PGO:0000004'),\n",
       "              ('tag', 'pseudo_consens,basic'),\n",
       "              ('havana_gene', 'OTTHUMG00000057507.2'),\n",
       "              ('havana_transcript', 'OTTHUMT00000127800.2')])]"
      ]
     },
     "execution_count": 130,
     "metadata": {},
     "output_type": "execute_result"
    }
   ],
   "source": [
    "#Empty list to collect each lines \n",
    "l=[]\n",
    "\n",
    "with open (file, \"r\") as fp:\n",
    "    for line in fp:\n",
    "        \n",
    "        # Split the line by tabulations \n",
    "        sl = line.strip().split(\"\\t\")\n",
    "        \n",
    "        # Using an ordered dictionary because we want to retain the order in the file       \n",
    "        line_dict = OrderedDict({\n",
    "            \"seqid\":sl[0],  \n",
    "            \"source\":sl[1],  \n",
    "            \"type\":sl[2],  \n",
    "            \"start\":int(sl[3]),  \n",
    "            \"end\":int(sl[4]),  \n",
    "            \"score\":sl[5],  \n",
    "            \"strand\":sl[6],  \n",
    "            \"phase\":sl[7]})\n",
    "        \n",
    "        # Then you can entirely parse the attributes\n",
    "        for attribute in sl[8].split(\";\"):\n",
    "            k, v = attribute.split(\"=\")\n",
    "            line_dict[k] = v\n",
    "        \n",
    "        # Add the line to the general list\n",
    "        l.append(line_dict)\n",
    "\n",
    "# print only the first element of the list (because 100 lines would be a bit long)\n",
    "l[0:2]"
   ]
  },
  {
   "cell_type": "markdown",
   "metadata": {},
   "source": [
    "*The easy way with a pandas Dataframe... Works most of the time for standard formats*\n",
    "\n",
    "*Much more user friendly, but in this case it is quite impossible to parse the attribute field*"
   ]
  },
  {
   "cell_type": "code",
   "execution_count": 131,
   "metadata": {
    "ExecuteTime": {
     "end_time": "2017-09-11T17:08:36.799523",
     "start_time": "2017-09-11T17:08:36.776541Z"
    },
    "collapsed": false,
    "run_control": {
     "frozen": false,
     "read_only": false
    }
   },
   "outputs": [
    {
     "data": {
      "text/html": [
       "<div>\n",
       "<style>\n",
       "    .dataframe thead tr:only-child th {\n",
       "        text-align: right;\n",
       "    }\n",
       "\n",
       "    .dataframe thead th {\n",
       "        text-align: left;\n",
       "    }\n",
       "\n",
       "    .dataframe tbody tr th {\n",
       "        vertical-align: top;\n",
       "    }\n",
       "</style>\n",
       "<table border=\"1\" class=\"dataframe\">\n",
       "  <thead>\n",
       "    <tr style=\"text-align: right;\">\n",
       "      <th></th>\n",
       "      <th>seqid</th>\n",
       "      <th>source</th>\n",
       "      <th>type</th>\n",
       "      <th>start</th>\n",
       "      <th>end</th>\n",
       "      <th>score</th>\n",
       "      <th>strand</th>\n",
       "      <th>phase</th>\n",
       "      <th>attributes</th>\n",
       "    </tr>\n",
       "  </thead>\n",
       "  <tbody>\n",
       "    <tr>\n",
       "      <th>0</th>\n",
       "      <td>chr1</td>\n",
       "      <td>HAVANA</td>\n",
       "      <td>exon</td>\n",
       "      <td>181715338</td>\n",
       "      <td>181715391</td>\n",
       "      <td>.</td>\n",
       "      <td>+</td>\n",
       "      <td>.</td>\n",
       "      <td>ID=exon:ENST00000367573.6:9;Parent=ENST0000036...</td>\n",
       "    </tr>\n",
       "    <tr>\n",
       "      <th>1</th>\n",
       "      <td>chr1</td>\n",
       "      <td>HAVANA</td>\n",
       "      <td>transcript</td>\n",
       "      <td>26647447</td>\n",
       "      <td>26647681</td>\n",
       "      <td>.</td>\n",
       "      <td>+</td>\n",
       "      <td>.</td>\n",
       "      <td>ID=ENST00000443847.2;Parent=ENSG00000235069.2;...</td>\n",
       "    </tr>\n",
       "    <tr>\n",
       "      <th>2</th>\n",
       "      <td>chr1</td>\n",
       "      <td>HAVANA</td>\n",
       "      <td>five_prime_UTR</td>\n",
       "      <td>84164317</td>\n",
       "      <td>84164412</td>\n",
       "      <td>.</td>\n",
       "      <td>+</td>\n",
       "      <td>.</td>\n",
       "      <td>ID=UTR5:ENST00000370684.5;Parent=ENST000003706...</td>\n",
       "    </tr>\n",
       "    <tr>\n",
       "      <th>3</th>\n",
       "      <td>chr1</td>\n",
       "      <td>HAVANA</td>\n",
       "      <td>exon</td>\n",
       "      <td>177965047</td>\n",
       "      <td>177965167</td>\n",
       "      <td>.</td>\n",
       "      <td>-</td>\n",
       "      <td>.</td>\n",
       "      <td>ID=exon:ENST00000464631.6:4;Parent=ENST0000046...</td>\n",
       "    </tr>\n",
       "    <tr>\n",
       "      <th>4</th>\n",
       "      <td>chr1</td>\n",
       "      <td>HAVANA</td>\n",
       "      <td>CDS</td>\n",
       "      <td>1708180</td>\n",
       "      <td>1708245</td>\n",
       "      <td>.</td>\n",
       "      <td>-</td>\n",
       "      <td>2</td>\n",
       "      <td>ID=CDS:ENST00000358779.9;Parent=ENST0000035877...</td>\n",
       "    </tr>\n",
       "    <tr>\n",
       "      <th>5</th>\n",
       "      <td>chr1</td>\n",
       "      <td>ENSEMBL</td>\n",
       "      <td>transcript</td>\n",
       "      <td>161171311</td>\n",
       "      <td>161177968</td>\n",
       "      <td>.</td>\n",
       "      <td>-</td>\n",
       "      <td>.</td>\n",
       "      <td>ID=ENST00000622395.4;Parent=ENSG00000158850.14...</td>\n",
       "    </tr>\n",
       "    <tr>\n",
       "      <th>6</th>\n",
       "      <td>chr1</td>\n",
       "      <td>ENSEMBL</td>\n",
       "      <td>stop_codon</td>\n",
       "      <td>25317050</td>\n",
       "      <td>25317052</td>\n",
       "      <td>.</td>\n",
       "      <td>+</td>\n",
       "      <td>0</td>\n",
       "      <td>ID=stop_codon:ENST00000622561.4;Parent=ENST000...</td>\n",
       "    </tr>\n",
       "    <tr>\n",
       "      <th>7</th>\n",
       "      <td>chr1</td>\n",
       "      <td>HAVANA</td>\n",
       "      <td>transcript</td>\n",
       "      <td>46757878</td>\n",
       "      <td>46790499</td>\n",
       "      <td>.</td>\n",
       "      <td>+</td>\n",
       "      <td>.</td>\n",
       "      <td>ID=ENST00000413093.2;Parent=ENSG00000142973.12...</td>\n",
       "    </tr>\n",
       "    <tr>\n",
       "      <th>8</th>\n",
       "      <td>chr10</td>\n",
       "      <td>HAVANA</td>\n",
       "      <td>exon</td>\n",
       "      <td>54329596</td>\n",
       "      <td>54329706</td>\n",
       "      <td>.</td>\n",
       "      <td>-</td>\n",
       "      <td>.</td>\n",
       "      <td>ID=exon:ENST00000395445.5:7;Parent=ENST0000039...</td>\n",
       "    </tr>\n",
       "    <tr>\n",
       "      <th>9</th>\n",
       "      <td>chr10</td>\n",
       "      <td>HAVANA</td>\n",
       "      <td>exon</td>\n",
       "      <td>73814429</td>\n",
       "      <td>73814737</td>\n",
       "      <td>.</td>\n",
       "      <td>+</td>\n",
       "      <td>.</td>\n",
       "      <td>ID=exon:ENST00000434147.1:2;Parent=ENST0000043...</td>\n",
       "    </tr>\n",
       "  </tbody>\n",
       "</table>\n",
       "</div>"
      ],
      "text/plain": [
       "   seqid   source            type      start        end score strand phase  \\\n",
       "0   chr1   HAVANA            exon  181715338  181715391     .      +     .   \n",
       "1   chr1   HAVANA      transcript   26647447   26647681     .      +     .   \n",
       "2   chr1   HAVANA  five_prime_UTR   84164317   84164412     .      +     .   \n",
       "3   chr1   HAVANA            exon  177965047  177965167     .      -     .   \n",
       "4   chr1   HAVANA             CDS    1708180    1708245     .      -     2   \n",
       "5   chr1  ENSEMBL      transcript  161171311  161177968     .      -     .   \n",
       "6   chr1  ENSEMBL      stop_codon   25317050   25317052     .      +     0   \n",
       "7   chr1   HAVANA      transcript   46757878   46790499     .      +     .   \n",
       "8  chr10   HAVANA            exon   54329596   54329706     .      -     .   \n",
       "9  chr10   HAVANA            exon   73814429   73814737     .      +     .   \n",
       "\n",
       "                                          attributes  \n",
       "0  ID=exon:ENST00000367573.6:9;Parent=ENST0000036...  \n",
       "1  ID=ENST00000443847.2;Parent=ENSG00000235069.2;...  \n",
       "2  ID=UTR5:ENST00000370684.5;Parent=ENST000003706...  \n",
       "3  ID=exon:ENST00000464631.6:4;Parent=ENST0000046...  \n",
       "4  ID=CDS:ENST00000358779.9;Parent=ENST0000035877...  \n",
       "5  ID=ENST00000622395.4;Parent=ENSG00000158850.14...  \n",
       "6  ID=stop_codon:ENST00000622561.4;Parent=ENST000...  \n",
       "7  ID=ENST00000413093.2;Parent=ENSG00000142973.12...  \n",
       "8  ID=exon:ENST00000395445.5:7;Parent=ENST0000039...  \n",
       "9  ID=exon:ENST00000434147.1:2;Parent=ENST0000043...  "
      ]
     },
     "execution_count": 131,
     "metadata": {},
     "output_type": "execute_result"
    }
   ],
   "source": [
    "# Parse all the line with pandas\n",
    "df = pd.read_table(file, sep=\"\\t\", names =[\"seqid\", \"source\", \"type\", \"start\", \"end\", \"score\", \"strand\", \"phase\", \"attributes\"])\n",
    "\n",
    "# print only the 10 first rows of the table (well, you know why now...)\n",
    "df.head(10)"
   ]
  },
  {
   "cell_type": "markdown",
   "metadata": {},
   "source": [
    "### Viewing Data in a Dataframe"
   ]
  },
  {
   "cell_type": "markdown",
   "metadata": {},
   "source": [
    "***See the top & bottom rows of the frame***"
   ]
  },
  {
   "cell_type": "code",
   "execution_count": 132,
   "metadata": {
    "ExecuteTime": {
     "end_time": "2017-09-11T17:08:40.928373",
     "start_time": "2017-09-11T17:08:40.907606Z"
    },
    "collapsed": false,
    "run_control": {
     "frozen": false,
     "read_only": false
    },
    "scrolled": true
   },
   "outputs": [
    {
     "data": {
      "text/html": [
       "<div>\n",
       "<style>\n",
       "    .dataframe thead tr:only-child th {\n",
       "        text-align: right;\n",
       "    }\n",
       "\n",
       "    .dataframe thead th {\n",
       "        text-align: left;\n",
       "    }\n",
       "\n",
       "    .dataframe tbody tr th {\n",
       "        vertical-align: top;\n",
       "    }\n",
       "</style>\n",
       "<table border=\"1\" class=\"dataframe\">\n",
       "  <thead>\n",
       "    <tr style=\"text-align: right;\">\n",
       "      <th></th>\n",
       "      <th>seqid</th>\n",
       "      <th>source</th>\n",
       "      <th>type</th>\n",
       "      <th>start</th>\n",
       "      <th>end</th>\n",
       "      <th>score</th>\n",
       "      <th>strand</th>\n",
       "      <th>phase</th>\n",
       "      <th>attributes</th>\n",
       "    </tr>\n",
       "  </thead>\n",
       "  <tbody>\n",
       "    <tr>\n",
       "      <th>0</th>\n",
       "      <td>chr1</td>\n",
       "      <td>HAVANA</td>\n",
       "      <td>exon</td>\n",
       "      <td>181715338</td>\n",
       "      <td>181715391</td>\n",
       "      <td>.</td>\n",
       "      <td>+</td>\n",
       "      <td>.</td>\n",
       "      <td>ID=exon:ENST00000367573.6:9;Parent=ENST0000036...</td>\n",
       "    </tr>\n",
       "    <tr>\n",
       "      <th>1</th>\n",
       "      <td>chr1</td>\n",
       "      <td>HAVANA</td>\n",
       "      <td>transcript</td>\n",
       "      <td>26647447</td>\n",
       "      <td>26647681</td>\n",
       "      <td>.</td>\n",
       "      <td>+</td>\n",
       "      <td>.</td>\n",
       "      <td>ID=ENST00000443847.2;Parent=ENSG00000235069.2;...</td>\n",
       "    </tr>\n",
       "  </tbody>\n",
       "</table>\n",
       "</div>"
      ],
      "text/plain": [
       "  seqid  source        type      start        end score strand phase  \\\n",
       "0  chr1  HAVANA        exon  181715338  181715391     .      +     .   \n",
       "1  chr1  HAVANA  transcript   26647447   26647681     .      +     .   \n",
       "\n",
       "                                          attributes  \n",
       "0  ID=exon:ENST00000367573.6:9;Parent=ENST0000036...  \n",
       "1  ID=ENST00000443847.2;Parent=ENSG00000235069.2;...  "
      ]
     },
     "execution_count": 132,
     "metadata": {},
     "output_type": "execute_result"
    }
   ],
   "source": [
    "df.head(2)"
   ]
  },
  {
   "cell_type": "code",
   "execution_count": 133,
   "metadata": {
    "ExecuteTime": {
     "end_time": "2017-09-11T17:08:41.941823",
     "start_time": "2017-09-11T17:08:41.922916Z"
    },
    "collapsed": false,
    "run_control": {
     "frozen": false,
     "read_only": false
    }
   },
   "outputs": [
    {
     "data": {
      "text/html": [
       "<div>\n",
       "<style>\n",
       "    .dataframe thead tr:only-child th {\n",
       "        text-align: right;\n",
       "    }\n",
       "\n",
       "    .dataframe thead th {\n",
       "        text-align: left;\n",
       "    }\n",
       "\n",
       "    .dataframe tbody tr th {\n",
       "        vertical-align: top;\n",
       "    }\n",
       "</style>\n",
       "<table border=\"1\" class=\"dataframe\">\n",
       "  <thead>\n",
       "    <tr style=\"text-align: right;\">\n",
       "      <th></th>\n",
       "      <th>seqid</th>\n",
       "      <th>source</th>\n",
       "      <th>type</th>\n",
       "      <th>start</th>\n",
       "      <th>end</th>\n",
       "      <th>score</th>\n",
       "      <th>strand</th>\n",
       "      <th>phase</th>\n",
       "      <th>attributes</th>\n",
       "    </tr>\n",
       "  </thead>\n",
       "  <tbody>\n",
       "    <tr>\n",
       "      <th>98</th>\n",
       "      <td>chrX</td>\n",
       "      <td>HAVANA</td>\n",
       "      <td>CDS</td>\n",
       "      <td>1208806</td>\n",
       "      <td>1208905</td>\n",
       "      <td>.</td>\n",
       "      <td>-</td>\n",
       "      <td>2</td>\n",
       "      <td>ID=CDS:ENST00000467626.6;Parent=ENST0000046762...</td>\n",
       "    </tr>\n",
       "    <tr>\n",
       "      <th>99</th>\n",
       "      <td>chrY</td>\n",
       "      <td>HAVANA</td>\n",
       "      <td>exon</td>\n",
       "      <td>2719661</td>\n",
       "      <td>2719705</td>\n",
       "      <td>.</td>\n",
       "      <td>+</td>\n",
       "      <td>.</td>\n",
       "      <td>ID=exon:ENST00000381192.8_PAR_Y:4;Parent=ENST0...</td>\n",
       "    </tr>\n",
       "  </tbody>\n",
       "</table>\n",
       "</div>"
      ],
      "text/plain": [
       "   seqid  source  type    start      end score strand phase  \\\n",
       "98  chrX  HAVANA   CDS  1208806  1208905     .      -     2   \n",
       "99  chrY  HAVANA  exon  2719661  2719705     .      +     .   \n",
       "\n",
       "                                           attributes  \n",
       "98  ID=CDS:ENST00000467626.6;Parent=ENST0000046762...  \n",
       "99  ID=exon:ENST00000381192.8_PAR_Y:4;Parent=ENST0...  "
      ]
     },
     "execution_count": 133,
     "metadata": {},
     "output_type": "execute_result"
    }
   ],
   "source": [
    "df.tail(2)"
   ]
  },
  {
   "cell_type": "markdown",
   "metadata": {},
   "source": [
    "***Transposing your data***"
   ]
  },
  {
   "cell_type": "code",
   "execution_count": 134,
   "metadata": {
    "ExecuteTime": {
     "end_time": "2017-09-11T17:08:44.604416",
     "start_time": "2017-09-11T17:08:44.571121Z"
    },
    "collapsed": false,
    "run_control": {
     "frozen": false,
     "read_only": false
    }
   },
   "outputs": [
    {
     "data": {
      "text/html": [
       "<div>\n",
       "<style>\n",
       "    .dataframe thead tr:only-child th {\n",
       "        text-align: right;\n",
       "    }\n",
       "\n",
       "    .dataframe thead th {\n",
       "        text-align: left;\n",
       "    }\n",
       "\n",
       "    .dataframe tbody tr th {\n",
       "        vertical-align: top;\n",
       "    }\n",
       "</style>\n",
       "<table border=\"1\" class=\"dataframe\">\n",
       "  <thead>\n",
       "    <tr style=\"text-align: right;\">\n",
       "      <th></th>\n",
       "      <th>0</th>\n",
       "      <th>1</th>\n",
       "      <th>2</th>\n",
       "      <th>3</th>\n",
       "      <th>4</th>\n",
       "      <th>5</th>\n",
       "      <th>6</th>\n",
       "      <th>7</th>\n",
       "      <th>8</th>\n",
       "      <th>9</th>\n",
       "      <th>...</th>\n",
       "      <th>90</th>\n",
       "      <th>91</th>\n",
       "      <th>92</th>\n",
       "      <th>93</th>\n",
       "      <th>94</th>\n",
       "      <th>95</th>\n",
       "      <th>96</th>\n",
       "      <th>97</th>\n",
       "      <th>98</th>\n",
       "      <th>99</th>\n",
       "    </tr>\n",
       "  </thead>\n",
       "  <tbody>\n",
       "    <tr>\n",
       "      <th>seqid</th>\n",
       "      <td>chr1</td>\n",
       "      <td>chr1</td>\n",
       "      <td>chr1</td>\n",
       "      <td>chr1</td>\n",
       "      <td>chr1</td>\n",
       "      <td>chr1</td>\n",
       "      <td>chr1</td>\n",
       "      <td>chr1</td>\n",
       "      <td>chr10</td>\n",
       "      <td>chr10</td>\n",
       "      <td>...</td>\n",
       "      <td>chr7</td>\n",
       "      <td>chr7</td>\n",
       "      <td>chr7</td>\n",
       "      <td>chr8</td>\n",
       "      <td>chr8</td>\n",
       "      <td>chr8</td>\n",
       "      <td>chrX</td>\n",
       "      <td>chrX</td>\n",
       "      <td>chrX</td>\n",
       "      <td>chrY</td>\n",
       "    </tr>\n",
       "    <tr>\n",
       "      <th>source</th>\n",
       "      <td>HAVANA</td>\n",
       "      <td>HAVANA</td>\n",
       "      <td>HAVANA</td>\n",
       "      <td>HAVANA</td>\n",
       "      <td>HAVANA</td>\n",
       "      <td>ENSEMBL</td>\n",
       "      <td>ENSEMBL</td>\n",
       "      <td>HAVANA</td>\n",
       "      <td>HAVANA</td>\n",
       "      <td>HAVANA</td>\n",
       "      <td>...</td>\n",
       "      <td>HAVANA</td>\n",
       "      <td>HAVANA</td>\n",
       "      <td>HAVANA</td>\n",
       "      <td>HAVANA</td>\n",
       "      <td>HAVANA</td>\n",
       "      <td>HAVANA</td>\n",
       "      <td>HAVANA</td>\n",
       "      <td>HAVANA</td>\n",
       "      <td>HAVANA</td>\n",
       "      <td>HAVANA</td>\n",
       "    </tr>\n",
       "    <tr>\n",
       "      <th>type</th>\n",
       "      <td>exon</td>\n",
       "      <td>transcript</td>\n",
       "      <td>five_prime_UTR</td>\n",
       "      <td>exon</td>\n",
       "      <td>CDS</td>\n",
       "      <td>transcript</td>\n",
       "      <td>stop_codon</td>\n",
       "      <td>transcript</td>\n",
       "      <td>exon</td>\n",
       "      <td>exon</td>\n",
       "      <td>...</td>\n",
       "      <td>gene</td>\n",
       "      <td>CDS</td>\n",
       "      <td>exon</td>\n",
       "      <td>five_prime_UTR</td>\n",
       "      <td>CDS</td>\n",
       "      <td>exon</td>\n",
       "      <td>start_codon</td>\n",
       "      <td>exon</td>\n",
       "      <td>CDS</td>\n",
       "      <td>exon</td>\n",
       "    </tr>\n",
       "    <tr>\n",
       "      <th>start</th>\n",
       "      <td>181715338</td>\n",
       "      <td>26647447</td>\n",
       "      <td>84164317</td>\n",
       "      <td>177965047</td>\n",
       "      <td>1708180</td>\n",
       "      <td>161171311</td>\n",
       "      <td>25317050</td>\n",
       "      <td>46757878</td>\n",
       "      <td>54329596</td>\n",
       "      <td>73814429</td>\n",
       "      <td>...</td>\n",
       "      <td>101162509</td>\n",
       "      <td>84129123</td>\n",
       "      <td>140478600</td>\n",
       "      <td>116938199</td>\n",
       "      <td>42350007</td>\n",
       "      <td>11853329</td>\n",
       "      <td>129523368</td>\n",
       "      <td>151923600</td>\n",
       "      <td>1208806</td>\n",
       "      <td>2719661</td>\n",
       "    </tr>\n",
       "    <tr>\n",
       "      <th>end</th>\n",
       "      <td>181715391</td>\n",
       "      <td>26647681</td>\n",
       "      <td>84164412</td>\n",
       "      <td>177965167</td>\n",
       "      <td>1708245</td>\n",
       "      <td>161177968</td>\n",
       "      <td>25317052</td>\n",
       "      <td>46790499</td>\n",
       "      <td>54329706</td>\n",
       "      <td>73814737</td>\n",
       "      <td>...</td>\n",
       "      <td>101165593</td>\n",
       "      <td>84129185</td>\n",
       "      <td>140479066</td>\n",
       "      <td>116938243</td>\n",
       "      <td>42350065</td>\n",
       "      <td>11853479</td>\n",
       "      <td>129523370</td>\n",
       "      <td>151925170</td>\n",
       "      <td>1208905</td>\n",
       "      <td>2719705</td>\n",
       "    </tr>\n",
       "  </tbody>\n",
       "</table>\n",
       "<p>5 rows × 100 columns</p>\n",
       "</div>"
      ],
      "text/plain": [
       "               0           1               2          3        4           5   \\\n",
       "seqid        chr1        chr1            chr1       chr1     chr1        chr1   \n",
       "source     HAVANA      HAVANA          HAVANA     HAVANA   HAVANA     ENSEMBL   \n",
       "type         exon  transcript  five_prime_UTR       exon      CDS  transcript   \n",
       "start   181715338    26647447        84164317  177965047  1708180   161171311   \n",
       "end     181715391    26647681        84164412  177965167  1708245   161177968   \n",
       "\n",
       "                6           7         8         9    ...            90  \\\n",
       "seqid         chr1        chr1     chr10     chr10   ...          chr7   \n",
       "source     ENSEMBL      HAVANA    HAVANA    HAVANA   ...        HAVANA   \n",
       "type    stop_codon  transcript      exon      exon   ...          gene   \n",
       "start     25317050    46757878  54329596  73814429   ...     101162509   \n",
       "end       25317052    46790499  54329706  73814737   ...     101165593   \n",
       "\n",
       "              91         92              93        94        95           96  \\\n",
       "seqid       chr7       chr7            chr8      chr8      chr8         chrX   \n",
       "source    HAVANA     HAVANA          HAVANA    HAVANA    HAVANA       HAVANA   \n",
       "type         CDS       exon  five_prime_UTR       CDS      exon  start_codon   \n",
       "start   84129123  140478600       116938199  42350007  11853329    129523368   \n",
       "end     84129185  140479066       116938243  42350065  11853479    129523370   \n",
       "\n",
       "               97       98       99  \n",
       "seqid        chrX     chrX     chrY  \n",
       "source     HAVANA   HAVANA   HAVANA  \n",
       "type         exon      CDS     exon  \n",
       "start   151923600  1208806  2719661  \n",
       "end     151925170  1208905  2719705  \n",
       "\n",
       "[5 rows x 100 columns]"
      ]
     },
     "execution_count": 134,
     "metadata": {},
     "output_type": "execute_result"
    }
   ],
   "source": [
    "df.transpose().head()"
   ]
  },
  {
   "cell_type": "markdown",
   "metadata": {},
   "source": [
    "***Sorting data***"
   ]
  },
  {
   "cell_type": "code",
   "execution_count": 135,
   "metadata": {
    "ExecuteTime": {
     "end_time": "2017-09-11T17:08:46.124278",
     "start_time": "2017-09-11T17:08:46.106742Z"
    },
    "collapsed": false,
    "run_control": {
     "frozen": false,
     "read_only": false
    },
    "scrolled": false
   },
   "outputs": [
    {
     "data": {
      "text/html": [
       "<div>\n",
       "<style>\n",
       "    .dataframe thead tr:only-child th {\n",
       "        text-align: right;\n",
       "    }\n",
       "\n",
       "    .dataframe thead th {\n",
       "        text-align: left;\n",
       "    }\n",
       "\n",
       "    .dataframe tbody tr th {\n",
       "        vertical-align: top;\n",
       "    }\n",
       "</style>\n",
       "<table border=\"1\" class=\"dataframe\">\n",
       "  <thead>\n",
       "    <tr style=\"text-align: right;\">\n",
       "      <th></th>\n",
       "      <th>seqid</th>\n",
       "      <th>source</th>\n",
       "      <th>type</th>\n",
       "      <th>start</th>\n",
       "      <th>end</th>\n",
       "      <th>score</th>\n",
       "      <th>strand</th>\n",
       "      <th>phase</th>\n",
       "      <th>attributes</th>\n",
       "    </tr>\n",
       "  </thead>\n",
       "  <tbody>\n",
       "    <tr>\n",
       "      <th>0</th>\n",
       "      <td>chr1</td>\n",
       "      <td>HAVANA</td>\n",
       "      <td>exon</td>\n",
       "      <td>181715338</td>\n",
       "      <td>181715391</td>\n",
       "      <td>.</td>\n",
       "      <td>+</td>\n",
       "      <td>.</td>\n",
       "      <td>ID=exon:ENST00000367573.6:9;Parent=ENST0000036...</td>\n",
       "    </tr>\n",
       "    <tr>\n",
       "      <th>1</th>\n",
       "      <td>chr1</td>\n",
       "      <td>HAVANA</td>\n",
       "      <td>transcript</td>\n",
       "      <td>26647447</td>\n",
       "      <td>26647681</td>\n",
       "      <td>.</td>\n",
       "      <td>+</td>\n",
       "      <td>.</td>\n",
       "      <td>ID=ENST00000443847.2;Parent=ENSG00000235069.2;...</td>\n",
       "    </tr>\n",
       "    <tr>\n",
       "      <th>2</th>\n",
       "      <td>chr1</td>\n",
       "      <td>HAVANA</td>\n",
       "      <td>five_prime_UTR</td>\n",
       "      <td>84164317</td>\n",
       "      <td>84164412</td>\n",
       "      <td>.</td>\n",
       "      <td>+</td>\n",
       "      <td>.</td>\n",
       "      <td>ID=UTR5:ENST00000370684.5;Parent=ENST000003706...</td>\n",
       "    </tr>\n",
       "    <tr>\n",
       "      <th>3</th>\n",
       "      <td>chr1</td>\n",
       "      <td>HAVANA</td>\n",
       "      <td>exon</td>\n",
       "      <td>177965047</td>\n",
       "      <td>177965167</td>\n",
       "      <td>.</td>\n",
       "      <td>-</td>\n",
       "      <td>.</td>\n",
       "      <td>ID=exon:ENST00000464631.6:4;Parent=ENST0000046...</td>\n",
       "    </tr>\n",
       "    <tr>\n",
       "      <th>4</th>\n",
       "      <td>chr1</td>\n",
       "      <td>HAVANA</td>\n",
       "      <td>CDS</td>\n",
       "      <td>1708180</td>\n",
       "      <td>1708245</td>\n",
       "      <td>.</td>\n",
       "      <td>-</td>\n",
       "      <td>2</td>\n",
       "      <td>ID=CDS:ENST00000358779.9;Parent=ENST0000035877...</td>\n",
       "    </tr>\n",
       "  </tbody>\n",
       "</table>\n",
       "</div>"
      ],
      "text/plain": [
       "  seqid  source            type      start        end score strand phase  \\\n",
       "0  chr1  HAVANA            exon  181715338  181715391     .      +     .   \n",
       "1  chr1  HAVANA      transcript   26647447   26647681     .      +     .   \n",
       "2  chr1  HAVANA  five_prime_UTR   84164317   84164412     .      +     .   \n",
       "3  chr1  HAVANA            exon  177965047  177965167     .      -     .   \n",
       "4  chr1  HAVANA             CDS    1708180    1708245     .      -     2   \n",
       "\n",
       "                                          attributes  \n",
       "0  ID=exon:ENST00000367573.6:9;Parent=ENST0000036...  \n",
       "1  ID=ENST00000443847.2;Parent=ENSG00000235069.2;...  \n",
       "2  ID=UTR5:ENST00000370684.5;Parent=ENST000003706...  \n",
       "3  ID=exon:ENST00000464631.6:4;Parent=ENST0000046...  \n",
       "4  ID=CDS:ENST00000358779.9;Parent=ENST0000035877...  "
      ]
     },
     "execution_count": 135,
     "metadata": {},
     "output_type": "execute_result"
    }
   ],
   "source": [
    "df.sort_values(by=\"seqid\").head()"
   ]
  },
  {
   "cell_type": "markdown",
   "metadata": {},
   "source": [
    "***Sampling random rows or column: Awesomeness level +++***"
   ]
  },
  {
   "cell_type": "code",
   "execution_count": 137,
   "metadata": {
    "ExecuteTime": {
     "end_time": "2017-09-11T17:09:05.707060",
     "start_time": "2017-09-11T17:09:05.689846Z"
    },
    "collapsed": false,
    "run_control": {
     "frozen": false,
     "read_only": false
    }
   },
   "outputs": [
    {
     "data": {
      "text/html": [
       "<div>\n",
       "<style>\n",
       "    .dataframe thead tr:only-child th {\n",
       "        text-align: right;\n",
       "    }\n",
       "\n",
       "    .dataframe thead th {\n",
       "        text-align: left;\n",
       "    }\n",
       "\n",
       "    .dataframe tbody tr th {\n",
       "        vertical-align: top;\n",
       "    }\n",
       "</style>\n",
       "<table border=\"1\" class=\"dataframe\">\n",
       "  <thead>\n",
       "    <tr style=\"text-align: right;\">\n",
       "      <th></th>\n",
       "      <th>seqid</th>\n",
       "      <th>source</th>\n",
       "      <th>type</th>\n",
       "      <th>start</th>\n",
       "      <th>end</th>\n",
       "      <th>score</th>\n",
       "      <th>strand</th>\n",
       "      <th>phase</th>\n",
       "      <th>attributes</th>\n",
       "    </tr>\n",
       "  </thead>\n",
       "  <tbody>\n",
       "    <tr>\n",
       "      <th>24</th>\n",
       "      <td>chr12</td>\n",
       "      <td>HAVANA</td>\n",
       "      <td>gene</td>\n",
       "      <td>53298655</td>\n",
       "      <td>53300314</td>\n",
       "      <td>.</td>\n",
       "      <td>-</td>\n",
       "      <td>.</td>\n",
       "      <td>ID=ENSG00000257605.2;gene_id=ENSG00000257605.2...</td>\n",
       "    </tr>\n",
       "    <tr>\n",
       "      <th>93</th>\n",
       "      <td>chr8</td>\n",
       "      <td>HAVANA</td>\n",
       "      <td>five_prime_UTR</td>\n",
       "      <td>116938199</td>\n",
       "      <td>116938243</td>\n",
       "      <td>.</td>\n",
       "      <td>+</td>\n",
       "      <td>.</td>\n",
       "      <td>ID=UTR5:ENST00000378279.3;Parent=ENST000003782...</td>\n",
       "    </tr>\n",
       "    <tr>\n",
       "      <th>23</th>\n",
       "      <td>chr12</td>\n",
       "      <td>HAVANA</td>\n",
       "      <td>exon</td>\n",
       "      <td>8194430</td>\n",
       "      <td>8194481</td>\n",
       "      <td>.</td>\n",
       "      <td>+</td>\n",
       "      <td>.</td>\n",
       "      <td>ID=exon:ENST00000540566.1:1;Parent=ENST0000054...</td>\n",
       "    </tr>\n",
       "    <tr>\n",
       "      <th>89</th>\n",
       "      <td>chr7</td>\n",
       "      <td>HAVANA</td>\n",
       "      <td>five_prime_UTR</td>\n",
       "      <td>66682164</td>\n",
       "      <td>66682258</td>\n",
       "      <td>.</td>\n",
       "      <td>+</td>\n",
       "      <td>.</td>\n",
       "      <td>ID=UTR5:ENST00000607882.5;Parent=ENST000006078...</td>\n",
       "    </tr>\n",
       "    <tr>\n",
       "      <th>70</th>\n",
       "      <td>chr3</td>\n",
       "      <td>HAVANA</td>\n",
       "      <td>exon</td>\n",
       "      <td>35729303</td>\n",
       "      <td>35729526</td>\n",
       "      <td>.</td>\n",
       "      <td>+</td>\n",
       "      <td>.</td>\n",
       "      <td>ID=exon:ENST00000476327.1:2;Parent=ENST0000047...</td>\n",
       "    </tr>\n",
       "    <tr>\n",
       "      <th>4</th>\n",
       "      <td>chr1</td>\n",
       "      <td>HAVANA</td>\n",
       "      <td>CDS</td>\n",
       "      <td>1708180</td>\n",
       "      <td>1708245</td>\n",
       "      <td>.</td>\n",
       "      <td>-</td>\n",
       "      <td>2</td>\n",
       "      <td>ID=CDS:ENST00000358779.9;Parent=ENST0000035877...</td>\n",
       "    </tr>\n",
       "    <tr>\n",
       "      <th>79</th>\n",
       "      <td>chr6</td>\n",
       "      <td>HAVANA</td>\n",
       "      <td>exon</td>\n",
       "      <td>75143252</td>\n",
       "      <td>75143388</td>\n",
       "      <td>.</td>\n",
       "      <td>-</td>\n",
       "      <td>.</td>\n",
       "      <td>ID=exon:ENST00000416123.6:25;Parent=ENST000004...</td>\n",
       "    </tr>\n",
       "    <tr>\n",
       "      <th>64</th>\n",
       "      <td>chr20</td>\n",
       "      <td>HAVANA</td>\n",
       "      <td>CDS</td>\n",
       "      <td>17725023</td>\n",
       "      <td>17725151</td>\n",
       "      <td>.</td>\n",
       "      <td>+</td>\n",
       "      <td>0</td>\n",
       "      <td>ID=CDS:ENST00000545418.2;Parent=ENST0000054541...</td>\n",
       "    </tr>\n",
       "    <tr>\n",
       "      <th>74</th>\n",
       "      <td>chr4</td>\n",
       "      <td>HAVANA</td>\n",
       "      <td>exon</td>\n",
       "      <td>99428087</td>\n",
       "      <td>99428174</td>\n",
       "      <td>.</td>\n",
       "      <td>-</td>\n",
       "      <td>.</td>\n",
       "      <td>ID=exon:ENST00000476959.5:4;Parent=ENST0000047...</td>\n",
       "    </tr>\n",
       "    <tr>\n",
       "      <th>7</th>\n",
       "      <td>chr1</td>\n",
       "      <td>HAVANA</td>\n",
       "      <td>transcript</td>\n",
       "      <td>46757878</td>\n",
       "      <td>46790499</td>\n",
       "      <td>.</td>\n",
       "      <td>+</td>\n",
       "      <td>.</td>\n",
       "      <td>ID=ENST00000413093.2;Parent=ENSG00000142973.12...</td>\n",
       "    </tr>\n",
       "  </tbody>\n",
       "</table>\n",
       "</div>"
      ],
      "text/plain": [
       "    seqid  source            type      start        end score strand phase  \\\n",
       "24  chr12  HAVANA            gene   53298655   53300314     .      -     .   \n",
       "93   chr8  HAVANA  five_prime_UTR  116938199  116938243     .      +     .   \n",
       "23  chr12  HAVANA            exon    8194430    8194481     .      +     .   \n",
       "89   chr7  HAVANA  five_prime_UTR   66682164   66682258     .      +     .   \n",
       "70   chr3  HAVANA            exon   35729303   35729526     .      +     .   \n",
       "4    chr1  HAVANA             CDS    1708180    1708245     .      -     2   \n",
       "79   chr6  HAVANA            exon   75143252   75143388     .      -     .   \n",
       "64  chr20  HAVANA             CDS   17725023   17725151     .      +     0   \n",
       "74   chr4  HAVANA            exon   99428087   99428174     .      -     .   \n",
       "7    chr1  HAVANA      transcript   46757878   46790499     .      +     .   \n",
       "\n",
       "                                           attributes  \n",
       "24  ID=ENSG00000257605.2;gene_id=ENSG00000257605.2...  \n",
       "93  ID=UTR5:ENST00000378279.3;Parent=ENST000003782...  \n",
       "23  ID=exon:ENST00000540566.1:1;Parent=ENST0000054...  \n",
       "89  ID=UTR5:ENST00000607882.5;Parent=ENST000006078...  \n",
       "70  ID=exon:ENST00000476327.1:2;Parent=ENST0000047...  \n",
       "4   ID=CDS:ENST00000358779.9;Parent=ENST0000035877...  \n",
       "79  ID=exon:ENST00000416123.6:25;Parent=ENST000004...  \n",
       "64  ID=CDS:ENST00000545418.2;Parent=ENST0000054541...  \n",
       "74  ID=exon:ENST00000476959.5:4;Parent=ENST0000047...  \n",
       "7   ID=ENST00000413093.2;Parent=ENSG00000142973.12...  "
      ]
     },
     "execution_count": 137,
     "metadata": {},
     "output_type": "execute_result"
    }
   ],
   "source": [
    "df.sample(n=10, axis=0)"
   ]
  },
  {
   "cell_type": "markdown",
   "metadata": {},
   "source": [
    "### Descriptive statistics of a dataframe\n",
    "\n",
    "**Similar to Series, many basic statistics are available.**\n",
    "\n",
    "The results will only contain the relevant columns (for example *mean()* will be applied only to numeric columns.\n",
    " \n",
    "| Function \t| Description                                \t|\n",
    "|----------\t|--------------------------------------------\t|\n",
    "| count    \t| Number of non-null observations            \t|\n",
    "| sum      \t| Sum of values                              \t|\n",
    "| mean     \t| Mean of values                             \t|\n",
    "| mad      \t| Mean absolute deviation                    \t|\n",
    "| median   \t| Arithmetic median of values                \t|\n",
    "| min      \t| Minimum                                    \t|\n",
    "| max      \t| Maximum                                    \t|\n",
    "| mode     \t| Mode                                       \t|\n",
    "| abs      \t| Absolute Value                             \t|\n",
    "| prod     \t| Product of values                          \t|\n",
    "| std      \t| Bessel-corrected sample standard deviation \t|\n",
    "| var      \t| Unbiased variance                          \t|\n",
    "| sem      \t| Standard error of the mean                 \t|\n",
    "| skew     \t| Sample skewness (3rd moment)               \t|\n",
    "| kurt     \t| Sample kurtosis (4th moment)               \t|\n",
    "| unique    | List the unique elements \n",
    "| quantile \t| Sample quantile (value at %)               \t|\n",
    "| cumsum   \t| Cumulative sum                             \t|\n",
    "| cumprod  \t| Cumulative product                         \t|\n",
    "| cummax   \t| Cumulative maximum                         \t|\n",
    "| cummin   \t| Cumulative minimum                         \t|"
   ]
  },
  {
   "cell_type": "code",
   "execution_count": 35,
   "metadata": {
    "collapsed": false,
    "run_control": {
     "frozen": false,
     "read_only": false
    }
   },
   "outputs": [
    {
     "data": {
      "text/plain": [
       "start    71288610.81\n",
       "end      71292505.97\n",
       "dtype: float64"
      ]
     },
     "execution_count": 35,
     "metadata": {},
     "output_type": "execute_result"
    }
   ],
   "source": [
    "df.mean()"
   ]
  },
  {
   "cell_type": "code",
   "execution_count": 36,
   "metadata": {
    "collapsed": false,
    "run_control": {
     "frozen": false,
     "read_only": false
    }
   },
   "outputs": [
    {
     "data": {
      "text/plain": [
       "seqid         100\n",
       "source        100\n",
       "type          100\n",
       "start         100\n",
       "end           100\n",
       "score         100\n",
       "strand        100\n",
       "phase         100\n",
       "attributes    100\n",
       "dtype: int64"
      ]
     },
     "execution_count": 36,
     "metadata": {},
     "output_type": "execute_result"
    }
   ],
   "source": [
    "df.count()"
   ]
  },
  {
   "cell_type": "markdown",
   "metadata": {},
   "source": [
    "**One can also use the *describe()* method to a simple table report of the dataframe**"
   ]
  },
  {
   "cell_type": "code",
   "execution_count": 37,
   "metadata": {
    "collapsed": false,
    "run_control": {
     "frozen": false,
     "read_only": false
    }
   },
   "outputs": [
    {
     "data": {
      "text/html": [
       "<div>\n",
       "<table border=\"1\" class=\"dataframe\">\n",
       "  <thead>\n",
       "    <tr style=\"text-align: right;\">\n",
       "      <th></th>\n",
       "      <th>seqid</th>\n",
       "      <th>source</th>\n",
       "      <th>type</th>\n",
       "      <th>start</th>\n",
       "      <th>end</th>\n",
       "      <th>score</th>\n",
       "      <th>strand</th>\n",
       "      <th>phase</th>\n",
       "      <th>attributes</th>\n",
       "    </tr>\n",
       "  </thead>\n",
       "  <tbody>\n",
       "    <tr>\n",
       "      <th>count</th>\n",
       "      <td>100</td>\n",
       "      <td>100</td>\n",
       "      <td>100</td>\n",
       "      <td>1.000000e+02</td>\n",
       "      <td>1.000000e+02</td>\n",
       "      <td>100</td>\n",
       "      <td>100</td>\n",
       "      <td>100</td>\n",
       "      <td>100</td>\n",
       "    </tr>\n",
       "    <tr>\n",
       "      <th>unique</th>\n",
       "      <td>22</td>\n",
       "      <td>2</td>\n",
       "      <td>8</td>\n",
       "      <td>NaN</td>\n",
       "      <td>NaN</td>\n",
       "      <td>1</td>\n",
       "      <td>2</td>\n",
       "      <td>4</td>\n",
       "      <td>100</td>\n",
       "    </tr>\n",
       "    <tr>\n",
       "      <th>top</th>\n",
       "      <td>chr7</td>\n",
       "      <td>HAVANA</td>\n",
       "      <td>exon</td>\n",
       "      <td>NaN</td>\n",
       "      <td>NaN</td>\n",
       "      <td>.</td>\n",
       "      <td>-</td>\n",
       "      <td>.</td>\n",
       "      <td>ID=CDS:ENST00000522610.5;Parent=ENST0000052261...</td>\n",
       "    </tr>\n",
       "    <tr>\n",
       "      <th>freq</th>\n",
       "      <td>10</td>\n",
       "      <td>93</td>\n",
       "      <td>55</td>\n",
       "      <td>NaN</td>\n",
       "      <td>NaN</td>\n",
       "      <td>100</td>\n",
       "      <td>54</td>\n",
       "      <td>78</td>\n",
       "      <td>1</td>\n",
       "    </tr>\n",
       "    <tr>\n",
       "      <th>mean</th>\n",
       "      <td>NaN</td>\n",
       "      <td>NaN</td>\n",
       "      <td>NaN</td>\n",
       "      <td>7.128861e+07</td>\n",
       "      <td>7.129251e+07</td>\n",
       "      <td>NaN</td>\n",
       "      <td>NaN</td>\n",
       "      <td>NaN</td>\n",
       "      <td>NaN</td>\n",
       "    </tr>\n",
       "    <tr>\n",
       "      <th>std</th>\n",
       "      <td>NaN</td>\n",
       "      <td>NaN</td>\n",
       "      <td>NaN</td>\n",
       "      <td>5.633092e+07</td>\n",
       "      <td>5.632923e+07</td>\n",
       "      <td>NaN</td>\n",
       "      <td>NaN</td>\n",
       "      <td>NaN</td>\n",
       "      <td>NaN</td>\n",
       "    </tr>\n",
       "    <tr>\n",
       "      <th>min</th>\n",
       "      <td>NaN</td>\n",
       "      <td>NaN</td>\n",
       "      <td>NaN</td>\n",
       "      <td>8.917500e+05</td>\n",
       "      <td>8.917520e+05</td>\n",
       "      <td>NaN</td>\n",
       "      <td>NaN</td>\n",
       "      <td>NaN</td>\n",
       "      <td>NaN</td>\n",
       "    </tr>\n",
       "    <tr>\n",
       "      <th>25%</th>\n",
       "      <td>NaN</td>\n",
       "      <td>NaN</td>\n",
       "      <td>NaN</td>\n",
       "      <td>3.208370e+07</td>\n",
       "      <td>3.208377e+07</td>\n",
       "      <td>NaN</td>\n",
       "      <td>NaN</td>\n",
       "      <td>NaN</td>\n",
       "      <td>NaN</td>\n",
       "    </tr>\n",
       "    <tr>\n",
       "      <th>50%</th>\n",
       "      <td>NaN</td>\n",
       "      <td>NaN</td>\n",
       "      <td>NaN</td>\n",
       "      <td>5.730800e+07</td>\n",
       "      <td>5.730990e+07</td>\n",
       "      <td>NaN</td>\n",
       "      <td>NaN</td>\n",
       "      <td>NaN</td>\n",
       "      <td>NaN</td>\n",
       "    </tr>\n",
       "    <tr>\n",
       "      <th>75%</th>\n",
       "      <td>NaN</td>\n",
       "      <td>NaN</td>\n",
       "      <td>NaN</td>\n",
       "      <td>1.046151e+08</td>\n",
       "      <td>1.046156e+08</td>\n",
       "      <td>NaN</td>\n",
       "      <td>NaN</td>\n",
       "      <td>NaN</td>\n",
       "      <td>NaN</td>\n",
       "    </tr>\n",
       "    <tr>\n",
       "      <th>max</th>\n",
       "      <td>NaN</td>\n",
       "      <td>NaN</td>\n",
       "      <td>NaN</td>\n",
       "      <td>2.412728e+08</td>\n",
       "      <td>2.412728e+08</td>\n",
       "      <td>NaN</td>\n",
       "      <td>NaN</td>\n",
       "      <td>NaN</td>\n",
       "      <td>NaN</td>\n",
       "    </tr>\n",
       "  </tbody>\n",
       "</table>\n",
       "</div>"
      ],
      "text/plain": [
       "       seqid  source  type         start           end score strand phase  \\\n",
       "count    100     100   100  1.000000e+02  1.000000e+02   100    100   100   \n",
       "unique    22       2     8           NaN           NaN     1      2     4   \n",
       "top     chr7  HAVANA  exon           NaN           NaN     .      -     .   \n",
       "freq      10      93    55           NaN           NaN   100     54    78   \n",
       "mean     NaN     NaN   NaN  7.128861e+07  7.129251e+07   NaN    NaN   NaN   \n",
       "std      NaN     NaN   NaN  5.633092e+07  5.632923e+07   NaN    NaN   NaN   \n",
       "min      NaN     NaN   NaN  8.917500e+05  8.917520e+05   NaN    NaN   NaN   \n",
       "25%      NaN     NaN   NaN  3.208370e+07  3.208377e+07   NaN    NaN   NaN   \n",
       "50%      NaN     NaN   NaN  5.730800e+07  5.730990e+07   NaN    NaN   NaN   \n",
       "75%      NaN     NaN   NaN  1.046151e+08  1.046156e+08   NaN    NaN   NaN   \n",
       "max      NaN     NaN   NaN  2.412728e+08  2.412728e+08   NaN    NaN   NaN   \n",
       "\n",
       "                                               attributes  \n",
       "count                                                 100  \n",
       "unique                                                100  \n",
       "top     ID=CDS:ENST00000522610.5;Parent=ENST0000052261...  \n",
       "freq                                                    1  \n",
       "mean                                                  NaN  \n",
       "std                                                   NaN  \n",
       "min                                                   NaN  \n",
       "25%                                                   NaN  \n",
       "50%                                                   NaN  \n",
       "75%                                                   NaN  \n",
       "max                                                   NaN  "
      ]
     },
     "execution_count": 37,
     "metadata": {},
     "output_type": "execute_result"
    }
   ],
   "source": [
    "df.describe(include=\"all\")"
   ]
  },
  {
   "cell_type": "markdown",
   "metadata": {},
   "source": [
    "### Access the  element in a Dataframe = Indexing and Selection"
   ]
  },
  {
   "cell_type": "markdown",
   "metadata": {},
   "source": [
    "| Operation                      \t| Syntax        \t| Result    \t|\n",
    "|--------------------------------\t|---------------\t|-----------\t|\n",
    "| Select column                  \t| df[col]       \t| Series    \t|\n",
    "| Select row by label            \t| df.loc[label] \t| Series    \t|\n",
    "| Select row by integer location \t| df.iloc[loc]  \t| Series    \t|\n",
    "| Slice rows                     \t| df[5:10]      \t| DataFrame \t|"
   ]
  },
  {
   "cell_type": "markdown",
   "metadata": {},
   "source": [
    "***Loading a new example file formated in SAM format***"
   ]
  },
  {
   "cell_type": "code",
   "execution_count": 140,
   "metadata": {
    "ExecuteTime": {
     "end_time": "2017-09-11T17:11:24.020276",
     "start_time": "2017-09-11T17:11:24.016703Z"
    },
    "collapsed": false,
    "run_control": {
     "frozen": false,
     "read_only": false
    }
   },
   "outputs": [],
   "source": [
    "file =  \"../data/sample_alignment.sam\""
   ]
  },
  {
   "cell_type": "code",
   "execution_count": 141,
   "metadata": {
    "ExecuteTime": {
     "end_time": "2017-09-11T17:11:25.181620",
     "start_time": "2017-09-11T17:11:25.066274Z"
    },
    "collapsed": false,
    "run_control": {
     "frozen": false,
     "read_only": false
    }
   },
   "outputs": [
    {
     "name": "stdout",
     "output_type": "stream",
     "text": [
      "  18  190 4858 ../data/sample_alignment.sam\r\n"
     ]
    }
   ],
   "source": [
    "!wc {file}"
   ]
  },
  {
   "cell_type": "code",
   "execution_count": 142,
   "metadata": {
    "ExecuteTime": {
     "end_time": "2017-09-11T17:11:28.396069",
     "start_time": "2017-09-11T17:11:28.280119Z"
    },
    "collapsed": false,
    "run_control": {
     "frozen": false,
     "read_only": false
    }
   },
   "outputs": [
    {
     "name": "stdout",
     "output_type": "stream",
     "text": [
      "@SQ\tSN:SSV9K2-CMV-GFP-HygroTK-bGHpA\tLN:7003\r\n",
      "@PG\tID:bwa\tPN:bwa\tVN:0.7.10-r789\tCL:bwa-0.7.10 mem -t 12 ../bwa_index/SSV9K2-CMV-GFP-HygroTK-bGHpA.fa ../fastq/RUN2_S1_R1_1_filtered.fastq.gz ../fastq/RUN2_S1_R2_2_filtered.fastq.gz\r\n",
      "HWI-1KL149:87:HA58EADXX:1:1101:1531:2163\t163\tSSV9K2-CMV-GFP-HygroTK-bGHpA\t4862\t60\t101M\t=\t4950\t189\tCGCCCTCCTGTGCTACCCGGCCGCGCGGTACCTTATGGGCAGCATGACCCCCCAGGCCGTGCTGGCGTTCGTGGCCCTCATCCCGCCGACCTTGCCCGGCA\tCCCFFFFFGHHHHJJJJJJJJJJJJJJJGIJJJJJJHHHHHFFFEEEEEEDDDDBDDDDBBDDDDDDDDDDBDDDDDDDBDDDDDDDDDDDDDDDDDDDDB\r\n",
      "HWI-1KL149:87:HA58EADXX:1:1101:1744:2169\t141\t*\t0\t0\t*\t*\t0\t0\tTCGTAGATTTCTCTGGCGATTGAAGGGCTAAATTCTTCAACGCTAACTTTGAGAATTTTTGTAAGCAATGCGGCGTTATAAGCATTTAATGCATTGATGCC\tCCCFFFFFHHHHHJJJJJJJJJJJJJJJJJJJIJJJJJJJJJJJJJJJIJJJJJJJJJJJIHHHHHHHFFFFDDDDDDDEEDDDDDDEEDDDDEEDDEDDD\r\n",
      "HWI-1KL149:87:HA58EADXX:1:1101:1606:2189\t83\tSSV9K2-CMV-GFP-HygroTK-bGHpA\t4285\t60\t101M\t=\t4104\t-282\tAGGGTCGATGCGACGCAATCGTCCGATCCGGAGCCGGGACTGTCGGGCGTACACAAATCGCCCGCAGAAGCGCGGCCGTCTGGACCGATGGCTGTGTAGAA\tDDDDDDDDDDDDDDDDDDDDDDDDDDDDDDDDDDDDDDDDDDDDDDDDEEDDDDDDDDDDFHJIJJJJJJJJJJJIIJJJJJIGIJJJHHHFHFFFFFCCC\r\n"
     ]
    }
   ],
   "source": [
    "!head -n 5 \"../data/sample_alignment.sam\""
   ]
  },
  {
   "cell_type": "markdown",
   "metadata": {},
   "source": [
    "[SAM format documentation](http://genome.sph.umich.edu/wiki/SAM)"
   ]
  },
  {
   "cell_type": "code",
   "execution_count": 143,
   "metadata": {
    "ExecuteTime": {
     "end_time": "2017-09-11T17:11:32.911035",
     "start_time": "2017-09-11T17:11:32.887377Z"
    },
    "collapsed": false,
    "run_control": {
     "frozen": false,
     "read_only": false
    },
    "scrolled": false
   },
   "outputs": [
    {
     "data": {
      "text/html": [
       "<div>\n",
       "<style>\n",
       "    .dataframe thead tr:only-child th {\n",
       "        text-align: right;\n",
       "    }\n",
       "\n",
       "    .dataframe thead th {\n",
       "        text-align: left;\n",
       "    }\n",
       "\n",
       "    .dataframe tbody tr th {\n",
       "        vertical-align: top;\n",
       "    }\n",
       "</style>\n",
       "<table border=\"1\" class=\"dataframe\">\n",
       "  <thead>\n",
       "    <tr style=\"text-align: right;\">\n",
       "      <th></th>\n",
       "      <th>FLAG</th>\n",
       "      <th>RNAME</th>\n",
       "      <th>POS</th>\n",
       "      <th>MAPQ</th>\n",
       "      <th>CIGAR</th>\n",
       "      <th>RNEXT</th>\n",
       "      <th>PNEXT</th>\n",
       "      <th>TLEN</th>\n",
       "      <th>SEQ</th>\n",
       "      <th>QUAL</th>\n",
       "    </tr>\n",
       "    <tr>\n",
       "      <th>QNAME</th>\n",
       "      <th></th>\n",
       "      <th></th>\n",
       "      <th></th>\n",
       "      <th></th>\n",
       "      <th></th>\n",
       "      <th></th>\n",
       "      <th></th>\n",
       "      <th></th>\n",
       "      <th></th>\n",
       "      <th></th>\n",
       "    </tr>\n",
       "  </thead>\n",
       "  <tbody>\n",
       "    <tr>\n",
       "      <th>HWI-1KL149:87:HA58EADXX:1:1101:1531:2163</th>\n",
       "      <td>163</td>\n",
       "      <td>SSV9K2-CMV-GFP-HygroTK-bGHpA</td>\n",
       "      <td>4862</td>\n",
       "      <td>60</td>\n",
       "      <td>101M</td>\n",
       "      <td>=</td>\n",
       "      <td>4950</td>\n",
       "      <td>189</td>\n",
       "      <td>CGCCCTCCTGTGCTACCCGGCCGCGCGGTACCTTATGGGCAGCATG...</td>\n",
       "      <td>CCCFFFFFGHHHHJJJJJJJJJJJJJJJGIJJJJJJHHHHHFFFEE...</td>\n",
       "    </tr>\n",
       "    <tr>\n",
       "      <th>HWI-1KL149:87:HA58EADXX:1:1101:1744:2169</th>\n",
       "      <td>141</td>\n",
       "      <td>*</td>\n",
       "      <td>0</td>\n",
       "      <td>0</td>\n",
       "      <td>*</td>\n",
       "      <td>*</td>\n",
       "      <td>0</td>\n",
       "      <td>0</td>\n",
       "      <td>TCGTAGATTTCTCTGGCGATTGAAGGGCTAAATTCTTCAACGCTAA...</td>\n",
       "      <td>CCCFFFFFHHHHHJJJJJJJJJJJJJJJJJJJIJJJJJJJJJJJJJ...</td>\n",
       "    </tr>\n",
       "    <tr>\n",
       "      <th>HWI-1KL149:87:HA58EADXX:1:1101:1606:2189</th>\n",
       "      <td>83</td>\n",
       "      <td>SSV9K2-CMV-GFP-HygroTK-bGHpA</td>\n",
       "      <td>4285</td>\n",
       "      <td>60</td>\n",
       "      <td>101M</td>\n",
       "      <td>=</td>\n",
       "      <td>4104</td>\n",
       "      <td>-282</td>\n",
       "      <td>AGGGTCGATGCGACGCAATCGTCCGATCCGGAGCCGGGACTGTCGG...</td>\n",
       "      <td>DDDDDDDDDDDDDDDDDDDDDDDDDDDDDDDDDDDDDDDDDDDDDD...</td>\n",
       "    </tr>\n",
       "    <tr>\n",
       "      <th>HWI-1KL149:87:HA58EADXX:1:1101:1752:2238</th>\n",
       "      <td>83</td>\n",
       "      <td>SSV9K2-CMV-GFP-HygroTK-bGHpA</td>\n",
       "      <td>3032</td>\n",
       "      <td>60</td>\n",
       "      <td>101M</td>\n",
       "      <td>=</td>\n",
       "      <td>2809</td>\n",
       "      <td>-324</td>\n",
       "      <td>CTGTTGAATGTCGTGAAGGAAGCAGTTCCTCTGGAAGCTTCTTGAA...</td>\n",
       "      <td>DDDEEDDDDDDDDDDDDDDDDDDDDDDDDDDDDDDDDDDDDDEDDD...</td>\n",
       "    </tr>\n",
       "    <tr>\n",
       "      <th>HWI-1KL149:87:HA58EADXX:1:1101:1752:2238</th>\n",
       "      <td>163</td>\n",
       "      <td>SSV9K2-CMV-GFP-HygroTK-bGHpA</td>\n",
       "      <td>2809</td>\n",
       "      <td>60</td>\n",
       "      <td>101M</td>\n",
       "      <td>=</td>\n",
       "      <td>3032</td>\n",
       "      <td>324</td>\n",
       "      <td>CTATAGGGAGACCACAACGGTTTCCCTCTAGCGGGATCAATTCCGC...</td>\n",
       "      <td>CCCFFFFFHHHHHJJIJJJJIIJJJJJJJJJJJJJHJJIJJJIIIJ...</td>\n",
       "    </tr>\n",
       "  </tbody>\n",
       "</table>\n",
       "</div>"
      ],
      "text/plain": [
       "                                          FLAG                         RNAME  \\\n",
       "QNAME                                                                          \n",
       "HWI-1KL149:87:HA58EADXX:1:1101:1531:2163   163  SSV9K2-CMV-GFP-HygroTK-bGHpA   \n",
       "HWI-1KL149:87:HA58EADXX:1:1101:1744:2169   141                             *   \n",
       "HWI-1KL149:87:HA58EADXX:1:1101:1606:2189    83  SSV9K2-CMV-GFP-HygroTK-bGHpA   \n",
       "HWI-1KL149:87:HA58EADXX:1:1101:1752:2238    83  SSV9K2-CMV-GFP-HygroTK-bGHpA   \n",
       "HWI-1KL149:87:HA58EADXX:1:1101:1752:2238   163  SSV9K2-CMV-GFP-HygroTK-bGHpA   \n",
       "\n",
       "                                           POS  MAPQ CIGAR RNEXT  PNEXT  TLEN  \\\n",
       "QNAME                                                                           \n",
       "HWI-1KL149:87:HA58EADXX:1:1101:1531:2163  4862    60  101M     =   4950   189   \n",
       "HWI-1KL149:87:HA58EADXX:1:1101:1744:2169     0     0     *     *      0     0   \n",
       "HWI-1KL149:87:HA58EADXX:1:1101:1606:2189  4285    60  101M     =   4104  -282   \n",
       "HWI-1KL149:87:HA58EADXX:1:1101:1752:2238  3032    60  101M     =   2809  -324   \n",
       "HWI-1KL149:87:HA58EADXX:1:1101:1752:2238  2809    60  101M     =   3032   324   \n",
       "\n",
       "                                                                                        SEQ  \\\n",
       "QNAME                                                                                         \n",
       "HWI-1KL149:87:HA58EADXX:1:1101:1531:2163  CGCCCTCCTGTGCTACCCGGCCGCGCGGTACCTTATGGGCAGCATG...   \n",
       "HWI-1KL149:87:HA58EADXX:1:1101:1744:2169  TCGTAGATTTCTCTGGCGATTGAAGGGCTAAATTCTTCAACGCTAA...   \n",
       "HWI-1KL149:87:HA58EADXX:1:1101:1606:2189  AGGGTCGATGCGACGCAATCGTCCGATCCGGAGCCGGGACTGTCGG...   \n",
       "HWI-1KL149:87:HA58EADXX:1:1101:1752:2238  CTGTTGAATGTCGTGAAGGAAGCAGTTCCTCTGGAAGCTTCTTGAA...   \n",
       "HWI-1KL149:87:HA58EADXX:1:1101:1752:2238  CTATAGGGAGACCACAACGGTTTCCCTCTAGCGGGATCAATTCCGC...   \n",
       "\n",
       "                                                                                       QUAL  \n",
       "QNAME                                                                                        \n",
       "HWI-1KL149:87:HA58EADXX:1:1101:1531:2163  CCCFFFFFGHHHHJJJJJJJJJJJJJJJGIJJJJJJHHHHHFFFEE...  \n",
       "HWI-1KL149:87:HA58EADXX:1:1101:1744:2169  CCCFFFFFHHHHHJJJJJJJJJJJJJJJJJJJIJJJJJJJJJJJJJ...  \n",
       "HWI-1KL149:87:HA58EADXX:1:1101:1606:2189  DDDDDDDDDDDDDDDDDDDDDDDDDDDDDDDDDDDDDDDDDDDDDD...  \n",
       "HWI-1KL149:87:HA58EADXX:1:1101:1752:2238  DDDEEDDDDDDDDDDDDDDDDDDDDDDDDDDDDDDDDDDDDDEDDD...  \n",
       "HWI-1KL149:87:HA58EADXX:1:1101:1752:2238  CCCFFFFFHHHHHJJIJJJJIIJJJJJJJJJJJJJHJJIJJJIIIJ...  "
      ]
     },
     "execution_count": 143,
     "metadata": {},
     "output_type": "execute_result"
    }
   ],
   "source": [
    "file = \"../data/sample_alignment.sam\"\n",
    "columns_names = ['QNAME', 'FLAG', 'RNAME', 'POS', 'MAPQ', 'CIGAR', 'RNEXT', 'PNEXT', 'TLEN', 'SEQ', 'QUAL']\n",
    "df = pd.read_table(file, sep=\"\\t\", names = columns_names, skiprows=[0,1], index_col=0)\n",
    "df.head()"
   ]
  },
  {
   "cell_type": "markdown",
   "metadata": {},
   "source": [
    "***Examples of column slicing***"
   ]
  },
  {
   "cell_type": "code",
   "execution_count": 42,
   "metadata": {
    "collapsed": false,
    "run_control": {
     "frozen": false,
     "read_only": false
    }
   },
   "outputs": [
    {
     "data": {
      "text/plain": [
       "QNAME\n",
       "HWI-1KL149:87:HA58EADXX:1:1101:1531:2163     163\n",
       "HWI-1KL149:87:HA58EADXX:1:1101:1744:2169     141\n",
       "HWI-1KL149:87:HA58EADXX:1:1101:1606:2189      83\n",
       "HWI-1KL149:87:HA58EADXX:1:1101:1752:2238      83\n",
       "HWI-1KL149:87:HA58EADXX:1:1101:1752:2238     163\n",
       "HWI-1KL149:87:HA58EADXX:1:1101:1813:2228    2115\n",
       "HWI-1KL149:87:HA58EADXX:1:1101:2031:2119      99\n",
       "HWI-1KL149:87:HA58EADXX:1:1101:2133:2244     163\n",
       "HWI-1KL149:87:HA58EADXX:1:1101:2228:2222     141\n",
       "HWI-1KL149:87:HA58EADXX:1:1101:2344:2177      83\n",
       "HWI-1KL149:87:HA58EADXX:1:1101:2645:2113     163\n",
       "HWI-1KL149:87:HA58EADXX:1:1101:2485:2160     163\n",
       "HWI-1KL149:87:HA58EADXX:1:1101:2647:2140      83\n",
       "HWI-1KL149:87:HA58EADXX:1:1101:2813:2174      99\n",
       "HWI-1KL149:87:HA58EADXX:1:1101:2953:2177     147\n",
       "HWI-1KL149:87:HA58EADXX:1:1101:2854:2200      99\n",
       "Name: FLAG, dtype: int64"
      ]
     },
     "execution_count": 42,
     "metadata": {},
     "output_type": "execute_result"
    }
   ],
   "source": [
    "df[\"FLAG\"]"
   ]
  },
  {
   "cell_type": "code",
   "execution_count": 43,
   "metadata": {
    "collapsed": false,
    "run_control": {
     "frozen": false,
     "read_only": false
    }
   },
   "outputs": [
    {
     "data": {
      "text/plain": [
       "QNAME\n",
       "HWI-1KL149:87:HA58EADXX:1:1101:1531:2163     163\n",
       "HWI-1KL149:87:HA58EADXX:1:1101:1744:2169     141\n",
       "HWI-1KL149:87:HA58EADXX:1:1101:1606:2189      83\n",
       "HWI-1KL149:87:HA58EADXX:1:1101:1752:2238      83\n",
       "HWI-1KL149:87:HA58EADXX:1:1101:1752:2238     163\n",
       "HWI-1KL149:87:HA58EADXX:1:1101:1813:2228    2115\n",
       "HWI-1KL149:87:HA58EADXX:1:1101:2031:2119      99\n",
       "HWI-1KL149:87:HA58EADXX:1:1101:2133:2244     163\n",
       "HWI-1KL149:87:HA58EADXX:1:1101:2228:2222     141\n",
       "HWI-1KL149:87:HA58EADXX:1:1101:2344:2177      83\n",
       "HWI-1KL149:87:HA58EADXX:1:1101:2645:2113     163\n",
       "HWI-1KL149:87:HA58EADXX:1:1101:2485:2160     163\n",
       "HWI-1KL149:87:HA58EADXX:1:1101:2647:2140      83\n",
       "HWI-1KL149:87:HA58EADXX:1:1101:2813:2174      99\n",
       "HWI-1KL149:87:HA58EADXX:1:1101:2953:2177     147\n",
       "HWI-1KL149:87:HA58EADXX:1:1101:2854:2200      99\n",
       "Name: FLAG, dtype: int64"
      ]
     },
     "execution_count": 43,
     "metadata": {},
     "output_type": "execute_result"
    }
   ],
   "source": [
    "df.FLAG"
   ]
  },
  {
   "cell_type": "code",
   "execution_count": 44,
   "metadata": {
    "collapsed": false,
    "run_control": {
     "frozen": false,
     "read_only": false
    }
   },
   "outputs": [
    {
     "data": {
      "text/html": [
       "<div>\n",
       "<table border=\"1\" class=\"dataframe\">\n",
       "  <thead>\n",
       "    <tr style=\"text-align: right;\">\n",
       "      <th></th>\n",
       "      <th>FLAG</th>\n",
       "      <th>POS</th>\n",
       "    </tr>\n",
       "    <tr>\n",
       "      <th>QNAME</th>\n",
       "      <th></th>\n",
       "      <th></th>\n",
       "    </tr>\n",
       "  </thead>\n",
       "  <tbody>\n",
       "    <tr>\n",
       "      <th>HWI-1KL149:87:HA58EADXX:1:1101:1531:2163</th>\n",
       "      <td>163</td>\n",
       "      <td>4862</td>\n",
       "    </tr>\n",
       "    <tr>\n",
       "      <th>HWI-1KL149:87:HA58EADXX:1:1101:1744:2169</th>\n",
       "      <td>141</td>\n",
       "      <td>0</td>\n",
       "    </tr>\n",
       "    <tr>\n",
       "      <th>HWI-1KL149:87:HA58EADXX:1:1101:1606:2189</th>\n",
       "      <td>83</td>\n",
       "      <td>4285</td>\n",
       "    </tr>\n",
       "    <tr>\n",
       "      <th>HWI-1KL149:87:HA58EADXX:1:1101:1752:2238</th>\n",
       "      <td>83</td>\n",
       "      <td>3032</td>\n",
       "    </tr>\n",
       "    <tr>\n",
       "      <th>HWI-1KL149:87:HA58EADXX:1:1101:1752:2238</th>\n",
       "      <td>163</td>\n",
       "      <td>2809</td>\n",
       "    </tr>\n",
       "    <tr>\n",
       "      <th>HWI-1KL149:87:HA58EADXX:1:1101:1813:2228</th>\n",
       "      <td>2115</td>\n",
       "      <td>5466</td>\n",
       "    </tr>\n",
       "    <tr>\n",
       "      <th>HWI-1KL149:87:HA58EADXX:1:1101:2031:2119</th>\n",
       "      <td>99</td>\n",
       "      <td>1392</td>\n",
       "    </tr>\n",
       "    <tr>\n",
       "      <th>HWI-1KL149:87:HA58EADXX:1:1101:2133:2244</th>\n",
       "      <td>163</td>\n",
       "      <td>4828</td>\n",
       "    </tr>\n",
       "    <tr>\n",
       "      <th>HWI-1KL149:87:HA58EADXX:1:1101:2228:2222</th>\n",
       "      <td>141</td>\n",
       "      <td>0</td>\n",
       "    </tr>\n",
       "    <tr>\n",
       "      <th>HWI-1KL149:87:HA58EADXX:1:1101:2344:2177</th>\n",
       "      <td>83</td>\n",
       "      <td>4321</td>\n",
       "    </tr>\n",
       "    <tr>\n",
       "      <th>HWI-1KL149:87:HA58EADXX:1:1101:2645:2113</th>\n",
       "      <td>163</td>\n",
       "      <td>5493</td>\n",
       "    </tr>\n",
       "    <tr>\n",
       "      <th>HWI-1KL149:87:HA58EADXX:1:1101:2485:2160</th>\n",
       "      <td>163</td>\n",
       "      <td>3756</td>\n",
       "    </tr>\n",
       "    <tr>\n",
       "      <th>HWI-1KL149:87:HA58EADXX:1:1101:2647:2140</th>\n",
       "      <td>83</td>\n",
       "      <td>4552</td>\n",
       "    </tr>\n",
       "    <tr>\n",
       "      <th>HWI-1KL149:87:HA58EADXX:1:1101:2813:2174</th>\n",
       "      <td>99</td>\n",
       "      <td>5279</td>\n",
       "    </tr>\n",
       "    <tr>\n",
       "      <th>HWI-1KL149:87:HA58EADXX:1:1101:2953:2177</th>\n",
       "      <td>147</td>\n",
       "      <td>3530</td>\n",
       "    </tr>\n",
       "    <tr>\n",
       "      <th>HWI-1KL149:87:HA58EADXX:1:1101:2854:2200</th>\n",
       "      <td>99</td>\n",
       "      <td>5128</td>\n",
       "    </tr>\n",
       "  </tbody>\n",
       "</table>\n",
       "</div>"
      ],
      "text/plain": [
       "                                          FLAG   POS\n",
       "QNAME                                               \n",
       "HWI-1KL149:87:HA58EADXX:1:1101:1531:2163   163  4862\n",
       "HWI-1KL149:87:HA58EADXX:1:1101:1744:2169   141     0\n",
       "HWI-1KL149:87:HA58EADXX:1:1101:1606:2189    83  4285\n",
       "HWI-1KL149:87:HA58EADXX:1:1101:1752:2238    83  3032\n",
       "HWI-1KL149:87:HA58EADXX:1:1101:1752:2238   163  2809\n",
       "HWI-1KL149:87:HA58EADXX:1:1101:1813:2228  2115  5466\n",
       "HWI-1KL149:87:HA58EADXX:1:1101:2031:2119    99  1392\n",
       "HWI-1KL149:87:HA58EADXX:1:1101:2133:2244   163  4828\n",
       "HWI-1KL149:87:HA58EADXX:1:1101:2228:2222   141     0\n",
       "HWI-1KL149:87:HA58EADXX:1:1101:2344:2177    83  4321\n",
       "HWI-1KL149:87:HA58EADXX:1:1101:2645:2113   163  5493\n",
       "HWI-1KL149:87:HA58EADXX:1:1101:2485:2160   163  3756\n",
       "HWI-1KL149:87:HA58EADXX:1:1101:2647:2140    83  4552\n",
       "HWI-1KL149:87:HA58EADXX:1:1101:2813:2174    99  5279\n",
       "HWI-1KL149:87:HA58EADXX:1:1101:2953:2177   147  3530\n",
       "HWI-1KL149:87:HA58EADXX:1:1101:2854:2200    99  5128"
      ]
     },
     "execution_count": 44,
     "metadata": {},
     "output_type": "execute_result"
    }
   ],
   "source": [
    "df[[\"FLAG\", \"POS\"]]"
   ]
  },
  {
   "cell_type": "markdown",
   "metadata": {},
   "source": [
    "***Examples of index slicing***"
   ]
  },
  {
   "cell_type": "code",
   "execution_count": 45,
   "metadata": {
    "collapsed": false,
    "run_control": {
     "frozen": false,
     "read_only": false
    }
   },
   "outputs": [
    {
     "data": {
      "text/plain": [
       "FLAG                                                   163\n",
       "RNAME                         SSV9K2-CMV-GFP-HygroTK-bGHpA\n",
       "POS                                                   4862\n",
       "MAPQ                                                    60\n",
       "CIGAR                                                 101M\n",
       "RNEXT                                                    =\n",
       "PNEXT                                                 4950\n",
       "TLEN                                                   189\n",
       "SEQ      CGCCCTCCTGTGCTACCCGGCCGCGCGGTACCTTATGGGCAGCATG...\n",
       "QUAL     CCCFFFFFGHHHHJJJJJJJJJJJJJJJGIJJJJJJHHHHHFFFEE...\n",
       "Name: HWI-1KL149:87:HA58EADXX:1:1101:1531:2163, dtype: object"
      ]
     },
     "execution_count": 45,
     "metadata": {},
     "output_type": "execute_result"
    }
   ],
   "source": [
    "df.loc[\"HWI-1KL149:87:HA58EADXX:1:1101:1531:2163\"]"
   ]
  },
  {
   "cell_type": "code",
   "execution_count": 46,
   "metadata": {
    "collapsed": false,
    "run_control": {
     "frozen": false,
     "read_only": false
    }
   },
   "outputs": [
    {
     "data": {
      "text/html": [
       "<div>\n",
       "<table border=\"1\" class=\"dataframe\">\n",
       "  <thead>\n",
       "    <tr style=\"text-align: right;\">\n",
       "      <th></th>\n",
       "      <th>FLAG</th>\n",
       "      <th>RNAME</th>\n",
       "      <th>POS</th>\n",
       "      <th>MAPQ</th>\n",
       "      <th>CIGAR</th>\n",
       "      <th>RNEXT</th>\n",
       "      <th>PNEXT</th>\n",
       "      <th>TLEN</th>\n",
       "      <th>SEQ</th>\n",
       "      <th>QUAL</th>\n",
       "    </tr>\n",
       "    <tr>\n",
       "      <th>QNAME</th>\n",
       "      <th></th>\n",
       "      <th></th>\n",
       "      <th></th>\n",
       "      <th></th>\n",
       "      <th></th>\n",
       "      <th></th>\n",
       "      <th></th>\n",
       "      <th></th>\n",
       "      <th></th>\n",
       "      <th></th>\n",
       "    </tr>\n",
       "  </thead>\n",
       "  <tbody>\n",
       "    <tr>\n",
       "      <th>HWI-1KL149:87:HA58EADXX:1:1101:1531:2163</th>\n",
       "      <td>163</td>\n",
       "      <td>SSV9K2-CMV-GFP-HygroTK-bGHpA</td>\n",
       "      <td>4862</td>\n",
       "      <td>60</td>\n",
       "      <td>101M</td>\n",
       "      <td>=</td>\n",
       "      <td>4950</td>\n",
       "      <td>189</td>\n",
       "      <td>CGCCCTCCTGTGCTACCCGGCCGCGCGGTACCTTATGGGCAGCATG...</td>\n",
       "      <td>CCCFFFFFGHHHHJJJJJJJJJJJJJJJGIJJJJJJHHHHHFFFEE...</td>\n",
       "    </tr>\n",
       "    <tr>\n",
       "      <th>HWI-1KL149:87:HA58EADXX:1:1101:1744:2169</th>\n",
       "      <td>141</td>\n",
       "      <td>*</td>\n",
       "      <td>0</td>\n",
       "      <td>0</td>\n",
       "      <td>*</td>\n",
       "      <td>*</td>\n",
       "      <td>0</td>\n",
       "      <td>0</td>\n",
       "      <td>TCGTAGATTTCTCTGGCGATTGAAGGGCTAAATTCTTCAACGCTAA...</td>\n",
       "      <td>CCCFFFFFHHHHHJJJJJJJJJJJJJJJJJJJIJJJJJJJJJJJJJ...</td>\n",
       "    </tr>\n",
       "  </tbody>\n",
       "</table>\n",
       "</div>"
      ],
      "text/plain": [
       "                                          FLAG                         RNAME  \\\n",
       "QNAME                                                                          \n",
       "HWI-1KL149:87:HA58EADXX:1:1101:1531:2163   163  SSV9K2-CMV-GFP-HygroTK-bGHpA   \n",
       "HWI-1KL149:87:HA58EADXX:1:1101:1744:2169   141                             *   \n",
       "\n",
       "                                           POS  MAPQ CIGAR RNEXT  PNEXT  TLEN  \\\n",
       "QNAME                                                                           \n",
       "HWI-1KL149:87:HA58EADXX:1:1101:1531:2163  4862    60  101M     =   4950   189   \n",
       "HWI-1KL149:87:HA58EADXX:1:1101:1744:2169     0     0     *     *      0     0   \n",
       "\n",
       "                                                                                        SEQ  \\\n",
       "QNAME                                                                                         \n",
       "HWI-1KL149:87:HA58EADXX:1:1101:1531:2163  CGCCCTCCTGTGCTACCCGGCCGCGCGGTACCTTATGGGCAGCATG...   \n",
       "HWI-1KL149:87:HA58EADXX:1:1101:1744:2169  TCGTAGATTTCTCTGGCGATTGAAGGGCTAAATTCTTCAACGCTAA...   \n",
       "\n",
       "                                                                                       QUAL  \n",
       "QNAME                                                                                        \n",
       "HWI-1KL149:87:HA58EADXX:1:1101:1531:2163  CCCFFFFFGHHHHJJJJJJJJJJJJJJJGIJJJJJJHHHHHFFFEE...  \n",
       "HWI-1KL149:87:HA58EADXX:1:1101:1744:2169  CCCFFFFFHHHHHJJJJJJJJJJJJJJJJJJJIJJJJJJJJJJJJJ...  "
      ]
     },
     "execution_count": 46,
     "metadata": {},
     "output_type": "execute_result"
    }
   ],
   "source": [
    "df.loc[\"HWI-1KL149:87:HA58EADXX:1:1101:1531:2163\":\"HWI-1KL149:87:HA58EADXX:1:1101:1744:2169\"]"
   ]
  },
  {
   "cell_type": "code",
   "execution_count": 47,
   "metadata": {
    "collapsed": false,
    "run_control": {
     "frozen": false,
     "read_only": false
    }
   },
   "outputs": [
    {
     "data": {
      "text/plain": [
       "FLAG                                                   163\n",
       "RNAME                         SSV9K2-CMV-GFP-HygroTK-bGHpA\n",
       "POS                                                   4862\n",
       "MAPQ                                                    60\n",
       "CIGAR                                                 101M\n",
       "RNEXT                                                    =\n",
       "PNEXT                                                 4950\n",
       "TLEN                                                   189\n",
       "SEQ      CGCCCTCCTGTGCTACCCGGCCGCGCGGTACCTTATGGGCAGCATG...\n",
       "QUAL     CCCFFFFFGHHHHJJJJJJJJJJJJJJJGIJJJJJJHHHHHFFFEE...\n",
       "Name: HWI-1KL149:87:HA58EADXX:1:1101:1531:2163, dtype: object"
      ]
     },
     "execution_count": 47,
     "metadata": {},
     "output_type": "execute_result"
    }
   ],
   "source": [
    "df.iloc[0]"
   ]
  },
  {
   "cell_type": "code",
   "execution_count": 48,
   "metadata": {
    "collapsed": false,
    "run_control": {
     "frozen": false,
     "read_only": false
    }
   },
   "outputs": [
    {
     "data": {
      "text/html": [
       "<div>\n",
       "<table border=\"1\" class=\"dataframe\">\n",
       "  <thead>\n",
       "    <tr style=\"text-align: right;\">\n",
       "      <th></th>\n",
       "      <th>FLAG</th>\n",
       "      <th>RNAME</th>\n",
       "      <th>POS</th>\n",
       "      <th>MAPQ</th>\n",
       "      <th>CIGAR</th>\n",
       "      <th>RNEXT</th>\n",
       "      <th>PNEXT</th>\n",
       "      <th>TLEN</th>\n",
       "      <th>SEQ</th>\n",
       "      <th>QUAL</th>\n",
       "    </tr>\n",
       "    <tr>\n",
       "      <th>QNAME</th>\n",
       "      <th></th>\n",
       "      <th></th>\n",
       "      <th></th>\n",
       "      <th></th>\n",
       "      <th></th>\n",
       "      <th></th>\n",
       "      <th></th>\n",
       "      <th></th>\n",
       "      <th></th>\n",
       "      <th></th>\n",
       "    </tr>\n",
       "  </thead>\n",
       "  <tbody>\n",
       "    <tr>\n",
       "      <th>HWI-1KL149:87:HA58EADXX:1:1101:2645:2113</th>\n",
       "      <td>163</td>\n",
       "      <td>SSV9K2-CMV-GFP-HygroTK-bGHpA</td>\n",
       "      <td>5493</td>\n",
       "      <td>60</td>\n",
       "      <td>101M</td>\n",
       "      <td>=</td>\n",
       "      <td>5559</td>\n",
       "      <td>167</td>\n",
       "      <td>AAATCGATGGATCCACTAGTTCTAGAGGGCCCTATTCTATAGTGTC...</td>\n",
       "      <td>CCCFFFFFHHHHHJJJJJJIIJJJJJJJJJJJJIJJJJIJJJHGII...</td>\n",
       "    </tr>\n",
       "    <tr>\n",
       "      <th>HWI-1KL149:87:HA58EADXX:1:1101:2485:2160</th>\n",
       "      <td>163</td>\n",
       "      <td>SSV9K2-CMV-GFP-HygroTK-bGHpA</td>\n",
       "      <td>3756</td>\n",
       "      <td>60</td>\n",
       "      <td>101M</td>\n",
       "      <td>=</td>\n",
       "      <td>3829</td>\n",
       "      <td>174</td>\n",
       "      <td>CCGGTCGCGGAGGCCATGGATGCGATCGCTGCGGCCGATCTTAGCC...</td>\n",
       "      <td>CCCFFFFFHHHHHJJJJJJJJJJJJJJJJJJJJHHFDDDDDDEDDD...</td>\n",
       "    </tr>\n",
       "  </tbody>\n",
       "</table>\n",
       "</div>"
      ],
      "text/plain": [
       "                                          FLAG                         RNAME  \\\n",
       "QNAME                                                                          \n",
       "HWI-1KL149:87:HA58EADXX:1:1101:2645:2113   163  SSV9K2-CMV-GFP-HygroTK-bGHpA   \n",
       "HWI-1KL149:87:HA58EADXX:1:1101:2485:2160   163  SSV9K2-CMV-GFP-HygroTK-bGHpA   \n",
       "\n",
       "                                           POS  MAPQ CIGAR RNEXT  PNEXT  TLEN  \\\n",
       "QNAME                                                                           \n",
       "HWI-1KL149:87:HA58EADXX:1:1101:2645:2113  5493    60  101M     =   5559   167   \n",
       "HWI-1KL149:87:HA58EADXX:1:1101:2485:2160  3756    60  101M     =   3829   174   \n",
       "\n",
       "                                                                                        SEQ  \\\n",
       "QNAME                                                                                         \n",
       "HWI-1KL149:87:HA58EADXX:1:1101:2645:2113  AAATCGATGGATCCACTAGTTCTAGAGGGCCCTATTCTATAGTGTC...   \n",
       "HWI-1KL149:87:HA58EADXX:1:1101:2485:2160  CCGGTCGCGGAGGCCATGGATGCGATCGCTGCGGCCGATCTTAGCC...   \n",
       "\n",
       "                                                                                       QUAL  \n",
       "QNAME                                                                                        \n",
       "HWI-1KL149:87:HA58EADXX:1:1101:2645:2113  CCCFFFFFHHHHHJJJJJJIIJJJJJJJJJJJJIJJJJIJJJHGII...  \n",
       "HWI-1KL149:87:HA58EADXX:1:1101:2485:2160  CCCFFFFFHHHHHJJJJJJJJJJJJJJJJJJJJHHFDDDDDDEDDD...  "
      ]
     },
     "execution_count": 48,
     "metadata": {},
     "output_type": "execute_result"
    }
   ],
   "source": [
    "df.iloc[10:12]"
   ]
  },
  {
   "cell_type": "markdown",
   "metadata": {},
   "source": [
    "***Examples of combination of column and index slicing to select a specific item or a range of items***"
   ]
  },
  {
   "cell_type": "code",
   "execution_count": 49,
   "metadata": {
    "collapsed": false,
    "run_control": {
     "frozen": false,
     "read_only": false
    }
   },
   "outputs": [
    {
     "data": {
      "text/plain": [
       "QNAME\n",
       "HWI-1KL149:87:HA58EADXX:1:1101:1531:2163    163\n",
       "HWI-1KL149:87:HA58EADXX:1:1101:1744:2169    141\n",
       "Name: FLAG, dtype: int64"
      ]
     },
     "execution_count": 49,
     "metadata": {},
     "output_type": "execute_result"
    }
   ],
   "source": [
    "df.loc[\"HWI-1KL149:87:HA58EADXX:1:1101:1531:2163\":\"HWI-1KL149:87:HA58EADXX:1:1101:1744:2169\", \"FLAG\"]"
   ]
  },
  {
   "cell_type": "code",
   "execution_count": 50,
   "metadata": {
    "collapsed": false,
    "run_control": {
     "frozen": false,
     "read_only": false
    },
    "scrolled": true
   },
   "outputs": [
    {
     "data": {
      "text/plain": [
       "163"
      ]
     },
     "execution_count": 50,
     "metadata": {},
     "output_type": "execute_result"
    }
   ],
   "source": [
    "df.loc[\"HWI-1KL149:87:HA58EADXX:1:1101:1531:2163\"][\"FLAG\"]"
   ]
  },
  {
   "cell_type": "code",
   "execution_count": 51,
   "metadata": {
    "collapsed": false,
    "run_control": {
     "frozen": false,
     "read_only": false
    }
   },
   "outputs": [
    {
     "data": {
      "text/plain": [
       "163"
      ]
     },
     "execution_count": 51,
     "metadata": {},
     "output_type": "execute_result"
    }
   ],
   "source": [
    "df.iloc[0,0]"
   ]
  },
  {
   "cell_type": "code",
   "execution_count": 52,
   "metadata": {
    "collapsed": false,
    "run_control": {
     "frozen": false,
     "read_only": false
    }
   },
   "outputs": [
    {
     "data": {
      "text/plain": [
       "163"
      ]
     },
     "execution_count": 52,
     "metadata": {},
     "output_type": "execute_result"
    }
   ],
   "source": [
    "df.iloc[0][0]"
   ]
  },
  {
   "cell_type": "markdown",
   "metadata": {},
   "source": [
    "### Select specific elements based on their values = Boolean Indexing"
   ]
  },
  {
   "cell_type": "markdown",
   "metadata": {},
   "source": [
    "***With a single condition***"
   ]
  },
  {
   "cell_type": "code",
   "execution_count": 53,
   "metadata": {
    "collapsed": false,
    "run_control": {
     "frozen": false,
     "read_only": false
    }
   },
   "outputs": [
    {
     "data": {
      "text/html": [
       "<div>\n",
       "<table border=\"1\" class=\"dataframe\">\n",
       "  <thead>\n",
       "    <tr style=\"text-align: right;\">\n",
       "      <th></th>\n",
       "      <th>FLAG</th>\n",
       "      <th>RNAME</th>\n",
       "      <th>POS</th>\n",
       "      <th>MAPQ</th>\n",
       "      <th>CIGAR</th>\n",
       "      <th>RNEXT</th>\n",
       "      <th>PNEXT</th>\n",
       "      <th>TLEN</th>\n",
       "      <th>SEQ</th>\n",
       "      <th>QUAL</th>\n",
       "    </tr>\n",
       "    <tr>\n",
       "      <th>QNAME</th>\n",
       "      <th></th>\n",
       "      <th></th>\n",
       "      <th></th>\n",
       "      <th></th>\n",
       "      <th></th>\n",
       "      <th></th>\n",
       "      <th></th>\n",
       "      <th></th>\n",
       "      <th></th>\n",
       "      <th></th>\n",
       "    </tr>\n",
       "  </thead>\n",
       "  <tbody>\n",
       "    <tr>\n",
       "      <th>HWI-1KL149:87:HA58EADXX:1:1101:1531:2163</th>\n",
       "      <td>163</td>\n",
       "      <td>SSV9K2-CMV-GFP-HygroTK-bGHpA</td>\n",
       "      <td>4862</td>\n",
       "      <td>60</td>\n",
       "      <td>101M</td>\n",
       "      <td>=</td>\n",
       "      <td>4950</td>\n",
       "      <td>189</td>\n",
       "      <td>CGCCCTCCTGTGCTACCCGGCCGCGCGGTACCTTATGGGCAGCATG...</td>\n",
       "      <td>CCCFFFFFGHHHHJJJJJJJJJJJJJJJGIJJJJJJHHHHHFFFEE...</td>\n",
       "    </tr>\n",
       "    <tr>\n",
       "      <th>HWI-1KL149:87:HA58EADXX:1:1101:1752:2238</th>\n",
       "      <td>163</td>\n",
       "      <td>SSV9K2-CMV-GFP-HygroTK-bGHpA</td>\n",
       "      <td>2809</td>\n",
       "      <td>60</td>\n",
       "      <td>101M</td>\n",
       "      <td>=</td>\n",
       "      <td>3032</td>\n",
       "      <td>324</td>\n",
       "      <td>CTATAGGGAGACCACAACGGTTTCCCTCTAGCGGGATCAATTCCGC...</td>\n",
       "      <td>CCCFFFFFHHHHHJJIJJJJIIJJJJJJJJJJJJJHJJIJJJIIIJ...</td>\n",
       "    </tr>\n",
       "    <tr>\n",
       "      <th>HWI-1KL149:87:HA58EADXX:1:1101:2133:2244</th>\n",
       "      <td>163</td>\n",
       "      <td>SSV9K2-CMV-GFP-HygroTK-bGHpA</td>\n",
       "      <td>4828</td>\n",
       "      <td>60</td>\n",
       "      <td>101M</td>\n",
       "      <td>=</td>\n",
       "      <td>4925</td>\n",
       "      <td>198</td>\n",
       "      <td>CCCTCACCCTAATCTTCGACCGCCATCCCATCGCCGCCCTCCTGTG...</td>\n",
       "      <td>CCCFFFFFHHHHHJJJJJJJJJJJJJJJJJJJJJJJJJJJHHHHHF...</td>\n",
       "    </tr>\n",
       "    <tr>\n",
       "      <th>HWI-1KL149:87:HA58EADXX:1:1101:2645:2113</th>\n",
       "      <td>163</td>\n",
       "      <td>SSV9K2-CMV-GFP-HygroTK-bGHpA</td>\n",
       "      <td>5493</td>\n",
       "      <td>60</td>\n",
       "      <td>101M</td>\n",
       "      <td>=</td>\n",
       "      <td>5559</td>\n",
       "      <td>167</td>\n",
       "      <td>AAATCGATGGATCCACTAGTTCTAGAGGGCCCTATTCTATAGTGTC...</td>\n",
       "      <td>CCCFFFFFHHHHHJJJJJJIIJJJJJJJJJJJJIJJJJIJJJHGII...</td>\n",
       "    </tr>\n",
       "    <tr>\n",
       "      <th>HWI-1KL149:87:HA58EADXX:1:1101:2485:2160</th>\n",
       "      <td>163</td>\n",
       "      <td>SSV9K2-CMV-GFP-HygroTK-bGHpA</td>\n",
       "      <td>3756</td>\n",
       "      <td>60</td>\n",
       "      <td>101M</td>\n",
       "      <td>=</td>\n",
       "      <td>3829</td>\n",
       "      <td>174</td>\n",
       "      <td>CCGGTCGCGGAGGCCATGGATGCGATCGCTGCGGCCGATCTTAGCC...</td>\n",
       "      <td>CCCFFFFFHHHHHJJJJJJJJJJJJJJJJJJJJHHFDDDDDDEDDD...</td>\n",
       "    </tr>\n",
       "  </tbody>\n",
       "</table>\n",
       "</div>"
      ],
      "text/plain": [
       "                                          FLAG                         RNAME  \\\n",
       "QNAME                                                                          \n",
       "HWI-1KL149:87:HA58EADXX:1:1101:1531:2163   163  SSV9K2-CMV-GFP-HygroTK-bGHpA   \n",
       "HWI-1KL149:87:HA58EADXX:1:1101:1752:2238   163  SSV9K2-CMV-GFP-HygroTK-bGHpA   \n",
       "HWI-1KL149:87:HA58EADXX:1:1101:2133:2244   163  SSV9K2-CMV-GFP-HygroTK-bGHpA   \n",
       "HWI-1KL149:87:HA58EADXX:1:1101:2645:2113   163  SSV9K2-CMV-GFP-HygroTK-bGHpA   \n",
       "HWI-1KL149:87:HA58EADXX:1:1101:2485:2160   163  SSV9K2-CMV-GFP-HygroTK-bGHpA   \n",
       "\n",
       "                                           POS  MAPQ CIGAR RNEXT  PNEXT  TLEN  \\\n",
       "QNAME                                                                           \n",
       "HWI-1KL149:87:HA58EADXX:1:1101:1531:2163  4862    60  101M     =   4950   189   \n",
       "HWI-1KL149:87:HA58EADXX:1:1101:1752:2238  2809    60  101M     =   3032   324   \n",
       "HWI-1KL149:87:HA58EADXX:1:1101:2133:2244  4828    60  101M     =   4925   198   \n",
       "HWI-1KL149:87:HA58EADXX:1:1101:2645:2113  5493    60  101M     =   5559   167   \n",
       "HWI-1KL149:87:HA58EADXX:1:1101:2485:2160  3756    60  101M     =   3829   174   \n",
       "\n",
       "                                                                                        SEQ  \\\n",
       "QNAME                                                                                         \n",
       "HWI-1KL149:87:HA58EADXX:1:1101:1531:2163  CGCCCTCCTGTGCTACCCGGCCGCGCGGTACCTTATGGGCAGCATG...   \n",
       "HWI-1KL149:87:HA58EADXX:1:1101:1752:2238  CTATAGGGAGACCACAACGGTTTCCCTCTAGCGGGATCAATTCCGC...   \n",
       "HWI-1KL149:87:HA58EADXX:1:1101:2133:2244  CCCTCACCCTAATCTTCGACCGCCATCCCATCGCCGCCCTCCTGTG...   \n",
       "HWI-1KL149:87:HA58EADXX:1:1101:2645:2113  AAATCGATGGATCCACTAGTTCTAGAGGGCCCTATTCTATAGTGTC...   \n",
       "HWI-1KL149:87:HA58EADXX:1:1101:2485:2160  CCGGTCGCGGAGGCCATGGATGCGATCGCTGCGGCCGATCTTAGCC...   \n",
       "\n",
       "                                                                                       QUAL  \n",
       "QNAME                                                                                        \n",
       "HWI-1KL149:87:HA58EADXX:1:1101:1531:2163  CCCFFFFFGHHHHJJJJJJJJJJJJJJJGIJJJJJJHHHHHFFFEE...  \n",
       "HWI-1KL149:87:HA58EADXX:1:1101:1752:2238  CCCFFFFFHHHHHJJIJJJJIIJJJJJJJJJJJJJHJJIJJJIIIJ...  \n",
       "HWI-1KL149:87:HA58EADXX:1:1101:2133:2244  CCCFFFFFHHHHHJJJJJJJJJJJJJJJJJJJJJJJJJJJHHHHHF...  \n",
       "HWI-1KL149:87:HA58EADXX:1:1101:2645:2113  CCCFFFFFHHHHHJJJJJJIIJJJJJJJJJJJJIJJJJIJJJHGII...  \n",
       "HWI-1KL149:87:HA58EADXX:1:1101:2485:2160  CCCFFFFFHHHHHJJJJJJJJJJJJJJJJJJJJHHFDDDDDDEDDD...  "
      ]
     },
     "execution_count": 53,
     "metadata": {},
     "output_type": "execute_result"
    }
   ],
   "source": [
    "df[df.FLAG == 163]"
   ]
  },
  {
   "cell_type": "code",
   "execution_count": 54,
   "metadata": {
    "collapsed": false,
    "run_control": {
     "frozen": false,
     "read_only": false
    }
   },
   "outputs": [
    {
     "data": {
      "text/html": [
       "<div>\n",
       "<table border=\"1\" class=\"dataframe\">\n",
       "  <thead>\n",
       "    <tr style=\"text-align: right;\">\n",
       "      <th></th>\n",
       "      <th>FLAG</th>\n",
       "      <th>RNAME</th>\n",
       "      <th>POS</th>\n",
       "      <th>MAPQ</th>\n",
       "      <th>CIGAR</th>\n",
       "      <th>RNEXT</th>\n",
       "      <th>PNEXT</th>\n",
       "      <th>TLEN</th>\n",
       "      <th>SEQ</th>\n",
       "      <th>QUAL</th>\n",
       "    </tr>\n",
       "    <tr>\n",
       "      <th>QNAME</th>\n",
       "      <th></th>\n",
       "      <th></th>\n",
       "      <th></th>\n",
       "      <th></th>\n",
       "      <th></th>\n",
       "      <th></th>\n",
       "      <th></th>\n",
       "      <th></th>\n",
       "      <th></th>\n",
       "      <th></th>\n",
       "    </tr>\n",
       "  </thead>\n",
       "  <tbody>\n",
       "    <tr>\n",
       "      <th>HWI-1KL149:87:HA58EADXX:1:1101:2031:2119</th>\n",
       "      <td>99</td>\n",
       "      <td>SSV9K2-CMV-GFP-HygroTK-bGHpA</td>\n",
       "      <td>1392</td>\n",
       "      <td>60</td>\n",
       "      <td>101M</td>\n",
       "      <td>=</td>\n",
       "      <td>1503</td>\n",
       "      <td>212</td>\n",
       "      <td>NCATTGATTATTGACTAGTTATTAATAGTAATCAATTACGGGGTCA...</td>\n",
       "      <td>#1=DDFFFHHHHHJJJJJJJJJJJJIJJIJJJJJJJJJJJJJJGHI...</td>\n",
       "    </tr>\n",
       "    <tr>\n",
       "      <th>HWI-1KL149:87:HA58EADXX:1:1101:2813:2174</th>\n",
       "      <td>99</td>\n",
       "      <td>SSV9K2-CMV-GFP-HygroTK-bGHpA</td>\n",
       "      <td>5279</td>\n",
       "      <td>60</td>\n",
       "      <td>101M</td>\n",
       "      <td>=</td>\n",
       "      <td>5457</td>\n",
       "      <td>279</td>\n",
       "      <td>CGTGTTTGCCTGGGCCTTGGACGTCTTGGCCAAACGCCTCCGTTCC...</td>\n",
       "      <td>CCCFFFFFHHHHGIJJJJJJJJJJJJJJJJJJJJJJJJJJJJJJJJ...</td>\n",
       "    </tr>\n",
       "    <tr>\n",
       "      <th>HWI-1KL149:87:HA58EADXX:1:1101:2953:2177</th>\n",
       "      <td>147</td>\n",
       "      <td>SSV9K2-CMV-GFP-HygroTK-bGHpA</td>\n",
       "      <td>3530</td>\n",
       "      <td>60</td>\n",
       "      <td>101M</td>\n",
       "      <td>=</td>\n",
       "      <td>3440</td>\n",
       "      <td>-191</td>\n",
       "      <td>CTTCGATGTAGGAGGGCGTGGATATGTCCTGCGGGTAAATAGCTGC...</td>\n",
       "      <td>DDDDDDDDDDDDDDDDDDDEDEDDCDDDDDDDDDEEEDDDDDDDDD...</td>\n",
       "    </tr>\n",
       "    <tr>\n",
       "      <th>HWI-1KL149:87:HA58EADXX:1:1101:2854:2200</th>\n",
       "      <td>99</td>\n",
       "      <td>SSV9K2-CMV-GFP-HygroTK-bGHpA</td>\n",
       "      <td>5128</td>\n",
       "      <td>60</td>\n",
       "      <td>101M</td>\n",
       "      <td>=</td>\n",
       "      <td>5206</td>\n",
       "      <td>179</td>\n",
       "      <td>GGGAGGACTGGGGACAGCTTTCGGGGACGGCCGTGCCGCCCCAGGG...</td>\n",
       "      <td>CCCFFFFFHHHHHIJIJJJJJJJJJJJJJJJJJJJHHHFDDDDDDD...</td>\n",
       "    </tr>\n",
       "  </tbody>\n",
       "</table>\n",
       "</div>"
      ],
      "text/plain": [
       "                                          FLAG                         RNAME  \\\n",
       "QNAME                                                                          \n",
       "HWI-1KL149:87:HA58EADXX:1:1101:2031:2119    99  SSV9K2-CMV-GFP-HygroTK-bGHpA   \n",
       "HWI-1KL149:87:HA58EADXX:1:1101:2813:2174    99  SSV9K2-CMV-GFP-HygroTK-bGHpA   \n",
       "HWI-1KL149:87:HA58EADXX:1:1101:2953:2177   147  SSV9K2-CMV-GFP-HygroTK-bGHpA   \n",
       "HWI-1KL149:87:HA58EADXX:1:1101:2854:2200    99  SSV9K2-CMV-GFP-HygroTK-bGHpA   \n",
       "\n",
       "                                           POS  MAPQ CIGAR RNEXT  PNEXT  TLEN  \\\n",
       "QNAME                                                                           \n",
       "HWI-1KL149:87:HA58EADXX:1:1101:2031:2119  1392    60  101M     =   1503   212   \n",
       "HWI-1KL149:87:HA58EADXX:1:1101:2813:2174  5279    60  101M     =   5457   279   \n",
       "HWI-1KL149:87:HA58EADXX:1:1101:2953:2177  3530    60  101M     =   3440  -191   \n",
       "HWI-1KL149:87:HA58EADXX:1:1101:2854:2200  5128    60  101M     =   5206   179   \n",
       "\n",
       "                                                                                        SEQ  \\\n",
       "QNAME                                                                                         \n",
       "HWI-1KL149:87:HA58EADXX:1:1101:2031:2119  NCATTGATTATTGACTAGTTATTAATAGTAATCAATTACGGGGTCA...   \n",
       "HWI-1KL149:87:HA58EADXX:1:1101:2813:2174  CGTGTTTGCCTGGGCCTTGGACGTCTTGGCCAAACGCCTCCGTTCC...   \n",
       "HWI-1KL149:87:HA58EADXX:1:1101:2953:2177  CTTCGATGTAGGAGGGCGTGGATATGTCCTGCGGGTAAATAGCTGC...   \n",
       "HWI-1KL149:87:HA58EADXX:1:1101:2854:2200  GGGAGGACTGGGGACAGCTTTCGGGGACGGCCGTGCCGCCCCAGGG...   \n",
       "\n",
       "                                                                                       QUAL  \n",
       "QNAME                                                                                        \n",
       "HWI-1KL149:87:HA58EADXX:1:1101:2031:2119  #1=DDFFFHHHHHJJJJJJJJJJJJIJJIJJJJJJJJJJJJJJGHI...  \n",
       "HWI-1KL149:87:HA58EADXX:1:1101:2813:2174  CCCFFFFFHHHHGIJJJJJJJJJJJJJJJJJJJJJJJJJJJJJJJJ...  \n",
       "HWI-1KL149:87:HA58EADXX:1:1101:2953:2177  DDDDDDDDDDDDDDDDDDDEDEDDCDDDDDDDDDEEEDDDDDDDDD...  \n",
       "HWI-1KL149:87:HA58EADXX:1:1101:2854:2200  CCCFFFFFHHHHHIJIJJJJJJJJJJJJJJJJJJJHHHFDDDDDDD...  "
      ]
     },
     "execution_count": 54,
     "metadata": {},
     "output_type": "execute_result"
    }
   ],
   "source": [
    "df[df.FLAG.isin([99,147])]"
   ]
  },
  {
   "cell_type": "code",
   "execution_count": 55,
   "metadata": {
    "collapsed": false,
    "run_control": {
     "frozen": false,
     "read_only": false
    }
   },
   "outputs": [
    {
     "data": {
      "text/html": [
       "<div>\n",
       "<table border=\"1\" class=\"dataframe\">\n",
       "  <thead>\n",
       "    <tr style=\"text-align: right;\">\n",
       "      <th></th>\n",
       "      <th>FLAG</th>\n",
       "      <th>RNAME</th>\n",
       "      <th>POS</th>\n",
       "      <th>MAPQ</th>\n",
       "      <th>CIGAR</th>\n",
       "      <th>RNEXT</th>\n",
       "      <th>PNEXT</th>\n",
       "      <th>TLEN</th>\n",
       "      <th>SEQ</th>\n",
       "      <th>QUAL</th>\n",
       "    </tr>\n",
       "    <tr>\n",
       "      <th>QNAME</th>\n",
       "      <th></th>\n",
       "      <th></th>\n",
       "      <th></th>\n",
       "      <th></th>\n",
       "      <th></th>\n",
       "      <th></th>\n",
       "      <th></th>\n",
       "      <th></th>\n",
       "      <th></th>\n",
       "      <th></th>\n",
       "    </tr>\n",
       "  </thead>\n",
       "  <tbody>\n",
       "    <tr>\n",
       "      <th>HWI-1KL149:87:HA58EADXX:1:1101:1744:2169</th>\n",
       "      <td>141</td>\n",
       "      <td>*</td>\n",
       "      <td>0</td>\n",
       "      <td>0</td>\n",
       "      <td>*</td>\n",
       "      <td>*</td>\n",
       "      <td>0</td>\n",
       "      <td>0</td>\n",
       "      <td>TCGTAGATTTCTCTGGCGATTGAAGGGCTAAATTCTTCAACGCTAA...</td>\n",
       "      <td>CCCFFFFFHHHHHJJJJJJJJJJJJJJJJJJJIJJJJJJJJJJJJJ...</td>\n",
       "    </tr>\n",
       "    <tr>\n",
       "      <th>HWI-1KL149:87:HA58EADXX:1:1101:2228:2222</th>\n",
       "      <td>141</td>\n",
       "      <td>*</td>\n",
       "      <td>0</td>\n",
       "      <td>0</td>\n",
       "      <td>*</td>\n",
       "      <td>*</td>\n",
       "      <td>0</td>\n",
       "      <td>0</td>\n",
       "      <td>ACAGTTTGATGAGTATAGAAATGGATCCACTCGTTATTCTCGGACG...</td>\n",
       "      <td>CCCFFFFFHHHHHHIIJJJJJJJJJJJJJJJJJJJJJJJJJJJJJJ...</td>\n",
       "    </tr>\n",
       "  </tbody>\n",
       "</table>\n",
       "</div>"
      ],
      "text/plain": [
       "                                          FLAG RNAME  POS  MAPQ CIGAR RNEXT  \\\n",
       "QNAME                                                                         \n",
       "HWI-1KL149:87:HA58EADXX:1:1101:1744:2169   141     *    0     0     *     *   \n",
       "HWI-1KL149:87:HA58EADXX:1:1101:2228:2222   141     *    0     0     *     *   \n",
       "\n",
       "                                          PNEXT  TLEN  \\\n",
       "QNAME                                                   \n",
       "HWI-1KL149:87:HA58EADXX:1:1101:1744:2169      0     0   \n",
       "HWI-1KL149:87:HA58EADXX:1:1101:2228:2222      0     0   \n",
       "\n",
       "                                                                                        SEQ  \\\n",
       "QNAME                                                                                         \n",
       "HWI-1KL149:87:HA58EADXX:1:1101:1744:2169  TCGTAGATTTCTCTGGCGATTGAAGGGCTAAATTCTTCAACGCTAA...   \n",
       "HWI-1KL149:87:HA58EADXX:1:1101:2228:2222  ACAGTTTGATGAGTATAGAAATGGATCCACTCGTTATTCTCGGACG...   \n",
       "\n",
       "                                                                                       QUAL  \n",
       "QNAME                                                                                        \n",
       "HWI-1KL149:87:HA58EADXX:1:1101:1744:2169  CCCFFFFFHHHHHJJJJJJJJJJJJJJJJJJJIJJJJJJJJJJJJJ...  \n",
       "HWI-1KL149:87:HA58EADXX:1:1101:2228:2222  CCCFFFFFHHHHHHIIJJJJJJJJJJJJJJJJJJJJJJJJJJJJJJ...  "
      ]
     },
     "execution_count": 55,
     "metadata": {},
     "output_type": "execute_result"
    }
   ],
   "source": [
    "df.query('FLAG == 141')"
   ]
  },
  {
   "cell_type": "markdown",
   "metadata": {},
   "source": [
    "***With a multiple conditions***"
   ]
  },
  {
   "cell_type": "code",
   "execution_count": 56,
   "metadata": {
    "collapsed": false,
    "run_control": {
     "frozen": false,
     "read_only": false
    }
   },
   "outputs": [
    {
     "data": {
      "text/html": [
       "<div>\n",
       "<table border=\"1\" class=\"dataframe\">\n",
       "  <thead>\n",
       "    <tr style=\"text-align: right;\">\n",
       "      <th></th>\n",
       "      <th>FLAG</th>\n",
       "      <th>RNAME</th>\n",
       "      <th>POS</th>\n",
       "      <th>MAPQ</th>\n",
       "      <th>CIGAR</th>\n",
       "      <th>RNEXT</th>\n",
       "      <th>PNEXT</th>\n",
       "      <th>TLEN</th>\n",
       "      <th>SEQ</th>\n",
       "      <th>QUAL</th>\n",
       "    </tr>\n",
       "    <tr>\n",
       "      <th>QNAME</th>\n",
       "      <th></th>\n",
       "      <th></th>\n",
       "      <th></th>\n",
       "      <th></th>\n",
       "      <th></th>\n",
       "      <th></th>\n",
       "      <th></th>\n",
       "      <th></th>\n",
       "      <th></th>\n",
       "      <th></th>\n",
       "    </tr>\n",
       "  </thead>\n",
       "  <tbody>\n",
       "    <tr>\n",
       "      <th>HWI-1KL149:87:HA58EADXX:1:1101:1531:2163</th>\n",
       "      <td>163</td>\n",
       "      <td>SSV9K2-CMV-GFP-HygroTK-bGHpA</td>\n",
       "      <td>4862</td>\n",
       "      <td>60</td>\n",
       "      <td>101M</td>\n",
       "      <td>=</td>\n",
       "      <td>4950</td>\n",
       "      <td>189</td>\n",
       "      <td>CGCCCTCCTGTGCTACCCGGCCGCGCGGTACCTTATGGGCAGCATG...</td>\n",
       "      <td>CCCFFFFFGHHHHJJJJJJJJJJJJJJJGIJJJJJJHHHHHFFFEE...</td>\n",
       "    </tr>\n",
       "    <tr>\n",
       "      <th>HWI-1KL149:87:HA58EADXX:1:1101:1752:2238</th>\n",
       "      <td>163</td>\n",
       "      <td>SSV9K2-CMV-GFP-HygroTK-bGHpA</td>\n",
       "      <td>2809</td>\n",
       "      <td>60</td>\n",
       "      <td>101M</td>\n",
       "      <td>=</td>\n",
       "      <td>3032</td>\n",
       "      <td>324</td>\n",
       "      <td>CTATAGGGAGACCACAACGGTTTCCCTCTAGCGGGATCAATTCCGC...</td>\n",
       "      <td>CCCFFFFFHHHHHJJIJJJJIIJJJJJJJJJJJJJHJJIJJJIIIJ...</td>\n",
       "    </tr>\n",
       "    <tr>\n",
       "      <th>HWI-1KL149:87:HA58EADXX:1:1101:2133:2244</th>\n",
       "      <td>163</td>\n",
       "      <td>SSV9K2-CMV-GFP-HygroTK-bGHpA</td>\n",
       "      <td>4828</td>\n",
       "      <td>60</td>\n",
       "      <td>101M</td>\n",
       "      <td>=</td>\n",
       "      <td>4925</td>\n",
       "      <td>198</td>\n",
       "      <td>CCCTCACCCTAATCTTCGACCGCCATCCCATCGCCGCCCTCCTGTG...</td>\n",
       "      <td>CCCFFFFFHHHHHJJJJJJJJJJJJJJJJJJJJJJJJJJJHHHHHF...</td>\n",
       "    </tr>\n",
       "  </tbody>\n",
       "</table>\n",
       "</div>"
      ],
      "text/plain": [
       "                                          FLAG                         RNAME  \\\n",
       "QNAME                                                                          \n",
       "HWI-1KL149:87:HA58EADXX:1:1101:1531:2163   163  SSV9K2-CMV-GFP-HygroTK-bGHpA   \n",
       "HWI-1KL149:87:HA58EADXX:1:1101:1752:2238   163  SSV9K2-CMV-GFP-HygroTK-bGHpA   \n",
       "HWI-1KL149:87:HA58EADXX:1:1101:2133:2244   163  SSV9K2-CMV-GFP-HygroTK-bGHpA   \n",
       "\n",
       "                                           POS  MAPQ CIGAR RNEXT  PNEXT  TLEN  \\\n",
       "QNAME                                                                           \n",
       "HWI-1KL149:87:HA58EADXX:1:1101:1531:2163  4862    60  101M     =   4950   189   \n",
       "HWI-1KL149:87:HA58EADXX:1:1101:1752:2238  2809    60  101M     =   3032   324   \n",
       "HWI-1KL149:87:HA58EADXX:1:1101:2133:2244  4828    60  101M     =   4925   198   \n",
       "\n",
       "                                                                                        SEQ  \\\n",
       "QNAME                                                                                         \n",
       "HWI-1KL149:87:HA58EADXX:1:1101:1531:2163  CGCCCTCCTGTGCTACCCGGCCGCGCGGTACCTTATGGGCAGCATG...   \n",
       "HWI-1KL149:87:HA58EADXX:1:1101:1752:2238  CTATAGGGAGACCACAACGGTTTCCCTCTAGCGGGATCAATTCCGC...   \n",
       "HWI-1KL149:87:HA58EADXX:1:1101:2133:2244  CCCTCACCCTAATCTTCGACCGCCATCCCATCGCCGCCCTCCTGTG...   \n",
       "\n",
       "                                                                                       QUAL  \n",
       "QNAME                                                                                        \n",
       "HWI-1KL149:87:HA58EADXX:1:1101:1531:2163  CCCFFFFFGHHHHJJJJJJJJJJJJJJJGIJJJJJJHHHHHFFFEE...  \n",
       "HWI-1KL149:87:HA58EADXX:1:1101:1752:2238  CCCFFFFFHHHHHJJIJJJJIIJJJJJJJJJJJJJHJJIJJJIIIJ...  \n",
       "HWI-1KL149:87:HA58EADXX:1:1101:2133:2244  CCCFFFFFHHHHHJJJJJJJJJJJJJJJJJJJJJJJJJJJHHHHHF...  "
      ]
     },
     "execution_count": 56,
     "metadata": {},
     "output_type": "execute_result"
    }
   ],
   "source": [
    "df[(df.FLAG == 163) & (df.TLEN > 180)]"
   ]
  },
  {
   "cell_type": "code",
   "execution_count": 57,
   "metadata": {
    "collapsed": false,
    "run_control": {
     "frozen": false,
     "read_only": false
    }
   },
   "outputs": [
    {
     "data": {
      "text/html": [
       "<div>\n",
       "<table border=\"1\" class=\"dataframe\">\n",
       "  <thead>\n",
       "    <tr style=\"text-align: right;\">\n",
       "      <th></th>\n",
       "      <th>FLAG</th>\n",
       "      <th>RNAME</th>\n",
       "      <th>POS</th>\n",
       "      <th>MAPQ</th>\n",
       "      <th>CIGAR</th>\n",
       "      <th>RNEXT</th>\n",
       "      <th>PNEXT</th>\n",
       "      <th>TLEN</th>\n",
       "      <th>SEQ</th>\n",
       "      <th>QUAL</th>\n",
       "    </tr>\n",
       "    <tr>\n",
       "      <th>QNAME</th>\n",
       "      <th></th>\n",
       "      <th></th>\n",
       "      <th></th>\n",
       "      <th></th>\n",
       "      <th></th>\n",
       "      <th></th>\n",
       "      <th></th>\n",
       "      <th></th>\n",
       "      <th></th>\n",
       "      <th></th>\n",
       "    </tr>\n",
       "  </thead>\n",
       "  <tbody>\n",
       "    <tr>\n",
       "      <th>HWI-1KL149:87:HA58EADXX:1:1101:2031:2119</th>\n",
       "      <td>99</td>\n",
       "      <td>SSV9K2-CMV-GFP-HygroTK-bGHpA</td>\n",
       "      <td>1392</td>\n",
       "      <td>60</td>\n",
       "      <td>101M</td>\n",
       "      <td>=</td>\n",
       "      <td>1503</td>\n",
       "      <td>212</td>\n",
       "      <td>NCATTGATTATTGACTAGTTATTAATAGTAATCAATTACGGGGTCA...</td>\n",
       "      <td>#1=DDFFFHHHHHJJJJJJJJJJJJIJJIJJJJJJJJJJJJJJGHI...</td>\n",
       "    </tr>\n",
       "    <tr>\n",
       "      <th>HWI-1KL149:87:HA58EADXX:1:1101:2813:2174</th>\n",
       "      <td>99</td>\n",
       "      <td>SSV9K2-CMV-GFP-HygroTK-bGHpA</td>\n",
       "      <td>5279</td>\n",
       "      <td>60</td>\n",
       "      <td>101M</td>\n",
       "      <td>=</td>\n",
       "      <td>5457</td>\n",
       "      <td>279</td>\n",
       "      <td>CGTGTTTGCCTGGGCCTTGGACGTCTTGGCCAAACGCCTCCGTTCC...</td>\n",
       "      <td>CCCFFFFFHHHHGIJJJJJJJJJJJJJJJJJJJJJJJJJJJJJJJJ...</td>\n",
       "    </tr>\n",
       "  </tbody>\n",
       "</table>\n",
       "</div>"
      ],
      "text/plain": [
       "                                          FLAG                         RNAME  \\\n",
       "QNAME                                                                          \n",
       "HWI-1KL149:87:HA58EADXX:1:1101:2031:2119    99  SSV9K2-CMV-GFP-HygroTK-bGHpA   \n",
       "HWI-1KL149:87:HA58EADXX:1:1101:2813:2174    99  SSV9K2-CMV-GFP-HygroTK-bGHpA   \n",
       "\n",
       "                                           POS  MAPQ CIGAR RNEXT  PNEXT  TLEN  \\\n",
       "QNAME                                                                           \n",
       "HWI-1KL149:87:HA58EADXX:1:1101:2031:2119  1392    60  101M     =   1503   212   \n",
       "HWI-1KL149:87:HA58EADXX:1:1101:2813:2174  5279    60  101M     =   5457   279   \n",
       "\n",
       "                                                                                        SEQ  \\\n",
       "QNAME                                                                                         \n",
       "HWI-1KL149:87:HA58EADXX:1:1101:2031:2119  NCATTGATTATTGACTAGTTATTAATAGTAATCAATTACGGGGTCA...   \n",
       "HWI-1KL149:87:HA58EADXX:1:1101:2813:2174  CGTGTTTGCCTGGGCCTTGGACGTCTTGGCCAAACGCCTCCGTTCC...   \n",
       "\n",
       "                                                                                       QUAL  \n",
       "QNAME                                                                                        \n",
       "HWI-1KL149:87:HA58EADXX:1:1101:2031:2119  #1=DDFFFHHHHHJJJJJJJJJJJJIJJIJJJJJJJJJJJJJJGHI...  \n",
       "HWI-1KL149:87:HA58EADXX:1:1101:2813:2174  CCCFFFFFHHHHGIJJJJJJJJJJJJJJJJJJJJJJJJJJJJJJJJ...  "
      ]
     },
     "execution_count": 57,
     "metadata": {},
     "output_type": "execute_result"
    }
   ],
   "source": [
    "df.query('FLAG == 99 and TLEN > 200')"
   ]
  },
  {
   "cell_type": "markdown",
   "metadata": {},
   "source": [
    "### Iterate over a dataframe"
   ]
  },
  {
   "cell_type": "markdown",
   "metadata": {},
   "source": [
    "***Iterate row by row with \"iterrows\" or \"itertuples\" ***\n",
    "\n",
    "itertuples is faster but the index is merged with the other values of each lines"
   ]
  },
  {
   "cell_type": "code",
   "execution_count": 148,
   "metadata": {
    "ExecuteTime": {
     "end_time": "2017-09-11T17:13:26.690791",
     "start_time": "2017-09-11T17:13:26.676203Z"
    },
    "collapsed": false,
    "run_control": {
     "frozen": false,
     "read_only": false
    },
    "scrolled": true
   },
   "outputs": [
    {
     "name": "stdout",
     "output_type": "stream",
     "text": [
      "HWI-1KL149:87:HA58EADXX:1:1101:1744:2169\n",
      "FLAG                                                   141\n",
      "RNAME                                                    *\n",
      "POS                                                      0\n",
      "MAPQ                                                     0\n",
      "CIGAR                                                    *\n",
      "RNEXT                                                    *\n",
      "PNEXT                                                    0\n",
      "TLEN                                                     0\n",
      "SEQ      TCGTAGATTTCTCTGGCGATTGAAGGGCTAAATTCTTCAACGCTAA...\n",
      "QUAL     CCCFFFFFHHHHHJJJJJJJJJJJJJJJJJJJIJJJJJJJJJJJJJ...\n",
      "Name: HWI-1KL149:87:HA58EADXX:1:1101:1744:2169, dtype: object\n",
      "HWI-1KL149:87:HA58EADXX:1:1101:1813:2228\n",
      "FLAG                                        2115\n",
      "RNAME               SSV9K2-CMV-GFP-HygroTK-bGHpA\n",
      "POS                                         5466\n",
      "MAPQ                                          60\n",
      "CIGAR                                     39M62H\n",
      "RNEXT                                          =\n",
      "PNEXT                                       4511\n",
      "TLEN                                        -956\n",
      "SEQ      GCCCGGGAGATGGGGGAGGCTAACTGAAAATCGATGGAT\n",
      "QUAL     CCCFFFFFHHHHHJJJJJJJJJJJJJJJJJJJJHJJJJJ\n",
      "Name: HWI-1KL149:87:HA58EADXX:1:1101:1813:2228, dtype: object\n",
      "HWI-1KL149:87:HA58EADXX:1:1101:2228:2222\n",
      "FLAG                                                   141\n",
      "RNAME                                                    *\n",
      "POS                                                      0\n",
      "MAPQ                                                     0\n",
      "CIGAR                                                    *\n",
      "RNEXT                                                    *\n",
      "PNEXT                                                    0\n",
      "TLEN                                                     0\n",
      "SEQ      ACAGTTTGATGAGTATAGAAATGGATCCACTCGTTATTCTCGGACG...\n",
      "QUAL     CCCFFFFFHHHHHHIIJJJJJJJJJJJJJJJJJJJJJJJJJJJJJJ...\n",
      "Name: HWI-1KL149:87:HA58EADXX:1:1101:2228:2222, dtype: object\n"
     ]
    }
   ],
   "source": [
    "for index_name, row_values in df.iterrows():\n",
    "    if row_values.CIGAR != \"101M\":\n",
    "        print (index_name)\n",
    "        print (row_values)"
   ]
  },
  {
   "cell_type": "code",
   "execution_count": 147,
   "metadata": {
    "ExecuteTime": {
     "end_time": "2017-09-11T17:12:57.751111",
     "start_time": "2017-09-11T17:12:57.736828Z"
    },
    "collapsed": false
   },
   "outputs": [
    {
     "name": "stdout",
     "output_type": "stream",
     "text": [
      "FLAG                                                    99\n",
      "RNAME                         SSV9K2-CMV-GFP-HygroTK-bGHpA\n",
      "POS                                                   5128\n",
      "MAPQ                                                    60\n",
      "CIGAR                                                 101M\n",
      "RNEXT                                                    =\n",
      "PNEXT                                                 5206\n",
      "TLEN                                                   179\n",
      "SEQ      GGGAGGACTGGGGACAGCTTTCGGGGACGGCCGTGCCGCCCCAGGG...\n",
      "QUAL     CCCFFFFFHHHHHIJIJJJJJJJJJJJJJJJJJJJHHHFDDDDDDD...\n",
      "Name: HWI-1KL149:87:HA58EADXX:1:1101:2854:2200, dtype: object\n",
      "FLAG                                                    99\n",
      "RNAME                         SSV9K2-CMV-GFP-HygroTK-bGHpA\n",
      "POS                                                   5128\n",
      "MAPQ                                                    60\n",
      "CIGAR                                                 101M\n",
      "RNEXT                                                    =\n",
      "PNEXT                                                 5206\n",
      "TLEN                                                   179\n",
      "SEQ      GGGAGGACTGGGGACAGCTTTCGGGGACGGCCGTGCCGCCCCAGGG...\n",
      "QUAL     CCCFFFFFHHHHHIJIJJJJJJJJJJJJJJJJJJJHHHFDDDDDDD...\n",
      "Name: HWI-1KL149:87:HA58EADXX:1:1101:2854:2200, dtype: object\n",
      "FLAG                                                    99\n",
      "RNAME                         SSV9K2-CMV-GFP-HygroTK-bGHpA\n",
      "POS                                                   5128\n",
      "MAPQ                                                    60\n",
      "CIGAR                                                 101M\n",
      "RNEXT                                                    =\n",
      "PNEXT                                                 5206\n",
      "TLEN                                                   179\n",
      "SEQ      GGGAGGACTGGGGACAGCTTTCGGGGACGGCCGTGCCGCCCCAGGG...\n",
      "QUAL     CCCFFFFFHHHHHIJIJJJJJJJJJJJJJJJJJJJHHHFDDDDDDD...\n",
      "Name: HWI-1KL149:87:HA58EADXX:1:1101:2854:2200, dtype: object\n"
     ]
    }
   ],
   "source": [
    "for values in df.itertuples():\n",
    "    if values.CIGAR != \"101M\":\n",
    "        print (row_values)"
   ]
  },
  {
   "cell_type": "markdown",
   "metadata": {},
   "source": [
    "***Iterate by group of value with \"groupby\"***"
   ]
  },
  {
   "cell_type": "code",
   "execution_count": 59,
   "metadata": {
    "collapsed": false,
    "run_control": {
     "frozen": false,
     "read_only": false
    },
    "scrolled": true
   },
   "outputs": [
    {
     "name": "stdout",
     "output_type": "stream",
     "text": [
      "\n",
      "Group with flag 83\n"
     ]
    },
    {
     "data": {
      "text/html": [
       "<div>\n",
       "<table border=\"1\" class=\"dataframe\">\n",
       "  <thead>\n",
       "    <tr style=\"text-align: right;\">\n",
       "      <th></th>\n",
       "      <th>FLAG</th>\n",
       "      <th>RNAME</th>\n",
       "      <th>POS</th>\n",
       "      <th>MAPQ</th>\n",
       "      <th>CIGAR</th>\n",
       "      <th>RNEXT</th>\n",
       "      <th>PNEXT</th>\n",
       "      <th>TLEN</th>\n",
       "      <th>SEQ</th>\n",
       "      <th>QUAL</th>\n",
       "    </tr>\n",
       "    <tr>\n",
       "      <th>QNAME</th>\n",
       "      <th></th>\n",
       "      <th></th>\n",
       "      <th></th>\n",
       "      <th></th>\n",
       "      <th></th>\n",
       "      <th></th>\n",
       "      <th></th>\n",
       "      <th></th>\n",
       "      <th></th>\n",
       "      <th></th>\n",
       "    </tr>\n",
       "  </thead>\n",
       "  <tbody>\n",
       "    <tr>\n",
       "      <th>HWI-1KL149:87:HA58EADXX:1:1101:1606:2189</th>\n",
       "      <td>83</td>\n",
       "      <td>SSV9K2-CMV-GFP-HygroTK-bGHpA</td>\n",
       "      <td>4285</td>\n",
       "      <td>60</td>\n",
       "      <td>101M</td>\n",
       "      <td>=</td>\n",
       "      <td>4104</td>\n",
       "      <td>-282</td>\n",
       "      <td>AGGGTCGATGCGACGCAATCGTCCGATCCGGAGCCGGGACTGTCGG...</td>\n",
       "      <td>DDDDDDDDDDDDDDDDDDDDDDDDDDDDDDDDDDDDDDDDDDDDDD...</td>\n",
       "    </tr>\n",
       "    <tr>\n",
       "      <th>HWI-1KL149:87:HA58EADXX:1:1101:1752:2238</th>\n",
       "      <td>83</td>\n",
       "      <td>SSV9K2-CMV-GFP-HygroTK-bGHpA</td>\n",
       "      <td>3032</td>\n",
       "      <td>60</td>\n",
       "      <td>101M</td>\n",
       "      <td>=</td>\n",
       "      <td>2809</td>\n",
       "      <td>-324</td>\n",
       "      <td>CTGTTGAATGTCGTGAAGGAAGCAGTTCCTCTGGAAGCTTCTTGAA...</td>\n",
       "      <td>DDDEEDDDDDDDDDDDDDDDDDDDDDDDDDDDDDDDDDDDDDEDDD...</td>\n",
       "    </tr>\n",
       "    <tr>\n",
       "      <th>HWI-1KL149:87:HA58EADXX:1:1101:2344:2177</th>\n",
       "      <td>83</td>\n",
       "      <td>SSV9K2-CMV-GFP-HygroTK-bGHpA</td>\n",
       "      <td>4321</td>\n",
       "      <td>60</td>\n",
       "      <td>101M</td>\n",
       "      <td>=</td>\n",
       "      <td>4198</td>\n",
       "      <td>-224</td>\n",
       "      <td>GGACTGTCGGGCGTACACAAATCGCCCGCAGAAGCGCGGCCGTCTG...</td>\n",
       "      <td>DDDDDDDDDDDDEDDDEDDDDDDDDDDDDDDDDDDDDDDDDDDDDD...</td>\n",
       "    </tr>\n",
       "    <tr>\n",
       "      <th>HWI-1KL149:87:HA58EADXX:1:1101:2647:2140</th>\n",
       "      <td>83</td>\n",
       "      <td>SSV9K2-CMV-GFP-HygroTK-bGHpA</td>\n",
       "      <td>4552</td>\n",
       "      <td>60</td>\n",
       "      <td>101M</td>\n",
       "      <td>=</td>\n",
       "      <td>4437</td>\n",
       "      <td>-216</td>\n",
       "      <td>CCACCACGCAACTGCTGGTGGCCCTGGGTTCGCGCGACGATATCGT...</td>\n",
       "      <td>@&lt;2DB&lt;BC&gt;CABCDB?DB@B?DBA?DDDBB&gt;@&gt;;8?98@==?;;C=...</td>\n",
       "    </tr>\n",
       "  </tbody>\n",
       "</table>\n",
       "</div>"
      ],
      "text/plain": [
       "                                          FLAG                         RNAME  \\\n",
       "QNAME                                                                          \n",
       "HWI-1KL149:87:HA58EADXX:1:1101:1606:2189    83  SSV9K2-CMV-GFP-HygroTK-bGHpA   \n",
       "HWI-1KL149:87:HA58EADXX:1:1101:1752:2238    83  SSV9K2-CMV-GFP-HygroTK-bGHpA   \n",
       "HWI-1KL149:87:HA58EADXX:1:1101:2344:2177    83  SSV9K2-CMV-GFP-HygroTK-bGHpA   \n",
       "HWI-1KL149:87:HA58EADXX:1:1101:2647:2140    83  SSV9K2-CMV-GFP-HygroTK-bGHpA   \n",
       "\n",
       "                                           POS  MAPQ CIGAR RNEXT  PNEXT  TLEN  \\\n",
       "QNAME                                                                           \n",
       "HWI-1KL149:87:HA58EADXX:1:1101:1606:2189  4285    60  101M     =   4104  -282   \n",
       "HWI-1KL149:87:HA58EADXX:1:1101:1752:2238  3032    60  101M     =   2809  -324   \n",
       "HWI-1KL149:87:HA58EADXX:1:1101:2344:2177  4321    60  101M     =   4198  -224   \n",
       "HWI-1KL149:87:HA58EADXX:1:1101:2647:2140  4552    60  101M     =   4437  -216   \n",
       "\n",
       "                                                                                        SEQ  \\\n",
       "QNAME                                                                                         \n",
       "HWI-1KL149:87:HA58EADXX:1:1101:1606:2189  AGGGTCGATGCGACGCAATCGTCCGATCCGGAGCCGGGACTGTCGG...   \n",
       "HWI-1KL149:87:HA58EADXX:1:1101:1752:2238  CTGTTGAATGTCGTGAAGGAAGCAGTTCCTCTGGAAGCTTCTTGAA...   \n",
       "HWI-1KL149:87:HA58EADXX:1:1101:2344:2177  GGACTGTCGGGCGTACACAAATCGCCCGCAGAAGCGCGGCCGTCTG...   \n",
       "HWI-1KL149:87:HA58EADXX:1:1101:2647:2140  CCACCACGCAACTGCTGGTGGCCCTGGGTTCGCGCGACGATATCGT...   \n",
       "\n",
       "                                                                                       QUAL  \n",
       "QNAME                                                                                        \n",
       "HWI-1KL149:87:HA58EADXX:1:1101:1606:2189  DDDDDDDDDDDDDDDDDDDDDDDDDDDDDDDDDDDDDDDDDDDDDD...  \n",
       "HWI-1KL149:87:HA58EADXX:1:1101:1752:2238  DDDEEDDDDDDDDDDDDDDDDDDDDDDDDDDDDDDDDDDDDDEDDD...  \n",
       "HWI-1KL149:87:HA58EADXX:1:1101:2344:2177  DDDDDDDDDDDDEDDDEDDDDDDDDDDDDDDDDDDDDDDDDDDDDD...  \n",
       "HWI-1KL149:87:HA58EADXX:1:1101:2647:2140  @<2DB<BC>CABCDB?DB@B?DBA?DDDBB>@>;8?98@==?;;C=...  "
      ]
     },
     "metadata": {},
     "output_type": "display_data"
    },
    {
     "name": "stdout",
     "output_type": "stream",
     "text": [
      "\n",
      "Group with flag 99\n"
     ]
    },
    {
     "data": {
      "text/html": [
       "<div>\n",
       "<table border=\"1\" class=\"dataframe\">\n",
       "  <thead>\n",
       "    <tr style=\"text-align: right;\">\n",
       "      <th></th>\n",
       "      <th>FLAG</th>\n",
       "      <th>RNAME</th>\n",
       "      <th>POS</th>\n",
       "      <th>MAPQ</th>\n",
       "      <th>CIGAR</th>\n",
       "      <th>RNEXT</th>\n",
       "      <th>PNEXT</th>\n",
       "      <th>TLEN</th>\n",
       "      <th>SEQ</th>\n",
       "      <th>QUAL</th>\n",
       "    </tr>\n",
       "    <tr>\n",
       "      <th>QNAME</th>\n",
       "      <th></th>\n",
       "      <th></th>\n",
       "      <th></th>\n",
       "      <th></th>\n",
       "      <th></th>\n",
       "      <th></th>\n",
       "      <th></th>\n",
       "      <th></th>\n",
       "      <th></th>\n",
       "      <th></th>\n",
       "    </tr>\n",
       "  </thead>\n",
       "  <tbody>\n",
       "    <tr>\n",
       "      <th>HWI-1KL149:87:HA58EADXX:1:1101:2031:2119</th>\n",
       "      <td>99</td>\n",
       "      <td>SSV9K2-CMV-GFP-HygroTK-bGHpA</td>\n",
       "      <td>1392</td>\n",
       "      <td>60</td>\n",
       "      <td>101M</td>\n",
       "      <td>=</td>\n",
       "      <td>1503</td>\n",
       "      <td>212</td>\n",
       "      <td>NCATTGATTATTGACTAGTTATTAATAGTAATCAATTACGGGGTCA...</td>\n",
       "      <td>#1=DDFFFHHHHHJJJJJJJJJJJJIJJIJJJJJJJJJJJJJJGHI...</td>\n",
       "    </tr>\n",
       "    <tr>\n",
       "      <th>HWI-1KL149:87:HA58EADXX:1:1101:2813:2174</th>\n",
       "      <td>99</td>\n",
       "      <td>SSV9K2-CMV-GFP-HygroTK-bGHpA</td>\n",
       "      <td>5279</td>\n",
       "      <td>60</td>\n",
       "      <td>101M</td>\n",
       "      <td>=</td>\n",
       "      <td>5457</td>\n",
       "      <td>279</td>\n",
       "      <td>CGTGTTTGCCTGGGCCTTGGACGTCTTGGCCAAACGCCTCCGTTCC...</td>\n",
       "      <td>CCCFFFFFHHHHGIJJJJJJJJJJJJJJJJJJJJJJJJJJJJJJJJ...</td>\n",
       "    </tr>\n",
       "    <tr>\n",
       "      <th>HWI-1KL149:87:HA58EADXX:1:1101:2854:2200</th>\n",
       "      <td>99</td>\n",
       "      <td>SSV9K2-CMV-GFP-HygroTK-bGHpA</td>\n",
       "      <td>5128</td>\n",
       "      <td>60</td>\n",
       "      <td>101M</td>\n",
       "      <td>=</td>\n",
       "      <td>5206</td>\n",
       "      <td>179</td>\n",
       "      <td>GGGAGGACTGGGGACAGCTTTCGGGGACGGCCGTGCCGCCCCAGGG...</td>\n",
       "      <td>CCCFFFFFHHHHHIJIJJJJJJJJJJJJJJJJJJJHHHFDDDDDDD...</td>\n",
       "    </tr>\n",
       "  </tbody>\n",
       "</table>\n",
       "</div>"
      ],
      "text/plain": [
       "                                          FLAG                         RNAME  \\\n",
       "QNAME                                                                          \n",
       "HWI-1KL149:87:HA58EADXX:1:1101:2031:2119    99  SSV9K2-CMV-GFP-HygroTK-bGHpA   \n",
       "HWI-1KL149:87:HA58EADXX:1:1101:2813:2174    99  SSV9K2-CMV-GFP-HygroTK-bGHpA   \n",
       "HWI-1KL149:87:HA58EADXX:1:1101:2854:2200    99  SSV9K2-CMV-GFP-HygroTK-bGHpA   \n",
       "\n",
       "                                           POS  MAPQ CIGAR RNEXT  PNEXT  TLEN  \\\n",
       "QNAME                                                                           \n",
       "HWI-1KL149:87:HA58EADXX:1:1101:2031:2119  1392    60  101M     =   1503   212   \n",
       "HWI-1KL149:87:HA58EADXX:1:1101:2813:2174  5279    60  101M     =   5457   279   \n",
       "HWI-1KL149:87:HA58EADXX:1:1101:2854:2200  5128    60  101M     =   5206   179   \n",
       "\n",
       "                                                                                        SEQ  \\\n",
       "QNAME                                                                                         \n",
       "HWI-1KL149:87:HA58EADXX:1:1101:2031:2119  NCATTGATTATTGACTAGTTATTAATAGTAATCAATTACGGGGTCA...   \n",
       "HWI-1KL149:87:HA58EADXX:1:1101:2813:2174  CGTGTTTGCCTGGGCCTTGGACGTCTTGGCCAAACGCCTCCGTTCC...   \n",
       "HWI-1KL149:87:HA58EADXX:1:1101:2854:2200  GGGAGGACTGGGGACAGCTTTCGGGGACGGCCGTGCCGCCCCAGGG...   \n",
       "\n",
       "                                                                                       QUAL  \n",
       "QNAME                                                                                        \n",
       "HWI-1KL149:87:HA58EADXX:1:1101:2031:2119  #1=DDFFFHHHHHJJJJJJJJJJJJIJJIJJJJJJJJJJJJJJGHI...  \n",
       "HWI-1KL149:87:HA58EADXX:1:1101:2813:2174  CCCFFFFFHHHHGIJJJJJJJJJJJJJJJJJJJJJJJJJJJJJJJJ...  \n",
       "HWI-1KL149:87:HA58EADXX:1:1101:2854:2200  CCCFFFFFHHHHHIJIJJJJJJJJJJJJJJJJJJJHHHFDDDDDDD...  "
      ]
     },
     "metadata": {},
     "output_type": "display_data"
    },
    {
     "name": "stdout",
     "output_type": "stream",
     "text": [
      "\n",
      "Group with flag 141\n"
     ]
    },
    {
     "data": {
      "text/html": [
       "<div>\n",
       "<table border=\"1\" class=\"dataframe\">\n",
       "  <thead>\n",
       "    <tr style=\"text-align: right;\">\n",
       "      <th></th>\n",
       "      <th>FLAG</th>\n",
       "      <th>RNAME</th>\n",
       "      <th>POS</th>\n",
       "      <th>MAPQ</th>\n",
       "      <th>CIGAR</th>\n",
       "      <th>RNEXT</th>\n",
       "      <th>PNEXT</th>\n",
       "      <th>TLEN</th>\n",
       "      <th>SEQ</th>\n",
       "      <th>QUAL</th>\n",
       "    </tr>\n",
       "    <tr>\n",
       "      <th>QNAME</th>\n",
       "      <th></th>\n",
       "      <th></th>\n",
       "      <th></th>\n",
       "      <th></th>\n",
       "      <th></th>\n",
       "      <th></th>\n",
       "      <th></th>\n",
       "      <th></th>\n",
       "      <th></th>\n",
       "      <th></th>\n",
       "    </tr>\n",
       "  </thead>\n",
       "  <tbody>\n",
       "    <tr>\n",
       "      <th>HWI-1KL149:87:HA58EADXX:1:1101:1744:2169</th>\n",
       "      <td>141</td>\n",
       "      <td>*</td>\n",
       "      <td>0</td>\n",
       "      <td>0</td>\n",
       "      <td>*</td>\n",
       "      <td>*</td>\n",
       "      <td>0</td>\n",
       "      <td>0</td>\n",
       "      <td>TCGTAGATTTCTCTGGCGATTGAAGGGCTAAATTCTTCAACGCTAA...</td>\n",
       "      <td>CCCFFFFFHHHHHJJJJJJJJJJJJJJJJJJJIJJJJJJJJJJJJJ...</td>\n",
       "    </tr>\n",
       "    <tr>\n",
       "      <th>HWI-1KL149:87:HA58EADXX:1:1101:2228:2222</th>\n",
       "      <td>141</td>\n",
       "      <td>*</td>\n",
       "      <td>0</td>\n",
       "      <td>0</td>\n",
       "      <td>*</td>\n",
       "      <td>*</td>\n",
       "      <td>0</td>\n",
       "      <td>0</td>\n",
       "      <td>ACAGTTTGATGAGTATAGAAATGGATCCACTCGTTATTCTCGGACG...</td>\n",
       "      <td>CCCFFFFFHHHHHHIIJJJJJJJJJJJJJJJJJJJJJJJJJJJJJJ...</td>\n",
       "    </tr>\n",
       "  </tbody>\n",
       "</table>\n",
       "</div>"
      ],
      "text/plain": [
       "                                          FLAG RNAME  POS  MAPQ CIGAR RNEXT  \\\n",
       "QNAME                                                                         \n",
       "HWI-1KL149:87:HA58EADXX:1:1101:1744:2169   141     *    0     0     *     *   \n",
       "HWI-1KL149:87:HA58EADXX:1:1101:2228:2222   141     *    0     0     *     *   \n",
       "\n",
       "                                          PNEXT  TLEN  \\\n",
       "QNAME                                                   \n",
       "HWI-1KL149:87:HA58EADXX:1:1101:1744:2169      0     0   \n",
       "HWI-1KL149:87:HA58EADXX:1:1101:2228:2222      0     0   \n",
       "\n",
       "                                                                                        SEQ  \\\n",
       "QNAME                                                                                         \n",
       "HWI-1KL149:87:HA58EADXX:1:1101:1744:2169  TCGTAGATTTCTCTGGCGATTGAAGGGCTAAATTCTTCAACGCTAA...   \n",
       "HWI-1KL149:87:HA58EADXX:1:1101:2228:2222  ACAGTTTGATGAGTATAGAAATGGATCCACTCGTTATTCTCGGACG...   \n",
       "\n",
       "                                                                                       QUAL  \n",
       "QNAME                                                                                        \n",
       "HWI-1KL149:87:HA58EADXX:1:1101:1744:2169  CCCFFFFFHHHHHJJJJJJJJJJJJJJJJJJJIJJJJJJJJJJJJJ...  \n",
       "HWI-1KL149:87:HA58EADXX:1:1101:2228:2222  CCCFFFFFHHHHHHIIJJJJJJJJJJJJJJJJJJJJJJJJJJJJJJ...  "
      ]
     },
     "metadata": {},
     "output_type": "display_data"
    },
    {
     "name": "stdout",
     "output_type": "stream",
     "text": [
      "\n",
      "Group with flag 147\n"
     ]
    },
    {
     "data": {
      "text/html": [
       "<div>\n",
       "<table border=\"1\" class=\"dataframe\">\n",
       "  <thead>\n",
       "    <tr style=\"text-align: right;\">\n",
       "      <th></th>\n",
       "      <th>FLAG</th>\n",
       "      <th>RNAME</th>\n",
       "      <th>POS</th>\n",
       "      <th>MAPQ</th>\n",
       "      <th>CIGAR</th>\n",
       "      <th>RNEXT</th>\n",
       "      <th>PNEXT</th>\n",
       "      <th>TLEN</th>\n",
       "      <th>SEQ</th>\n",
       "      <th>QUAL</th>\n",
       "    </tr>\n",
       "    <tr>\n",
       "      <th>QNAME</th>\n",
       "      <th></th>\n",
       "      <th></th>\n",
       "      <th></th>\n",
       "      <th></th>\n",
       "      <th></th>\n",
       "      <th></th>\n",
       "      <th></th>\n",
       "      <th></th>\n",
       "      <th></th>\n",
       "      <th></th>\n",
       "    </tr>\n",
       "  </thead>\n",
       "  <tbody>\n",
       "    <tr>\n",
       "      <th>HWI-1KL149:87:HA58EADXX:1:1101:2953:2177</th>\n",
       "      <td>147</td>\n",
       "      <td>SSV9K2-CMV-GFP-HygroTK-bGHpA</td>\n",
       "      <td>3530</td>\n",
       "      <td>60</td>\n",
       "      <td>101M</td>\n",
       "      <td>=</td>\n",
       "      <td>3440</td>\n",
       "      <td>-191</td>\n",
       "      <td>CTTCGATGTAGGAGGGCGTGGATATGTCCTGCGGGTAAATAGCTGC...</td>\n",
       "      <td>DDDDDDDDDDDDDDDDDDDEDEDDCDDDDDDDDDEEEDDDDDDDDD...</td>\n",
       "    </tr>\n",
       "  </tbody>\n",
       "</table>\n",
       "</div>"
      ],
      "text/plain": [
       "                                          FLAG                         RNAME  \\\n",
       "QNAME                                                                          \n",
       "HWI-1KL149:87:HA58EADXX:1:1101:2953:2177   147  SSV9K2-CMV-GFP-HygroTK-bGHpA   \n",
       "\n",
       "                                           POS  MAPQ CIGAR RNEXT  PNEXT  TLEN  \\\n",
       "QNAME                                                                           \n",
       "HWI-1KL149:87:HA58EADXX:1:1101:2953:2177  3530    60  101M     =   3440  -191   \n",
       "\n",
       "                                                                                        SEQ  \\\n",
       "QNAME                                                                                         \n",
       "HWI-1KL149:87:HA58EADXX:1:1101:2953:2177  CTTCGATGTAGGAGGGCGTGGATATGTCCTGCGGGTAAATAGCTGC...   \n",
       "\n",
       "                                                                                       QUAL  \n",
       "QNAME                                                                                        \n",
       "HWI-1KL149:87:HA58EADXX:1:1101:2953:2177  DDDDDDDDDDDDDDDDDDDEDEDDCDDDDDDDDDEEEDDDDDDDDD...  "
      ]
     },
     "metadata": {},
     "output_type": "display_data"
    },
    {
     "name": "stdout",
     "output_type": "stream",
     "text": [
      "\n",
      "Group with flag 163\n"
     ]
    },
    {
     "data": {
      "text/html": [
       "<div>\n",
       "<table border=\"1\" class=\"dataframe\">\n",
       "  <thead>\n",
       "    <tr style=\"text-align: right;\">\n",
       "      <th></th>\n",
       "      <th>FLAG</th>\n",
       "      <th>RNAME</th>\n",
       "      <th>POS</th>\n",
       "      <th>MAPQ</th>\n",
       "      <th>CIGAR</th>\n",
       "      <th>RNEXT</th>\n",
       "      <th>PNEXT</th>\n",
       "      <th>TLEN</th>\n",
       "      <th>SEQ</th>\n",
       "      <th>QUAL</th>\n",
       "    </tr>\n",
       "    <tr>\n",
       "      <th>QNAME</th>\n",
       "      <th></th>\n",
       "      <th></th>\n",
       "      <th></th>\n",
       "      <th></th>\n",
       "      <th></th>\n",
       "      <th></th>\n",
       "      <th></th>\n",
       "      <th></th>\n",
       "      <th></th>\n",
       "      <th></th>\n",
       "    </tr>\n",
       "  </thead>\n",
       "  <tbody>\n",
       "    <tr>\n",
       "      <th>HWI-1KL149:87:HA58EADXX:1:1101:1531:2163</th>\n",
       "      <td>163</td>\n",
       "      <td>SSV9K2-CMV-GFP-HygroTK-bGHpA</td>\n",
       "      <td>4862</td>\n",
       "      <td>60</td>\n",
       "      <td>101M</td>\n",
       "      <td>=</td>\n",
       "      <td>4950</td>\n",
       "      <td>189</td>\n",
       "      <td>CGCCCTCCTGTGCTACCCGGCCGCGCGGTACCTTATGGGCAGCATG...</td>\n",
       "      <td>CCCFFFFFGHHHHJJJJJJJJJJJJJJJGIJJJJJJHHHHHFFFEE...</td>\n",
       "    </tr>\n",
       "    <tr>\n",
       "      <th>HWI-1KL149:87:HA58EADXX:1:1101:1752:2238</th>\n",
       "      <td>163</td>\n",
       "      <td>SSV9K2-CMV-GFP-HygroTK-bGHpA</td>\n",
       "      <td>2809</td>\n",
       "      <td>60</td>\n",
       "      <td>101M</td>\n",
       "      <td>=</td>\n",
       "      <td>3032</td>\n",
       "      <td>324</td>\n",
       "      <td>CTATAGGGAGACCACAACGGTTTCCCTCTAGCGGGATCAATTCCGC...</td>\n",
       "      <td>CCCFFFFFHHHHHJJIJJJJIIJJJJJJJJJJJJJHJJIJJJIIIJ...</td>\n",
       "    </tr>\n",
       "    <tr>\n",
       "      <th>HWI-1KL149:87:HA58EADXX:1:1101:2133:2244</th>\n",
       "      <td>163</td>\n",
       "      <td>SSV9K2-CMV-GFP-HygroTK-bGHpA</td>\n",
       "      <td>4828</td>\n",
       "      <td>60</td>\n",
       "      <td>101M</td>\n",
       "      <td>=</td>\n",
       "      <td>4925</td>\n",
       "      <td>198</td>\n",
       "      <td>CCCTCACCCTAATCTTCGACCGCCATCCCATCGCCGCCCTCCTGTG...</td>\n",
       "      <td>CCCFFFFFHHHHHJJJJJJJJJJJJJJJJJJJJJJJJJJJHHHHHF...</td>\n",
       "    </tr>\n",
       "    <tr>\n",
       "      <th>HWI-1KL149:87:HA58EADXX:1:1101:2645:2113</th>\n",
       "      <td>163</td>\n",
       "      <td>SSV9K2-CMV-GFP-HygroTK-bGHpA</td>\n",
       "      <td>5493</td>\n",
       "      <td>60</td>\n",
       "      <td>101M</td>\n",
       "      <td>=</td>\n",
       "      <td>5559</td>\n",
       "      <td>167</td>\n",
       "      <td>AAATCGATGGATCCACTAGTTCTAGAGGGCCCTATTCTATAGTGTC...</td>\n",
       "      <td>CCCFFFFFHHHHHJJJJJJIIJJJJJJJJJJJJIJJJJIJJJHGII...</td>\n",
       "    </tr>\n",
       "    <tr>\n",
       "      <th>HWI-1KL149:87:HA58EADXX:1:1101:2485:2160</th>\n",
       "      <td>163</td>\n",
       "      <td>SSV9K2-CMV-GFP-HygroTK-bGHpA</td>\n",
       "      <td>3756</td>\n",
       "      <td>60</td>\n",
       "      <td>101M</td>\n",
       "      <td>=</td>\n",
       "      <td>3829</td>\n",
       "      <td>174</td>\n",
       "      <td>CCGGTCGCGGAGGCCATGGATGCGATCGCTGCGGCCGATCTTAGCC...</td>\n",
       "      <td>CCCFFFFFHHHHHJJJJJJJJJJJJJJJJJJJJHHFDDDDDDEDDD...</td>\n",
       "    </tr>\n",
       "  </tbody>\n",
       "</table>\n",
       "</div>"
      ],
      "text/plain": [
       "                                          FLAG                         RNAME  \\\n",
       "QNAME                                                                          \n",
       "HWI-1KL149:87:HA58EADXX:1:1101:1531:2163   163  SSV9K2-CMV-GFP-HygroTK-bGHpA   \n",
       "HWI-1KL149:87:HA58EADXX:1:1101:1752:2238   163  SSV9K2-CMV-GFP-HygroTK-bGHpA   \n",
       "HWI-1KL149:87:HA58EADXX:1:1101:2133:2244   163  SSV9K2-CMV-GFP-HygroTK-bGHpA   \n",
       "HWI-1KL149:87:HA58EADXX:1:1101:2645:2113   163  SSV9K2-CMV-GFP-HygroTK-bGHpA   \n",
       "HWI-1KL149:87:HA58EADXX:1:1101:2485:2160   163  SSV9K2-CMV-GFP-HygroTK-bGHpA   \n",
       "\n",
       "                                           POS  MAPQ CIGAR RNEXT  PNEXT  TLEN  \\\n",
       "QNAME                                                                           \n",
       "HWI-1KL149:87:HA58EADXX:1:1101:1531:2163  4862    60  101M     =   4950   189   \n",
       "HWI-1KL149:87:HA58EADXX:1:1101:1752:2238  2809    60  101M     =   3032   324   \n",
       "HWI-1KL149:87:HA58EADXX:1:1101:2133:2244  4828    60  101M     =   4925   198   \n",
       "HWI-1KL149:87:HA58EADXX:1:1101:2645:2113  5493    60  101M     =   5559   167   \n",
       "HWI-1KL149:87:HA58EADXX:1:1101:2485:2160  3756    60  101M     =   3829   174   \n",
       "\n",
       "                                                                                        SEQ  \\\n",
       "QNAME                                                                                         \n",
       "HWI-1KL149:87:HA58EADXX:1:1101:1531:2163  CGCCCTCCTGTGCTACCCGGCCGCGCGGTACCTTATGGGCAGCATG...   \n",
       "HWI-1KL149:87:HA58EADXX:1:1101:1752:2238  CTATAGGGAGACCACAACGGTTTCCCTCTAGCGGGATCAATTCCGC...   \n",
       "HWI-1KL149:87:HA58EADXX:1:1101:2133:2244  CCCTCACCCTAATCTTCGACCGCCATCCCATCGCCGCCCTCCTGTG...   \n",
       "HWI-1KL149:87:HA58EADXX:1:1101:2645:2113  AAATCGATGGATCCACTAGTTCTAGAGGGCCCTATTCTATAGTGTC...   \n",
       "HWI-1KL149:87:HA58EADXX:1:1101:2485:2160  CCGGTCGCGGAGGCCATGGATGCGATCGCTGCGGCCGATCTTAGCC...   \n",
       "\n",
       "                                                                                       QUAL  \n",
       "QNAME                                                                                        \n",
       "HWI-1KL149:87:HA58EADXX:1:1101:1531:2163  CCCFFFFFGHHHHJJJJJJJJJJJJJJJGIJJJJJJHHHHHFFFEE...  \n",
       "HWI-1KL149:87:HA58EADXX:1:1101:1752:2238  CCCFFFFFHHHHHJJIJJJJIIJJJJJJJJJJJJJHJJIJJJIIIJ...  \n",
       "HWI-1KL149:87:HA58EADXX:1:1101:2133:2244  CCCFFFFFHHHHHJJJJJJJJJJJJJJJJJJJJJJJJJJJHHHHHF...  \n",
       "HWI-1KL149:87:HA58EADXX:1:1101:2645:2113  CCCFFFFFHHHHHJJJJJJIIJJJJJJJJJJJJIJJJJIJJJHGII...  \n",
       "HWI-1KL149:87:HA58EADXX:1:1101:2485:2160  CCCFFFFFHHHHHJJJJJJJJJJJJJJJJJJJJHHFDDDDDDEDDD...  "
      ]
     },
     "metadata": {},
     "output_type": "display_data"
    },
    {
     "name": "stdout",
     "output_type": "stream",
     "text": [
      "\n",
      "Group with flag 2115\n"
     ]
    },
    {
     "data": {
      "text/html": [
       "<div>\n",
       "<table border=\"1\" class=\"dataframe\">\n",
       "  <thead>\n",
       "    <tr style=\"text-align: right;\">\n",
       "      <th></th>\n",
       "      <th>FLAG</th>\n",
       "      <th>RNAME</th>\n",
       "      <th>POS</th>\n",
       "      <th>MAPQ</th>\n",
       "      <th>CIGAR</th>\n",
       "      <th>RNEXT</th>\n",
       "      <th>PNEXT</th>\n",
       "      <th>TLEN</th>\n",
       "      <th>SEQ</th>\n",
       "      <th>QUAL</th>\n",
       "    </tr>\n",
       "    <tr>\n",
       "      <th>QNAME</th>\n",
       "      <th></th>\n",
       "      <th></th>\n",
       "      <th></th>\n",
       "      <th></th>\n",
       "      <th></th>\n",
       "      <th></th>\n",
       "      <th></th>\n",
       "      <th></th>\n",
       "      <th></th>\n",
       "      <th></th>\n",
       "    </tr>\n",
       "  </thead>\n",
       "  <tbody>\n",
       "    <tr>\n",
       "      <th>HWI-1KL149:87:HA58EADXX:1:1101:1813:2228</th>\n",
       "      <td>2115</td>\n",
       "      <td>SSV9K2-CMV-GFP-HygroTK-bGHpA</td>\n",
       "      <td>5466</td>\n",
       "      <td>60</td>\n",
       "      <td>39M62H</td>\n",
       "      <td>=</td>\n",
       "      <td>4511</td>\n",
       "      <td>-956</td>\n",
       "      <td>GCCCGGGAGATGGGGGAGGCTAACTGAAAATCGATGGAT</td>\n",
       "      <td>CCCFFFFFHHHHHJJJJJJJJJJJJJJJJJJJJHJJJJJ</td>\n",
       "    </tr>\n",
       "  </tbody>\n",
       "</table>\n",
       "</div>"
      ],
      "text/plain": [
       "                                          FLAG                         RNAME  \\\n",
       "QNAME                                                                          \n",
       "HWI-1KL149:87:HA58EADXX:1:1101:1813:2228  2115  SSV9K2-CMV-GFP-HygroTK-bGHpA   \n",
       "\n",
       "                                           POS  MAPQ   CIGAR RNEXT  PNEXT  \\\n",
       "QNAME                                                                       \n",
       "HWI-1KL149:87:HA58EADXX:1:1101:1813:2228  5466    60  39M62H     =   4511   \n",
       "\n",
       "                                          TLEN  \\\n",
       "QNAME                                            \n",
       "HWI-1KL149:87:HA58EADXX:1:1101:1813:2228  -956   \n",
       "\n",
       "                                                                              SEQ  \\\n",
       "QNAME                                                                               \n",
       "HWI-1KL149:87:HA58EADXX:1:1101:1813:2228  GCCCGGGAGATGGGGGAGGCTAACTGAAAATCGATGGAT   \n",
       "\n",
       "                                                                             QUAL  \n",
       "QNAME                                                                              \n",
       "HWI-1KL149:87:HA58EADXX:1:1101:1813:2228  CCCFFFFFHHHHHJJJJJJJJJJJJJJJJJJJJHJJJJJ  "
      ]
     },
     "metadata": {},
     "output_type": "display_data"
    }
   ],
   "source": [
    "for group, group_df in df.groupby(\"FLAG\"):\n",
    "    print (\"\\nGroup with flag {}\".format(group))\n",
    "    display (group_df)"
   ]
  },
  {
   "cell_type": "markdown",
   "metadata": {},
   "source": [
    "### Group operations"
   ]
  },
  {
   "cell_type": "code",
   "execution_count": null,
   "metadata": {
    "collapsed": true
   },
   "outputs": [],
   "source": []
  },
  {
   "cell_type": "code",
   "execution_count": null,
   "metadata": {
    "collapsed": true
   },
   "outputs": [],
   "source": []
  },
  {
   "cell_type": "code",
   "execution_count": null,
   "metadata": {
    "collapsed": true
   },
   "outputs": [],
   "source": []
  },
  {
   "cell_type": "code",
   "execution_count": null,
   "metadata": {
    "collapsed": true
   },
   "outputs": [],
   "source": []
  },
  {
   "cell_type": "code",
   "execution_count": null,
   "metadata": {
    "collapsed": true
   },
   "outputs": [],
   "source": []
  },
  {
   "cell_type": "code",
   "execution_count": null,
   "metadata": {
    "collapsed": true
   },
   "outputs": [],
   "source": []
  },
  {
   "cell_type": "code",
   "execution_count": null,
   "metadata": {
    "collapsed": true
   },
   "outputs": [],
   "source": []
  },
  {
   "cell_type": "markdown",
   "metadata": {},
   "source": [
    "### And much more..."
   ]
  },
  {
   "cell_type": "markdown",
   "metadata": {},
   "source": [
    "**Pandas documentation is extensive and updated frequently**\n",
    "\n",
    "* [Working with Text Data](http://pandas.pydata.org/pandas-docs/stable/text.html)\n",
    "\n",
    "* [Merge, join, and concatenate](http://pandas.pydata.org/pandas-docs/stable/merging.html)\n",
    "\n",
    "* [Reshaping and Pivot Tables](http://pandas.pydata.org/pandas-docs/stable/reshaping.html)\n",
    "\n",
    "* [IO Tools (Text, CSV, HDF5, ...)](http://pandas.pydata.org/pandas-docs/stable/io.html)\n",
    "\n",
    "* [Time Series / Date functionality](pandas.pydata.org/pandas-docs/stable/timeseries.html)\n",
    "\n",
    "* [Categorical Data](http://pandas.pydata.org/pandas-docs/stable/categorical.html)\n",
    "\n",
    "* [Visualization plotting data](http://pandas.pydata.org/pandas-docs/stable/visualization.html)\n",
    "\n",
    "* [Comparison with R / R libraries](http://pandas.pydata.org/pandas-docs/stable/comparison_with_r.html)"
   ]
  }
 ],
 "metadata": {
  "celltoolbar": "Initialisation Cell",
  "kernelspec": {
   "display_name": "Python 3",
   "language": "python",
   "name": "python3"
  },
  "language_info": {
   "codemirror_mode": {
    "name": "ipython",
    "version": 3
   },
   "file_extension": ".py",
   "mimetype": "text/x-python",
   "name": "python",
   "nbconvert_exporter": "python",
   "pygments_lexer": "ipython3",
   "version": "3.6.0"
  }
 },
 "nbformat": 4,
 "nbformat_minor": 0
}
