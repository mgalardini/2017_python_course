{
 "cells": [
  {
   "cell_type": "code",
   "execution_count": null,
   "metadata": {
    "collapsed": true
   },
   "outputs": [],
   "source": [
    "import sys\n",
    "import logging\n",
    "import argparse\n",
    "import collections"
   ]
  },
  {
   "cell_type": "markdown",
   "metadata": {},
   "source": [
    "Scripting\n",
    "=========\n",
    "\n",
    "As opposed to R, with python is extremely easy to create handy scripts. Those are very useful when working from the command line and/or in HPC (high performance computing).\n",
    "\n",
    "A word on the Unix philosophy\n",
    "------------\n",
    "\n",
    "When writing a script, it's always a good idea to follow the [Unix philosophy](https://en.wikipedia.org/wiki/Unix_philosophy), which emphasizes simplicity, interoperability and modularity instead of overengineering. In short:\n",
    "\n",
    "* Write programs that do one thing and do it well.\n",
    "* Write programs to work together.\n",
    "* Write programs to handle text streams, because that is a universal interface.\n",
    "\n",
    "If you have even a basic knowledge of the use of the `bash` (or bash-like) command line, you would probably already be familiar with these concepts. Consider the following example:\n",
    "\n",
    "    > curl --silent \"http://wodaklab.org/cyc2008/resources/CYC2008_complex.tab\" | head -n 5\n",
    "    ORF     Name    Complex PubMed_id       Method  GO_id   GO_term Jaccard_Index\n",
    "    YKR068C BET3    TRAPP complex   10727015        \"Affinity Capture-Western,Affinity Capture-MS\"  GO:0030008      TRAPP complex   1\n",
    "    YML077W BET5    TRAPP complex\n",
    "    YDR108W GSG1    TRAPP complex\n",
    "    YGR166W KRE11   TRAPP complex\n",
    "    \n",
    "Here we have chained two command line tools: `curl` to stream a text file from the internet and piped it into `head` to show only the first 5 rows. Anideal python script should follow the same principles. Immagine we wanted to substitute `head` with a little script that transforms the text file in a way such that for each complex name (`Name` column) we report all the genes belonging to that complex. For instance:\n",
    "\n",
    "    > curl --silent \"http://wodaklab.org/cyc2008/resources/CYC2008_complex.tab\" | ./cyc2txt | head -n 5\n",
    "    SIR     YLR442C,YDL042C,YDR227W\n",
    "    SIP     YGL208W,YDR422C\n",
    "    PAC1    YGR078C,YDR488C\n",
    "    SIT     YDL047W\n",
    "    CPA     YJR109C,YOR303W\n",
    "    \n",
    "Parsing the command line\n",
    "-----------\n",
    "\n",
    "As shown in the example above, command line tools often accept options and even input files (i.e. `head -n 5`). Parsing these arguments with the necessary flexibility is not trivial. Writing a command line argument parser that handles positional and optional arguments, potentially with some checks on their type is not trivial."
   ]
  },
  {
   "cell_type": "code",
   "execution_count": null,
   "metadata": {
    "collapsed": true
   },
   "outputs": [],
   "source": [
    "def parse_args(cmd_line):\n",
    "    Args = collections.namedtuple('Args',\n",
    "                                  ['n', 'in_file'])\n",
    "    n_trigger = False\n",
    "    # default value for \"n\"\n",
    "    n = 1\n",
    "    for arg in cmd_line:\n",
    "        if n_trigger:\n",
    "            n = int(arg)\n",
    "            n_trigger = False\n",
    "            continue\n",
    "        if arg == '-n':\n",
    "            # next argument belongs to \"-n\"\n",
    "            n_trigger = True\n",
    "            continue\n",
    "        else:\n",
    "            # it must be the positional argument\n",
    "            in_file = arg\n",
    "    return Args(n=n, in_file=in_file)"
   ]
  },
  {
   "cell_type": "code",
   "execution_count": null,
   "metadata": {
    "collapsed": false
   },
   "outputs": [],
   "source": [
    "# immaginary command line\n",
    "cmd_line = '-n 5 myfile.txt'\n",
    "parse_args(cmd_line.split())"
   ]
  },
  {
   "cell_type": "code",
   "execution_count": null,
   "metadata": {
    "collapsed": false
   },
   "outputs": [],
   "source": [
    "# immaginary command line with multiple input files\n",
    "cmd_line = '-n 5 myfile.txt another_one.txt'\n",
    "parse_args(cmd_line.split())"
   ]
  },
  {
   "cell_type": "markdown",
   "metadata": {},
   "source": [
    "**Note:** in real life we would use the following startegy to read the arguments from the command line:\n",
    "\n",
    "    import sys\n",
    "    cmd_line = ' '.join(sys.argv[1:])\n",
    "    \n",
    "`sys.argv[0]` will be the name of the script, as called from the command line"
   ]
  },
  {
   "cell_type": "markdown",
   "metadata": {},
   "source": [
    "We need to extend our original function, to account for additional positional arguments. We'll also add an extra boolean option. "
   ]
  },
  {
   "cell_type": "code",
   "execution_count": null,
   "metadata": {
    "collapsed": true
   },
   "outputs": [],
   "source": [
    "def parse_args(cmd_line):\n",
    "    Args = collections.namedtuple('Args',\n",
    "                                  ['n',\n",
    "                                   'verbose',\n",
    "                                   'in_file',\n",
    "                                   'another_file'])\n",
    "    n_trigger = False\n",
    "    # default value for \"n\"\n",
    "    n = 1\n",
    "    # default value for \"verbose\"\n",
    "    verbose = False\n",
    "    # list to hold the positional arguments\n",
    "    positional = []\n",
    "    for arg in cmd_line:\n",
    "        if n_trigger:\n",
    "            n = int(arg)\n",
    "            n_trigger = False\n",
    "            continue\n",
    "        if arg == '-n':\n",
    "            # next argument belongs to \"-n\"\n",
    "            n_trigger = True\n",
    "        elif arg == '--verbose' or arg == '-v':\n",
    "            verbose = True\n",
    "        else:\n",
    "            # it must be the positional argument\n",
    "            positional.append(arg)\n",
    "    return Args(n=n,\n",
    "                verbose=verbose,\n",
    "                in_file=positional[0],\n",
    "                another_file=positional[1])"
   ]
  },
  {
   "cell_type": "code",
   "execution_count": null,
   "metadata": {
    "collapsed": false
   },
   "outputs": [],
   "source": [
    "# immaginary command line with multiple input files\n",
    "cmd_line = '-n 5 myfile.txt another_one.txt'\n",
    "parse_args(cmd_line.split())"
   ]
  },
  {
   "cell_type": "markdown",
   "metadata": {},
   "source": [
    "What if the `--verbose` option can be called multiple times to modulate the amount of verbosity of our script?"
   ]
  },
  {
   "cell_type": "code",
   "execution_count": null,
   "metadata": {
    "collapsed": true
   },
   "outputs": [],
   "source": [
    "def parse_args(cmd_line):\n",
    "    Args = collections.namedtuple('Args',\n",
    "                                  ['n',\n",
    "                                   'verbose',\n",
    "                                   'in_file',\n",
    "                                   'another_file'])\n",
    "    n_trigger = False\n",
    "    # default value for \"n\"\n",
    "    n = 1\n",
    "    # default value for \"verbose\"\n",
    "    verbose = 0\n",
    "    # list to hold the positional arguments\n",
    "    positional = []\n",
    "    for arg in cmd_line:\n",
    "        if n_trigger:\n",
    "            n = int(arg)\n",
    "            n_trigger = False\n",
    "            continue\n",
    "        if arg == '-n':\n",
    "            # next argument belongs to \"-n\"\n",
    "            n_trigger = True\n",
    "        elif arg == '--verbose' or arg == '-v':\n",
    "            verbose += 1\n",
    "        else:\n",
    "            # it must be the positional argument\n",
    "            positional.append(arg)\n",
    "    return Args(n=n,\n",
    "                verbose=verbose,\n",
    "                in_file=positional[0],\n",
    "                another_file=positional[1])"
   ]
  },
  {
   "cell_type": "code",
   "execution_count": null,
   "metadata": {
    "collapsed": false
   },
   "outputs": [],
   "source": [
    "# immaginary command line with increased verbosity\n",
    "cmd_line = '-n 5 -v -v myfile.txt another_one.txt'\n",
    "parse_args(cmd_line.split())"
   ]
  },
  {
   "cell_type": "code",
   "execution_count": null,
   "metadata": {
    "collapsed": false
   },
   "outputs": [],
   "source": [
    "# by convention we can also increase verbosity in the following manner\n",
    "cmd_line = '-n 5 -vvv myfile.txt another_one.txt'\n",
    "parse_args(cmd_line)"
   ]
  },
  {
   "cell_type": "markdown",
   "metadata": {},
   "source": [
    "Let's add this additional functionality, hopefully you are starting to see how complicated and prone to bugs is writing your own command line parser!"
   ]
  },
  {
   "cell_type": "code",
   "execution_count": null,
   "metadata": {
    "collapsed": true
   },
   "outputs": [],
   "source": [
    "def parse_args(cmd_line):\n",
    "    Args = collections.namedtuple('Args',\n",
    "                                  ['n',\n",
    "                                   'verbose',\n",
    "                                   'in_file',\n",
    "                                   'another_file'])\n",
    "    n_trigger = False\n",
    "    # default value for \"n\"\n",
    "    n = 1\n",
    "    # default value for \"verbose\"\n",
    "    verbose = 0\n",
    "    # list to hold the positional arguments\n",
    "    positional = []\n",
    "    for arg in cmd_line:\n",
    "        if n_trigger:\n",
    "            n = int(arg)\n",
    "            n_trigger = False\n",
    "            continue\n",
    "        if arg == '-n':\n",
    "            # next argument belongs to \"-n\"\n",
    "            n_trigger = True\n",
    "        elif arg == '--verbose' or arg == '-v' or arg.startswith('-v'):\n",
    "            if arg.startswith('-v') and len(arg) > 2 and len({char for char in arg[1:]}) == 1:\n",
    "                verbose += len(arg[1:])\n",
    "            else:\n",
    "                verbose += 1\n",
    "        else:\n",
    "            # it must be the positional argument\n",
    "            positional.append(arg)\n",
    "    return Args(n=n,\n",
    "                verbose=verbose,\n",
    "                in_file=positional[0],\n",
    "                another_file=positional[1])"
   ]
  },
  {
   "cell_type": "code",
   "execution_count": null,
   "metadata": {
    "collapsed": false
   },
   "outputs": [],
   "source": [
    "# by convention we can also increase verbosity in the following manner\n",
    "cmd_line = '-n 5 -vvv myfile.txt another_one.txt'\n",
    "parse_args(cmd_line.split())"
   ]
  },
  {
   "cell_type": "markdown",
   "metadata": {},
   "source": [
    "The `argparse` module\n",
    "----------\n",
    "\n",
    "Python as a very useful module to create scripts, and it is included the standard library: [`argparse`](https://docs.python.org/3/library/argparse.html). It allows to create command line parser that are concise yet very flexible and powerful.\n",
    "\n",
    "Let's rewrite our last example using `argparse`."
   ]
  },
  {
   "cell_type": "code",
   "execution_count": null,
   "metadata": {
    "collapsed": true
   },
   "outputs": [],
   "source": [
    "def parse_args(cmd_line):\n",
    "    parser = argparse.ArgumentParser(prog='fake_script',\n",
    "                                     description='An argparse test')\n",
    "    \n",
    "    # positional arguments\n",
    "    parser.add_argument('my_file',\n",
    "                        help='My input file')\n",
    "    parser.add_argument('another_file',\n",
    "                        help='Another input file')\n",
    "    \n",
    "    # optional arguments\n",
    "    parser.add_argument('-n',\n",
    "                        type=int,\n",
    "                        default=1,\n",
    "                        help='Number of Ns [Default: 1]')\n",
    "    parser.add_argument('-v', '--verbose',\n",
    "                        action='count',\n",
    "                        default=0,\n",
    "                        help='Increase verbosity level')\n",
    "    \n",
    "    return parser.parse_args(cmd_line)"
   ]
  },
  {
   "cell_type": "code",
   "execution_count": null,
   "metadata": {
    "collapsed": false
   },
   "outputs": [],
   "source": [
    "# by convention we can also increase verbosity in the following manner\n",
    "cmd_line = '-n 5 -vvv myfile.txt another_one.txt'\n",
    "parse_args(cmd_line.split())"
   ]
  },
  {
   "cell_type": "markdown",
   "metadata": {},
   "source": [
    "By indicating the type of the `-n` options, we can easily check for its type."
   ]
  },
  {
   "cell_type": "code",
   "execution_count": null,
   "metadata": {
    "collapsed": false
   },
   "outputs": [],
   "source": [
    "# by convention we can also increase verbosity in the following manner\n",
    "cmd_line = '-n not_an_integer -vvv myfile.txt another_one.txt'\n",
    "parse_args(cmd_line.split())"
   ]
  },
  {
   "cell_type": "markdown",
   "metadata": {},
   "source": [
    "...and we also get an `-h` (help) option for free, already formatted!"
   ]
  },
  {
   "cell_type": "code",
   "execution_count": null,
   "metadata": {
    "collapsed": false
   },
   "outputs": [],
   "source": [
    "# by convention we can also increase verbosity in the following manner\n",
    "cmd_line = '-h'\n",
    "parse_args(cmd_line.split())"
   ]
  },
  {
   "cell_type": "markdown",
   "metadata": {},
   "source": [
    "More `argparse` examples\n",
    "--------------\n",
    "\n",
    "**Boolean arguments**\n",
    "\n",
    "Sometimes you want to add a parameter to your script that is a simple trigger and doesn't receive any value. The `action` keyword argument in `argparse` allows us to implement such behavior.\n",
    "\n",
    "[`argparse`'s documentation](https://docs.python.org/3/library/argparse.html#action) has more examples on how to use the `action` argument."
   ]
  },
  {
   "cell_type": "code",
   "execution_count": null,
   "metadata": {
    "collapsed": false
   },
   "outputs": [],
   "source": [
    "def parse_args(cmd_line):\n",
    "    parser = argparse.ArgumentParser(prog='fake_script',\n",
    "                                     description='An argparse example')\n",
    "    \n",
    "    # boolean option\n",
    "    parser.add_argument('-f',\n",
    "                        '--force',\n",
    "                        action='store_true',\n",
    "                        default=False,\n",
    "                        help='Force file creation')\n",
    "    \n",
    "    return parser.parse_args(cmd_line)"
   ]
  },
  {
   "cell_type": "code",
   "execution_count": null,
   "metadata": {
    "collapsed": false
   },
   "outputs": [],
   "source": [
    "cmd_line = '-f'\n",
    "parse_args(cmd_line.split())"
   ]
  },
  {
   "cell_type": "code",
   "execution_count": null,
   "metadata": {
    "collapsed": false
   },
   "outputs": [],
   "source": [
    "cmd_line = ''\n",
    "parse_args(cmd_line.split())"
   ]
  },
  {
   "cell_type": "markdown",
   "metadata": {},
   "source": [
    "**Multiple choices**\n",
    "\n",
    "Sometimes not only you would like to define a `type` for an option, but only allow certain values from a list."
   ]
  },
  {
   "cell_type": "code",
   "execution_count": null,
   "metadata": {
    "collapsed": false
   },
   "outputs": [],
   "source": [
    "def parse_args(cmd_line):\n",
    "    parser = argparse.ArgumentParser(prog='fake_script',\n",
    "                                     description='An argparse example')\n",
    "    \n",
    "    # multiple choices positional argument\n",
    "    parser.add_argument('-m',\n",
    "                        '--metric',\n",
    "                        choices=['jaccard',\n",
    "                                 'hamming'],\n",
    "                        default='jaccard',\n",
    "                        help='Distance metric [Default: jaccard]')\n",
    "    parser.add_argument('-b',\n",
    "                        '--bootstraps',\n",
    "                        type=int,\n",
    "                        choices=range(10, 21),\n",
    "                        default=10,\n",
    "                        help='Bootstraps [Default: 10]')\n",
    "    \n",
    "    return parser.parse_args(cmd_line)"
   ]
  },
  {
   "cell_type": "code",
   "execution_count": null,
   "metadata": {
    "collapsed": false
   },
   "outputs": [],
   "source": [
    "cmd_line = '-m euclidean'\n",
    "parse_args(cmd_line.split())"
   ]
  },
  {
   "cell_type": "code",
   "execution_count": null,
   "metadata": {
    "collapsed": false
   },
   "outputs": [],
   "source": [
    "cmd_line = '-m hamming -b 15'\n",
    "parse_args(cmd_line.split())"
   ]
  },
  {
   "cell_type": "markdown",
   "metadata": {},
   "source": [
    "**Flexible number of arguments: `nargs`**\n",
    "\n",
    "In some cases you might want to have multiple values assigned to an option: for that the `nargs` keyword argument is a flexible option."
   ]
  },
  {
   "cell_type": "code",
   "execution_count": null,
   "metadata": {
    "collapsed": false
   },
   "outputs": [],
   "source": [
    "def parse_args(cmd_line):\n",
    "    parser = argparse.ArgumentParser(prog='fake_script',\n",
    "                                     description='An argparse example')\n",
    "    \n",
    "    parser.add_argument('fastq',\n",
    "                        nargs='+',\n",
    "                        help='Input fastq files')\n",
    "    parser.add_argument('-m',\n",
    "                        '--mate-pairs',\n",
    "                        nargs='*',\n",
    "                        help='Mate pairse fastq files')\n",
    "    \n",
    "    return parser.parse_args(cmd_line)"
   ]
  },
  {
   "cell_type": "code",
   "execution_count": null,
   "metadata": {
    "collapsed": false
   },
   "outputs": [],
   "source": [
    "cmd_line = 'r1.fq.gz r2.fq.gz'\n",
    "parse_args(cmd_line.split())"
   ]
  },
  {
   "cell_type": "code",
   "execution_count": null,
   "metadata": {
    "collapsed": false
   },
   "outputs": [],
   "source": [
    "cmd_line = 'r1.fq.gz r2.fq.gz -m m1.fq.gz m2.fq.gz'\n",
    "parse_args(cmd_line.split())"
   ]
  },
  {
   "cell_type": "code",
   "execution_count": null,
   "metadata": {
    "collapsed": false
   },
   "outputs": [],
   "source": [
    "cmd_line = '-m m1.fq.gz m2.fq.gz'\n",
    "parse_args(cmd_line.split())"
   ]
  },
  {
   "cell_type": "code",
   "execution_count": null,
   "metadata": {
    "collapsed": false
   },
   "outputs": [],
   "source": [
    "cmd_line = '-h'\n",
    "parse_args(cmd_line.split())"
   ]
  },
  {
   "cell_type": "markdown",
   "metadata": {},
   "source": [
    "**One script to rule them all: subcommands**\n",
    "\n",
    "Some software sometimes contain more than one utility at a time, which is handy if you don't want to remember all the various subcommands and their options. Common command line examples are `git` (e.g. `git commit` and `git push`) and in bioinformatics there are many more examples (`bwa`, `bedtools`, `samtools`, ...). If you are developing a program that performs many related tasks, it might be a good idea to have them as functions/classes in a module, and call them through a single script with many `subcommands`.\n",
    "\n",
    "Here's an example:"
   ]
  },
  {
   "cell_type": "code",
   "execution_count": null,
   "metadata": {
    "collapsed": false
   },
   "outputs": [],
   "source": [
    "def init(options):\n",
    "    print('Init the project')\n",
    "    print(options.name, options.description)\n",
    "    \n",
    "def add(options):\n",
    "    print('Add an entry')\n",
    "    print(options.ID, options.name,\n",
    "          options.description, options.color)\n",
    "\n",
    "def parse_args(cmd_line):\n",
    "    parser = argparse.ArgumentParser(prog='fake_script',\n",
    "                                     description='An argparse example')\n",
    "    \n",
    "    subparsers = parser.add_subparsers()\n",
    "    \n",
    "    parser_init = subparsers.add_parser('init',\n",
    "                            help='Initialize the project')\n",
    "    parser_init.add_argument('-n',\n",
    "                             '--name',\n",
    "                             default='Project',\n",
    "                             help='Project name')\n",
    "    parser_init.add_argument('-d',\n",
    "                             '--description',\n",
    "                             default='My project',\n",
    "                             help='Project description')\n",
    "    parser_init.set_defaults(func=init)\n",
    "    \n",
    "    parser_add = subparsers.add_parser('add',\n",
    "                            help='Add an entry')\n",
    "    parser_add.add_argument('ID',\n",
    "                            help='Entry ID')\n",
    "    parser_add.add_argument('-n',\n",
    "                            '--name',\n",
    "                            default='',\n",
    "                            help='Entry name')\n",
    "    parser_add.add_argument('-d',\n",
    "                            '--description',\n",
    "                            default = '',\n",
    "                            help='Entry description')\n",
    "    parser_add.add_argument('-c',\n",
    "                            '--color',\n",
    "                            default='red',\n",
    "                            help='Entry color')\n",
    "    parser_add.set_defaults(func=add)\n",
    "    \n",
    "    return parser.parse_args(cmd_line)"
   ]
  },
  {
   "cell_type": "code",
   "execution_count": null,
   "metadata": {
    "collapsed": false
   },
   "outputs": [],
   "source": [
    "cmd_line = '-h'\n",
    "parse_args(cmd_line.split())"
   ]
  },
  {
   "cell_type": "code",
   "execution_count": null,
   "metadata": {
    "collapsed": false
   },
   "outputs": [],
   "source": [
    "cmd_line = 'init -h'\n",
    "parse_args(cmd_line.split())"
   ]
  },
  {
   "cell_type": "code",
   "execution_count": null,
   "metadata": {
    "collapsed": false
   },
   "outputs": [],
   "source": [
    "cmd_line = 'add -h'\n",
    "parse_args(cmd_line.split())"
   ]
  },
  {
   "cell_type": "code",
   "execution_count": null,
   "metadata": {
    "collapsed": false
   },
   "outputs": [],
   "source": [
    "cmd_line = 'init -n my_project -d awesome'\n",
    "options = parse_args(cmd_line.split())\n",
    "options.func(options)"
   ]
  },
  {
   "cell_type": "code",
   "execution_count": null,
   "metadata": {
    "collapsed": false
   },
   "outputs": [],
   "source": [
    "cmd_line = 'add test -n entry1 -d my_entry'\n",
    "options = parse_args(cmd_line.split())\n",
    "options.func(options)"
   ]
  },
  {
   "cell_type": "markdown",
   "metadata": {},
   "source": [
    "Logging\n",
    "-------\n",
    "\n",
    "A good script is able to keep the user informed about \"what's going on\" during its execution. Given that a script might use the standard output as a way to ouput the results of the script, using the `print` function might not always be an option. In fact it is good practice to at least output the script execution messages to `stderr`, using the `sys` module. This allows you to redirect the `stdout` to a file or another program/script, while being able to monitor the execution messages or to redirect them to a different file."
   ]
  },
  {
   "cell_type": "code",
   "execution_count": null,
   "metadata": {
    "collapsed": false
   },
   "outputs": [],
   "source": [
    "sys.stderr.write('Running an immaginary analysis on the input genes\\n')\n",
    "# the result of our immaginary analysis\n",
    "value = 400\n",
    "# regular output of our immaginary script\n",
    "print('\\t'.join(['gene1', 'gene2', str(value)]))"
   ]
  },
  {
   "cell_type": "markdown",
   "metadata": {},
   "source": [
    "It is also a good idea to return a non-zero exit code when the script is encountering an error. By default, python will return an non-zero exit code when the script end because of an uncatched exception. If you are cathcing it and want to exit in a slightly more grateful way you can use the `sys.exit` function."
   ]
  },
  {
   "cell_type": "code",
   "execution_count": null,
   "metadata": {
    "collapsed": false
   },
   "outputs": [],
   "source": [
    "user_provided_value = 'a'\n",
    "try:\n",
    "    # impossible\n",
    "    parameter = int(user_provided_value)\n",
    "except ValueError:\n",
    "    sys.stderr.write('Invalid type provided\\n')\n",
    "    sys.exit(1)"
   ]
  },
  {
   "cell_type": "markdown",
   "metadata": {},
   "source": [
    "If you want to be more flexible with your logging, you can use the `logging` module, present in python's standard library. It allows the user to:\n",
    "\n",
    "* redirect the logs to file and standard error at the same time\n",
    "* modulate the verbosity of the output\n",
    "* add custom formatters (including color with [minimal tweaking](https://github.com/combogenomics/DuctApe/blob/master/ductape/common/colorlog.py))"
   ]
  },
  {
   "cell_type": "code",
   "execution_count": null,
   "metadata": {
    "collapsed": true
   },
   "outputs": [],
   "source": [
    "# create the logger\n",
    "logger = logging.getLogger('fake_script')\n",
    "\n",
    "# set the verbosity level\n",
    "logger.setLevel(logging.DEBUG)\n",
    "\n",
    "# we want the log to be redirected\n",
    "# to std. err.\n",
    "ch = logging.StreamHandler()\n",
    "# we want a rich output with additional information\n",
    "formatter = logging.Formatter('%(asctime)s - %(name)s - [%(levelname)s] - %(message)s',\n",
    "                              '%Y-%m-%d %H:%M:%S')\n",
    "ch.setFormatter(formatter)\n",
    "logger.addHandler(ch)"
   ]
  },
  {
   "cell_type": "code",
   "execution_count": null,
   "metadata": {
    "collapsed": false
   },
   "outputs": [],
   "source": [
    "# debug message, will be shown given the level we have set\n",
    "logger.debug('test')"
   ]
  },
  {
   "cell_type": "code",
   "execution_count": null,
   "metadata": {
    "collapsed": false
   },
   "outputs": [],
   "source": [
    "logger.setLevel(logging.WARNING)\n",
    "# debug message, will not be shown given the level we have set\n",
    "logger.debug('not-so-interesting debugging information')\n",
    "# warning message, will be shown\n",
    "logger.warning('this might break our script, but i\\'m not sure')"
   ]
  },
  {
   "cell_type": "markdown",
   "metadata": {},
   "source": [
    "The logging levels available are (in order of severity):\n",
    "\n",
    "* DEBUG\n",
    "* INFO\n",
    "* WARNING\n",
    "* ERROR\n",
    "* CRITICAL\n",
    "\n",
    "And as you might have immagined there are corresponding functions to log messages with those levels of severity.\n",
    "\n",
    "Have a look at [python's documentation](https://docs.python.org/3/library/logging.html) for a more in-depth description of the module and its capabilities."
   ]
  },
  {
   "cell_type": "markdown",
   "metadata": {},
   "source": [
    "Script template\n",
    "---------------\n",
    "\n",
    "Find below a minimal script template, including an utility function to parse arguments and minimal logging (can also be found [here](https://gist.github.com/mgalardini/95f36698d206b3cd4368313278602143))."
   ]
  },
  {
   "cell_type": "code",
   "execution_count": null,
   "metadata": {
    "collapsed": true
   },
   "outputs": [],
   "source": [
    "#!/usr/bin/env python\n",
    "'''Description here'''\n",
    "\n",
    "import logging\n",
    "import argparse\n",
    "\n",
    "def get_options():\n",
    "    description = ''\n",
    "    parser = argparse.ArgumentParser(description=description)\n",
    "\n",
    "    parser.add_argument('name',\n",
    "                        help='Name')\n",
    "\n",
    "    return parser.parse_args()\n",
    "\n",
    "\n",
    "def set_logging(level=logging.INFO):\n",
    "    logger = logging.getLogger()\n",
    "    logger.setLevel(level)\n",
    "    ch = logging.StreamHandler()\n",
    "    logger.addHandler(ch)\n",
    "    return logger\n",
    "\n",
    "if __name__ == \"__main__\":\n",
    "    options = get_options()\n",
    "    \n",
    "    logger = set_logging()"
   ]
  },
  {
   "cell_type": "markdown",
   "metadata": {},
   "source": [
    "You might be wondering what's the reason for having the `if __name__ == \"__main__\":` bit. The reasons are multiple:\n",
    "\n",
    "* performance: having the bottom-level code inside a scope makes it slightly faster, expecially for scripts that need limited time to run\n",
    "* your script might be part of a module and not always intended to be run as a script\n",
    "\n",
    "FOr the latter reason, immagine your script is part of a python module and contains a function that you want to reuse later. You only want the function, but you are not interested in running the rest of the script. By encapsulating the low level of the script inside `if __name__ == \"__main__\":` you are allowing yourself (or your user) to use `import` to obtain their function of interest.\n",
    "\n",
    "In fact, the main script gets `__main__` as the value of the `__name__` variable, while any imported script or module gets a different value for `__name__`. That is the main reason why that (ugly) expression is commonly used in scripts."
   ]
  }
 ],
 "metadata": {
  "kernelspec": {
   "display_name": "Python 3",
   "language": "python",
   "name": "python3"
  },
  "language_info": {
   "codemirror_mode": {
    "name": "ipython",
    "version": 3
   },
   "file_extension": ".py",
   "mimetype": "text/x-python",
   "name": "python",
   "nbconvert_exporter": "python",
   "pygments_lexer": "ipython3",
   "version": "3.5.3"
  }
 },
 "nbformat": 4,
 "nbformat_minor": 0
}
