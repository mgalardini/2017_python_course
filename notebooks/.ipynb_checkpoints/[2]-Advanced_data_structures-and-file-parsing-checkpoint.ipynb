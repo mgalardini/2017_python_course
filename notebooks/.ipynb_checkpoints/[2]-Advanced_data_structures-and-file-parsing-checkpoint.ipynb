{
 "cells": [
  {
   "cell_type": "markdown",
   "metadata": {},
   "source": [
    "# Imports\n",
    "\n",
    "**Importing the package you will need on the top of your notebook is a good programming practice** "
   ]
  },
  {
   "cell_type": "code",
   "execution_count": 1,
   "metadata": {
    "ExecuteTime": {
     "end_time": "2017-09-18T15:07:47.669879",
     "start_time": "2017-09-18T15:07:47.371958Z"
    },
    "collapsed": false,
    "init_cell": true,
    "run_control": {
     "frozen": false,
     "read_only": false
    }
   },
   "outputs": [
    {
     "data": {
      "text/html": [
       "<style>.container { width:90% !important; }</style>"
      ],
      "text/plain": [
       "<IPython.core.display.HTML object>"
      ]
     },
     "metadata": {},
     "output_type": "display_data"
    }
   ],
   "source": [
    "# Import the packages that will be usefull for this part of the lesson\n",
    "from collections import OrderedDict, Counter, namedtuple\n",
    "import pandas as pd\n",
    "from pprint import pprint\n",
    "\n",
    "# Small trick to get a larger display\n",
    "from IPython.core.display import display, HTML, Image\n",
    "display(HTML(\"<style>.container { width:90% !important; }</style>\"))"
   ]
  },
  {
   "cell_type": "markdown",
   "metadata": {},
   "source": [
    "---"
   ]
  },
  {
   "cell_type": "markdown",
   "metadata": {},
   "source": [
    "# General file parsing strategy"
   ]
  },
  {
   "cell_type": "markdown",
   "metadata": {},
   "source": [
    "* **1. Read the first line of the file and try to understand the structure and determine the length of the file**"
   ]
  },
  {
   "cell_type": "code",
   "execution_count": null,
   "metadata": {
    "collapsed": true,
    "run_control": {
     "frozen": false,
     "read_only": false
    }
   },
   "outputs": [],
   "source": [
    "file = \"../data/gencode_sample.gff3\""
   ]
  },
  {
   "cell_type": "code",
   "execution_count": null,
   "metadata": {
    "collapsed": false,
    "run_control": {
     "frozen": false,
     "read_only": false
    }
   },
   "outputs": [],
   "source": [
    "# Count all the lines in python\n",
    "i = 0\n",
    "with open (file, \"r\") as fp:\n",
    "    for line in fp:\n",
    "        i += 1\n",
    "print (i, \"lines found\")"
   ]
  },
  {
   "cell_type": "code",
   "execution_count": null,
   "metadata": {
    "collapsed": false,
    "run_control": {
     "frozen": false,
     "read_only": false
    }
   },
   "outputs": [],
   "source": [
    "# Count all the lines in bash\n",
    "!wc -l {file}"
   ]
  },
  {
   "cell_type": "code",
   "execution_count": null,
   "metadata": {
    "collapsed": false,
    "run_control": {
     "frozen": false,
     "read_only": false
    }
   },
   "outputs": [],
   "source": [
    "# Read the first 2 lines in python\n",
    "with open (file, \"r\") as fp:\n",
    "    for _ in range (2):\n",
    "        print (next(fp).strip())"
   ]
  },
  {
   "cell_type": "code",
   "execution_count": null,
   "metadata": {
    "collapsed": false,
    "run_control": {
     "frozen": false,
     "read_only": false
    }
   },
   "outputs": [],
   "source": [
    "# Read the first 2 lines in Bash\n",
    "!head {file} -n 2"
   ]
  },
  {
   "cell_type": "markdown",
   "metadata": {},
   "source": [
    "* **2. If the file is a standard genomic/proteomic format, read the documentation**\n",
    "\n",
    "> There is no central database. You have to find it by yourself\n",
    "\n",
    "> Wikipedia is usually a good starting point, but try to identify the orginal source which is usually more up to date."
   ]
  },
  {
   "cell_type": "markdown",
   "metadata": {},
   "source": [
    "* **3. Think about the most efficient way to parse the file to get the information you want**\n",
    "\n",
    "> How are you going to access the field(s) of interest ? (you can test that with 1 line before starting with the whole file)\n",
    "    \n",
    "> A real life file will contain millions of lines and file reading is usually slow. Try to read the file only 1 time, even if you need to parse multiple element per line.\n",
    "\n",
    "> Do you know how many lines and how many fields per line you will collect ?\n",
    "    \n",
    "> How are you going to collect the information (dictionary, tuple, list, dataframe...) ?\n",
    "    \n",
    "**... Now you can parse the file**"
   ]
  },
  {
   "cell_type": "markdown",
   "metadata": {},
   "source": [
    "---"
   ]
  },
  {
   "cell_type": "markdown",
   "metadata": {},
   "source": [
    "# High-performance container datatypes from the standard library"
   ]
  },
  {
   "cell_type": "markdown",
   "metadata": {},
   "source": [
    "**Python standard library contains a very interesting package to simplify the parsing a file: \"collections\" (See [documentation](https://docs.python.org/3.5/library/collections.html) for detailed information)**\n",
    "\n",
    "**This module implements specialized container datatypes providing alternatives to Python’s native data structures (dict, list, set...)**\n",
    "\n",
    "| **Collection** \t| **Functionality**                                                    \t|\n",
    "|------------------ |----------------------------------------------------------------------\t|\n",
    "| **Counter**     \t| Dict subclass for counting hashable objects                          \t|\n",
    "| **OrderedDict** \t| Dict subclass that remembers the order entries were added            \t|\n",
    "| **namedtuple**  \t| Factory function for creating tuple subclasses with named fields     \t|\n",
    "| **deque**       \t| List-like container with fast appends and pops on either end         \t|\n",
    "| **ChainMap**    \t| Dict-like class for creating a single view of multiple mappings      \t|\n",
    "| **defaultdict** \t| Dict subclass that calls a factory function to supply missing values \t|\n",
    "| **UserDict**    \t| Wrapper around dictionary objects for easier dict subclassing        \t|\n",
    "| **UserList**    \t| Wrapper around list objects for easier list subclassing              \t|\n",
    "| **UserString**  \t| Wrapper around string objects for easier string subclassing          \t|"
   ]
  },
  {
   "cell_type": "markdown",
   "metadata": {},
   "source": [
    "---"
   ]
  },
  {
   "cell_type": "markdown",
   "metadata": {},
   "source": [
    "## Counter"
   ]
  },
  {
   "cell_type": "markdown",
   "metadata": {},
   "source": [
    "**A [Counter](https://docs.python.org/3.5/library/collections.html#collections.Counter) container is provided to support convenient and rapid counting of specific occurences.**\n",
    "\n",
    "**See also [defaultdict](https://docs.python.org/3.5/library/collections.html#collections.defaultdict) for a generalization to other types than integer.**"
   ]
  },
  {
   "cell_type": "markdown",
   "metadata": {},
   "source": [
    "***Example: counting words in a text*** "
   ]
  },
  {
   "cell_type": "code",
   "execution_count": null,
   "metadata": {
    "ExecuteTime": {
     "end_time": "2017-09-11T11:16:44.766063",
     "start_time": "2017-09-11T11:16:44.756118Z"
    },
    "collapsed": true,
    "run_control": {
     "frozen": false,
     "read_only": false
    }
   },
   "outputs": [],
   "source": [
    "random_text = \"\"\"Ukip is likely to be asked to repay tens of thousands of euros by European parliament finance chiefs\n",
    "who have accused the party of misspending EU funds on party workers and Nigel Farage’s failed bid to win a seat in\n",
    "Westminster.The Alliance for Direct Democracy in Europe (ADDE), a Ukip-dominated political vehicle, will be asked to\n",
    "repay €173,000 (£148,000) in misspent funds and denied a further €501,000 in EU grants for breaking European rules\n",
    "that ban spending EU money on national election campaigns and referendums. According to a European parliament audit\n",
    "report seen by the Guardian, Ukip spent EU funds on polling and analysis in constituencies where they hoped to win a \n",
    "seat in the 2015 general election, including the South Thanet seat that party leader Farage contested. The party also\n",
    "funded polls to gauge the public mood on leaving the EU, months before the official campaign kicked off in April 2016\"\"\""
   ]
  },
  {
   "cell_type": "code",
   "execution_count": null,
   "metadata": {
    "ExecuteTime": {
     "end_time": "2017-09-11T12:38:49.197904",
     "start_time": "2017-09-11T12:38:49.185829Z"
    },
    "collapsed": false,
    "run_control": {
     "frozen": false,
     "read_only": false
    },
    "scrolled": true
   },
   "outputs": [],
   "source": [
    "# Example with a Counter \n",
    "c = Counter()\n",
    "\n",
    "# Iterate over each word of the string\n",
    "for word in random_text.split():\n",
    "    # Increment the counter for the current element\n",
    "    c[word.lower()] += 1\n",
    "\n",
    "# Order by most frequent element\n",
    "c.most_common(10)"
   ]
  },
  {
   "cell_type": "code",
   "execution_count": null,
   "metadata": {
    "ExecuteTime": {
     "end_time": "2017-09-11T12:38:54.055937",
     "start_time": "2017-09-11T12:38:54.037185Z"
    },
    "collapsed": false,
    "run_control": {
     "frozen": false,
     "read_only": false
    }
   },
   "outputs": [],
   "source": [
    "# Same thing but with native dict\n",
    "d = {}\n",
    "\n",
    "# Iterate over each characters of the string\n",
    "for word in random_text.split():\n",
    "    word = word.lower()\n",
    "    # If the element is not in the dict we have to create an entry first\n",
    "    if word not in d:\n",
    "        d[word] = 0\n",
    "    # Increment the counter for the current element\n",
    "    d[word]+=1\n",
    "    \n",
    "# Order by most frequent element\n",
    "sorted(d.items(), key=lambda t: t[1], reverse=True)[:10]"
   ]
  },
  {
   "cell_type": "markdown",
   "metadata": {},
   "source": [
    "---"
   ]
  },
  {
   "cell_type": "markdown",
   "metadata": {},
   "source": [
    "## OrderedDict"
   ]
  },
  {
   "cell_type": "markdown",
   "metadata": {},
   "source": [
    "**In a standard python dictionary, the order of the elements is not guaranteed and can change between 2 successive calls. In many situations, it can be annoying particularly if the order of elements in a parsed file matters (fastq, fasta...)**\n",
    "\n",
    "**[Ordered dictionaries](https://docs.python.org/3.5/library/collections.html#collections.OrderedDict) are just like regular dictionaries but they remember the order that items were inserted, like lists.**\n",
    "\n",
    "**When iterating over an ordered dictionary, the items are returned in the order their keys were first added.**"
   ]
  },
  {
   "cell_type": "code",
   "execution_count": null,
   "metadata": {
    "collapsed": false,
    "run_control": {
     "frozen": false,
     "read_only": false
    }
   },
   "outputs": [],
   "source": [
    "fruit_str = \"banana ripe:banana unripe:banana ripe:banana rotten:apple ripe:apple ripe:apple ripe:apple unripe:orange unripe:orange unripe:orange unripe:pear rotten:pear rotten:pear ripe\""
   ]
  },
  {
   "cell_type": "markdown",
   "metadata": {},
   "source": [
    "***Parsing with a normal dictionary*** "
   ]
  },
  {
   "cell_type": "code",
   "execution_count": null,
   "metadata": {
    "collapsed": false,
    "run_control": {
     "frozen": false,
     "read_only": false
    },
    "scrolled": true
   },
   "outputs": [],
   "source": [
    "d={}\n",
    "\n",
    "for element in fruit_str.split(\":\"):\n",
    "    fruit, status = element.split(\" \")\n",
    "    if fruit not in d:\n",
    "        d[fruit] = Counter()\n",
    "    d[fruit][status]+=1\n",
    "\n",
    "d"
   ]
  },
  {
   "cell_type": "markdown",
   "metadata": {},
   "source": [
    "***Parsing with an `OrderedDict`*** "
   ]
  },
  {
   "cell_type": "code",
   "execution_count": null,
   "metadata": {
    "collapsed": false,
    "run_control": {
     "frozen": false,
     "read_only": false
    },
    "scrolled": true
   },
   "outputs": [],
   "source": [
    "d=OrderedDict()\n",
    "\n",
    "for element in fruit_str.split(\":\"):\n",
    "    fruit, status = element.split(\" \")\n",
    "    if fruit not in d:\n",
    "        d[fruit] = Counter()\n",
    "    d[fruit][status]+=1\n",
    "\n",
    "d"
   ]
  },
  {
   "cell_type": "markdown",
   "metadata": {},
   "source": [
    "**Since an ordered dictionary remembers its insertion order, it can be used in conjunction with sorting to make a sorted dictionary (by key or value) from a standard dictionary**\n"
   ]
  },
  {
   "cell_type": "code",
   "execution_count": null,
   "metadata": {
    "collapsed": false,
    "run_control": {
     "frozen": false,
     "read_only": false
    }
   },
   "outputs": [],
   "source": [
    "print (\"\\nStandard unsorted dictionary\")\n",
    "d = {'banana':3, 'apple':4, 'pear':1, 'orange':2, \"peach\":10, \"apricot\":2}\n",
    "pprint (d)"
   ]
  },
  {
   "cell_type": "code",
   "execution_count": null,
   "metadata": {
    "collapsed": false,
    "run_control": {
     "frozen": false,
     "read_only": false
    }
   },
   "outputs": [],
   "source": [
    "print(\"\\nDictionary sorted by key\")\n",
    "d_per_key = OrderedDict(sorted(d.items(), key=lambda t: t[0]))\n",
    "pprint (d_per_key)"
   ]
  },
  {
   "cell_type": "code",
   "execution_count": null,
   "metadata": {
    "ExecuteTime": {
     "end_time": "2017-09-11T10:39:23.146544",
     "start_time": "2017-09-11T10:39:23.123470Z"
    },
    "collapsed": false,
    "run_control": {
     "frozen": false,
     "read_only": false
    }
   },
   "outputs": [],
   "source": [
    "print(\"\\nDictionary sorted by value\")\n",
    "d_per_val = OrderedDict(sorted(d.items(), key=lambda t: t[1]))\n",
    "pprint (d_per_val)"
   ]
  },
  {
   "cell_type": "markdown",
   "metadata": {},
   "source": [
    "---"
   ]
  },
  {
   "cell_type": "markdown",
   "metadata": {},
   "source": [
    "## Namedtuple"
   ]
  },
  {
   "cell_type": "markdown",
   "metadata": {},
   "source": [
    "**[Namedtuple](https://docs.python.org/3.5/library/collections.html#collections.namedtuple) are tuples with customizable field names, which makes them more intuitive to use**\n",
    "\n",
    "**Similar to normal tuples**\n",
    "* Immutable sequence that can contain any type\n",
    "* Much **faster** than lists\n",
    "\n",
    "** Contrary to normal tuples**\n",
    "* Initialization creates a new tuple subclass with a custom name\n",
    "* Attribute fields can be named\n",
    "* Access to the fields by name, like an object field\n",
    "* helpful rendering thanks to a `__repr__()` method"
   ]
  },
  {
   "cell_type": "markdown",
   "metadata": {},
   "source": [
    "** Simple example of initialisation and instantiation **"
   ]
  },
  {
   "cell_type": "code",
   "execution_count": null,
   "metadata": {
    "ExecuteTime": {
     "end_time": "2017-09-11T11:23:58.898886",
     "start_time": "2017-09-11T11:23:58.893773Z"
    },
    "collapsed": false,
    "run_control": {
     "frozen": false,
     "read_only": false
    }
   },
   "outputs": [],
   "source": [
    "# Create the new type\n",
    "Point = namedtuple('Point', ['x', 'y'])"
   ]
  },
  {
   "cell_type": "code",
   "execution_count": null,
   "metadata": {
    "ExecuteTime": {
     "end_time": "2017-09-11T11:24:55.861817",
     "start_time": "2017-09-11T11:24:55.855887Z"
    },
    "collapsed": false,
    "run_control": {
     "frozen": false,
     "read_only": false
    }
   },
   "outputs": [],
   "source": [
    "# Create a new Point Object\n",
    "p = Point(x=10, y=23)\n",
    "p"
   ]
  },
  {
   "cell_type": "code",
   "execution_count": null,
   "metadata": {
    "ExecuteTime": {
     "end_time": "2017-09-11T11:37:09.621362",
     "start_time": "2017-09-11T11:37:09.612559Z"
    },
    "collapsed": false,
    "run_control": {
     "frozen": false,
     "read_only": false
    },
    "scrolled": true
   },
   "outputs": [],
   "source": [
    "# Access to the fields by index or by point\n",
    "print(p[0])\n",
    "print(p.x)"
   ]
  },
  {
   "cell_type": "markdown",
   "metadata": {},
   "source": [
    "**Example of file parsing**"
   ]
  },
  {
   "cell_type": "code",
   "execution_count": null,
   "metadata": {
    "ExecuteTime": {
     "end_time": "2017-09-11T12:54:56.749686",
     "start_time": "2017-09-11T12:54:56.512967Z"
    },
    "collapsed": false,
    "run_control": {
     "frozen": false,
     "read_only": false
    }
   },
   "outputs": [],
   "source": [
    "!head \"../data/abundance.tsv\"\n",
    "!wc -l \"../data/abundance.tsv\""
   ]
  },
  {
   "cell_type": "markdown",
   "metadata": {},
   "source": [
    "**We will represent each line with a `namedtuple`, themselves stored in a `list` representing the entire file.**\n",
    "\n",
    "**We will store only the field we are interested in: `target_id`, `length`, `tpm`**\n",
    "\n",
    "**In addition only line with `length` greater than 50,000 will be saved**"
   ]
  },
  {
   "cell_type": "code",
   "execution_count": null,
   "metadata": {
    "ExecuteTime": {
     "end_time": "2017-09-11T13:01:30.470997",
     "start_time": "2017-09-11T13:01:30.456530Z"
    },
    "collapsed": false,
    "run_control": {
     "frozen": false,
     "read_only": false
    }
   },
   "outputs": [],
   "source": [
    "abundance_line = namedtuple(\"abundance_line\", [\"target_id\", \"length\", \"tpm\"])\n",
    "abundance_line"
   ]
  },
  {
   "cell_type": "code",
   "execution_count": null,
   "metadata": {
    "ExecuteTime": {
     "end_time": "2017-09-11T13:03:10.679185",
     "start_time": "2017-09-11T13:03:10.634925Z"
    },
    "collapsed": false,
    "run_control": {
     "frozen": false,
     "read_only": false
    }
   },
   "outputs": [],
   "source": [
    "with open (\"../data/abundance.tsv\", \"r\") as fp:\n",
    "    # Flush the first header line\n",
    "    header = next(fp)\n",
    "    \n",
    "    # Init an empty list to store each parsed line\n",
    "    line_list = []\n",
    "    \n",
    "    # Iterate over all the lines and save the information in a list of namedtuples\n",
    "    for line in fp:\n",
    "        line = line.split()\n",
    "        \n",
    "        # Select lines with a length > 50000, create an abundance_line namedtuple and append to the list\n",
    "        if int(line[1]) > 50000:\n",
    "            a = abundance_line(target_id = line[0], length = int(line[1]), tpm = float(line[4])) # Cast in numeric types\n",
    "            line_list.append(a)\n",
    "\n",
    "pprint(line_list)"
   ]
  },
  {
   "cell_type": "markdown",
   "metadata": {},
   "source": [
    "**Access to the stored element is straightforward and intuitive** "
   ]
  },
  {
   "cell_type": "code",
   "execution_count": null,
   "metadata": {
    "ExecuteTime": {
     "end_time": "2017-09-11T13:06:07.734898",
     "start_time": "2017-09-11T13:06:07.724665Z"
    },
    "collapsed": false,
    "run_control": {
     "frozen": false,
     "read_only": false
    }
   },
   "outputs": [],
   "source": [
    "# Access to the feature_id of the second line\n",
    "line_list[1].target_id"
   ]
  },
  {
   "cell_type": "markdown",
   "metadata": {},
   "source": [
    "---"
   ]
  },
  {
   "cell_type": "markdown",
   "metadata": {},
   "source": [
    "# Generators"
   ]
  },
  {
   "cell_type": "markdown",
   "metadata": {},
   "source": [
    "A `generator` is an object that will return values computed **on the fly**. The size could be **indefinite or not** and can encapsulate significant computing. \n",
    "\n",
    "Contrary to mappings (`dict`, `list`, ...) the values of the series are **not stored in memory**, but generated only when required.\n",
    "\n",
    "Can be used in place of a list when the size of the series is very long to save memory.\n",
    "\n",
    "A good example is the `randint` function from the `random` package."
   ]
  },
  {
   "cell_type": "code",
   "execution_count": null,
   "metadata": {
    "ExecuteTime": {
     "end_time": "2017-09-11T14:53:00.263272",
     "start_time": "2017-09-11T14:53:00.245097Z"
    },
    "collapsed": false,
    "run_control": {
     "frozen": false,
     "read_only": false
    }
   },
   "outputs": [],
   "source": [
    "from random import randint\n",
    "randint(10, 100)"
   ]
  },
  {
   "cell_type": "markdown",
   "metadata": {},
   "source": [
    "A generator is a function (or a class method) using a **`yield` statement in place of a `return` statement**"
   ]
  },
  {
   "cell_type": "markdown",
   "metadata": {},
   "source": [
    "**Example of a generator function to parse gencode gff3 file and extract the feature ID field if the feature matches specific requirements**\n",
    "\n",
    "First we write the generator function"
   ]
  },
  {
   "cell_type": "code",
   "execution_count": null,
   "metadata": {
    "ExecuteTime": {
     "end_time": "2017-09-11T16:50:18.270904",
     "start_time": "2017-09-11T16:50:18.255803Z"
    },
    "collapsed": true,
    "run_control": {
     "frozen": false,
     "read_only": false
    }
   },
   "outputs": [],
   "source": [
    "def gencode_ID_generator (file, max_lines=10): # max_lines is to control the maximal number of lines generated\n",
    "    \n",
    "    # Open the file using a with statement\n",
    "    with open (file, \"r\") as fp:\n",
    "        \n",
    "        # The loop will provide the iteration for the generator.\n",
    "        # Lines are counted by the enumerate statement and a control break will exit when the max number of lines is reached \n",
    "        for i, line in enumerate(fp):\n",
    "            if i > max_lines:\n",
    "                break\n",
    "            \n",
    "            # Extract the ID from the attribute field (attribute = 9th field, ID = first field of attribute + get rid of the field name)\n",
    "            ID = line.split(\"\\t\")[8].split(\";\")[0].split(\"=\")[1]\n",
    "            \n",
    "            # The yield statement will return a value each time the generator is called\n",
    "            yield ID"
   ]
  },
  {
   "cell_type": "markdown",
   "metadata": {},
   "source": [
    "Now we can create the generator from a gencode gff3 file"
   ]
  },
  {
   "cell_type": "code",
   "execution_count": null,
   "metadata": {
    "ExecuteTime": {
     "end_time": "2017-09-11T16:53:55.717380",
     "start_time": "2017-09-11T16:53:55.713313Z"
    },
    "collapsed": false,
    "run_control": {
     "frozen": false,
     "read_only": false
    },
    "scrolled": true
   },
   "outputs": [],
   "source": [
    "gen = gencode_ID_generator(\"../data/gencode_sample.gff3\", max_lines=10)"
   ]
  },
  {
   "cell_type": "markdown",
   "metadata": {},
   "source": [
    "Elements can be generated by calling the generator with the `next` function"
   ]
  },
  {
   "cell_type": "code",
   "execution_count": null,
   "metadata": {
    "ExecuteTime": {
     "end_time": "2017-09-11T16:53:57.181124",
     "start_time": "2017-09-11T16:53:57.170713Z"
    },
    "collapsed": false,
    "run_control": {
     "frozen": false,
     "read_only": false
    }
   },
   "outputs": [],
   "source": [
    "next(gen)"
   ]
  },
  {
   "cell_type": "code",
   "execution_count": null,
   "metadata": {
    "collapsed": true,
    "run_control": {
     "frozen": false,
     "read_only": false
    }
   },
   "outputs": [],
   "source": [
    "next(gen)"
   ]
  },
  {
   "cell_type": "markdown",
   "metadata": {},
   "source": [
    "Or using a `for` loop until the generator is exhausted"
   ]
  },
  {
   "cell_type": "code",
   "execution_count": null,
   "metadata": {
    "ExecuteTime": {
     "end_time": "2017-09-11T16:53:58.735566",
     "start_time": "2017-09-11T16:53:58.730152Z"
    },
    "collapsed": false,
    "run_control": {
     "frozen": false,
     "read_only": false
    }
   },
   "outputs": [],
   "source": [
    "for ID in gen:\n",
    "    print (ID)"
   ]
  },
  {
   "cell_type": "markdown",
   "metadata": {},
   "source": [
    "# Pandas: Powerful data structures for data analysis, time series, and statistics"
   ]
  },
  {
   "cell_type": "markdown",
   "metadata": {},
   "source": [
    "* Flexible, and expressive data structures **Series** (1D) and **DataFrame** (2D) and **Panel** (3D) \n",
    "* High-level building block for doing **practical, real world data analysis**\n",
    "* **Nearly as fast as C language** = Build on top of Numpy and extensive use of Cython\n",
    "* **Robust IO tools** for loading and parsing data from text files, excel files and databases."
   ]
  },
  {
   "cell_type": "markdown",
   "metadata": {},
   "source": [
    "## Series"
   ]
  },
  {
   "cell_type": "markdown",
   "metadata": {},
   "source": [
    "* **1D labeled array capable of holding any data type** (integers, strings, float...)\n",
    "\n",
    "* Similar to a python standard dictionary but **faster** (because based on C datatypes) and more **user-friendly** in Jupyter\n",
    "\n",
    "* **Adding/removing new elements is inefficient** as it is store as a block in memory and thus requires a resizing and reallocation each time an element is added or removed"
   ]
  },
  {
   "cell_type": "markdown",
   "metadata": {},
   "source": [
    "### Create series"
   ]
  },
  {
   "cell_type": "markdown",
   "metadata": {},
   "source": [
    "***From 2 lists or sets ***"
   ]
  },
  {
   "cell_type": "code",
   "execution_count": null,
   "metadata": {
    "collapsed": false,
    "run_control": {
     "frozen": false,
     "read_only": false
    }
   },
   "outputs": [],
   "source": [
    "Base = ('A','T','C','G','N')\n",
    "Freq = (0.21, 0.24, 0.27, 0.25, 0.03)\n",
    "pd.Series(data=Freq, index=Base)"
   ]
  },
  {
   "cell_type": "markdown",
   "metadata": {},
   "source": [
    "***From a python dictionary***"
   ]
  },
  {
   "cell_type": "code",
   "execution_count": null,
   "metadata": {
    "collapsed": false,
    "run_control": {
     "frozen": false,
     "read_only": false
    }
   },
   "outputs": [],
   "source": [
    "d = {'A':0.21, 'T':0.24, 'C':0.27, 'G':0.25, 'N':0.03}\n",
    "pd.Series(d)"
   ]
  },
  {
   "cell_type": "markdown",
   "metadata": {},
   "source": [
    "***The data type and series names can be specified*** "
   ]
  },
  {
   "cell_type": "code",
   "execution_count": null,
   "metadata": {
    "collapsed": false,
    "run_control": {
     "frozen": false,
     "read_only": false
    }
   },
   "outputs": [],
   "source": [
    "d = {'A':21.0, 'T':24.0, 'C':27.0, 'G':25.0, 'N':3.0}\n",
    "pd.Series(d, name=\"Percent\", dtype=int)"
   ]
  },
  {
   "cell_type": "markdown",
   "metadata": {},
   "source": [
    "**From a file containing 2 columns with the squeeze option**"
   ]
  },
  {
   "cell_type": "code",
   "execution_count": null,
   "metadata": {
    "collapsed": false,
    "run_control": {
     "frozen": false,
     "read_only": false
    }
   },
   "outputs": [],
   "source": [
    "pd.read_table(\"../data/DNA_distrib.tsv\", index_col=0, squeeze=True, sep=\"\\t\")"
   ]
  },
  {
   "cell_type": "markdown",
   "metadata": {},
   "source": [
    "### Manipulate series"
   ]
  },
  {
   "cell_type": "markdown",
   "metadata": {},
   "source": [
    "***Support list methods***"
   ]
  },
  {
   "cell_type": "code",
   "execution_count": null,
   "metadata": {
    "collapsed": true,
    "run_control": {
     "frozen": false,
     "read_only": false
    }
   },
   "outputs": [],
   "source": [
    "s = pd.Series({'A':0.21, 'T':0.24, 'C':0.27, 'G':0.25})"
   ]
  },
  {
   "cell_type": "code",
   "execution_count": null,
   "metadata": {
    "collapsed": false,
    "run_control": {
     "frozen": false,
     "read_only": false
    }
   },
   "outputs": [],
   "source": [
    "# Concat 2 series\n",
    "s2 = pd.Series({'Y':0.01, 'N':0.03})\n",
    "s3 = s.append(s2)\n",
    "print(s3)"
   ]
  },
  {
   "cell_type": "code",
   "execution_count": null,
   "metadata": {
    "collapsed": false,
    "run_control": {
     "frozen": false,
     "read_only": false
    }
   },
   "outputs": [],
   "source": [
    "# Slicing\n",
    "print(s[2:4])"
   ]
  },
  {
   "cell_type": "code",
   "execution_count": null,
   "metadata": {
    "collapsed": false,
    "run_control": {
     "frozen": false,
     "read_only": false
    }
   },
   "outputs": [],
   "source": [
    "# Extraction\n",
    "print(s[2])"
   ]
  },
  {
   "cell_type": "code",
   "execution_count": null,
   "metadata": {
    "collapsed": false,
    "run_control": {
     "frozen": false,
     "read_only": false
    }
   },
   "outputs": [],
   "source": [
    "# the \"for\" loop works as for a list \n",
    "for i in s:\n",
    "    print (i)"
   ]
  },
  {
   "cell_type": "markdown",
   "metadata": {
    "collapsed": false,
    "run_control": {
     "frozen": false,
     "read_only": false
    }
   },
   "source": [
    "***Support dictionary methods***"
   ]
  },
  {
   "cell_type": "code",
   "execution_count": null,
   "metadata": {
    "collapsed": false,
    "run_control": {
     "frozen": false,
     "read_only": false
    }
   },
   "outputs": [],
   "source": [
    "s = pd.Series({'A':21.0, 'T':24.0, 'C':27.0, 'G':25.0, 'N':3.0}, name=\"Percent\", dtype=int)\n",
    "\n",
    "# Update value\n",
    "s[\"A\"] = 22\n",
    "print(s)\n",
    "\n",
    "# Named indexing\n",
    "print(s[\"A\"])\n",
    "\n",
    "# Test for existence\n",
    "print (\"A\" in s)\n",
    "print (\"V\" in s)"
   ]
  },
  {
   "cell_type": "markdown",
   "metadata": {
    "collapsed": true,
    "run_control": {
     "frozen": false,
     "read_only": false
    }
   },
   "source": [
    "***Support a wide range of mathematic operations (thanks to `numpy`)***"
   ]
  },
  {
   "cell_type": "code",
   "execution_count": null,
   "metadata": {
    "collapsed": false,
    "run_control": {
     "frozen": false,
     "read_only": false
    }
   },
   "outputs": [],
   "source": [
    "s = pd.Series({'A':21, 'T':24, 'C':27, 'G':25, 'N':3}, name=\"Percent\")\n",
    "\n",
    "print(s.max())\n",
    "print(s.mean())\n",
    "print(s.all()>20)\n",
    "print(s.sem())"
   ]
  },
  {
   "cell_type": "code",
   "execution_count": null,
   "metadata": {
    "collapsed": false,
    "run_control": {
     "frozen": false,
     "read_only": false
    }
   },
   "outputs": [],
   "source": [
    "# Addition of 2 series will return a results for all values in the 2 series\n",
    "s2 = pd.Series({'A':0.2, 'T':0.7, 'C':0.4, 'G':1.5, 'N':-3}, name=\"Percent\")\n",
    "\n",
    "print (s + s2)"
   ]
  },
  {
   "cell_type": "markdown",
   "metadata": {
    "collapsed": true,
    "run_control": {
     "frozen": false,
     "read_only": false
    }
   },
   "source": [
    "## Dataframes"
   ]
  },
  {
   "cell_type": "markdown",
   "metadata": {
    "collapsed": true,
    "run_control": {
     "frozen": false,
     "read_only": false
    }
   },
   "source": [
    "* **2-dimensional labeled data structure** with columns of potentially different types\n",
    "* Beautiful **HTML rendering in jupyter**\n",
    "* Same as for `Series`, **adding/removing new elements is inefficient** because of memory reallocation."
   ]
  },
  {
   "cell_type": "markdown",
   "metadata": {},
   "source": [
    "The default dataframe rendering in jupyter can be tweaked with **[pd.options.display](http://pandas.pydata.org/pandas-docs/stable/options.html)**"
   ]
  },
  {
   "cell_type": "code",
   "execution_count": null,
   "metadata": {
    "collapsed": true,
    "run_control": {
     "frozen": false,
     "read_only": false
    }
   },
   "outputs": [],
   "source": [
    "pd.options.display.max_colwidth = 200\n",
    "pd.options.display.max_rows = 50\n",
    "pd.options.display.max_columns = 50"
   ]
  },
  {
   "cell_type": "markdown",
   "metadata": {},
   "source": [
    "### Create dataframe from other datatypes"
   ]
  },
  {
   "cell_type": "markdown",
   "metadata": {},
   "source": [
    "***You can optionally pass `index` (row labels) and `columns` (column labels) arguments***"
   ]
  },
  {
   "cell_type": "markdown",
   "metadata": {},
   "source": [
    "***From a pandas Series***"
   ]
  },
  {
   "cell_type": "code",
   "execution_count": null,
   "metadata": {
    "collapsed": false,
    "run_control": {
     "frozen": false,
     "read_only": false
    }
   },
   "outputs": [],
   "source": [
    "s = pd.Series({'A':21.0, 'T':24.0, 'C':27.0, 'G':25.0, 'N':3.0})\n",
    "pd.DataFrame(s, columns=[\"Percent\"])"
   ]
  },
  {
   "cell_type": "markdown",
   "metadata": {},
   "source": [
    "***From a list of pandas Series***"
   ]
  },
  {
   "cell_type": "code",
   "execution_count": null,
   "metadata": {
    "ExecuteTime": {
     "end_time": "2017-09-11T13:23:35.273016",
     "start_time": "2017-09-11T13:23:35.254311Z"
    },
    "collapsed": false,
    "run_control": {
     "frozen": false,
     "read_only": false
    }
   },
   "outputs": [],
   "source": [
    "series_list = [\n",
    "    pd.Series({'A':21, 'T':24, 'C':27, 'G':25, 'N':3}, name=\"Percent\"),\n",
    "    pd.Series({'A':331.2, 'T':322.2, 'C':307.2, 'G':347.2, 'N':None}, name=\"MolecularWeight\"),\n",
    "    pd.Series({'A':259, 'T':267, 'C':271, 'G':253, 'N':None}, name=\"AbsorbanceMax\")]\n",
    "\n",
    "pd.DataFrame(series_list)"
   ]
  },
  {
   "cell_type": "markdown",
   "metadata": {},
   "source": [
    "**From a simple list of lists** "
   ]
  },
  {
   "cell_type": "code",
   "execution_count": null,
   "metadata": {
    "ExecuteTime": {
     "end_time": "2017-09-11T13:24:45.711332",
     "start_time": "2017-09-11T13:24:45.688897Z"
    },
    "collapsed": false,
    "run_control": {
     "frozen": false,
     "read_only": false
    },
    "scrolled": true
   },
   "outputs": [],
   "source": [
    "list_list = [[21, 24, 27, 25, 3], [331.2, 322.2, 307.2, 347.2, None], [259, 267, 271, 253, None]]\n",
    "column_list = ['A', 'T', 'C', 'G', 'N']\n",
    "index_list = [\"Percent\", \"MolecularWeight\", \"AbsorbanceMax\"]\n",
    "\n",
    "pd.DataFrame(list_list, index=index_list, columns=column_list)"
   ]
  },
  {
   "cell_type": "markdown",
   "metadata": {},
   "source": [
    "**From a simple list of namedtuples ++** "
   ]
  },
  {
   "cell_type": "code",
   "execution_count": null,
   "metadata": {
    "ExecuteTime": {
     "end_time": "2017-09-11T13:24:48.656401",
     "start_time": "2017-09-11T13:24:48.614090Z"
    },
    "collapsed": false,
    "run_control": {
     "frozen": false,
     "read_only": false
    }
   },
   "outputs": [],
   "source": [
    "ni = namedtuple(\"nucleotide_info\", [\"Variable\", 'A', 'T', 'C', 'G', 'N'])\n",
    "\n",
    "list_namedtuple = [\n",
    "    ni (Variable=\"AbsorbanceMax\", A=21.0, T=24.0, C=27.0, G=25.0, N=3.0),\n",
    "    ni (Variable=\"MolecularWeight\", A=331.2, T=322.2, C=307.2, G=347.2, N=None),\n",
    "    ni (Variable=\"AbsorbanceMax\", A=259, T=267, C=271, G=253, N=None)]\n",
    "\n",
    "df = pd.DataFrame(list_namedtuple)\n",
    "df.set_index(\"Variable\", inplace=True)\n",
    "df"
   ]
  },
  {
   "cell_type": "markdown",
   "metadata": {},
   "source": [
    "***The Dataframe creation is very versatile and can also be done from Dictionaries of lists, dicts, or Series and from `numpy.ndarray`...***\n",
    "\n",
    "***The orientation may differ depending on the source data (columns or index orientation)***"
   ]
  },
  {
   "cell_type": "code",
   "execution_count": null,
   "metadata": {
    "collapsed": false,
    "run_control": {
     "frozen": false,
     "read_only": false
    },
    "scrolled": true
   },
   "outputs": [],
   "source": [
    "dict_list = { \"Percent\":[21.0, 24.0, 27.0, 25.0, 3.0], \"MolecularWeight\":[331.2, 322.2, 307.2, 347.2, None], \"AbsorbanceMax\":[259, 267, 271, 253, None]}\n",
    "\n",
    "pd.DataFrame(dict_list, )"
   ]
  },
  {
   "cell_type": "markdown",
   "metadata": {},
   "source": [
    "### Create a dataframe from a file"
   ]
  },
  {
   "cell_type": "markdown",
   "metadata": {
    "collapsed": true,
    "run_control": {
     "frozen": false,
     "read_only": false
    }
   },
   "source": [
    "***One of the major strengths of Pandas is its ability to perform \"moderately\" complex file parsing into a comprehensive DataFrame format***"
   ]
  },
  {
   "cell_type": "markdown",
   "metadata": {},
   "source": [
    "***Example with a gff3 file***"
   ]
  },
  {
   "cell_type": "code",
   "execution_count": null,
   "metadata": {
    "ExecuteTime": {
     "end_time": "2017-09-18T10:10:52.830512",
     "start_time": "2017-09-18T10:10:52.827358Z"
    },
    "collapsed": true,
    "run_control": {
     "frozen": false,
     "read_only": false
    }
   },
   "outputs": [],
   "source": [
    "file = \"../data/gencode_sample.gff3\""
   ]
  },
  {
   "cell_type": "code",
   "execution_count": null,
   "metadata": {
    "ExecuteTime": {
     "end_time": "2017-09-11T17:02:37.377224",
     "start_time": "2017-09-11T17:02:37.260823Z"
    },
    "collapsed": false,
    "run_control": {
     "frozen": false,
     "read_only": false
    },
    "scrolled": true
   },
   "outputs": [],
   "source": [
    "!wc -l $file"
   ]
  },
  {
   "cell_type": "code",
   "execution_count": null,
   "metadata": {
    "ExecuteTime": {
     "end_time": "2017-09-11T17:02:41.100206",
     "start_time": "2017-09-11T17:02:40.980000Z"
    },
    "collapsed": false,
    "run_control": {
     "frozen": false,
     "read_only": false
    }
   },
   "outputs": [],
   "source": [
    "!head -2 $file"
   ]
  },
  {
   "cell_type": "markdown",
   "metadata": {},
   "source": [
    "*The file is a standard genomic/proteomic format*\n",
    "\n",
    ">[gff3 documentation](http://gmod.org/wiki/GFF3)\n",
    "\n",
    ">In this case the gff3 format consists of 9 tab delimited fields\n",
    "\n",
    ">The standard fields are named \"seqid\", \"source\", \"type\", \"start\", \"end\", \"score\", \"strand\", \"phase\", \"attributes\""
   ]
  },
  {
   "cell_type": "markdown",
   "metadata": {},
   "source": [
    "*The hard way with a list of dictionaries... But you control everything and you can parse very complex structured files*\n",
    "\n",
    "*The output is not very user friendly, but once again you can do hardcore stuff. In this case it is possible to parse completely the file, including the attribute field*"
   ]
  },
  {
   "cell_type": "code",
   "execution_count": null,
   "metadata": {
    "ExecuteTime": {
     "end_time": "2017-09-18T10:10:58.882701",
     "start_time": "2017-09-18T10:10:58.841592Z"
    },
    "collapsed": false,
    "run_control": {
     "frozen": false,
     "read_only": false
    },
    "scrolled": true
   },
   "outputs": [],
   "source": [
    "file = \"../data/gencode_sample.gff3\"\n",
    "#Empty list to collect each lines \n",
    "l=[]\n",
    "\n",
    "with open (file, \"r\") as fp:\n",
    "    for line in fp:\n",
    "        \n",
    "        # Split the line by tabulations \n",
    "        sl = line.strip().split(\"\\t\")\n",
    "        \n",
    "        # Using an ordered dictionary because we want to retain the order in the file       \n",
    "        line_dict = OrderedDict({\n",
    "            \"seqid\":sl[0],  \n",
    "            \"source\":sl[1],  \n",
    "            \"type\":sl[2],  \n",
    "            \"start\":int(sl[3]),\n",
    "            \"end\":int(sl[4]),\n",
    "            \"score\":sl[5],  \n",
    "            \"strand\":sl[6],  \n",
    "            \"phase\":sl[7]})\n",
    "        \n",
    "        # Then you can entirely parse the attributes\n",
    "        for attribute in sl[8].split(\";\"):\n",
    "            k, v = attribute.split(\"=\")\n",
    "            line_dict[k] = v\n",
    "        \n",
    "        # Add the line to the general list\n",
    "        l.append(line_dict)\n",
    "\n",
    "# print only the first elements of the list (because 100 lines would be a bit long)\n",
    "l[0:2]"
   ]
  },
  {
   "cell_type": "markdown",
   "metadata": {},
   "source": [
    "*The easy way with a pandas DataFrame... Works most of the time for standard formats*\n",
    "\n",
    "*Much more user friendly, but in this case it is quite impossible to parse the attribute field*"
   ]
  },
  {
   "cell_type": "code",
   "execution_count": null,
   "metadata": {
    "ExecuteTime": {
     "end_time": "2017-09-18T10:32:11.762171",
     "start_time": "2017-09-18T10:32:11.746834Z"
    },
    "collapsed": true,
    "run_control": {
     "frozen": false,
     "read_only": false
    }
   },
   "outputs": [],
   "source": [
    "df = pd.read_table(\"../data/gencode_sample.gff3\", sep=\"\\t\", names =[\"seqid\", \"source\", \"type\", \"start\", \"end\", \"score\", \"strand\", \"phase\", \"attributes\"])"
   ]
  },
  {
   "cell_type": "code",
   "execution_count": null,
   "metadata": {
    "ExecuteTime": {
     "end_time": "2017-09-18T10:32:01.878545",
     "start_time": "2017-09-18T10:32:01.860610Z"
    },
    "collapsed": false,
    "run_control": {
     "frozen": false,
     "read_only": false
    },
    "scrolled": true
   },
   "outputs": [],
   "source": [
    "# print only the 10 first rows of the table (well, you know why now...)\n",
    "df.head(10)"
   ]
  },
  {
   "cell_type": "markdown",
   "metadata": {},
   "source": [
    "### Viewing Data in a DataFrame"
   ]
  },
  {
   "cell_type": "code",
   "execution_count": null,
   "metadata": {
    "ExecuteTime": {
     "end_time": "2017-09-18T11:16:02.351303",
     "start_time": "2017-09-18T11:16:02.340304Z"
    },
    "collapsed": true,
    "run_control": {
     "frozen": false,
     "read_only": false
    }
   },
   "outputs": [],
   "source": [
    "df = pd.read_table(\"../data/gencode_sample.gff3\", sep=\"\\t\", names =[\"seqid\", \"source\", \"type\", \"start\", \"end\", \"score\", \"strand\", \"phase\", \"attributes\"])"
   ]
  },
  {
   "cell_type": "markdown",
   "metadata": {},
   "source": [
    "***See the top & bottom rows of the frame***"
   ]
  },
  {
   "cell_type": "code",
   "execution_count": null,
   "metadata": {
    "ExecuteTime": {
     "end_time": "2017-09-11T17:08:40.928373",
     "start_time": "2017-09-11T17:08:40.907606Z"
    },
    "collapsed": false,
    "run_control": {
     "frozen": false,
     "read_only": false
    },
    "scrolled": true
   },
   "outputs": [],
   "source": [
    "df.head(2)"
   ]
  },
  {
   "cell_type": "code",
   "execution_count": null,
   "metadata": {
    "ExecuteTime": {
     "end_time": "2017-09-11T17:08:41.941823",
     "start_time": "2017-09-11T17:08:41.922916Z"
    },
    "collapsed": false,
    "run_control": {
     "frozen": false,
     "read_only": false
    }
   },
   "outputs": [],
   "source": [
    "df.tail(2)"
   ]
  },
  {
   "cell_type": "markdown",
   "metadata": {},
   "source": [
    "***Sampling random rows or column: Awesomeness level +++***"
   ]
  },
  {
   "cell_type": "code",
   "execution_count": null,
   "metadata": {
    "ExecuteTime": {
     "end_time": "2017-09-11T17:09:05.707060",
     "start_time": "2017-09-11T17:09:05.689846Z"
    },
    "collapsed": false,
    "run_control": {
     "frozen": false,
     "read_only": false
    }
   },
   "outputs": [],
   "source": [
    "df.sample(n=10, axis=0)"
   ]
  },
  {
   "cell_type": "markdown",
   "metadata": {},
   "source": [
    "### Renaming and transforming a dataframe"
   ]
  },
  {
   "cell_type": "code",
   "execution_count": null,
   "metadata": {
    "ExecuteTime": {
     "end_time": "2017-09-18T11:16:12.262729",
     "start_time": "2017-09-18T11:16:12.256058Z"
    },
    "collapsed": true,
    "run_control": {
     "frozen": false,
     "read_only": false
    }
   },
   "outputs": [],
   "source": [
    "df = pd.read_table(\"../data/gencode_sample.gff3\", sep=\"\\t\", names =[\"seqid\", \"source\", \"type\", \"start\", \"end\", \"score\", \"strand\", \"phase\", \"attributes\"])"
   ]
  },
  {
   "cell_type": "markdown",
   "metadata": {},
   "source": [
    "**Rename columns or index**"
   ]
  },
  {
   "cell_type": "code",
   "execution_count": null,
   "metadata": {
    "ExecuteTime": {
     "end_time": "2017-09-18T10:14:07.365300",
     "start_time": "2017-09-18T10:14:07.343266Z"
    },
    "collapsed": false,
    "run_control": {
     "frozen": false,
     "read_only": false
    }
   },
   "outputs": [],
   "source": [
    "# inplace=True will affect the current df\n",
    "df.rename(columns={\"score\":\"Score\", \"strand\":\"Strand\"}, inplace=True)\n",
    "df.head()"
   ]
  },
  {
   "cell_type": "code",
   "execution_count": null,
   "metadata": {
    "ExecuteTime": {
     "end_time": "2017-09-18T10:14:09.136417",
     "start_time": "2017-09-18T10:14:09.103618Z"
    },
    "collapsed": false,
    "run_control": {
     "frozen": false,
     "read_only": false
    }
   },
   "outputs": [],
   "source": [
    "# inplace=False (default) will return a modified df. ie the original DataFrame remains unchanged\n",
    "df = df.rename(index={0:-1}, inplace=False)\n",
    "df.head()"
   ]
  },
  {
   "cell_type": "markdown",
   "metadata": {},
   "source": [
    "**Discard a subset of columns**"
   ]
  },
  {
   "cell_type": "code",
   "execution_count": null,
   "metadata": {
    "ExecuteTime": {
     "end_time": "2017-09-18T10:14:12.630486",
     "start_time": "2017-09-18T10:14:12.604802Z"
    },
    "collapsed": false,
    "run_control": {
     "frozen": false,
     "read_only": false
    }
   },
   "outputs": [],
   "source": [
    "df = df.drop(labels=[\"Score\", \"Strand\"], axis=1)\n",
    "df.head()"
   ]
  },
  {
   "cell_type": "markdown",
   "metadata": {},
   "source": [
    "**Discard a subset of rows**"
   ]
  },
  {
   "cell_type": "code",
   "execution_count": null,
   "metadata": {
    "ExecuteTime": {
     "end_time": "2017-09-18T10:14:15.564339",
     "start_time": "2017-09-18T10:14:15.544856Z"
    },
    "collapsed": false,
    "run_control": {
     "frozen": false,
     "read_only": false
    }
   },
   "outputs": [],
   "source": [
    "df = df.drop(labels=[-1, 2, 4], axis=0)\n",
    "df.head()"
   ]
  },
  {
   "cell_type": "markdown",
   "metadata": {},
   "source": [
    "**Sort by values or index**"
   ]
  },
  {
   "cell_type": "code",
   "execution_count": null,
   "metadata": {
    "ExecuteTime": {
     "end_time": "2017-09-18T10:18:56.894854",
     "start_time": "2017-09-18T10:18:56.873942Z"
    },
    "collapsed": false,
    "run_control": {
     "frozen": false,
     "read_only": false
    },
    "scrolled": false
   },
   "outputs": [],
   "source": [
    "# With 1 value key\n",
    "df.sort_values(by=\"type\", inplace=True)\n",
    "df.head()"
   ]
  },
  {
   "cell_type": "code",
   "execution_count": null,
   "metadata": {
    "ExecuteTime": {
     "end_time": "2017-09-18T10:18:58.382265",
     "start_time": "2017-09-18T10:18:58.359987Z"
    },
    "collapsed": false,
    "run_control": {
     "frozen": false,
     "read_only": false
    }
   },
   "outputs": [],
   "source": [
    "# With several value keys\n",
    "df.sort_values(by=[\"seqid\", \"end\"], inplace=True)\n",
    "df.head()"
   ]
  },
  {
   "cell_type": "code",
   "execution_count": null,
   "metadata": {
    "ExecuteTime": {
     "end_time": "2017-09-18T10:28:33.437274",
     "start_time": "2017-09-18T10:28:33.420952Z"
    },
    "collapsed": false,
    "run_control": {
     "frozen": false,
     "read_only": false
    }
   },
   "outputs": [],
   "source": [
    "# With the index\n",
    "df.sort_index(inplace=True, ascending=False)\n",
    "df.head()"
   ]
  },
  {
   "cell_type": "markdown",
   "metadata": {},
   "source": [
    "**Reset a numeric index after deleting or reordering rows**"
   ]
  },
  {
   "cell_type": "code",
   "execution_count": null,
   "metadata": {
    "ExecuteTime": {
     "end_time": "2017-09-18T10:28:41.445087",
     "start_time": "2017-09-18T10:28:41.423007Z"
    },
    "collapsed": false,
    "run_control": {
     "frozen": false,
     "read_only": false
    },
    "scrolled": false
   },
   "outputs": [],
   "source": [
    "df = df.reset_index(drop=True)\n",
    "df.head()"
   ]
  },
  {
   "cell_type": "markdown",
   "metadata": {},
   "source": [
    "***Transposing your data***"
   ]
  },
  {
   "cell_type": "code",
   "execution_count": null,
   "metadata": {
    "ExecuteTime": {
     "end_time": "2017-09-18T10:28:47.578375",
     "start_time": "2017-09-18T10:28:47.538078Z"
    },
    "collapsed": false,
    "run_control": {
     "frozen": false,
     "read_only": false
    }
   },
   "outputs": [],
   "source": [
    "# Example of method chaining with no return = display only\n",
    "df.transpose().head()"
   ]
  },
  {
   "cell_type": "markdown",
   "metadata": {},
   "source": [
    "### Concatenate and merging DataFrame"
   ]
  },
  {
   "cell_type": "markdown",
   "metadata": {
    "heading_collapsed": true
   },
   "source": [
    "#### Concatenate along columns (stack dataframes)"
   ]
  },
  {
   "cell_type": "code",
   "execution_count": null,
   "metadata": {
    "ExecuteTime": {
     "end_time": "2017-09-18T10:51:11.857780",
     "start_time": "2017-09-18T10:51:11.849991Z"
    },
    "collapsed": false,
    "hidden": true,
    "run_control": {
     "frozen": false,
     "read_only": false
    }
   },
   "outputs": [],
   "source": [
    "display(Image(\"../pictures/merging_concat_basic.png\"))"
   ]
  },
  {
   "cell_type": "code",
   "execution_count": null,
   "metadata": {
    "ExecuteTime": {
     "end_time": "2017-09-18T10:54:01.176306",
     "start_time": "2017-09-18T10:54:01.137943Z"
    },
    "collapsed": false,
    "hidden": true,
    "run_control": {
     "frozen": false,
     "read_only": false
    },
    "scrolled": true
   },
   "outputs": [],
   "source": [
    "df1 = pd.DataFrame({'A': ['A0', 'A1', 'A2', 'A3'], 'B': ['B0', 'B1', 'B2', 'B3'], 'C': ['C0', 'C1', 'C2', 'C3'], 'D': ['D0', 'D1', 'D2', 'D3']}, index=[0, 1, 2, 3])\n",
    "df2 = pd.DataFrame({'A': ['A4', 'A5', 'A6', 'A7'], 'B': ['B4', 'B5', 'B6', 'B7'], 'C': ['C4', 'C5', 'C6', 'C7'], 'D': ['D4', 'D5', 'D6', 'D7']}, index=[4, 5, 6, 7])\n",
    "df3 = pd.DataFrame({'A': ['A8', 'A9', 'A10', 'A11'], 'B': ['B8', 'B9', 'B10', 'B11'], 'C': ['C8', 'C9', 'C10', 'C11'], 'D': ['D8', 'D9', 'D10', 'D11']}, index=[8, 9, 10, 11])\n",
    "\n",
    "df4 = pd.concat([df1, df2, df3], axis=0)\n",
    "df4"
   ]
  },
  {
   "cell_type": "markdown",
   "metadata": {
    "heading_collapsed": true
   },
   "source": [
    "#### Concatenate along rows"
   ]
  },
  {
   "cell_type": "code",
   "execution_count": null,
   "metadata": {
    "ExecuteTime": {
     "end_time": "2017-09-18T10:55:00.547011",
     "start_time": "2017-09-18T10:55:00.532390Z"
    },
    "collapsed": false,
    "hidden": true,
    "run_control": {
     "frozen": false,
     "read_only": false
    },
    "scrolled": true
   },
   "outputs": [],
   "source": [
    "display(Image(\"../pictures/merging_concat_axis1.png\"))"
   ]
  },
  {
   "cell_type": "code",
   "execution_count": null,
   "metadata": {
    "ExecuteTime": {
     "end_time": "2017-09-18T10:56:40.814865",
     "start_time": "2017-09-18T10:56:40.792881Z"
    },
    "collapsed": false,
    "hidden": true,
    "run_control": {
     "frozen": false,
     "read_only": false
    }
   },
   "outputs": [],
   "source": [
    "df1 = pd.DataFrame({'A': ['A0', 'A1', 'A2', 'A3'], 'B': ['B0', 'B1', 'B2', 'B3'], 'C': ['C0', 'C1', 'C2', 'C3'], 'D': ['D0', 'D1', 'D2', 'D3']}, index=[0, 1, 2, 3])\n",
    "df2= pd.DataFrame({'B': ['B2', 'B3', 'B6', 'B7'], 'D': ['D2', 'D3', 'D6', 'D7'], 'F': ['F2', 'F3', 'F6', 'F7']}, index=[2, 3, 6, 7])\n",
    "\n",
    "df3 = pd.concat([df1, df2], axis=1)\n",
    "df3"
   ]
  },
  {
   "cell_type": "markdown",
   "metadata": {
    "heading_collapsed": true
   },
   "source": [
    "#### Example with 2 gff3 files "
   ]
  },
  {
   "cell_type": "code",
   "execution_count": null,
   "metadata": {
    "ExecuteTime": {
     "end_time": "2017-09-18T11:06:15.662875",
     "start_time": "2017-09-18T11:06:15.645076Z"
    },
    "collapsed": false,
    "hidden": true,
    "run_control": {
     "frozen": false,
     "read_only": false
    }
   },
   "outputs": [],
   "source": [
    "df1 = pd.read_table(\"../data/gencode_sample_transcript.gff3\", sep=\"\\t\", names =[\"seqid\", \"source\", \"type\", \"start\", \"end\", \"score\", \"strand\", \"phase\", \"attributes\"])\n",
    "df1"
   ]
  },
  {
   "cell_type": "code",
   "execution_count": null,
   "metadata": {
    "ExecuteTime": {
     "end_time": "2017-09-18T11:06:16.615409",
     "start_time": "2017-09-18T11:06:16.596013Z"
    },
    "collapsed": false,
    "hidden": true,
    "run_control": {
     "frozen": false,
     "read_only": false
    }
   },
   "outputs": [],
   "source": [
    "df2 = pd.read_table(\"../data/gencode_sample_gene.gff3\", sep=\"\\t\", names =[\"seqid\", \"source\", \"type\", \"start\", \"end\", \"score\", \"strand\", \"phase\", \"attributes\"])\n",
    "df2"
   ]
  },
  {
   "cell_type": "code",
   "execution_count": null,
   "metadata": {
    "ExecuteTime": {
     "end_time": "2017-09-18T11:09:17.585488",
     "start_time": "2017-09-18T11:09:17.554212Z"
    },
    "collapsed": false,
    "hidden": true,
    "run_control": {
     "frozen": false,
     "read_only": false
    },
    "scrolled": false
   },
   "outputs": [],
   "source": [
    "df = pd.concat([df1, df2])\n",
    "\n",
    "# Sorting by genomic coordinates\n",
    "df = df.sort_values([\"seqid\", \"start\", \"end\"])\n",
    "\n",
    "# Reseting the index after concat and sorting\n",
    "df = df.reset_index(drop=True)\n",
    "df"
   ]
  },
  {
   "cell_type": "markdown",
   "metadata": {
    "heading_collapsed": true
   },
   "source": [
    "#### Database-style DataFrame joining/merging"
   ]
  },
  {
   "cell_type": "markdown",
   "metadata": {
    "ExecuteTime": {
     "end_time": "2017-09-18T11:51:38.364776",
     "start_time": "2017-09-18T11:51:38.346472Z"
    },
    "hidden": true
   },
   "source": [
    "> pd.merge(left, right, how='inner', on=None, left_on=None, right_on=None, left_index=False, right_index=False, sort=True, suffixes=('_x', '_y'), copy=True, indicator=False)\n",
    "\n",
    "> DataFrame.join(self, other, on=None, how='left', lsuffix='', rsuffix='', sort=False)"
   ]
  },
  {
   "cell_type": "code",
   "execution_count": null,
   "metadata": {
    "ExecuteTime": {
     "end_time": "2017-09-18T11:57:29.493708",
     "start_time": "2017-09-18T11:57:29.488181Z"
    },
    "collapsed": false,
    "hidden": true,
    "run_control": {
     "frozen": false,
     "read_only": false
    }
   },
   "outputs": [],
   "source": [
    "left = pd.DataFrame({'A': ['A0', 'A1', 'A2'], 'B': ['B0', 'B1', 'B2']}, index=['K0', 'K1', 'K2'])\n",
    "right = pd.DataFrame({'C': ['C0', 'C2', 'C3'], 'D': ['D0', 'D2', 'D3']}, index=['K0', 'K2', 'K3'])"
   ]
  },
  {
   "cell_type": "code",
   "execution_count": null,
   "metadata": {
    "ExecuteTime": {
     "end_time": "2017-09-18T11:58:19.352059",
     "start_time": "2017-09-18T11:58:19.335592Z"
    },
    "collapsed": false,
    "hidden": true,
    "run_control": {
     "frozen": false,
     "read_only": false
    },
    "scrolled": true
   },
   "outputs": [],
   "source": [
    "display(Image(\"../pictures/merging_merge_index_outer.png\"))\n",
    "pd.merge(left, right, left_index=True, right_index=True, how='outer')"
   ]
  },
  {
   "cell_type": "code",
   "execution_count": null,
   "metadata": {
    "ExecuteTime": {
     "end_time": "2017-09-18T11:58:32.644525",
     "start_time": "2017-09-18T11:58:32.630286Z"
    },
    "collapsed": false,
    "hidden": true,
    "run_control": {
     "frozen": false,
     "read_only": false
    }
   },
   "outputs": [],
   "source": [
    "display(Image(\"../pictures/merging_merge_index_inner.png\"))\n",
    "pd.merge(left, right, left_index=True, right_index=True, how='inner')"
   ]
  },
  {
   "cell_type": "markdown",
   "metadata": {
    "hidden": true
   },
   "source": [
    "**Example where it could be useful in bioinformatics**"
   ]
  },
  {
   "cell_type": "code",
   "execution_count": null,
   "metadata": {
    "ExecuteTime": {
     "end_time": "2017-09-18T12:05:27.108643",
     "start_time": "2017-09-18T12:05:27.096831Z"
    },
    "collapsed": true,
    "hidden": true,
    "run_control": {
     "frozen": false,
     "read_only": false
    }
   },
   "outputs": [],
   "source": [
    "g2t = pd.DataFrame(\n",
    "    {'gene': ['DGB1', 'AHY', 'AUHD2'],\n",
    "     'transcript': ['ENST7454647', 'ENST9856565', 'ENST875650']})\n",
    "t2e = pd.DataFrame(\n",
    "    {'transcript': ['ENST7454647', 'ENST9856565', 'ENST8565667'],\n",
    "     'value': [8374, 44, 876]})"
   ]
  },
  {
   "cell_type": "code",
   "execution_count": null,
   "metadata": {
    "ExecuteTime": {
     "end_time": "2017-09-18T12:05:00.216174",
     "start_time": "2017-09-18T12:05:00.193011Z"
    },
    "collapsed": false,
    "hidden": true,
    "run_control": {
     "frozen": false,
     "read_only": false
    }
   },
   "outputs": [],
   "source": [
    "pd.merge(left=g2t, right=t2e, left_on=\"transcript\", right_on=\"transcript\", how='outer')"
   ]
  },
  {
   "cell_type": "markdown",
   "metadata": {},
   "source": [
    "### Descriptive statistics of a dataframe"
   ]
  },
  {
   "cell_type": "markdown",
   "metadata": {},
   "source": [
    "**Similar to Series, many basic statistics are available.**\n",
    "\n",
    "The results will only contain the relevant columns (for example *mean()* will be applied only to numeric columns.\n",
    " \n",
    "| Function \t| Description                                \t|\n",
    "|----------\t|--------------------------------------------\t|\n",
    "| count    \t| Number of non-null observations            \t|\n",
    "| sum      \t| Sum of values                              \t|\n",
    "| mean     \t| Mean of values                             \t|\n",
    "| mad      \t| Mean absolute deviation                    \t|\n",
    "| median   \t| Arithmetic median of values                \t|\n",
    "| min      \t| Minimum                                    \t|\n",
    "| max      \t| Maximum                                    \t|\n",
    "| mode     \t| Mode                                       \t|\n",
    "| abs      \t| Absolute Value                             \t|\n",
    "| prod     \t| Product of values                          \t|\n",
    "| std      \t| Bessel-corrected sample standard deviation \t|\n",
    "| var      \t| Unbiased variance                          \t|\n",
    "| sem      \t| Standard error of the mean                 \t|\n",
    "| skew     \t| Sample skewness (3rd moment)               \t|\n",
    "| kurt     \t| Sample kurtosis (4th moment)               \t|\n",
    "| unique    | List the unique elements \n",
    "| quantile \t| Sample quantile (value at %)               \t|\n",
    "| cumsum   \t| Cumulative sum                             \t|\n",
    "| cumprod  \t| Cumulative product                         \t|\n",
    "| cummax   \t| Cumulative maximum                         \t|\n",
    "| cummin   \t| Cumulative minimum                         \t|"
   ]
  },
  {
   "cell_type": "code",
   "execution_count": null,
   "metadata": {
    "ExecuteTime": {
     "end_time": "2017-09-18T11:16:41.586197",
     "start_time": "2017-09-18T11:16:41.575074Z"
    },
    "collapsed": true,
    "run_control": {
     "frozen": false,
     "read_only": false
    }
   },
   "outputs": [],
   "source": [
    "df = pd.read_table(\"../data/gencode_sample.gff3\", sep=\"\\t\", names =[\"seqid\", \"source\", \"type\", \"start\", \"end\", \"score\", \"strand\", \"phase\", \"attributes\"])"
   ]
  },
  {
   "cell_type": "code",
   "execution_count": null,
   "metadata": {
    "ExecuteTime": {
     "end_time": "2017-09-18T09:18:59.704543",
     "start_time": "2017-09-18T09:18:59.680988Z"
    },
    "collapsed": false,
    "run_control": {
     "frozen": false,
     "read_only": false
    }
   },
   "outputs": [],
   "source": [
    "df.mean()"
   ]
  },
  {
   "cell_type": "code",
   "execution_count": null,
   "metadata": {
    "ExecuteTime": {
     "end_time": "2017-09-18T09:19:05.274407",
     "start_time": "2017-09-18T09:19:05.265925Z"
    },
    "collapsed": false,
    "run_control": {
     "frozen": false,
     "read_only": false
    }
   },
   "outputs": [],
   "source": [
    "df.count()"
   ]
  },
  {
   "cell_type": "markdown",
   "metadata": {},
   "source": [
    "**One can also use the *describe()* method to a simple table report of the DataFrame**"
   ]
  },
  {
   "cell_type": "code",
   "execution_count": null,
   "metadata": {
    "ExecuteTime": {
     "end_time": "2017-09-18T09:19:24.546362",
     "start_time": "2017-09-18T09:19:24.500793Z"
    },
    "collapsed": false,
    "run_control": {
     "frozen": false,
     "read_only": false
    }
   },
   "outputs": [],
   "source": [
    "df.describe(include=\"all\")"
   ]
  },
  {
   "cell_type": "markdown",
   "metadata": {},
   "source": [
    "### Access the  element in a DataFrame = Indexing and Selection"
   ]
  },
  {
   "cell_type": "markdown",
   "metadata": {},
   "source": [
    "| Operation                      \t| Syntax        \t    | Result    \t|\n",
    "|--------------------------------\t|---------------\t    |-----------\t|\n",
    "| Select column                  \t| df[col] **or** df.col | Series    \t|\n",
    "| Select row by label            \t| df.loc[label] \t    | Series    \t|\n",
    "| Select row by integer location \t| df.iloc[loc]  \t    | Series    \t|\n",
    "| Slice rows                     \t| df[5:10]      \t    | DataFrame \t|"
   ]
  },
  {
   "cell_type": "markdown",
   "metadata": {},
   "source": [
    "***Loading a new example file formated in SAM format***"
   ]
  },
  {
   "cell_type": "code",
   "execution_count": null,
   "metadata": {
    "ExecuteTime": {
     "end_time": "2017-09-11T17:11:24.020276",
     "start_time": "2017-09-11T17:11:24.016703Z"
    },
    "collapsed": false,
    "run_control": {
     "frozen": false,
     "read_only": false
    }
   },
   "outputs": [],
   "source": [
    "file =  \"../data/sample_alignment.sam\""
   ]
  },
  {
   "cell_type": "code",
   "execution_count": null,
   "metadata": {
    "ExecuteTime": {
     "end_time": "2017-09-11T17:11:25.181620",
     "start_time": "2017-09-11T17:11:25.066274Z"
    },
    "collapsed": false,
    "run_control": {
     "frozen": false,
     "read_only": false
    }
   },
   "outputs": [],
   "source": [
    "!wc {file}"
   ]
  },
  {
   "cell_type": "code",
   "execution_count": null,
   "metadata": {
    "ExecuteTime": {
     "end_time": "2017-09-11T17:11:28.396069",
     "start_time": "2017-09-11T17:11:28.280119Z"
    },
    "collapsed": false,
    "run_control": {
     "frozen": false,
     "read_only": false
    }
   },
   "outputs": [],
   "source": [
    "!head -n 5 \"../data/sample_alignment.sam\""
   ]
  },
  {
   "cell_type": "markdown",
   "metadata": {},
   "source": [
    "[SAM format documentation](http://genome.sph.umich.edu/wiki/SAM)"
   ]
  },
  {
   "cell_type": "code",
   "execution_count": null,
   "metadata": {
    "ExecuteTime": {
     "end_time": "2017-09-11T17:11:32.911035",
     "start_time": "2017-09-11T17:11:32.887377Z"
    },
    "collapsed": false,
    "run_control": {
     "frozen": false,
     "read_only": false
    },
    "scrolled": false
   },
   "outputs": [],
   "source": [
    "file = \"../data/sample_alignment.sam\"\n",
    "columns_names = ['QNAME', 'FLAG', 'RNAME', 'POS', 'MAPQ', 'CIGAR', 'RNEXT', 'PNEXT', 'TLEN', 'SEQ', 'QUAL']\n",
    "df = pd.read_table(file, sep=\"\\t\", names = columns_names, skiprows=[0,1], index_col=0)\n",
    "df.head()"
   ]
  },
  {
   "cell_type": "markdown",
   "metadata": {},
   "source": [
    "***Examples of column slicing***"
   ]
  },
  {
   "cell_type": "code",
   "execution_count": null,
   "metadata": {
    "collapsed": false,
    "run_control": {
     "frozen": false,
     "read_only": false
    }
   },
   "outputs": [],
   "source": [
    "df[\"FLAG\"]"
   ]
  },
  {
   "cell_type": "code",
   "execution_count": null,
   "metadata": {
    "collapsed": false,
    "run_control": {
     "frozen": false,
     "read_only": false
    }
   },
   "outputs": [],
   "source": [
    "df.FLAG"
   ]
  },
  {
   "cell_type": "code",
   "execution_count": null,
   "metadata": {
    "collapsed": false,
    "run_control": {
     "frozen": false,
     "read_only": false
    }
   },
   "outputs": [],
   "source": [
    "df[[\"FLAG\", \"POS\"]]"
   ]
  },
  {
   "cell_type": "markdown",
   "metadata": {},
   "source": [
    "***Examples of index slicing***"
   ]
  },
  {
   "cell_type": "code",
   "execution_count": null,
   "metadata": {
    "collapsed": false,
    "run_control": {
     "frozen": false,
     "read_only": false
    }
   },
   "outputs": [],
   "source": [
    "df.loc[\"HWI-1KL149:87:HA58EADXX:1:1101:1531:2163\"]"
   ]
  },
  {
   "cell_type": "code",
   "execution_count": null,
   "metadata": {
    "collapsed": false,
    "run_control": {
     "frozen": false,
     "read_only": false
    }
   },
   "outputs": [],
   "source": [
    "df.loc[\"HWI-1KL149:87:HA58EADXX:1:1101:1531:2163\":\"HWI-1KL149:87:HA58EADXX:1:1101:1744:2169\"]"
   ]
  },
  {
   "cell_type": "code",
   "execution_count": null,
   "metadata": {
    "collapsed": false,
    "run_control": {
     "frozen": false,
     "read_only": false
    }
   },
   "outputs": [],
   "source": [
    "df.iloc[0]"
   ]
  },
  {
   "cell_type": "code",
   "execution_count": null,
   "metadata": {
    "collapsed": false,
    "run_control": {
     "frozen": false,
     "read_only": false
    }
   },
   "outputs": [],
   "source": [
    "df.iloc[10:12]"
   ]
  },
  {
   "cell_type": "markdown",
   "metadata": {},
   "source": [
    "***Examples of combination of column and index slicing to select a specific item or a range of items***"
   ]
  },
  {
   "cell_type": "code",
   "execution_count": null,
   "metadata": {
    "collapsed": false,
    "run_control": {
     "frozen": false,
     "read_only": false
    }
   },
   "outputs": [],
   "source": [
    "df.loc[\"HWI-1KL149:87:HA58EADXX:1:1101:1531:2163\":\"HWI-1KL149:87:HA58EADXX:1:1101:1744:2169\", \"FLAG\"]"
   ]
  },
  {
   "cell_type": "code",
   "execution_count": null,
   "metadata": {
    "collapsed": false,
    "run_control": {
     "frozen": false,
     "read_only": false
    },
    "scrolled": true
   },
   "outputs": [],
   "source": [
    "df.loc[\"HWI-1KL149:87:HA58EADXX:1:1101:1531:2163\"][\"FLAG\"]"
   ]
  },
  {
   "cell_type": "code",
   "execution_count": null,
   "metadata": {
    "collapsed": false,
    "run_control": {
     "frozen": false,
     "read_only": false
    }
   },
   "outputs": [],
   "source": [
    "df.iloc[0,0]"
   ]
  },
  {
   "cell_type": "code",
   "execution_count": null,
   "metadata": {
    "collapsed": false,
    "run_control": {
     "frozen": false,
     "read_only": false
    }
   },
   "outputs": [],
   "source": [
    "df.iloc[0][0]"
   ]
  },
  {
   "cell_type": "markdown",
   "metadata": {},
   "source": [
    "### Select specific elements based on their values = Boolean Indexing"
   ]
  },
  {
   "cell_type": "markdown",
   "metadata": {},
   "source": [
    "***With a single condition***"
   ]
  },
  {
   "cell_type": "code",
   "execution_count": null,
   "metadata": {
    "collapsed": false,
    "run_control": {
     "frozen": false,
     "read_only": false
    }
   },
   "outputs": [],
   "source": [
    "df[df.FLAG == 163]"
   ]
  },
  {
   "cell_type": "code",
   "execution_count": null,
   "metadata": {
    "collapsed": false,
    "run_control": {
     "frozen": false,
     "read_only": false
    }
   },
   "outputs": [],
   "source": [
    "df[df.FLAG.isin([99,147])]"
   ]
  },
  {
   "cell_type": "code",
   "execution_count": null,
   "metadata": {
    "collapsed": false,
    "run_control": {
     "frozen": false,
     "read_only": false
    }
   },
   "outputs": [],
   "source": [
    "df.query('FLAG == 141')"
   ]
  },
  {
   "cell_type": "code",
   "execution_count": null,
   "metadata": {
    "collapsed": false,
    "run_control": {
     "frozen": false,
     "read_only": false
    }
   },
   "outputs": [],
   "source": [
    "df[df.SEQ.str.startswith('ACAG')]"
   ]
  },
  {
   "cell_type": "markdown",
   "metadata": {},
   "source": [
    "***With multiple conditions***"
   ]
  },
  {
   "cell_type": "code",
   "execution_count": null,
   "metadata": {
    "collapsed": false,
    "run_control": {
     "frozen": false,
     "read_only": false
    }
   },
   "outputs": [],
   "source": [
    "df[(df.FLAG == 163) & (df.TLEN > 180)]"
   ]
  },
  {
   "cell_type": "code",
   "execution_count": null,
   "metadata": {
    "collapsed": false,
    "run_control": {
     "frozen": false,
     "read_only": false
    }
   },
   "outputs": [],
   "source": [
    "df.query('FLAG == 99 and TLEN > 200')"
   ]
  },
  {
   "cell_type": "markdown",
   "metadata": {},
   "source": [
    "### Iterate over a dataframe"
   ]
  },
  {
   "cell_type": "markdown",
   "metadata": {},
   "source": [
    "***Iterate row by row with the `iterrows` or `itertuples` mthods***\n",
    "\n",
    "`itertuples` is faster but the index is merged with the other values of each lines"
   ]
  },
  {
   "cell_type": "code",
   "execution_count": null,
   "metadata": {
    "ExecuteTime": {
     "end_time": "2017-09-11T17:13:26.690791",
     "start_time": "2017-09-11T17:13:26.676203Z"
    },
    "collapsed": false,
    "run_control": {
     "frozen": false,
     "read_only": false
    },
    "scrolled": true
   },
   "outputs": [],
   "source": [
    "for index_name, row_values in df.iterrows():\n",
    "    if row_values.CIGAR != \"101M\":\n",
    "        print (index_name)\n",
    "        print (row_values)"
   ]
  },
  {
   "cell_type": "code",
   "execution_count": null,
   "metadata": {
    "ExecuteTime": {
     "end_time": "2017-09-11T17:12:57.751111",
     "start_time": "2017-09-11T17:12:57.736828Z"
    },
    "collapsed": false,
    "run_control": {
     "frozen": false,
     "read_only": false
    }
   },
   "outputs": [],
   "source": [
    "for values in df.itertuples():\n",
    "    if values.CIGAR != \"101M\":\n",
    "        print (row_values)"
   ]
  },
  {
   "cell_type": "markdown",
   "metadata": {},
   "source": [
    "***Iterate by group of values with the `groupby` method***"
   ]
  },
  {
   "cell_type": "code",
   "execution_count": null,
   "metadata": {
    "collapsed": false,
    "run_control": {
     "frozen": false,
     "read_only": false
    },
    "scrolled": true
   },
   "outputs": [],
   "source": [
    "for group, group_df in df.groupby(\"FLAG\"):\n",
    "    print (\"\\nGroup with flag {}\".format(group))\n",
    "    display (group_df)"
   ]
  },
  {
   "cell_type": "markdown",
   "metadata": {},
   "source": [
    "### And much more..."
   ]
  },
  {
   "cell_type": "markdown",
   "metadata": {},
   "source": [
    "**Pandas documentation is extensive and updated frequently**\n",
    "\n",
    "* [Working with Text Data](http://pandas.pydata.org/pandas-docs/stable/text.html)\n",
    "\n",
    "* [Merge, join, and concatenate](http://pandas.pydata.org/pandas-docs/stable/merging.html)\n",
    "\n",
    "* [Reshaping and Pivot Tables](http://pandas.pydata.org/pandas-docs/stable/reshaping.html)\n",
    "\n",
    "* [IO Tools (Text, CSV, HDF5, ...)](http://pandas.pydata.org/pandas-docs/stable/io.html)\n",
    "\n",
    "* [Time Series / Date functionality](pandas.pydata.org/pandas-docs/stable/timeseries.html)\n",
    "\n",
    "* [Categorical Data](http://pandas.pydata.org/pandas-docs/stable/categorical.html)\n",
    "\n",
    "* [Visualization plotting data](http://pandas.pydata.org/pandas-docs/stable/visualization.html)\n",
    "\n",
    "* [Comparison with R / R libraries](http://pandas.pydata.org/pandas-docs/stable/comparison_with_r.html)"
   ]
  }
 ],
 "metadata": {
  "celltoolbar": "Initialisation Cell",
  "kernelspec": {
   "display_name": "Python3",
   "language": "python",
   "name": "python3"
  },
  "language_info": {
   "codemirror_mode": {
    "name": "ipython",
    "version": 3
   },
   "file_extension": ".py",
   "mimetype": "text/x-python",
   "name": "python",
   "nbconvert_exporter": "python",
   "pygments_lexer": "ipython3",
   "version": "3.5.2"
  },
  "widgets": {
   "state": {},
   "version": "1.1.1"
  }
 },
 "nbformat": 4,
 "nbformat_minor": 0
}
