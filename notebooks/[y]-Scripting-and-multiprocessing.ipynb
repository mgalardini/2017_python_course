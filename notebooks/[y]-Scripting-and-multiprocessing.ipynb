{
 "cells": [
  {
   "cell_type": "code",
   "execution_count": 21,
   "metadata": {
    "collapsed": true
   },
   "outputs": [],
   "source": [
    "import argparse\n",
    "import collections"
   ]
  },
  {
   "cell_type": "markdown",
   "metadata": {},
   "source": [
    "Scripting\n",
    "=========\n",
    "\n",
    "As opposed to R, with python is extremely easy to create handy scripts. Those are very useful when working from the command line and/or in HPC (high performance computing).\n",
    "\n",
    "A word on the Unix philosophy\n",
    "------------\n",
    "\n",
    "When writing a script, it's always a good idea to follow the [Unix philosophy](https://en.wikipedia.org/wiki/Unix_philosophy), which emphasizes simplicity, interoperability and modularity instead of overengineering. In short:\n",
    "\n",
    "* Write programs that do one thing and do it well.\n",
    "* Write programs to work together.\n",
    "* Write programs to handle text streams, because that is a universal interface.\n",
    "\n",
    "If you have even a basic knowledge of the use of the `bash` (or bash-like) command line, you would probably already be familiar with these concepts. Consider the following example:\n",
    "\n",
    "    > curl --silent \"http://wodaklab.org/cyc2008/resources/CYC2008_complex.tab\" | head -n 5\n",
    "    ORF     Name    Complex PubMed_id       Method  GO_id   GO_term Jaccard_Index\n",
    "    YKR068C BET3    TRAPP complex   10727015        \"Affinity Capture-Western,Affinity Capture-MS\"  GO:0030008      TRAPP complex   1\n",
    "    YML077W BET5    TRAPP complex\n",
    "    YDR108W GSG1    TRAPP complex\n",
    "    YGR166W KRE11   TRAPP complex\n",
    "    \n",
    "Here we have chained two command line tools: `curl` to stream a text file from the internet and piped it into `head` to show only the first 5 rows. Anideal python script should follow the same principles. Immagine we wanted to substitute `head` with a little script that transforms the text file in a way such that for each complex name (`Name` column) we report all the genes belonging to that complex. For instance:\n",
    "\n",
    "    > curl --silent \"http://wodaklab.org/cyc2008/resources/CYC2008_complex.tab\" | ./cyc2txt | head -n 5\n",
    "    SIR     YLR442C,YDL042C,YDR227W\n",
    "    SIP     YGL208W,YDR422C\n",
    "    PAC1    YGR078C,YDR488C\n",
    "    SIT     YDL047W\n",
    "    CPA     YJR109C,YOR303W\n",
    "    \n",
    "Parsing the command line\n",
    "-----------\n",
    "\n",
    "As shown in the example above, command line tools often accept options and even input files (i.e. `head -n 5`). Parsing these arguments with the necessary flexibility is not trivial. Writing a command line argument parser that handles positional and optional arguments, potentially with some checks on their type is not trivial."
   ]
  },
  {
   "cell_type": "code",
   "execution_count": 8,
   "metadata": {
    "collapsed": true
   },
   "outputs": [],
   "source": [
    "def parse_args(cmd_line):\n",
    "    Args = collections.namedtuple('Args',\n",
    "                                  ['n', 'in_file'])\n",
    "    n_trigger = False\n",
    "    # default value for \"n\"\n",
    "    n = 1\n",
    "    for arg in cmd_line:\n",
    "        if n_trigger:\n",
    "            n = int(arg)\n",
    "            n_trigger = False\n",
    "            continue\n",
    "        if arg == '-n':\n",
    "            # next argument belongs to \"-n\"\n",
    "            n_trigger = True\n",
    "            continue\n",
    "        else:\n",
    "            # it must be the positional argument\n",
    "            in_file = arg\n",
    "    return Args(n=n, in_file=in_file)"
   ]
  },
  {
   "cell_type": "code",
   "execution_count": 9,
   "metadata": {
    "collapsed": false
   },
   "outputs": [
    {
     "data": {
      "text/plain": [
       "Args(n=5, in_file='myfile.txt')"
      ]
     },
     "execution_count": 9,
     "metadata": {},
     "output_type": "execute_result"
    }
   ],
   "source": [
    "# immaginary command line\n",
    "cmd_line = '-n 5 myfile.txt'\n",
    "parse_args(cmd_line.split())"
   ]
  },
  {
   "cell_type": "code",
   "execution_count": 10,
   "metadata": {
    "collapsed": false
   },
   "outputs": [
    {
     "data": {
      "text/plain": [
       "Args(n=5, in_file='another_one.txt')"
      ]
     },
     "execution_count": 10,
     "metadata": {},
     "output_type": "execute_result"
    }
   ],
   "source": [
    "# immaginary command line with multiple input files\n",
    "cmd_line = '-n 5 myfile.txt another_one.txt'\n",
    "parse_args(cmd_line.split())"
   ]
  },
  {
   "cell_type": "markdown",
   "metadata": {},
   "source": [
    "**Note:** in real life we would use the following startegy to read the arguments from the command line:\n",
    "\n",
    "    import sys\n",
    "    cmd_line = ' '.join(sys.argv[1:])\n",
    "    \n",
    "`sys.argv[0]` will be the name of the script, as called from the command line"
   ]
  },
  {
   "cell_type": "markdown",
   "metadata": {},
   "source": [
    "We need to extend our original function, to account for additional positional arguments. We'll also add an extra boolean option. "
   ]
  },
  {
   "cell_type": "code",
   "execution_count": 13,
   "metadata": {
    "collapsed": true
   },
   "outputs": [],
   "source": [
    "def parse_args(cmd_line):\n",
    "    Args = collections.namedtuple('Args',\n",
    "                                  ['n',\n",
    "                                   'verbose',\n",
    "                                   'in_file',\n",
    "                                   'another_file'])\n",
    "    n_trigger = False\n",
    "    # default value for \"n\"\n",
    "    n = 1\n",
    "    # default value for \"verbose\"\n",
    "    verbose = False\n",
    "    # list to hold the positional arguments\n",
    "    positional = []\n",
    "    for arg in cmd_line:\n",
    "        if n_trigger:\n",
    "            n = int(arg)\n",
    "            n_trigger = False\n",
    "            continue\n",
    "        if arg == '-n':\n",
    "            # next argument belongs to \"-n\"\n",
    "            n_trigger = True\n",
    "        elif arg == '--verbose' or arg == '-v':\n",
    "            verbose = True\n",
    "        else:\n",
    "            # it must be the positional argument\n",
    "            positional.append(arg)\n",
    "    return Args(n=n,\n",
    "                verbose=verbose,\n",
    "                in_file=positional[0],\n",
    "                another_file=positional[1])"
   ]
  },
  {
   "cell_type": "code",
   "execution_count": 14,
   "metadata": {
    "collapsed": false
   },
   "outputs": [
    {
     "data": {
      "text/plain": [
       "Args(n=5, verbose=False, in_file='myfile.txt', another_file='another_one.txt')"
      ]
     },
     "execution_count": 14,
     "metadata": {},
     "output_type": "execute_result"
    }
   ],
   "source": [
    "# immaginary command line with multiple input files\n",
    "cmd_line = '-n 5 myfile.txt another_one.txt'\n",
    "parse_args(cmd_line.split())"
   ]
  },
  {
   "cell_type": "markdown",
   "metadata": {},
   "source": [
    "What if the `--verbose` option can be called multiple times to modulate the amount of verbosity of our script?"
   ]
  },
  {
   "cell_type": "code",
   "execution_count": 15,
   "metadata": {
    "collapsed": true
   },
   "outputs": [],
   "source": [
    "def parse_args(cmd_line):\n",
    "    Args = collections.namedtuple('Args',\n",
    "                                  ['n',\n",
    "                                   'verbose',\n",
    "                                   'in_file',\n",
    "                                   'another_file'])\n",
    "    n_trigger = False\n",
    "    # default value for \"n\"\n",
    "    n = 1\n",
    "    # default value for \"verbose\"\n",
    "    verbose = 0\n",
    "    # list to hold the positional arguments\n",
    "    positional = []\n",
    "    for arg in cmd_line:\n",
    "        if n_trigger:\n",
    "            n = int(arg)\n",
    "            n_trigger = False\n",
    "            continue\n",
    "        if arg == '-n':\n",
    "            # next argument belongs to \"-n\"\n",
    "            n_trigger = True\n",
    "        elif arg == '--verbose' or arg == '-v':\n",
    "            verbose += 1\n",
    "        else:\n",
    "            # it must be the positional argument\n",
    "            positional.append(arg)\n",
    "    return Args(n=n,\n",
    "                verbose=verbose,\n",
    "                in_file=positional[0],\n",
    "                another_file=positional[1])"
   ]
  },
  {
   "cell_type": "code",
   "execution_count": 16,
   "metadata": {
    "collapsed": false
   },
   "outputs": [
    {
     "data": {
      "text/plain": [
       "Args(n=5, verbose=2, in_file='myfile.txt', another_file='another_one.txt')"
      ]
     },
     "execution_count": 16,
     "metadata": {},
     "output_type": "execute_result"
    }
   ],
   "source": [
    "# immaginary command line with increased verbosity\n",
    "cmd_line = '-n 5 -v -v myfile.txt another_one.txt'\n",
    "parse_args(cmd_line.split())"
   ]
  },
  {
   "cell_type": "code",
   "execution_count": 18,
   "metadata": {
    "collapsed": false
   },
   "outputs": [
    {
     "data": {
      "text/plain": [
       "Args(n=5, verbose=0, in_file='-vvv', another_file='myfile.txt')"
      ]
     },
     "execution_count": 18,
     "metadata": {},
     "output_type": "execute_result"
    }
   ],
   "source": [
    "# by convention we can also increase verbosity in the following manner\n",
    "cmd_line = '-n 5 -vvv myfile.txt another_one.txt'\n",
    "parse_args(cmd_line)"
   ]
  },
  {
   "cell_type": "markdown",
   "metadata": {},
   "source": [
    "Let's add this additional functionality, hopefully you are starting to see how complicated and prone to bugs is writing your own command line parser!"
   ]
  },
  {
   "cell_type": "code",
   "execution_count": 19,
   "metadata": {
    "collapsed": true
   },
   "outputs": [],
   "source": [
    "def parse_args(cmd_line):\n",
    "    Args = collections.namedtuple('Args',\n",
    "                                  ['n',\n",
    "                                   'verbose',\n",
    "                                   'in_file',\n",
    "                                   'another_file'])\n",
    "    n_trigger = False\n",
    "    # default value for \"n\"\n",
    "    n = 1\n",
    "    # default value for \"verbose\"\n",
    "    verbose = 0\n",
    "    # list to hold the positional arguments\n",
    "    positional = []\n",
    "    for arg in cmd_line:\n",
    "        if n_trigger:\n",
    "            n = int(arg)\n",
    "            n_trigger = False\n",
    "            continue\n",
    "        if arg == '-n':\n",
    "            # next argument belongs to \"-n\"\n",
    "            n_trigger = True\n",
    "        elif arg == '--verbose' or arg == '-v' or arg.startswith('-v'):\n",
    "            if arg.startswith('-v') and len(arg) > 2 and len({char for char in arg[1:]}) == 1:\n",
    "                verbose += len(arg[1:])\n",
    "            else:\n",
    "                verbose += 1\n",
    "        else:\n",
    "            # it must be the positional argument\n",
    "            positional.append(arg)\n",
    "    return Args(n=n,\n",
    "                verbose=verbose,\n",
    "                in_file=positional[0],\n",
    "                another_file=positional[1])"
   ]
  },
  {
   "cell_type": "code",
   "execution_count": 20,
   "metadata": {
    "collapsed": false
   },
   "outputs": [
    {
     "data": {
      "text/plain": [
       "Args(n=5, verbose=3, in_file='myfile.txt', another_file='another_one.txt')"
      ]
     },
     "execution_count": 20,
     "metadata": {},
     "output_type": "execute_result"
    }
   ],
   "source": [
    "# by convention we can also increase verbosity in the following manner\n",
    "cmd_line = '-n 5 -vvv myfile.txt another_one.txt'\n",
    "parse_args(cmd_line.split())"
   ]
  },
  {
   "cell_type": "markdown",
   "metadata": {},
   "source": [
    "The `argparse` module\n",
    "----------\n",
    "\n",
    "Python as a very useful module to create scripts, and it is included the standard library: [`argparse`](https://docs.python.org/3/library/argparse.html). It allows to create command line parser that are concise yet very flexible and powerful.\n",
    "\n",
    "Let's rewrite our last example using `argparse`."
   ]
  },
  {
   "cell_type": "code",
   "execution_count": 24,
   "metadata": {
    "collapsed": true
   },
   "outputs": [],
   "source": [
    "def parse_args(cmd_line):\n",
    "    parser = argparse.ArgumentParser()\n",
    "    \n",
    "    # positional arguments\n",
    "    parser.add_argument('my_file',\n",
    "                        help='My input file')\n",
    "    parser.add_argument('another_file',\n",
    "                        help='Another input file')\n",
    "    \n",
    "    # optional arguments\n",
    "    parser.add_argument('-n',\n",
    "                        type=int,\n",
    "                        default=1,\n",
    "                        help='Number of Ns [Default: 1]')\n",
    "    parser.add_argument('-v', '--verbose',\n",
    "                        action='count',\n",
    "                        default=0,\n",
    "                        help='Increase verbosity level')\n",
    "    \n",
    "    return parser.parse_args(cmd_line)"
   ]
  },
  {
   "cell_type": "code",
   "execution_count": 25,
   "metadata": {
    "collapsed": false
   },
   "outputs": [
    {
     "data": {
      "text/plain": [
       "Namespace(another_file='another_one.txt', my_file='myfile.txt', n=5, verbose=3)"
      ]
     },
     "execution_count": 25,
     "metadata": {},
     "output_type": "execute_result"
    }
   ],
   "source": [
    "# by convention we can also increase verbosity in the following manner\n",
    "cmd_line = '-n 5 -vvv myfile.txt another_one.txt'\n",
    "parse_args(cmd_line.split())"
   ]
  },
  {
   "cell_type": "markdown",
   "metadata": {},
   "source": [
    "By indicating the type of the `-n` options, we can easily check for its type."
   ]
  },
  {
   "cell_type": "code",
   "execution_count": 27,
   "metadata": {
    "collapsed": false
   },
   "outputs": [
    {
     "name": "stderr",
     "output_type": "stream",
     "text": [
      "usage: __main__.py [-h] [-n N] [-v] my_file another_file\n",
      "__main__.py: error: argument -n: invalid int value: 'not_an_integer'\n"
     ]
    },
    {
     "ename": "SystemExit",
     "evalue": "2",
     "output_type": "error",
     "traceback": [
      "An exception has occurred, use %tb to see the full traceback.\n",
      "\u001b[0;31mSystemExit\u001b[0m\u001b[0;31m:\u001b[0m 2\n"
     ]
    },
    {
     "name": "stderr",
     "output_type": "stream",
     "text": [
      "/home/mgalactus/.local/lib/python3.5/site-packages/IPython/core/interactiveshell.py:2889: UserWarning: To exit: use 'exit', 'quit', or Ctrl-D.\n",
      "  warn(\"To exit: use 'exit', 'quit', or Ctrl-D.\", stacklevel=1)\n"
     ]
    }
   ],
   "source": [
    "# by convention we can also increase verbosity in the following manner\n",
    "cmd_line = '-n not_an_integer -vvv myfile.txt another_one.txt'\n",
    "parse_args(cmd_line.split())"
   ]
  },
  {
   "cell_type": "markdown",
   "metadata": {},
   "source": [
    "...and we also get an `-h` (help) option for free, already formatted!"
   ]
  },
  {
   "cell_type": "code",
   "execution_count": 29,
   "metadata": {
    "collapsed": false
   },
   "outputs": [
    {
     "name": "stdout",
     "output_type": "stream",
     "text": [
      "usage: __main__.py [-h] [-n N] [-v] my_file another_file\n",
      "\n",
      "positional arguments:\n",
      "  my_file        My input file\n",
      "  another_file   Another input file\n",
      "\n",
      "optional arguments:\n",
      "  -h, --help     show this help message and exit\n",
      "  -n N           Number of Ns [Default: 1]\n",
      "  -v, --verbose  Increase verbosity level\n"
     ]
    },
    {
     "ename": "SystemExit",
     "evalue": "0",
     "output_type": "error",
     "traceback": [
      "An exception has occurred, use %tb to see the full traceback.\n",
      "\u001b[0;31mSystemExit\u001b[0m\u001b[0;31m:\u001b[0m 0\n"
     ]
    },
    {
     "name": "stderr",
     "output_type": "stream",
     "text": [
      "/home/mgalactus/.local/lib/python3.5/site-packages/IPython/core/interactiveshell.py:2889: UserWarning: To exit: use 'exit', 'quit', or Ctrl-D.\n",
      "  warn(\"To exit: use 'exit', 'quit', or Ctrl-D.\", stacklevel=1)\n"
     ]
    }
   ],
   "source": [
    "# by convention we can also increase verbosity in the following manner\n",
    "cmd_line = '-h'\n",
    "parse_args(cmd_line.split())"
   ]
  },
  {
   "cell_type": "markdown",
   "metadata": {},
   "source": [
    "More `argparse` examples\n",
    "--------------\n",
    "\n",
    "Logging\n",
    "-------\n",
    "\n",
    "Script template\n",
    "---------------\n",
    "\n",
    "Multiprocessing\n",
    "---------------"
   ]
  }
 ],
 "metadata": {
  "kernelspec": {
   "display_name": "Python 3",
   "language": "python",
   "name": "python3"
  },
  "language_info": {
   "codemirror_mode": {
    "name": "ipython",
    "version": 3
   },
   "file_extension": ".py",
   "mimetype": "text/x-python",
   "name": "python",
   "nbconvert_exporter": "python",
   "pygments_lexer": "ipython3",
   "version": "3.5.3"
  }
 },
 "nbformat": 4,
 "nbformat_minor": 0
}
