{
 "cells": [
  {
   "cell_type": "markdown",
   "metadata": {},
   "source": [
    "Useful third-party libraries\n",
    "================"
   ]
  },
  {
   "cell_type": "markdown",
   "metadata": {},
   "source": [
    "How to install third-party libraries\n",
    "-------\n",
    "\n",
    "There are basically two ways to install third party libraries:\n",
    "\n",
    "1. using the provided `setup.py` file\n",
    "2. using python software managers like `pip`\n",
    "3. Using software managers like `anaconda` (binaries) or `linuxbrew/homebrew`\n",
    "4. using your operating system package managers (e.g. `apt-get` for debian-based linux distributions)"
   ]
  },
  {
   "cell_type": "code",
   "execution_count": 1,
   "metadata": {
    "collapsed": true,
    "run_control": {
     "frozen": false,
     "read_only": false
    }
   },
   "outputs": [],
   "source": [
    "# setup.py example\n",
    "# %%bash\n",
    "# wget https://github.com/biopython/biopython/archive/biopython-168.tar.gz\n",
    "# tar -xvf biopython-168.tar.gz\n",
    "# cd biopython-168.tar.gz\n",
    "# sudo python setup.py install"
   ]
  },
  {
   "cell_type": "code",
   "execution_count": 1,
   "metadata": {
    "collapsed": false,
    "run_control": {
     "frozen": false,
     "read_only": false
    }
   },
   "outputs": [
    {
     "name": "stdout",
     "output_type": "stream",
     "text": [
      "Collecting biopython\n",
      "Installing collected packages: biopython\n",
      "Successfully installed biopython-1.68\n",
      "\u001b[33mYou are using pip version 8.1.1, however version 9.0.1 is available.\n",
      "You should consider upgrading via the 'pip install --upgrade pip' command.\u001b[0m\n"
     ]
    }
   ],
   "source": [
    "# using pip\n",
    "!pip install biopython "
   ]
  },
  {
   "cell_type": "code",
   "execution_count": 3,
   "metadata": {
    "collapsed": true,
    "run_control": {
     "frozen": false,
     "read_only": false
    }
   },
   "outputs": [],
   "source": [
    "# using anaconda\n",
    "# !conda install biopython"
   ]
  },
  {
   "cell_type": "code",
   "execution_count": 4,
   "metadata": {
    "collapsed": true,
    "run_control": {
     "frozen": false,
     "read_only": false
    }
   },
   "outputs": [],
   "source": [
    "# using ap-get\n",
    "# !sudo apt-get install python-biopython python3-biopython"
   ]
  },
  {
   "cell_type": "markdown",
   "metadata": {},
   "source": [
    "NumPy: array operations in python\n",
    "-----------------------------------------------------------\n",
    "\n",
    "You already encountered numpy as the \"engine\" that powers pandas. It is also used by many other third-party library to allow fast computation on arrays (i.e. scipy or scikit-learn).\n",
    "\n",
    "The most important feature of NumPy is the ndarray (n-dimensional-array), which is a multidimensional matrix with fixed-type. This allows faster computation and more intuitive array manipulations."
   ]
  },
  {
   "cell_type": "code",
   "execution_count": 5,
   "metadata": {
    "collapsed": true,
    "run_control": {
     "frozen": false,
     "read_only": false
    }
   },
   "outputs": [],
   "source": [
    "import numpy as np"
   ]
  },
  {
   "cell_type": "code",
   "execution_count": 6,
   "metadata": {
    "collapsed": false,
    "run_control": {
     "frozen": false,
     "read_only": false
    }
   },
   "outputs": [
    {
     "data": {
      "text/plain": [
       "array([2, 3, 4])"
      ]
     },
     "execution_count": 6,
     "metadata": {},
     "output_type": "execute_result"
    }
   ],
   "source": [
    "# simple array creation\n",
    "a = np.array([2,3,4])\n",
    "a"
   ]
  },
  {
   "cell_type": "code",
   "execution_count": 7,
   "metadata": {
    "collapsed": false,
    "run_control": {
     "frozen": false,
     "read_only": false
    }
   },
   "outputs": [
    {
     "data": {
      "text/plain": [
       "dtype('int64')"
      ]
     },
     "execution_count": 7,
     "metadata": {},
     "output_type": "execute_result"
    }
   ],
   "source": [
    "# what type is my array?\n",
    "a.dtype"
   ]
  },
  {
   "cell_type": "code",
   "execution_count": 8,
   "metadata": {
    "collapsed": false,
    "run_control": {
     "frozen": false,
     "read_only": false
    }
   },
   "outputs": [
    {
     "data": {
      "text/plain": [
       "array([ 1.2,  3.5,  5.1])"
      ]
     },
     "execution_count": 8,
     "metadata": {},
     "output_type": "execute_result"
    }
   ],
   "source": [
    "b = np.array([1.2, 3.5, 5.1])\n",
    "b"
   ]
  },
  {
   "cell_type": "code",
   "execution_count": 9,
   "metadata": {
    "collapsed": false,
    "run_control": {
     "frozen": false,
     "read_only": false
    }
   },
   "outputs": [
    {
     "data": {
      "text/plain": [
       "dtype('float64')"
      ]
     },
     "execution_count": 9,
     "metadata": {},
     "output_type": "execute_result"
    }
   ],
   "source": [
    "b.dtype"
   ]
  },
  {
   "cell_type": "markdown",
   "metadata": {},
   "source": [
    "We can check the dimensions of the array by using the `shape` method"
   ]
  },
  {
   "cell_type": "code",
   "execution_count": 10,
   "metadata": {
    "collapsed": false,
    "run_control": {
     "frozen": false,
     "read_only": false
    }
   },
   "outputs": [
    {
     "data": {
      "text/plain": [
       "(3,)"
      ]
     },
     "execution_count": 10,
     "metadata": {},
     "output_type": "execute_result"
    }
   ],
   "source": [
    "b.shape"
   ]
  },
  {
   "cell_type": "markdown",
   "metadata": {},
   "source": [
    "Numpy offers several array constructors that can be quite handy."
   ]
  },
  {
   "cell_type": "code",
   "execution_count": 11,
   "metadata": {
    "collapsed": false,
    "run_control": {
     "frozen": false,
     "read_only": false
    }
   },
   "outputs": [
    {
     "data": {
      "text/plain": [
       "array([ 0. ,  0.2,  0.4,  0.6,  0.8,  1. ,  1.2,  1.4,  1.6,  1.8,  2. ,\n",
       "        2.2,  2.4,  2.6,  2.8,  3. ,  3.2,  3.4,  3.6,  3.8,  4. ,  4.2,\n",
       "        4.4,  4.6,  4.8,  5. ,  5.2,  5.4,  5.6,  5.8,  6. ,  6.2,  6.4,\n",
       "        6.6,  6.8,  7. ,  7.2,  7.4,  7.6,  7.8,  8. ,  8.2,  8.4,  8.6,\n",
       "        8.8,  9. ,  9.2,  9.4,  9.6,  9.8])"
      ]
     },
     "execution_count": 11,
     "metadata": {},
     "output_type": "execute_result"
    }
   ],
   "source": [
    "# like range, but returns an array\n",
    "np.arange(10, step=0.2)"
   ]
  },
  {
   "cell_type": "code",
   "execution_count": 12,
   "metadata": {
    "collapsed": false,
    "run_control": {
     "frozen": false,
     "read_only": false
    }
   },
   "outputs": [
    {
     "data": {
      "text/plain": [
       "array([  0.        ,   0.52631579,   1.05263158,   1.57894737,\n",
       "         2.10526316,   2.63157895,   3.15789474,   3.68421053,\n",
       "         4.21052632,   4.73684211,   5.26315789,   5.78947368,\n",
       "         6.31578947,   6.84210526,   7.36842105,   7.89473684,\n",
       "         8.42105263,   8.94736842,   9.47368421,  10.        ])"
      ]
     },
     "execution_count": 12,
     "metadata": {},
     "output_type": "execute_result"
    }
   ],
   "source": [
    "# evenly-spaced numbers\n",
    "np.linspace(0, 10, num=20)"
   ]
  },
  {
   "cell_type": "code",
   "execution_count": 13,
   "metadata": {
    "collapsed": false,
    "run_control": {
     "frozen": false,
     "read_only": false
    }
   },
   "outputs": [
    {
     "data": {
      "text/plain": [
       "array([  1.00000000e+00,   1.44024654e+00,   2.07431009e+00,\n",
       "         2.98751792e+00,   4.30276234e+00,   6.19703857e+00,\n",
       "         8.92526334e+00,   1.28545796e+01,   1.85137638e+01,\n",
       "         2.66643842e+01,   3.84032870e+01,   5.53102012e+01,\n",
       "         7.96603257e+01,   1.14730508e+02,   1.65240217e+02,\n",
       "         2.37986651e+02,   3.42759450e+02,   4.93658111e+02,\n",
       "         7.10989385e+02,   1.02400000e+03])"
      ]
     },
     "execution_count": 13,
     "metadata": {},
     "output_type": "execute_result"
    }
   ],
   "source": [
    "# evenly spaced numbers on a logaritmic space (base 2)\n",
    "np.logspace(0, 10, num=20, base=2)"
   ]
  },
  {
   "cell_type": "code",
   "execution_count": 14,
   "metadata": {
    "collapsed": false,
    "run_control": {
     "frozen": false,
     "read_only": false
    }
   },
   "outputs": [
    {
     "data": {
      "text/plain": [
       "array([ 0.,  0.,  0.,  0.,  0.,  0.,  0.,  0.,  0.,  0.])"
      ]
     },
     "execution_count": 14,
     "metadata": {},
     "output_type": "execute_result"
    }
   ],
   "source": [
    "np.zeros(10)"
   ]
  },
  {
   "cell_type": "code",
   "execution_count": 15,
   "metadata": {
    "collapsed": false,
    "run_control": {
     "frozen": false,
     "read_only": false
    }
   },
   "outputs": [
    {
     "data": {
      "text/plain": [
       "array([[ 0.,  0.,  0.,  0.,  0.],\n",
       "       [ 0.,  0.,  0.,  0.,  0.],\n",
       "       [ 0.,  0.,  0.,  0.,  0.],\n",
       "       [ 0.,  0.,  0.,  0.,  0.],\n",
       "       [ 0.,  0.,  0.,  0.,  0.],\n",
       "       [ 0.,  0.,  0.,  0.,  0.],\n",
       "       [ 0.,  0.,  0.,  0.,  0.],\n",
       "       [ 0.,  0.,  0.,  0.,  0.],\n",
       "       [ 0.,  0.,  0.,  0.,  0.],\n",
       "       [ 0.,  0.,  0.,  0.,  0.]])"
      ]
     },
     "execution_count": 15,
     "metadata": {},
     "output_type": "execute_result"
    }
   ],
   "source": [
    "# multidimensional\n",
    "z = np.zeros((10, 5))\n",
    "z"
   ]
  },
  {
   "cell_type": "code",
   "execution_count": 16,
   "metadata": {
    "collapsed": false,
    "run_control": {
     "frozen": false,
     "read_only": false
    }
   },
   "outputs": [
    {
     "data": {
      "text/plain": [
       "(10, 5)"
      ]
     },
     "execution_count": 16,
     "metadata": {},
     "output_type": "execute_result"
    }
   ],
   "source": [
    "z.shape"
   ]
  },
  {
   "cell_type": "code",
   "execution_count": 17,
   "metadata": {
    "collapsed": false,
    "run_control": {
     "frozen": false,
     "read_only": false
    }
   },
   "outputs": [
    {
     "data": {
      "text/plain": [
       "array([[ 1.,  1.,  1.,  1.,  1.],\n",
       "       [ 1.,  1.,  1.,  1.,  1.],\n",
       "       [ 1.,  1.,  1.,  1.,  1.],\n",
       "       [ 1.,  1.,  1.,  1.,  1.],\n",
       "       [ 1.,  1.,  1.,  1.,  1.],\n",
       "       [ 1.,  1.,  1.,  1.,  1.],\n",
       "       [ 1.,  1.,  1.,  1.,  1.],\n",
       "       [ 1.,  1.,  1.,  1.,  1.],\n",
       "       [ 1.,  1.,  1.,  1.,  1.],\n",
       "       [ 1.,  1.,  1.,  1.,  1.]])"
      ]
     },
     "execution_count": 17,
     "metadata": {},
     "output_type": "execute_result"
    }
   ],
   "source": [
    "np.ones((10, 5))"
   ]
  },
  {
   "cell_type": "markdown",
   "metadata": {},
   "source": [
    "Some of the operations you applied to dataframes apply to numpy arrays too"
   ]
  },
  {
   "cell_type": "code",
   "execution_count": 18,
   "metadata": {
    "collapsed": false,
    "run_control": {
     "frozen": false,
     "read_only": false
    }
   },
   "outputs": [
    {
     "data": {
      "text/plain": [
       "array([[  0.00000000e+00,   1.11111111e+00,   2.22222222e+00,\n",
       "          3.33333333e+00,   4.44444444e+00,   5.55555556e+00,\n",
       "          6.66666667e+00,   7.77777778e+00,   8.88888889e+00,\n",
       "          1.00000000e+01],\n",
       "       [  1.00000000e+00,   1.29154967e+01,   1.66810054e+02,\n",
       "          2.15443469e+03,   2.78255940e+04,   3.59381366e+05,\n",
       "          4.64158883e+06,   5.99484250e+07,   7.74263683e+08,\n",
       "          1.00000000e+10]])"
      ]
     },
     "execution_count": 18,
     "metadata": {},
     "output_type": "execute_result"
    }
   ],
   "source": [
    "a = np.array((np.linspace(0, 10, num=10),\n",
    "              np.logspace(0, 10, num=10),))\n",
    "a"
   ]
  },
  {
   "cell_type": "code",
   "execution_count": 19,
   "metadata": {
    "collapsed": false,
    "run_control": {
     "frozen": false,
     "read_only": false
    }
   },
   "outputs": [
    {
     "data": {
      "text/plain": [
       "(2, 10)"
      ]
     },
     "execution_count": 19,
     "metadata": {},
     "output_type": "execute_result"
    }
   ],
   "source": [
    "a.shape"
   ]
  },
  {
   "cell_type": "code",
   "execution_count": 20,
   "metadata": {
    "collapsed": false,
    "run_control": {
     "frozen": false,
     "read_only": false
    }
   },
   "outputs": [
    {
     "data": {
      "text/plain": [
       "array([[  0.00000000e+00,   1.00000000e+00],\n",
       "       [  1.11111111e+00,   1.29154967e+01],\n",
       "       [  2.22222222e+00,   1.66810054e+02],\n",
       "       [  3.33333333e+00,   2.15443469e+03],\n",
       "       [  4.44444444e+00,   2.78255940e+04],\n",
       "       [  5.55555556e+00,   3.59381366e+05],\n",
       "       [  6.66666667e+00,   4.64158883e+06],\n",
       "       [  7.77777778e+00,   5.99484250e+07],\n",
       "       [  8.88888889e+00,   7.74263683e+08],\n",
       "       [  1.00000000e+01,   1.00000000e+10]])"
      ]
     },
     "execution_count": 20,
     "metadata": {},
     "output_type": "execute_result"
    }
   ],
   "source": [
    "# equivalent to a.transpose(), but more concise\n",
    "a.T"
   ]
  },
  {
   "cell_type": "code",
   "execution_count": 21,
   "metadata": {
    "collapsed": false,
    "run_control": {
     "frozen": false,
     "read_only": false
    }
   },
   "outputs": [
    {
     "data": {
      "text/plain": [
       "(10, 2)"
      ]
     },
     "execution_count": 21,
     "metadata": {},
     "output_type": "execute_result"
    }
   ],
   "source": [
    "a.T.shape"
   ]
  },
  {
   "cell_type": "code",
   "execution_count": 22,
   "metadata": {
    "collapsed": false,
    "run_control": {
     "frozen": false,
     "read_only": false
    }
   },
   "outputs": [
    {
     "data": {
      "text/plain": [
       "541962164.43336391"
      ]
     },
     "execution_count": 22,
     "metadata": {},
     "output_type": "execute_result"
    }
   ],
   "source": [
    "a.mean()"
   ]
  },
  {
   "cell_type": "code",
   "execution_count": 23,
   "metadata": {
    "collapsed": false,
    "run_control": {
     "frozen": false,
     "read_only": false
    }
   },
   "outputs": [
    {
     "data": {
      "text/plain": [
       "2176334532.9328117"
      ]
     },
     "execution_count": 23,
     "metadata": {},
     "output_type": "execute_result"
    }
   ],
   "source": [
    "np.std(a)"
   ]
  },
  {
   "cell_type": "code",
   "execution_count": 24,
   "metadata": {
    "collapsed": false,
    "run_control": {
     "frozen": false,
     "read_only": false
    }
   },
   "outputs": [
    {
     "data": {
      "text/plain": [
       "9.4444444444444446"
      ]
     },
     "execution_count": 24,
     "metadata": {},
     "output_type": "execute_result"
    }
   ],
   "source": [
    "np.median(a)"
   ]
  },
  {
   "cell_type": "markdown",
   "metadata": {},
   "source": [
    "We can also cahnge the dimension of the array"
   ]
  },
  {
   "cell_type": "code",
   "execution_count": 25,
   "metadata": {
    "collapsed": false,
    "run_control": {
     "frozen": false,
     "read_only": false
    }
   },
   "outputs": [
    {
     "data": {
      "text/plain": [
       "array([[  0.00000000e+00,   1.11111111e+00,   2.22222222e+00,\n",
       "          3.33333333e+00,   4.44444444e+00],\n",
       "       [  5.55555556e+00,   6.66666667e+00,   7.77777778e+00,\n",
       "          8.88888889e+00,   1.00000000e+01],\n",
       "       [  1.00000000e+00,   1.29154967e+01,   1.66810054e+02,\n",
       "          2.15443469e+03,   2.78255940e+04],\n",
       "       [  3.59381366e+05,   4.64158883e+06,   5.99484250e+07,\n",
       "          7.74263683e+08,   1.00000000e+10]])"
      ]
     },
     "execution_count": 25,
     "metadata": {},
     "output_type": "execute_result"
    }
   ],
   "source": [
    "# rows/columns\n",
    "a.reshape(4, 5)"
   ]
  },
  {
   "cell_type": "code",
   "execution_count": 27,
   "metadata": {
    "collapsed": false,
    "run_control": {
     "frozen": false,
     "read_only": false
    }
   },
   "outputs": [
    {
     "ename": "ValueError",
     "evalue": "total size of new array must be unchanged",
     "output_type": "error",
     "traceback": [
      "\u001b[0;31m---------------------------------------------------------------------------\u001b[0m",
      "\u001b[0;31mValueError\u001b[0m                                Traceback (most recent call last)",
      "\u001b[0;32m<ipython-input-27-3897a6146297>\u001b[0m in \u001b[0;36m<module>\u001b[0;34m()\u001b[0m\n\u001b[1;32m      1\u001b[0m \u001b[0;31m# rows/columns\u001b[0m\u001b[0;34m\u001b[0m\u001b[0;34m\u001b[0m\u001b[0m\n\u001b[0;32m----> 2\u001b[0;31m \u001b[0ma\u001b[0m\u001b[0;34m.\u001b[0m\u001b[0mreshape\u001b[0m\u001b[0;34m(\u001b[0m\u001b[0;36m6\u001b[0m\u001b[0;34m,\u001b[0m \u001b[0;36m5\u001b[0m\u001b[0;34m)\u001b[0m\u001b[0;34m\u001b[0m\u001b[0m\n\u001b[0m",
      "\u001b[0;31mValueError\u001b[0m: total size of new array must be unchanged"
     ]
    }
   ],
   "source": [
    "# rows/columns\n",
    "a.reshape(6, 5)"
   ]
  },
  {
   "cell_type": "markdown",
   "metadata": {},
   "source": [
    "Mathematical operations on arrays are quite simple"
   ]
  },
  {
   "cell_type": "code",
   "execution_count": 29,
   "metadata": {
    "collapsed": true,
    "run_control": {
     "frozen": false,
     "read_only": false
    }
   },
   "outputs": [],
   "source": [
    "b = np.array((np.linspace(0, 10, num=5),\n",
    "              np.logspace(0, 10, num=5),))"
   ]
  },
  {
   "cell_type": "code",
   "execution_count": 30,
   "metadata": {
    "collapsed": false,
    "run_control": {
     "frozen": false,
     "read_only": false
    }
   },
   "outputs": [
    {
     "ename": "ValueError",
     "evalue": "operands could not be broadcast together with shapes (2,10) (2,5) ",
     "output_type": "error",
     "traceback": [
      "\u001b[0;31m---------------------------------------------------------------------------\u001b[0m",
      "\u001b[0;31mValueError\u001b[0m                                Traceback (most recent call last)",
      "\u001b[0;32m<ipython-input-30-f96fb8f649b6>\u001b[0m in \u001b[0;36m<module>\u001b[0;34m()\u001b[0m\n\u001b[0;32m----> 1\u001b[0;31m \u001b[0ma\u001b[0m \u001b[0;34m+\u001b[0m \u001b[0mb\u001b[0m\u001b[0;34m\u001b[0m\u001b[0m\n\u001b[0m",
      "\u001b[0;31mValueError\u001b[0m: operands could not be broadcast together with shapes (2,10) (2,5) "
     ]
    }
   ],
   "source": [
    "a + b"
   ]
  },
  {
   "cell_type": "code",
   "execution_count": 31,
   "metadata": {
    "collapsed": false,
    "run_control": {
     "frozen": false,
     "read_only": false
    }
   },
   "outputs": [
    {
     "data": {
      "text/plain": [
       "array([[  0.00000000e+00,   2.22222222e+00,   4.44444444e+00,\n",
       "          6.66666667e+00,   8.88888889e+00,   1.11111111e+01,\n",
       "          1.33333333e+01,   1.55555556e+01,   1.77777778e+01,\n",
       "          2.00000000e+01],\n",
       "       [  2.00000000e+00,   2.58309933e+01,   3.33620107e+02,\n",
       "          4.30886938e+03,   5.56511880e+04,   7.18762733e+05,\n",
       "          9.28317767e+06,   1.19896850e+08,   1.54852737e+09,\n",
       "          2.00000000e+10]])"
      ]
     },
     "execution_count": 31,
     "metadata": {},
     "output_type": "execute_result"
    }
   ],
   "source": [
    "b = np.array((np.linspace(0, 10, num=10),\n",
    "              np.logspace(0, 10, num=10),))\n",
    "a + b"
   ]
  },
  {
   "cell_type": "code",
   "execution_count": 32,
   "metadata": {
    "collapsed": false,
    "run_control": {
     "frozen": false,
     "read_only": false
    }
   },
   "outputs": [
    {
     "data": {
      "text/plain": [
       "array([[ 0.,  0.,  0.,  0.,  0.,  0.,  0.,  0.,  0.,  0.],\n",
       "       [ 0.,  0.,  0.,  0.,  0.,  0.,  0.,  0.,  0.,  0.]])"
      ]
     },
     "execution_count": 32,
     "metadata": {},
     "output_type": "execute_result"
    }
   ],
   "source": [
    "a - b"
   ]
  },
  {
   "cell_type": "code",
   "execution_count": 33,
   "metadata": {
    "collapsed": false,
    "run_control": {
     "frozen": false,
     "read_only": false
    }
   },
   "outputs": [
    {
     "data": {
      "text/plain": [
       "array([[  0.00000000e+00,   1.23456790e+00,   4.93827160e+00,\n",
       "          1.11111111e+01,   1.97530864e+01,   3.08641975e+01,\n",
       "          4.44444444e+01,   6.04938272e+01,   7.90123457e+01,\n",
       "          1.00000000e+02],\n",
       "       [  1.00000000e+00,   1.66810054e+02,   2.78255940e+04,\n",
       "          4.64158883e+06,   7.74263683e+08,   1.29154967e+11,\n",
       "          2.15443469e+13,   3.59381366e+15,   5.99484250e+17,\n",
       "          1.00000000e+20]])"
      ]
     },
     "execution_count": 33,
     "metadata": {},
     "output_type": "execute_result"
    }
   ],
   "source": [
    "a**2"
   ]
  },
  {
   "cell_type": "code",
   "execution_count": 34,
   "metadata": {
    "collapsed": false,
    "run_control": {
     "frozen": false,
     "read_only": false
    }
   },
   "outputs": [
    {
     "data": {
      "text/plain": [
       "array([[False, False, False, False, False,  True,  True,  True,  True,\n",
       "         True],\n",
       "       [False,  True,  True,  True,  True,  True,  True,  True,  True,\n",
       "         True]], dtype=bool)"
      ]
     },
     "execution_count": 34,
     "metadata": {},
     "output_type": "execute_result"
    }
   ],
   "source": [
    "a > 5"
   ]
  },
  {
   "cell_type": "code",
   "execution_count": 35,
   "metadata": {
    "collapsed": false,
    "run_control": {
     "frozen": false,
     "read_only": false
    }
   },
   "outputs": [
    {
     "data": {
      "text/plain": [
       "array([  5.55555556e+00,   6.66666667e+00,   7.77777778e+00,\n",
       "         8.88888889e+00,   1.00000000e+01,   1.29154967e+01,\n",
       "         1.66810054e+02,   2.15443469e+03,   2.78255940e+04,\n",
       "         3.59381366e+05,   4.64158883e+06,   5.99484250e+07,\n",
       "         7.74263683e+08,   1.00000000e+10])"
      ]
     },
     "execution_count": 35,
     "metadata": {},
     "output_type": "execute_result"
    }
   ],
   "source": [
    "a[a > 5]"
   ]
  },
  {
   "cell_type": "code",
   "execution_count": 36,
   "metadata": {
    "collapsed": false,
    "run_control": {
     "frozen": false,
     "read_only": false
    }
   },
   "outputs": [
    {
     "data": {
      "text/plain": [
       "array([[  0.00000000e+00,   1.23456790e+00,   4.93827160e+00,\n",
       "          1.11111111e+01,   1.97530864e+01,   3.08641975e+01,\n",
       "          4.44444444e+01,   6.04938272e+01,   7.90123457e+01,\n",
       "          1.00000000e+02],\n",
       "       [  1.00000000e+00,   1.66810054e+02,   2.78255940e+04,\n",
       "          4.64158883e+06,   7.74263683e+08,   1.29154967e+11,\n",
       "          2.15443469e+13,   3.59381366e+15,   5.99484250e+17,\n",
       "          1.00000000e+20]])"
      ]
     },
     "execution_count": 36,
     "metadata": {},
     "output_type": "execute_result"
    }
   ],
   "source": [
    "# element-wise product\n",
    "a * b"
   ]
  },
  {
   "cell_type": "code",
   "execution_count": 37,
   "metadata": {
    "collapsed": false,
    "run_control": {
     "frozen": false,
     "read_only": false
    }
   },
   "outputs": [
    {
     "data": {
      "text/plain": [
       "(2, 10)"
      ]
     },
     "execution_count": 37,
     "metadata": {},
     "output_type": "execute_result"
    }
   ],
   "source": [
    "a.shape"
   ]
  },
  {
   "cell_type": "code",
   "execution_count": 38,
   "metadata": {
    "collapsed": false,
    "run_control": {
     "frozen": false,
     "read_only": false
    }
   },
   "outputs": [
    {
     "data": {
      "text/plain": [
       "array([[ 1.25202681,  1.14120776,  1.16183376],\n",
       "       [ 0.91491665,  0.82358997,  0.77759943],\n",
       "       [ 0.89658309,  0.84384356,  0.80666068]])"
      ]
     },
     "execution_count": 38,
     "metadata": {},
     "output_type": "execute_result"
    }
   ],
   "source": [
    "# matrix product\n",
    "a = np.random.random((3, 3))\n",
    "b = np.random.random((3, 3))\n",
    "np.dot(a, b)"
   ]
  },
  {
   "cell_type": "markdown",
   "metadata": {},
   "source": [
    "**Indexing and splicing**"
   ]
  },
  {
   "cell_type": "code",
   "execution_count": 39,
   "metadata": {
    "collapsed": true,
    "run_control": {
     "frozen": false,
     "read_only": false
    }
   },
   "outputs": [],
   "source": [
    "a = np.random.random((3, 5))"
   ]
  },
  {
   "cell_type": "code",
   "execution_count": 40,
   "metadata": {
    "collapsed": false,
    "run_control": {
     "frozen": false,
     "read_only": false
    }
   },
   "outputs": [
    {
     "data": {
      "text/plain": [
       "array([ 0.17729414,  0.10694347,  0.22584673,  0.72932164,  0.44354711])"
      ]
     },
     "execution_count": 40,
     "metadata": {},
     "output_type": "execute_result"
    }
   ],
   "source": [
    "# get row 1\n",
    "a[1]"
   ]
  },
  {
   "cell_type": "code",
   "execution_count": 42,
   "metadata": {
    "collapsed": false,
    "run_control": {
     "frozen": false,
     "read_only": false
    }
   },
   "outputs": [
    {
     "data": {
      "text/plain": [
       "array([ 0.28034467,  0.10694347,  0.47014563])"
      ]
     },
     "execution_count": 42,
     "metadata": {},
     "output_type": "execute_result"
    }
   ],
   "source": [
    "# get column 1\n",
    "a[:,1]"
   ]
  },
  {
   "cell_type": "code",
   "execution_count": 43,
   "metadata": {
    "collapsed": false,
    "run_control": {
     "frozen": false,
     "read_only": false
    }
   },
   "outputs": [
    {
     "data": {
      "text/plain": [
       "array([[[ 0.91167191,  0.90714898],\n",
       "        [ 0.61071954,  0.39497317],\n",
       "        [ 0.30454867,  0.50195528],\n",
       "        [ 0.9824825 ,  0.74384967],\n",
       "        [ 0.8322759 ,  0.92792685]],\n",
       "\n",
       "       [[ 0.42101823,  0.9028073 ],\n",
       "        [ 0.09184705,  0.7880417 ],\n",
       "        [ 0.48465703,  0.07919901],\n",
       "        [ 0.98166642,  0.8559245 ],\n",
       "        [ 0.52155527,  0.81091301]],\n",
       "\n",
       "       [[ 0.06743029,  0.95109574],\n",
       "        [ 0.13713628,  0.93701279],\n",
       "        [ 0.22488301,  0.65961515],\n",
       "        [ 0.45748181,  0.21656602],\n",
       "        [ 0.03610582,  0.37445372]]])"
      ]
     },
     "execution_count": 43,
     "metadata": {},
     "output_type": "execute_result"
    }
   ],
   "source": [
    "a = np.random.random((3, 5, 2))\n",
    "a"
   ]
  },
  {
   "cell_type": "code",
   "execution_count": 44,
   "metadata": {
    "collapsed": false,
    "run_control": {
     "frozen": false,
     "read_only": false
    }
   },
   "outputs": [
    {
     "data": {
      "text/plain": [
       "array([ 0.7880417 ,  0.07919901,  0.8559245 ])"
      ]
     },
     "execution_count": 44,
     "metadata": {},
     "output_type": "execute_result"
    }
   ],
   "source": [
    "a[1, 1:4, 1]"
   ]
  },
  {
   "cell_type": "markdown",
   "metadata": {},
   "source": [
    "SciPy: scientific python\n",
    "-----------------------------------------------------------\n",
    "\n",
    "SciPy is a very large library of scientific calculations and statistics to be performed on numpy array.\n",
    "\n",
    "The modules contained in this library are the following:\n",
    "\n",
    "- Special functions (scipy.special)\n",
    "- Integration (scipy.integrate)\n",
    "- Optimization (scipy.optimize)\n",
    "- Interpolation (scipy.interpolate)\n",
    "- Fourier Transforms (scipy.fftpack)\n",
    "- Signal Processing (scipy.signal)\n",
    "- Linear Algebra (scipy.linalg)\n",
    "- Sparse Eigenvalue Problems with ARPACK\n",
    "- Compressed Sparse Graph Routines (scipy.sparse.csgraph)\n",
    "- Spatial data structures and algorithms (scipy.spatial)\n",
    "- Statistics (scipy.stats)\n",
    "- Multidimensional image processing (scipy.ndimage)\n",
    "- File IO (scipy.io)\n",
    "- Weave (scipy.weave)\n",
    "\n",
    "They are clearly too many to go through them, but it is worth to highlight the statistical module"
   ]
  },
  {
   "cell_type": "code",
   "execution_count": 45,
   "metadata": {
    "collapsed": true,
    "run_control": {
     "frozen": false,
     "read_only": false
    }
   },
   "outputs": [],
   "source": [
    "from scipy import stats"
   ]
  },
  {
   "cell_type": "code",
   "execution_count": 46,
   "metadata": {
    "collapsed": false,
    "run_control": {
     "frozen": false,
     "read_only": false
    }
   },
   "outputs": [
    {
     "data": {
      "text/plain": [
       "array([ 0.07073738, -0.83372846,  1.14764746, -0.70490055,  1.24434484,\n",
       "       -1.87477802, -0.82445615, -0.47428828, -1.09031953, -0.89080194,\n",
       "        0.10300198,  1.57835513,  0.52416919,  0.42961903,  0.48661548,\n",
       "        0.03461833,  1.15415757,  1.13484167, -0.86738422,  0.09634861,\n",
       "       -0.35754799,  1.62833294, -0.38446628,  1.78510185,  1.41073076,\n",
       "        0.59817222, -0.77133475, -1.52031904,  0.58876947,  1.77030767,\n",
       "       -1.27897851,  0.65519997, -0.12397685,  0.9291305 ,  1.33538481,\n",
       "       -0.2969452 ,  2.47215459, -0.63014463, -0.92921258, -0.51533325,\n",
       "       -2.00175416,  0.51255847, -0.56421177, -0.67011065,  1.48914503,\n",
       "       -0.75312561, -0.56610727,  0.11143445,  0.10392492,  0.8375039 ,\n",
       "        1.12466212,  0.0966476 , -0.47777173,  1.45959774, -0.32245293,\n",
       "       -1.77279955, -1.55793923,  0.80971451,  0.01827316, -0.02893384,\n",
       "       -0.77824293, -0.29819603, -0.4606492 ,  0.20172045,  1.32758462,\n",
       "       -0.54361688,  0.0596146 , -1.73361635,  2.94062933,  0.19723566,\n",
       "        0.36250215,  0.70145438,  0.61018992,  0.08765339,  0.94126327,\n",
       "       -0.11056486,  0.10576789, -0.53593163,  1.51943944,  0.95562175,\n",
       "       -0.69594258,  0.25850497, -0.52889332,  0.08079676, -2.02831403,\n",
       "        0.10996978, -0.72436582, -0.98553824, -0.17143029,  0.25183461,\n",
       "       -1.92910776, -0.06988184,  0.05264972, -1.14880316, -1.50412671,\n",
       "       -0.97257026, -0.4137841 , -0.20856108,  0.43109365,  1.35737229])"
      ]
     },
     "execution_count": 46,
     "metadata": {},
     "output_type": "execute_result"
    }
   ],
   "source": [
    "# get samples from a normal distribution\n",
    "# loc: mean\n",
    "# scale: std\n",
    "n = stats.norm.rvs(loc=0, scale=1, size=100)\n",
    "n"
   ]
  },
  {
   "cell_type": "code",
   "execution_count": 47,
   "metadata": {
    "collapsed": false,
    "run_control": {
     "frozen": false,
     "read_only": false
    }
   },
   "outputs": [
    {
     "data": {
      "text/plain": [
       "NormaltestResult(statistic=0.99143303812063033, pvalue=0.60913429456197066)"
      ]
     },
     "execution_count": 47,
     "metadata": {},
     "output_type": "execute_result"
    }
   ],
   "source": [
    "stats.normaltest(n)"
   ]
  },
  {
   "cell_type": "code",
   "execution_count": 48,
   "metadata": {
    "collapsed": false,
    "run_control": {
     "frozen": false,
     "read_only": false
    }
   },
   "outputs": [],
   "source": [
    "n1 = stats.norm.rvs(loc=0, scale=1, size=100)\n",
    "n2 = stats.norm.rvs(loc=0.5, scale=1, size=100)"
   ]
  },
  {
   "cell_type": "code",
   "execution_count": 49,
   "metadata": {
    "collapsed": false,
    "run_control": {
     "frozen": false,
     "read_only": false
    }
   },
   "outputs": [
    {
     "data": {
      "text/plain": [
       "Ttest_indResult(statistic=-2.5032168867136555, pvalue=0.013115461312553506)"
      ]
     },
     "execution_count": 49,
     "metadata": {},
     "output_type": "execute_result"
    }
   ],
   "source": [
    "# ttest\n",
    "stats.ttest_ind(n1, n2)"
   ]
  },
  {
   "cell_type": "code",
   "execution_count": 50,
   "metadata": {
    "collapsed": false,
    "run_control": {
     "frozen": false,
     "read_only": false
    }
   },
   "outputs": [
    {
     "data": {
      "text/plain": [
       "Ks_2sampResult(statistic=0.20000000000000001, pvalue=0.031376652153072532)"
      ]
     },
     "execution_count": 50,
     "metadata": {},
     "output_type": "execute_result"
    }
   ],
   "source": [
    "# Kolmogorov-Smirnoff test\n",
    "stats.ks_2samp(n1, n2)"
   ]
  },
  {
   "cell_type": "code",
   "execution_count": 51,
   "metadata": {
    "collapsed": false,
    "run_control": {
     "frozen": false,
     "read_only": false
    }
   },
   "outputs": [
    {
     "data": {
      "text/plain": [
       "(0.13333333333333333, 0.067937086952416736)"
      ]
     },
     "execution_count": 51,
     "metadata": {},
     "output_type": "execute_result"
    }
   ],
   "source": [
    "table = [[1, 15],\n",
    "         [10, 20]]\n",
    "stats.fisher_exact(table)"
   ]
  },
  {
   "cell_type": "code",
   "execution_count": 52,
   "metadata": {
    "collapsed": false,
    "run_control": {
     "frozen": false,
     "read_only": false
    }
   },
   "outputs": [
    {
     "data": {
      "text/plain": [
       "(0.13333333333333333, 0.040128644033470856)"
      ]
     },
     "execution_count": 52,
     "metadata": {},
     "output_type": "execute_result"
    }
   ],
   "source": [
    "table = [[1, 15],\n",
    "         [10, 20]]\n",
    "stats.fisher_exact(table, alternative='less')"
   ]
  },
  {
   "cell_type": "markdown",
   "metadata": {},
   "source": [
    "Biopython: the swiss-army-knife library for bioinformatics\n",
    "-----------------------------------------------------------\n",
    "\n",
    "Biopython (http://biopython.org/wiki/Biopython) is a collection of libraries to manipulate files related to computational biology, from sequence data to pdb files. It allows the conversion between formats and even the interrogation of commonly used databases, such as NCBI and KEGG."
   ]
  },
  {
   "cell_type": "markdown",
   "metadata": {},
   "source": [
    "**Sequence manipulations**\n",
    "\n",
    "Biopython uses a complex series of objects to respresent biological sequences: `SeqRecord`, `Seq` and so on. In most of the cases the user is not expected to create a sequence but to read it, so learning how to manipulate sequences is relatively easy.\n",
    "\n",
    "When a sequence is read from a file it comes as a `SeqRecord` object, which can handle annotations on top of a sequence.\n",
    "\n",
    "As in many biopython modules, parsing can be done either through the `parse` or the `read` method. The first one acts as an `iterator`, which means that it can be used in a `for` loop to access one sequence at a time. The latter is used when the file contains one and only one record."
   ]
  },
  {
   "cell_type": "code",
   "execution_count": 55,
   "metadata": {
    "collapsed": false,
    "run_control": {
     "frozen": false,
     "read_only": false
    }
   },
   "outputs": [
    {
     "ename": "ValueError",
     "evalue": "More than one record found in handle",
     "output_type": "error",
     "traceback": [
      "\u001b[0;31m---------------------------------------------------------------------------\u001b[0m",
      "\u001b[0;31mValueError\u001b[0m                                Traceback (most recent call last)",
      "\u001b[0;32m<ipython-input-55-14eb0f28d164>\u001b[0m in \u001b[0;36m<module>\u001b[0;34m()\u001b[0m\n\u001b[1;32m      1\u001b[0m \u001b[0;32mfrom\u001b[0m \u001b[0mBio\u001b[0m \u001b[0;32mimport\u001b[0m \u001b[0mSeqIO\u001b[0m\u001b[0;34m\u001b[0m\u001b[0m\n\u001b[1;32m      2\u001b[0m \u001b[0;34m\u001b[0m\u001b[0m\n\u001b[0;32m----> 3\u001b[0;31m \u001b[0ms\u001b[0m \u001b[0;34m=\u001b[0m \u001b[0mSeqIO\u001b[0m\u001b[0;34m.\u001b[0m\u001b[0mread\u001b[0m\u001b[0;34m(\u001b[0m\u001b[0;34m'../data/proteome.faa'\u001b[0m\u001b[0;34m,\u001b[0m \u001b[0;34m'fasta'\u001b[0m\u001b[0;34m)\u001b[0m\u001b[0;34m\u001b[0m\u001b[0m\n\u001b[0m",
      "\u001b[0;32m/home/mgalactus/.local/lib/python2.7/site-packages/Bio/SeqIO/__init__.pyc\u001b[0m in \u001b[0;36mread\u001b[0;34m(handle, format, alphabet)\u001b[0m\n\u001b[1;32m    672\u001b[0m         \u001b[0msecond\u001b[0m \u001b[0;34m=\u001b[0m \u001b[0mNone\u001b[0m\u001b[0;34m\u001b[0m\u001b[0m\n\u001b[1;32m    673\u001b[0m     \u001b[0;32mif\u001b[0m \u001b[0msecond\u001b[0m \u001b[0;32mis\u001b[0m \u001b[0;32mnot\u001b[0m \u001b[0mNone\u001b[0m\u001b[0;34m:\u001b[0m\u001b[0;34m\u001b[0m\u001b[0m\n\u001b[0;32m--> 674\u001b[0;31m         \u001b[0;32mraise\u001b[0m \u001b[0mValueError\u001b[0m\u001b[0;34m(\u001b[0m\u001b[0;34m\"More than one record found in handle\"\u001b[0m\u001b[0;34m)\u001b[0m\u001b[0;34m\u001b[0m\u001b[0m\n\u001b[0m\u001b[1;32m    675\u001b[0m     \u001b[0;32mreturn\u001b[0m \u001b[0mfirst\u001b[0m\u001b[0;34m\u001b[0m\u001b[0m\n\u001b[1;32m    676\u001b[0m \u001b[0;34m\u001b[0m\u001b[0m\n",
      "\u001b[0;31mValueError\u001b[0m: More than one record found in handle"
     ]
    }
   ],
   "source": [
    "from Bio import SeqIO\n",
    "\n",
    "s = SeqIO.read('../data/proteome.faa', 'fasta')"
   ]
  },
  {
   "cell_type": "code",
   "execution_count": 56,
   "metadata": {
    "collapsed": false,
    "run_control": {
     "frozen": false,
     "read_only": false
    }
   },
   "outputs": [
    {
     "data": {
      "text/plain": [
       "<generator object parse at 0x7fd3477b0cd0>"
      ]
     },
     "execution_count": 56,
     "metadata": {},
     "output_type": "execute_result"
    }
   ],
   "source": [
    "sequences = SeqIO.parse('../data/proteome.faa', 'fasta')\n",
    "sequences"
   ]
  },
  {
   "cell_type": "code",
   "execution_count": 57,
   "metadata": {
    "collapsed": false,
    "run_control": {
     "frozen": false,
     "read_only": false
    }
   },
   "outputs": [
    {
     "name": "stdout",
     "output_type": "stream",
     "text": [
      "sp|P52697|6PGL_ECOLI\n"
     ]
    }
   ],
   "source": [
    "for s in sequences:\n",
    "    print(s.id)\n",
    "    break"
   ]
  },
  {
   "cell_type": "code",
   "execution_count": 58,
   "metadata": {
    "collapsed": false,
    "run_control": {
     "frozen": false,
     "read_only": false
    }
   },
   "outputs": [
    {
     "data": {
      "text/plain": [
       "Bio.SeqRecord.SeqRecord"
      ]
     },
     "execution_count": 58,
     "metadata": {},
     "output_type": "execute_result"
    }
   ],
   "source": [
    "type(s)"
   ]
  },
  {
   "cell_type": "code",
   "execution_count": 59,
   "metadata": {
    "collapsed": false,
    "run_control": {
     "frozen": false,
     "read_only": false
    }
   },
   "outputs": [
    {
     "data": {
      "text/plain": [
       "['__add__',\n",
       " '__bool__',\n",
       " '__class__',\n",
       " '__contains__',\n",
       " '__delattr__',\n",
       " '__dict__',\n",
       " '__doc__',\n",
       " '__eq__',\n",
       " '__format__',\n",
       " '__ge__',\n",
       " '__getattribute__',\n",
       " '__getitem__',\n",
       " '__gt__',\n",
       " '__hash__',\n",
       " '__init__',\n",
       " '__iter__',\n",
       " '__le___',\n",
       " '__len__',\n",
       " '__lt__',\n",
       " '__module__',\n",
       " '__ne__',\n",
       " '__new__',\n",
       " '__nonzero__',\n",
       " '__radd__',\n",
       " '__reduce__',\n",
       " '__reduce_ex__',\n",
       " '__repr__',\n",
       " '__setattr__',\n",
       " '__sizeof__',\n",
       " '__str__',\n",
       " '__subclasshook__',\n",
       " '__weakref__',\n",
       " '_per_letter_annotations',\n",
       " '_seq',\n",
       " '_set_per_letter_annotations',\n",
       " '_set_seq',\n",
       " 'annotations',\n",
       " 'dbxrefs',\n",
       " 'description',\n",
       " 'features',\n",
       " 'format',\n",
       " 'id',\n",
       " 'letter_annotations',\n",
       " 'lower',\n",
       " 'name',\n",
       " 'reverse_complement',\n",
       " 'seq',\n",
       " 'upper']"
      ]
     },
     "execution_count": 59,
     "metadata": {},
     "output_type": "execute_result"
    }
   ],
   "source": [
    "dir(s)"
   ]
  },
  {
   "cell_type": "code",
   "execution_count": 60,
   "metadata": {
    "collapsed": false,
    "run_control": {
     "frozen": false,
     "read_only": false
    }
   },
   "outputs": [
    {
     "data": {
      "text/plain": [
       "'sp|P52697|6PGL_ECOLI 6-phosphogluconolactonase OS=Escherichia coli (strain K12) GN=pgl PE=1 SV=2'"
      ]
     },
     "execution_count": 60,
     "metadata": {},
     "output_type": "execute_result"
    }
   ],
   "source": [
    "s.description"
   ]
  },
  {
   "cell_type": "markdown",
   "metadata": {},
   "source": [
    "Sequences can be sliced as strings; the actual sequence can be found under the attribute `seq`."
   ]
  },
  {
   "cell_type": "code",
   "execution_count": 61,
   "metadata": {
    "collapsed": false,
    "run_control": {
     "frozen": false,
     "read_only": false
    }
   },
   "outputs": [
    {
     "data": {
      "text/plain": [
       "SeqRecord(seq=Seq('MKQTVYIASP', SingleLetterAlphabet()), id='sp|P52697|6PGL_ECOLI', name='sp|P52697|6PGL_ECOLI', description='sp|P52697|6PGL_ECOLI 6-phosphogluconolactonase OS=Escherichia coli (strain K12) GN=pgl PE=1 SV=2', dbxrefs=[])"
      ]
     },
     "execution_count": 61,
     "metadata": {},
     "output_type": "execute_result"
    }
   ],
   "source": [
    "# first 10 aminoacids\n",
    "s[:10]"
   ]
  },
  {
   "cell_type": "code",
   "execution_count": 62,
   "metadata": {
    "collapsed": false,
    "run_control": {
     "frozen": false,
     "read_only": false
    }
   },
   "outputs": [
    {
     "data": {
      "text/plain": [
       "Seq('MKQTVYIASP', SingleLetterAlphabet())"
      ]
     },
     "execution_count": 62,
     "metadata": {},
     "output_type": "execute_result"
    }
   ],
   "source": [
    "s[:10].seq"
   ]
  },
  {
   "cell_type": "code",
   "execution_count": 63,
   "metadata": {
    "collapsed": false,
    "run_control": {
     "frozen": false,
     "read_only": false
    }
   },
   "outputs": [
    {
     "data": {
      "text/plain": [
       "'ESQQIHVWNL'"
      ]
     },
     "execution_count": 63,
     "metadata": {},
     "output_type": "execute_result"
    }
   ],
   "source": [
    "str(s[10:20].seq)"
   ]
  },
  {
   "cell_type": "markdown",
   "metadata": {},
   "source": [
    "**Sequence formats conversion**\n",
    "\n",
    "We are going to take a genome in genbank format (https://www.ncbi.nlm.nih.gov/Sitemap/samplerecord.html) and convert it to the much simpler Fasta format."
   ]
  },
  {
   "cell_type": "code",
   "execution_count": 64,
   "metadata": {
    "collapsed": false,
    "run_control": {
     "frozen": false,
     "read_only": false
    }
   },
   "outputs": [
    {
     "name": "stdout",
     "output_type": "stream",
     "text": [
      "LOCUS       NC_000913            4641652 bp    DNA     circular CON 15-MAY-2014\r\n",
      "DEFINITION  Escherichia coli str. K-12 substr. MG1655, complete genome.\r\n",
      "ACCESSION   NC_000913\r\n",
      "VERSION     NC_000913.3  GI:556503834\r\n",
      "DBLINK      BioProject: PRJNA57779\r\n",
      "            BioSample: SAMN02604091\r\n",
      "KEYWORDS    RefSeq.\r\n",
      "SOURCE      Escherichia coli str. K-12 substr. MG1655\r\n",
      "  ORGANISM  Escherichia coli str. K-12 substr. MG1655\r\n",
      "            Bacteria; Proteobacteria; Gammaproteobacteria; Enterobacteriales;\r\n"
     ]
    }
   ],
   "source": [
    "# a quick look at how a GenBank file looks like\n",
    "!head ../data/ecoli.gbk"
   ]
  },
  {
   "cell_type": "code",
   "execution_count": 65,
   "metadata": {
    "collapsed": false,
    "run_control": {
     "frozen": false,
     "read_only": false
    }
   },
   "outputs": [
    {
     "name": "stdout",
     "output_type": "stream",
     "text": [
      "  4641121 tttcccgaca ttggctgaat cgttacacga tgtcgatttc actgtcgcca ccactgcgcg\r\n",
      "  4641181 cagtcgggcg aaatatcatt actacgccac gccagttgaa ctggtgccgc tgttagagga\r\n",
      "  4641241 aaaatcttca tggatgagcc atgccgcgct ggtgtttggt cgcgaagatt ccgggttgac\r\n",
      "  4641301 taacgaagag ttagcgttgg ctgacgttct tactggtgtg ccgatggtgg cggattatcc\r\n",
      "  4641361 ttcgctcaat ctggggcagg cggtgatggt ctattgctat caattagcaa cattaataca\r\n",
      "  4641421 acaaccggcg aaaagtgatg caacggcaga ccaacatcaa ctgcaagctt tacgcgaacg\r\n",
      "  4641481 agccatgaca ttgctgacga ctctggcagt ggcagatgac ataaaactgg tcgactggtt\r\n",
      "  4641541 acaacaacgc ctggggcttt tagagcaacg agacacggca atgttgcacc gtttgctgca\r\n",
      "  4641601 tgatattgaa aaaaatatca ccaaataaaa aacgccttag taagtatttt tc\r\n",
      "//\r\n"
     ]
    }
   ],
   "source": [
    "# a quick look at how a GenBank file looks like\n",
    "!tail ../data/ecoli.gbk"
   ]
  },
  {
   "cell_type": "code",
   "execution_count": 66,
   "metadata": {
    "collapsed": false,
    "run_control": {
     "frozen": false,
     "read_only": false
    }
   },
   "outputs": [
    {
     "data": {
      "text/plain": [
       "1"
      ]
     },
     "execution_count": 66,
     "metadata": {},
     "output_type": "execute_result"
    }
   ],
   "source": [
    "s = SeqIO.read('../data/ecoli.gbk', 'genbank')\n",
    "SeqIO.write(s, 'ecoli.fasta', 'fasta')"
   ]
  },
  {
   "cell_type": "markdown",
   "metadata": {},
   "source": [
    "**Sequence manipulation example**"
   ]
  },
  {
   "cell_type": "code",
   "execution_count": 67,
   "metadata": {
    "collapsed": false,
    "run_control": {
     "frozen": false,
     "read_only": false
    }
   },
   "outputs": [
    {
     "data": {
      "text/plain": [
       "'GTTGCGAGATTTGGACGGACGTTGACGGGGTCTATACCTGCGACCCGCGTCAGGTGCCCGATGCGAGGTTGTTGAAGTCGATGTCCTACCAGGAAGCGATGGAGCTTTCCTACTTCGGCGCTAAAGTTCTTCACCCCCGCACCATTACCCCCATCGCCCAGTTCCAGATCCCTTGCCTGATTAAAAATACCGGAAATCCTCAAGCACCAGGTACGCTCATTGGTGCCAGCCGTGATGAAGACGAATTACCGGTCAAGGGCATTTCCAATCTGAATAACATGGCAATGTTCAGCGTTTCTGGTCCGGGGATGAAAGGGATGGTCGGCATGGCGGCGCGCGTCTTTGCAGCGATGTCACGCGCCCGTATTTCCGTGGTGCTGATTACGCAATCATCTTCCGAATACAGCATCAGTTTCTGCGTTCCACAAAGCGACTGTGTGCGAGCTGAACGGGCAATGCAGGAAGAGTTCTACCTGGAACTGAAAGAAGGCTTACTGGAGCCGCTGGCAGTGACGGAACGGCTGGCCATTATCTCGGTGGTAGGTGATGGTATGCGCACCTTGCGTGGGATCTCGGCGAAATTCTTTGCCGCACTGGCCCGCGCCAATATCAACATTGTCGCCATTGCTCAGGGATCTTCTGAACGCTCAATCTCTGTCGTGGTAAATAACGATGATGCGACCACTGGCGTGCGCGTTACTCATCAGATGCTGTTCAATACCGATCAGGTTATCGAAGTGTTTGTGATTGGCGTCGGTGGCGTTGGCGGTGCGCTGCTGGAGCAACTGAAGCGTCAGCAAAGCTGGCTGAAGAATAAACATATCGACTTACGTGTCTGCGGTGTTGCCAACTCGAAGGCTCTGCTCACCAATGTACATGGCCTTAATCTGGAAAACTGGCAGGAAGAACTGGCGCAAGCCAAAGAGCCGTTTAATCTCGGGCGCTTAATTCGCCTCGTGAAAGAATATCATCTGCTGAACCCGGTCATTGTTGACTGCAC'"
      ]
     },
     "execution_count": 67,
     "metadata": {},
     "output_type": "execute_result"
    }
   ],
   "source": [
    "# forward\n",
    "str(s[1000:2000].seq)"
   ]
  },
  {
   "cell_type": "code",
   "execution_count": 68,
   "metadata": {
    "collapsed": false,
    "run_control": {
     "frozen": false,
     "read_only": false
    }
   },
   "outputs": [
    {
     "data": {
      "text/plain": [
       "'GTGCAGTCAACAATGACCGGGTTCAGCAGATGATATTCTTTCACGAGGCGAATTAAGCGCCCGAGATTAAACGGCTCTTTGGCTTGCGCCAGTTCTTCCTGCCAGTTTTCCAGATTAAGGCCATGTACATTGGTGAGCAGAGCCTTCGAGTTGGCAACACCGCAGACACGTAAGTCGATATGTTTATTCTTCAGCCAGCTTTGCTGACGCTTCAGTTGCTCCAGCAGCGCACCGCCAACGCCACCGACGCCAATCACAAACACTTCGATAACCTGATCGGTATTGAACAGCATCTGATGAGTAACGCGCACGCCAGTGGTCGCATCATCGTTATTTACCACGACAGAGATTGAGCGTTCAGAAGATCCCTGAGCAATGGCGACAATGTTGATATTGGCGCGGGCCAGTGCGGCAAAGAATTTCGCCGAGATCCCACGCAAGGTGCGCATACCATCACCTACCACCGAGATAATGGCCAGCCGTTCCGTCACTGCCAGCGGCTCCAGTAAGCCTTCTTTCAGTTCCAGGTAGAACTCTTCCTGCATTGCCCGTTCAGCTCGCACACAGTCGCTTTGTGGAACGCAGAAACTGATGCTGTATTCGGAAGATGATTGCGTAATCAGCACCACGGAAATACGGGCGCGTGACATCGCTGCAAAGACGCGCGCCGCCATGCCGACCATCCCTTTCATCCCCGGACCAGAAACGCTGAACATTGCCATGTTATTCAGATTGGAAATGCCCTTGACCGGTAATTCGTCTTCATCACGGCTGGCACCAATGAGCGTACCTGGTGCTTGAGGATTTCCGGTATTTTTAATCAGGCAAGGGATCTGGAACTGGGCGATGGGGGTAATGGTGCGGGGGTGAAGAACTTTAGCGCCGAAGTAGGAAAGCTCCATCGCTTCCTGGTAGGACATCGACTTCAACAACCTCGCATCGGGCACCTGACGCGGGTCGCAGGTATAGACCCCGTCAACGTCCGTCCAAATCTCGCAAC'"
      ]
     },
     "execution_count": 68,
     "metadata": {},
     "output_type": "execute_result"
    }
   ],
   "source": [
    "# reverse complement\n",
    "str(s[1000:2000].reverse_complement().seq)"
   ]
  },
  {
   "cell_type": "markdown",
   "metadata": {},
   "source": [
    "**GenBank format features extraction**"
   ]
  },
  {
   "cell_type": "code",
   "execution_count": 69,
   "metadata": {
    "collapsed": false,
    "run_control": {
     "frozen": false,
     "read_only": false
    }
   },
   "outputs": [
    {
     "name": "stdout",
     "output_type": "stream",
     "text": [
      "type: source\n",
      "location: [0:4641652](+)\n",
      "qualifiers:\n",
      "    Key: db_xref, Value: ['taxon:511145']\n",
      "    Key: mol_type, Value: ['genomic DNA']\n",
      "    Key: organism, Value: ['Escherichia coli str. K-12 substr. MG1655']\n",
      "    Key: strain, Value: ['K-12']\n",
      "    Key: sub_strain, Value: ['MG1655']\n",
      "\n",
      "\n",
      "type: gene\n",
      "location: [189:255](+)\n",
      "qualifiers:\n",
      "    Key: db_xref, Value: ['EcoGene:EG11277', 'GeneID:944742']\n",
      "    Key: gene, Value: ['thrL']\n",
      "    Key: gene_synonym, Value: ['ECK0001; JW4367']\n",
      "    Key: locus_tag, Value: ['b0001']\n",
      "\n",
      "\n",
      "type: CDS\n",
      "location: [189:255](+)\n",
      "qualifiers:\n",
      "    Key: GO_process, Value: ['GO:0009088 - threonine biosynthetic process']\n",
      "    Key: codon_start, Value: ['1']\n",
      "    Key: db_xref, Value: ['GI:16127995', 'ASAP:ABE-0000006', 'UniProtKB/Swiss-Prot:P0AD86', 'EcoGene:EG11277', 'GeneID:944742']\n",
      "    Key: function, Value: ['leader; Amino acid biosynthesis: Threonine']\n",
      "    Key: gene, Value: ['thrL']\n",
      "    Key: gene_synonym, Value: ['ECK0001; JW4367']\n",
      "    Key: locus_tag, Value: ['b0001']\n",
      "    Key: product, Value: ['thr operon leader peptide']\n",
      "    Key: protein_id, Value: ['NP_414542.1']\n",
      "    Key: transl_table, Value: ['11']\n",
      "    Key: translation, Value: ['MKRISTTITTTITITTGNGAG']\n",
      "\n",
      "\n",
      "type: gene\n",
      "location: [336:2799](+)\n",
      "qualifiers:\n",
      "    Key: db_xref, Value: ['EcoGene:EG10998', 'GeneID:945803']\n",
      "    Key: gene, Value: ['thrA']\n",
      "    Key: gene_synonym, Value: ['ECK0002; Hs; JW0001; thrA1; thrA2; thrD']\n",
      "    Key: locus_tag, Value: ['b0002']\n",
      "\n",
      "\n",
      "type: CDS\n",
      "location: [336:2799](+)\n",
      "qualifiers:\n",
      "    Key: EC_number, Value: ['1.1.1.3', '2.7.2.4']\n",
      "    Key: GO_component, Value: ['GO:0005737 - cytoplasm']\n",
      "    Key: GO_process, Value: ['GO:0009088 - threonine biosynthetic process', 'GO:0009086 - methionine biosynthetic process', 'GO:0009090 - homoserine biosynthetic process']\n",
      "    Key: codon_start, Value: ['1']\n",
      "    Key: db_xref, Value: ['GI:16127996', 'ASAP:ABE-0000008', 'UniProtKB/Swiss-Prot:P00561', 'EcoGene:EG10998', 'GeneID:945803']\n",
      "    Key: experiment, Value: ['N-terminus verified by Edman degradation: PMID 354697,4562989']\n",
      "    Key: function, Value: ['enzyme; Amino acid biosynthesis: Threonine']\n",
      "    Key: gene, Value: ['thrA']\n",
      "    Key: gene_synonym, Value: ['ECK0002; Hs; JW0001; thrA1; thrA2; thrD']\n",
      "    Key: locus_tag, Value: ['b0002']\n",
      "    Key: note, Value: ['bifunctional: aspartokinase I (N-terminal); homoserine dehydrogenase I (C-terminal)']\n",
      "    Key: product, Value: ['Bifunctional aspartokinase/homoserine dehydrogenase 1']\n",
      "    Key: protein_id, Value: ['NP_414543.1']\n",
      "    Key: transl_table, Value: ['11']\n",
      "    Key: translation, Value: ['MRVLKFGGTSVANAERFLRVADILESNARQGQVATVLSAPAKITNHLVAMIEKTISGQDALPNISDAERIFAELLTGLAAAQPGFPLAQLKTFVDQEFAQIKHVLHGISLLGQCPDSINAALICRGEKMSIAIMAGVLEARGHNVTVIDPVEKLLAVGHYLESTVDIAESTRRIAASRIPADHMVLMAGFTAGNEKGELVVLGRNGSDYSAAVLAACLRADCCEIWTDVDGVYTCDPRQVPDARLLKSMSYQEAMELSYFGAKVLHPRTITPIAQFQIPCLIKNTGNPQAPGTLIGASRDEDELPVKGISNLNNMAMFSVSGPGMKGMVGMAARVFAAMSRARISVVLITQSSSEYSISFCVPQSDCVRAERAMQEEFYLELKEGLLEPLAVTERLAIISVVGDGMRTLRGISAKFFAALARANINIVAIAQGSSERSISVVVNNDDATTGVRVTHQMLFNTDQVIEVFVIGVGGVGGALLEQLKRQQSWLKNKHIDLRVCGVANSKALLTNVHGLNLENWQEELAQAKEPFNLGRLIRLVKEYHLLNPVIVDCTSSQAVADQYADFLREGFHVVTPNKKANTSSMDYYHQLRYAAEKSRRKFLYDTNVGAGLPVIENLQNLLNAGDELMKFSGILSGSLSYIFGKLDEGMSFSEATTLAREMGYTEPDPRDDLSGMDVARKLLILARETGRELELADIEIEPVLPAEFNAEGDVAAFMANLSQLDDLFAARVAKARDEGKVLRYVGNIDEDGVCRVKIAEVDGNDPLFKVKNGENALAFYSHYYQPLPLVLRGYGAGNDVTAAGVFADLLRTLSWKLGV']\n",
      "\n",
      "\n"
     ]
    }
   ],
   "source": [
    "# first four features of this genbank file\n",
    "for feat in s.features[:5]:\n",
    "    print(feat)\n",
    "    print('')"
   ]
  },
  {
   "cell_type": "code",
   "execution_count": 70,
   "metadata": {
    "collapsed": false,
    "run_control": {
     "frozen": false,
     "read_only": false
    }
   },
   "outputs": [
    {
     "data": {
      "text/plain": [
       "Bio.SeqFeature.SeqFeature"
      ]
     },
     "execution_count": 70,
     "metadata": {},
     "output_type": "execute_result"
    }
   ],
   "source": [
    "type(feat)"
   ]
  },
  {
   "cell_type": "markdown",
   "metadata": {},
   "source": [
    "Features (more properly `SeqFeature` objects), contain all the information related to an annotation that belongs to a sequence. The most notable attributes are position, strand and qualifiers."
   ]
  },
  {
   "cell_type": "code",
   "execution_count": 71,
   "metadata": {
    "collapsed": false,
    "run_control": {
     "frozen": false,
     "read_only": false
    }
   },
   "outputs": [
    {
     "data": {
      "text/plain": [
       "(ExactPosition(336), ExactPosition(2799), 1)"
      ]
     },
     "execution_count": 71,
     "metadata": {},
     "output_type": "execute_result"
    }
   ],
   "source": [
    "feat.location.start, feat.location.end, feat.strand"
   ]
  },
  {
   "cell_type": "code",
   "execution_count": 72,
   "metadata": {
    "collapsed": false,
    "run_control": {
     "frozen": false,
     "read_only": false
    }
   },
   "outputs": [
    {
     "data": {
      "text/plain": [
       "{'EC_number': ['1.1.1.3', '2.7.2.4'],\n",
       " 'GO_component': ['GO:0005737 - cytoplasm'],\n",
       " 'GO_process': ['GO:0009088 - threonine biosynthetic process',\n",
       "  'GO:0009086 - methionine biosynthetic process',\n",
       "  'GO:0009090 - homoserine biosynthetic process'],\n",
       " 'codon_start': ['1'],\n",
       " 'db_xref': ['GI:16127996',\n",
       "  'ASAP:ABE-0000008',\n",
       "  'UniProtKB/Swiss-Prot:P00561',\n",
       "  'EcoGene:EG10998',\n",
       "  'GeneID:945803'],\n",
       " 'experiment': ['N-terminus verified by Edman degradation: PMID 354697,4562989'],\n",
       " 'function': ['enzyme; Amino acid biosynthesis: Threonine'],\n",
       " 'gene': ['thrA'],\n",
       " 'gene_synonym': ['ECK0002; Hs; JW0001; thrA1; thrA2; thrD'],\n",
       " 'locus_tag': ['b0002'],\n",
       " 'note': ['bifunctional: aspartokinase I (N-terminal); homoserine dehydrogenase I (C-terminal)'],\n",
       " 'product': ['Bifunctional aspartokinase/homoserine dehydrogenase 1'],\n",
       " 'protein_id': ['NP_414543.1'],\n",
       " 'transl_table': ['11'],\n",
       " 'translation': ['MRVLKFGGTSVANAERFLRVADILESNARQGQVATVLSAPAKITNHLVAMIEKTISGQDALPNISDAERIFAELLTGLAAAQPGFPLAQLKTFVDQEFAQIKHVLHGISLLGQCPDSINAALICRGEKMSIAIMAGVLEARGHNVTVIDPVEKLLAVGHYLESTVDIAESTRRIAASRIPADHMVLMAGFTAGNEKGELVVLGRNGSDYSAAVLAACLRADCCEIWTDVDGVYTCDPRQVPDARLLKSMSYQEAMELSYFGAKVLHPRTITPIAQFQIPCLIKNTGNPQAPGTLIGASRDEDELPVKGISNLNNMAMFSVSGPGMKGMVGMAARVFAAMSRARISVVLITQSSSEYSISFCVPQSDCVRAERAMQEEFYLELKEGLLEPLAVTERLAIISVVGDGMRTLRGISAKFFAALARANINIVAIAQGSSERSISVVVNNDDATTGVRVTHQMLFNTDQVIEVFVIGVGGVGGALLEQLKRQQSWLKNKHIDLRVCGVANSKALLTNVHGLNLENWQEELAQAKEPFNLGRLIRLVKEYHLLNPVIVDCTSSQAVADQYADFLREGFHVVTPNKKANTSSMDYYHQLRYAAEKSRRKFLYDTNVGAGLPVIENLQNLLNAGDELMKFSGILSGSLSYIFGKLDEGMSFSEATTLAREMGYTEPDPRDDLSGMDVARKLLILARETGRELELADIEIEPVLPAEFNAEGDVAAFMANLSQLDDLFAARVAKARDEGKVLRYVGNIDEDGVCRVKIAEVDGNDPLFKVKNGENALAFYSHYYQPLPLVLRGYGAGNDVTAAGVFADLLRTLSWKLGV']}"
      ]
     },
     "execution_count": 72,
     "metadata": {},
     "output_type": "execute_result"
    }
   ],
   "source": [
    "feat.qualifiers"
   ]
  },
  {
   "cell_type": "code",
   "execution_count": 73,
   "metadata": {
    "collapsed": false,
    "run_control": {
     "frozen": false,
     "read_only": false
    }
   },
   "outputs": [
    {
     "data": {
      "text/plain": [
       "Seq('MRVLKFGGTSVANAERFLRVADILESNARQGQVATVLSAPAKITNHLVAMIEKT...GV*', HasStopCodon(ExtendedIUPACProtein(), '*'))"
      ]
     },
     "execution_count": 73,
     "metadata": {},
     "output_type": "execute_result"
    }
   ],
   "source": [
    "# we can also translate the original sequence\n",
    "s[feat.location.start:feat.location.end].seq.translate()"
   ]
  },
  {
   "cell_type": "code",
   "execution_count": 74,
   "metadata": {
    "collapsed": false,
    "run_control": {
     "frozen": false,
     "read_only": false
    }
   },
   "outputs": [
    {
     "data": {
      "text/plain": [
       "Seq('MRVLKFGGTSVANAERFLRVADILESNARQGQVATVLSAPAKITNHLVAMIEKT...LGV', ExtendedIUPACProtein())"
      ]
     },
     "execution_count": 74,
     "metadata": {},
     "output_type": "execute_result"
    }
   ],
   "source": [
    "# we can also translate the original sequence (let's remove the last codon)\n",
    "s[feat.location.start:feat.location.end-3].seq.translate()"
   ]
  },
  {
   "cell_type": "markdown",
   "metadata": {},
   "source": [
    "**Reading PDB files**"
   ]
  },
  {
   "cell_type": "code",
   "execution_count": 75,
   "metadata": {
    "collapsed": false,
    "run_control": {
     "frozen": false,
     "read_only": false
    }
   },
   "outputs": [
    {
     "name": "stdout",
     "output_type": "stream",
     "text": [
      "--2016-11-23 11:36:05--  http://www.rcsb.org/pdb/files/1g59.pdb\r\n",
      "Resolving www.rcsb.org (www.rcsb.org)... failed: Temporary failure in name resolution.\r\n",
      "wget: unable to resolve host address ‘www.rcsb.org’\r\n"
     ]
    }
   ],
   "source": [
    "# fetch pdb file\n",
    "!wget http://www.rcsb.org/pdb/files/1g59.pdb"
   ]
  },
  {
   "cell_type": "code",
   "execution_count": 76,
   "metadata": {
    "collapsed": false,
    "run_control": {
     "frozen": false,
     "read_only": false
    }
   },
   "outputs": [
    {
     "name": "stdout",
     "output_type": "stream",
     "text": [
      "Method: x-ray diffraction\n",
      "Resolution: 2.4\n"
     ]
    },
    {
     "name": "stderr",
     "output_type": "stream",
     "text": [
      "/home/mgalactus/.local/lib/python2.7/site-packages/Bio/PDB/StructureBuilder.py:85: PDBConstructionWarning: WARNING: Chain B is discontinuous at line 11427.\n",
      "  PDBConstructionWarning)\n",
      "/home/mgalactus/.local/lib/python2.7/site-packages/Bio/PDB/StructureBuilder.py:85: PDBConstructionWarning: WARNING: Chain D is discontinuous at line 11461.\n",
      "  PDBConstructionWarning)\n",
      "/home/mgalactus/.local/lib/python2.7/site-packages/Bio/PDB/StructureBuilder.py:85: PDBConstructionWarning: WARNING: Chain A is discontinuous at line 11500.\n",
      "  PDBConstructionWarning)\n",
      "/home/mgalactus/.local/lib/python2.7/site-packages/Bio/PDB/StructureBuilder.py:85: PDBConstructionWarning: WARNING: Chain C is discontinuous at line 11607.\n",
      "  PDBConstructionWarning)\n"
     ]
    }
   ],
   "source": [
    "from Bio.PDB.PDBParser import PDBParser\n",
    "\n",
    "parser = PDBParser()\n",
    "structure = parser.get_structure('1g59', '1g59.pdb')\n",
    "header = parser.get_header()\n",
    "# fetch the structural method and the resolution\n",
    "print('Method: {0}'.format(header['structure_method']))\n",
    "print('Resolution: {0}'.format(header['resolution']))"
   ]
  },
  {
   "cell_type": "markdown",
   "metadata": {},
   "source": [
    "The returned object (`structure`) has a complex structure, which follows the structure, model, chain, residue, atom hierarchy (SMCRA).\n",
    "\n",
    "```\n",
    "Structure['1g59']\n",
    "  |\n",
    "  +---- Model[0]\n",
    "          |\n",
    "          +---- Chain['A']\n",
    "          |       |\n",
    "          |       +---- Residue[' ', 1, ' ']\n",
    "          |       |       |\n",
    "          |       |       +---- Atom['N']\n",
    "          |       |       |\n",
    "          |       |       +---- [...]\n",
    "          |       |       |\n",
    "          |       |       +---- Atom['CE']\n",
    "          |       |\n",
    "          |       +---- [...]\n",
    "          |       |\n",
    "          |       +---- Residue[' ', 468, ' '] [...]\n",
    "          |\n",
    "          +---- Chain['B'] [...]\n",
    "          |\n",
    "          +---- Chain['C'] [...]\n",
    "          |\n",
    "          +---- Chain['D'] [...]\n",
    "          |\n",
    "          +---- Chain[' ']\n",
    "                  |\n",
    "                  +---- Residue['W', 1, ' ']\n",
    "                  |       |\n",
    "                  |       +---- Atom['O']\n",
    "                  |\n",
    "                  +---- [...]\n",
    "                  |\n",
    "                  +---- Residue['W', 283, ' '] [...]\n",
    "```"
   ]
  },
  {
   "cell_type": "code",
   "execution_count": 77,
   "metadata": {
    "collapsed": false,
    "run_control": {
     "frozen": false,
     "read_only": false
    }
   },
   "outputs": [],
   "source": [
    "model = structure[0]\n",
    "chain = model['A']\n",
    "residue = chain[(' ', 1, ' ')]\n",
    "atom = residue['CE']"
   ]
  },
  {
   "cell_type": "code",
   "execution_count": 78,
   "metadata": {
    "collapsed": false,
    "run_control": {
     "frozen": false,
     "read_only": false
    }
   },
   "outputs": [
    {
     "data": {
      "text/plain": [
       "'A'"
      ]
     },
     "execution_count": 78,
     "metadata": {},
     "output_type": "execute_result"
    }
   ],
   "source": [
    "chain.id"
   ]
  },
  {
   "cell_type": "code",
   "execution_count": 79,
   "metadata": {
    "collapsed": false,
    "run_control": {
     "frozen": false,
     "read_only": false
    }
   },
   "outputs": [
    {
     "data": {
      "text/plain": [
       "(1, 'MET')"
      ]
     },
     "execution_count": 79,
     "metadata": {},
     "output_type": "execute_result"
    }
   ],
   "source": [
    "residue.id[1], residue.resname"
   ]
  },
  {
   "cell_type": "code",
   "execution_count": 80,
   "metadata": {
    "collapsed": false,
    "run_control": {
     "frozen": false,
     "read_only": false
    }
   },
   "outputs": [
    {
     "data": {
      "text/plain": [
       "('CE',\n",
       " 1.0,\n",
       " 50.12,\n",
       " array([ 39.10900116,  79.59600067,  29.96500015], dtype=float32))"
      ]
     },
     "execution_count": 80,
     "metadata": {},
     "output_type": "execute_result"
    }
   ],
   "source": [
    "atom.name, atom.occupancy, atom.bfactor, atom.coord"
   ]
  },
  {
   "cell_type": "markdown",
   "metadata": {},
   "source": [
    "**Read/manipulate phylogenetic trees**\n",
    "\n",
    "The `Bio.Phylo` module allow to read/write/manipulate phylogenetic treesd, as well as run  complex evolutionary analysis software like `codeml`.\n",
    "\n",
    "*Note:* even though `Bio.Phylo` can be used to draw phylogenetic trees, other libraries such as `ete3` are suggested for their great power and versatility."
   ]
  },
  {
   "cell_type": "code",
   "execution_count": 81,
   "metadata": {
    "collapsed": true,
    "run_control": {
     "frozen": false,
     "read_only": false
    }
   },
   "outputs": [],
   "source": [
    "from Bio import Phylo"
   ]
  },
  {
   "cell_type": "code",
   "execution_count": 83,
   "metadata": {
    "collapsed": false,
    "run_control": {
     "frozen": false,
     "read_only": false
    }
   },
   "outputs": [
    {
     "ename": "ValueError",
     "evalue": "There are no trees in this file.",
     "output_type": "error",
     "traceback": [
      "\u001b[0;31m---------------------------------------------------------------------------\u001b[0m",
      "\u001b[0;31mValueError\u001b[0m                                Traceback (most recent call last)",
      "\u001b[0;32m<ipython-input-83-5d3cbda6efcb>\u001b[0m in \u001b[0;36m<module>\u001b[0;34m()\u001b[0m\n\u001b[0;32m----> 1\u001b[0;31m \u001b[0mtree\u001b[0m \u001b[0;34m=\u001b[0m \u001b[0mPhylo\u001b[0m\u001b[0;34m.\u001b[0m\u001b[0mread\u001b[0m\u001b[0;34m(\u001b[0m\u001b[0;34m'../data/tree.nwk'\u001b[0m\u001b[0;34m,\u001b[0m \u001b[0;34m'nexus'\u001b[0m\u001b[0;34m)\u001b[0m\u001b[0;34m\u001b[0m\u001b[0m\n\u001b[0m",
      "\u001b[0;32m/home/mgalactus/.local/lib/python2.7/site-packages/Bio/Phylo/_io.pyc\u001b[0m in \u001b[0;36mread\u001b[0;34m(file, format, **kwargs)\u001b[0m\n\u001b[1;32m     63\u001b[0m         \u001b[0mtree\u001b[0m \u001b[0;34m=\u001b[0m \u001b[0mnext\u001b[0m\u001b[0;34m(\u001b[0m\u001b[0mtree_gen\u001b[0m\u001b[0;34m)\u001b[0m\u001b[0;34m\u001b[0m\u001b[0m\n\u001b[1;32m     64\u001b[0m     \u001b[0;32mexcept\u001b[0m \u001b[0mStopIteration\u001b[0m\u001b[0;34m:\u001b[0m\u001b[0;34m\u001b[0m\u001b[0m\n\u001b[0;32m---> 65\u001b[0;31m         \u001b[0;32mraise\u001b[0m \u001b[0mValueError\u001b[0m\u001b[0;34m(\u001b[0m\u001b[0;34m\"There are no trees in this file.\"\u001b[0m\u001b[0;34m)\u001b[0m\u001b[0;34m\u001b[0m\u001b[0m\n\u001b[0m\u001b[1;32m     66\u001b[0m     \u001b[0;32mtry\u001b[0m\u001b[0;34m:\u001b[0m\u001b[0;34m\u001b[0m\u001b[0m\n\u001b[1;32m     67\u001b[0m         \u001b[0mnext\u001b[0m\u001b[0;34m(\u001b[0m\u001b[0mtree_gen\u001b[0m\u001b[0;34m)\u001b[0m\u001b[0;34m\u001b[0m\u001b[0m\n",
      "\u001b[0;31mValueError\u001b[0m: There are no trees in this file."
     ]
    }
   ],
   "source": [
    "tree = Phylo.read('../data/tree.nwk', 'nexus')"
   ]
  },
  {
   "cell_type": "code",
   "execution_count": 84,
   "metadata": {
    "collapsed": false,
    "run_control": {
     "frozen": false,
     "read_only": false
    }
   },
   "outputs": [],
   "source": [
    "tree = Phylo.read('../data/tree.nwk', 'newick')"
   ]
  },
  {
   "cell_type": "code",
   "execution_count": 85,
   "metadata": {
    "collapsed": false,
    "run_control": {
     "frozen": false,
     "read_only": false
    }
   },
   "outputs": [
    {
     "data": {
      "text/plain": [
       "['__class__',\n",
       " '__delattr__',\n",
       " '__dict__',\n",
       " '__doc__',\n",
       " '__format__',\n",
       " '__getattribute__',\n",
       " '__hash__',\n",
       " '__init__',\n",
       " '__module__',\n",
       " '__new__',\n",
       " '__reduce__',\n",
       " '__reduce_ex__',\n",
       " '__repr__',\n",
       " '__setattr__',\n",
       " '__sizeof__',\n",
       " '__str__',\n",
       " '__subclasshook__',\n",
       " '__weakref__',\n",
       " '_filter_search',\n",
       " 'as_phyloxml',\n",
       " 'clade',\n",
       " 'collapse',\n",
       " 'collapse_all',\n",
       " 'common_ancestor',\n",
       " 'count_terminals',\n",
       " 'depths',\n",
       " 'distance',\n",
       " 'find_any',\n",
       " 'find_clades',\n",
       " 'find_elements',\n",
       " 'format',\n",
       " 'from_clade',\n",
       " 'get_nonterminals',\n",
       " 'get_path',\n",
       " 'get_terminals',\n",
       " 'id',\n",
       " 'is_bifurcating',\n",
       " 'is_monophyletic',\n",
       " 'is_parent_of',\n",
       " 'is_preterminal',\n",
       " 'is_terminal',\n",
       " 'ladderize',\n",
       " 'name',\n",
       " 'prune',\n",
       " 'randomized',\n",
       " 'root',\n",
       " 'root_at_midpoint',\n",
       " 'root_with_outgroup',\n",
       " 'rooted',\n",
       " 'split',\n",
       " 'total_branch_length',\n",
       " 'trace',\n",
       " 'weight']"
      ]
     },
     "execution_count": 85,
     "metadata": {},
     "output_type": "execute_result"
    }
   ],
   "source": [
    "dir(tree)"
   ]
  },
  {
   "cell_type": "code",
   "execution_count": 86,
   "metadata": {
    "collapsed": false,
    "run_control": {
     "frozen": false,
     "read_only": false
    }
   },
   "outputs": [
    {
     "name": "stdout",
     "output_type": "stream",
     "text": [
      "  , Rickettsia_helvetica_C9P9\n",
      "  |\n",
      "  , Rickettsia_endosymbiont_of_Ixodes_sca...\n",
      "  |\n",
      "  , Rickettsia_montanensis_str._OSU_85-930\n",
      "  |\n",
      "  , Rickettsia_honei_RB\n",
      "  |\n",
      "  , Rickettsia_africae_ESF-5\n",
      "  |\n",
      "  | Rickettsia_parkeri_str._Portsmouth\n",
      "  |\n",
      "  , Rickettsia_sibirica_subsp._mongolitim...\n",
      "  |\n",
      "  , Rickettsia_sibirica_246\n",
      "  |\n",
      "  | Rickettsia_sibirica_subsp._sibirica_B...\n",
      "  |\n",
      "  , Rickettsia_conorii_subsp._caspia_A-167\n",
      "  |\n",
      "  | Rickettsia_conorii_subsp._israelensis...\n",
      "  |\n",
      "  , Rickettsia_conorii_str._Malish_7\n",
      "  |\n",
      "  | Rickettsia_conorii_subsp._indica_ITTR\n",
      "  |\n",
      "  , Rickettsia_slovaca_13-B\n",
      "  |\n",
      "  | Rickettsia_slovaca_str._D-CWPP\n",
      "  |\n",
      "  , Rickettsia_peacockii_str._Rustic\n",
      "  |\n",
      "  , Rickettsia_philipii_str._364D\n",
      "  |\n",
      "  , Rickettsia_rickettsii_str._Hlp#2\n",
      "  |\n",
      "  , Rickettsia_rickettsii_str._Colombia\n",
      "  |\n",
      "  , Sheila_Smith\n",
      "  |\n",
      "  | Rickettsia_rickettsii_str._Brazil\n",
      "  |\n",
      "  , Rickettsia_rickettsii_str._Arizona\n",
      "  |\n",
      "  , Rickettsia_rickettsii_str._Hauke\n",
      "  |\n",
      "  , Rickettsia_rickettsii_str._Hino\n",
      "  |\n",
      " ,| Rickettsia_rickettsii_str._Iowa\n",
      " ||\n",
      " |, Rickettsia_heilongjiangensis_054\n",
      " ||\n",
      " || Rickettsia_japonica_YH\n",
      " ||\n",
      " |, Rickettsia_rhipicephali_str._3-7-fema...\n",
      " ||\n",
      " |, Rickettsia_massiliae_MTU5\n",
      " ||\n",
      " || Rickettsia_massiliae_str._AZT80\n",
      " ||\n",
      " |, Rickettsia_felis_URRWXCal2\n",
      " ||\n",
      " |, Rickettsia_akari_str._Hartford\n",
      " ||\n",
      " || Rickettsia_australis_str._Cutlack\n",
      " ||\n",
      " ||, Rickettsia_prowazekii_str._BuV67-CWPP\n",
      " |||\n",
      " ||, Rickettsia_prowazekii_str._Katsinyian\n",
      " |||\n",
      " ||| Rickettsia_prowazekii_str._Madrid_E\n",
      " |||\n",
      " ||, Rickettsia_prowazekii_Rp22\n",
      " |||\n",
      " ||, Rickettsia_prowazekii_str._Chernikova\n",
      " |||\n",
      " ||| Rickettsia_prowazekii_str._Dachau\n",
      " |||\n",
      " ||, Rickettsia_prowazekii_str._GvV257\n",
      " | |\n",
      " | | Rickettsia_prowazekii_str._RpGvF24\n",
      " | |\n",
      " | , Rickettsia_typhi_str._TH1527\n",
      " | |\n",
      " | , Rickettsia_typhi_str._B9991CWPP\n",
      " | |\n",
      " | | Rickettsia_typhi_str._Wilmington\n",
      " |\n",
      " |, Rickettsia_canadensis_str._CA410\n",
      " ||\n",
      " || Rickettsia_canadensis_str._McKiel\n",
      " |\n",
      " |, Rickettsia_bellii_OSU_85-389\n",
      " ||\n",
      " || Rickettsia_bellii_RML369-C\n",
      " |\n",
      " |         ___________ Candidatus_Midichloria_mitochondrii_I...\n",
      " |        |\n",
      " |        |    _________ Candidatus_Odyssella_thessalonicensis...\n",
      " |        |   |\n",
      " |        |   |  _________ Granulibacter_bethesdensis_CGDNIH1\n",
      " |        |___| |\n",
      " |        |   | |         ___ Oceanicaulis_sp._HTCC2633\n",
      " |        |   | |   _____|\n",
      " |        |   | |  |     |_______ Caulobacter_crescentus_CB15\n",
      " |        |   |_|  |     |\n",
      " |        |     | _|     |______ Oceanicaulis_alexandrii_HTCC2633\n",
      " |        |     || |\n",
      " |        |     || |  ______ Bradyrhizobium_japonicum_USDA_110\n",
      " |        |     || |_|\n",
      " |        |     ||   | _____ Brucella_suis_1330\n",
      " |        |      |   ||\n",
      "_|        |      |    |_____ Pseudovibrio_sp._JE062\n",
      " |        |      |\n",
      " |        |      |      _____ Erythrobacter_litoralis_HTCC2594\n",
      " |        |      |_____|\n",
      " |        |            |____ Sphingomonas_wittichii_RW1\n",
      " |        |\n",
      " |        |             _ Ehrlichia_canis_str._Jake\n",
      " |        |           ,|\n",
      " |        |           ||, Ehrlichia_chaffeensis_str._Arkansas\n",
      " |        |           |||\n",
      " |        |         __| | Ehrlichia_chaffeensis_str._Sapulpa\n",
      " |        |        |  |\n",
      " |        |        |  | , Ehrlichia_ruminantium_str._Gardel\n",
      " |        |        |  |_|\n",
      " |        |        |    , Ehrlichia_ruminantium_str._Welgevonden\n",
      " |        |      __|    |\n",
      " |        |     |  |    | Ehrlichia_ruminantium_str._Welgevonde...\n",
      " |        |     |  |\n",
      " |     ___|     |  |    ___ Anaplasma_phagocytophilum_HZ\n",
      " |    |   |     |  |   |\n",
      " |    |   |     |  |   |  , Anaplasma_centrale_str._Israel\n",
      " |    |   |     |  |___|  |\n",
      " |    |   |     |      |  |, Anaplasma_marginale_str._South_Idaho\n",
      " |    |   |     |      |  ||\n",
      " |    |   |     |      |  |, Anaplasma_marginale_str._Oklahoma\n",
      " |    |   |     |      |__||\n",
      " |    |   |     |         || Anaplasma_marginale_str._Washington_O...\n",
      " |    |   |     |         ||\n",
      " |    |   |     |         |, Anaplasma_marginale_str._Okeechobee\n",
      " |    |   |     |         ||\n",
      " |    |   |     |         |, Anaplasma_marginale_str._Puerto_Rico\n",
      " |    |   |     |          |\n",
      " |    |   |     |          , Anaplasma_marginale_str._Mississippi\n",
      " |    |   |   __|          |\n",
      " |    |   |  |  |          | Anaplasma_marginale_str._Virginia\n",
      " |    |   |  |  |          |\n",
      " |    |   |  |  |          , Anaplasma_marginale_str._Florida_Relapse\n",
      " |    |   |  |  |          |\n",
      " |    |   |  |  |          , Anaplasma_marginale_str._Florida\n",
      " |    |   |  |  |          |\n",
      " |    |   |  |  |          | Anaplasma_marginale_str._Florida_Prj_...\n",
      " |    |   |  |  |          |\n",
      " |    |   |  |  |          , Anaplasma_marginale_str._St._Maries\n",
      " |    |   |  |  |          |\n",
      " |    |   |  |  |          | Anaplasma_marginale_str._St._Maries_P...\n",
      " |____|   |  |  |\n",
      "      |   |  |  |      _ Wolbachia_endosymbiont_of_Onchocerca_...\n",
      "      |   |  |  |     |\n",
      "      |   |  |  |     |_ Wolbachia_endosymbiont_strain_TRS_of_...\n",
      "      |   |  |  |     |\n",
      "      |   |  |  |     |, Wolbachia_endosymbiont_of_Muscidifura...\n",
      "      |   |__|  |     ||\n",
      "      |      |  |_____|, Wolbachia_endosymbiont_of_Drosophila_...\n",
      "      |      |        ||\n",
      "      |      |        ,| Wolbachia_endosymbiont_of_Drosophila_...\n",
      "      |      |        ||\n",
      "      |      |        |, Wolbachia_endosymbiont_of_Drosophila_...\n",
      "      |      |        ||\n",
      "      |      |        |, Wolbachia_endosymbiont_of_Drosophila_...\n",
      "      |      |        ||\n",
      "      |      |        || Wolbachia_sp._wRi\n",
      "      |      |        |\n",
      "      |      |        |, Wolbachia_pipientis_wAlbB\n",
      "      |      |        ||\n",
      "      |      |         , Wolbachia_endosymbiont_of_Culex_quinq...\n",
      "      |      |         |\n",
      "      |      |         | Wolbachia_endosymbiont_of_Culex_quinq...\n",
      "      |      |\n",
      "      |      |              , Neorickettsia_risticii_str._Illinois\n",
      "      |      |______________|\n",
      "      |                     | Neorickettsia_sennetsu_str._Miyayama\n",
      "      |\n",
      "      |         , Orientia_tsutsugamushi_str._Boryong\n",
      "      |_________|\n",
      "                | Orientia_tsutsugamushi_str._Ikeda\n",
      "\n"
     ]
    }
   ],
   "source": [
    "# very simple visualization of a tree\n",
    "Phylo.draw_ascii(tree)"
   ]
  },
  {
   "cell_type": "code",
   "execution_count": 87,
   "metadata": {
    "collapsed": false,
    "run_control": {
     "frozen": false,
     "read_only": false
    }
   },
   "outputs": [
    {
     "data": {
      "text/plain": [
       "[Clade(branch_length=0.0170792118522, name='Rickettsia_helvetica_C9P9'),\n",
       " Clade(branch_length=0.015764723869, name='Rickettsia_endosymbiont_of_Ixodes_scapularis'),\n",
       " Clade(branch_length=0.00715358013595, name='Rickettsia_montanensis_str._OSU_85-930'),\n",
       " Clade(branch_length=0.00373132363309, name='Rickettsia_honei_RB'),\n",
       " Clade(branch_length=0.00282074752703, name='Rickettsia_africae_ESF-5'),\n",
       " Clade(branch_length=0.00173589147444, name='Rickettsia_parkeri_str._Portsmouth'),\n",
       " Clade(branch_length=0.00147637167432, name='Rickettsia_sibirica_subsp._mongolitimonae_HA-91'),\n",
       " Clade(branch_length=0.00022070411919, name='Rickettsia_sibirica_246'),\n",
       " Clade(branch_length=0.000244228635268, name='Rickettsia_sibirica_subsp._sibirica_BJ-90'),\n",
       " Clade(branch_length=0.00110763237249, name='Rickettsia_conorii_subsp._caspia_A-167'),\n",
       " Clade(branch_length=0.00132492168672, name='Rickettsia_conorii_subsp._israelensis_ISTT_CDC1'),\n",
       " Clade(branch_length=0.000261226638287, name='Rickettsia_conorii_str._Malish_7'),\n",
       " Clade(branch_length=0.000705103511459, name='Rickettsia_conorii_subsp._indica_ITTR'),\n",
       " Clade(branch_length=0.000128809515126, name='Rickettsia_slovaca_13-B'),\n",
       " Clade(branch_length=0.0, name='Rickettsia_slovaca_str._D-CWPP'),\n",
       " Clade(branch_length=0.00312465926859, name='Rickettsia_peacockii_str._Rustic'),\n",
       " Clade(branch_length=0.00131640100837, name='Rickettsia_philipii_str._364D'),\n",
       " Clade(branch_length=0.000792696553976, name='Rickettsia_rickettsii_str._Hlp#2'),\n",
       " Clade(branch_length=9.05126234499e-05, name='Rickettsia_rickettsii_str._Colombia'),\n",
       " Clade(branch_length=0.00012761698607, name='Sheila_Smith'),\n",
       " Clade(branch_length=0.000115754722855, name='Rickettsia_rickettsii_str._Brazil'),\n",
       " Clade(branch_length=4.2000891025e-05, name='Rickettsia_rickettsii_str._Arizona'),\n",
       " Clade(branch_length=5.8733147783e-06, name='Rickettsia_rickettsii_str._Hauke'),\n",
       " Clade(branch_length=1.43251614501e-05, name='Rickettsia_rickettsii_str._Hino'),\n",
       " Clade(branch_length=1.21914106756e-05, name='Rickettsia_rickettsii_str._Iowa'),\n",
       " Clade(branch_length=0.0016690616808, name='Rickettsia_heilongjiangensis_054'),\n",
       " Clade(branch_length=0.00190279609843, name='Rickettsia_japonica_YH'),\n",
       " Clade(branch_length=0.00304497206122, name='Rickettsia_rhipicephali_str._3-7-female6-CWPP'),\n",
       " Clade(branch_length=0.00177359213653, name='Rickettsia_massiliae_MTU5'),\n",
       " Clade(branch_length=0.00243686775052, name='Rickettsia_massiliae_str._AZT80'),\n",
       " Clade(branch_length=0.0107605128994, name='Rickettsia_felis_URRWXCal2'),\n",
       " Clade(branch_length=0.0168145557912, name='Rickettsia_akari_str._Hartford'),\n",
       " Clade(branch_length=0.0092161741065, name='Rickettsia_australis_str._Cutlack'),\n",
       " Clade(branch_length=5.27579679619e-06, name='Rickettsia_prowazekii_str._BuV67-CWPP'),\n",
       " Clade(branch_length=4.12989088933e-05, name='Rickettsia_prowazekii_str._Katsinyian'),\n",
       " Clade(branch_length=0.000344302709913, name='Rickettsia_prowazekii_str._Madrid_E'),\n",
       " Clade(branch_length=2.02335205303e-05, name='Rickettsia_prowazekii_Rp22'),\n",
       " Clade(branch_length=1.78565988376e-05, name='Rickettsia_prowazekii_str._Chernikova'),\n",
       " Clade(branch_length=7.5246754384e-05, name='Rickettsia_prowazekii_str._Dachau'),\n",
       " Clade(branch_length=7.63540793088e-05, name='Rickettsia_prowazekii_str._GvV257'),\n",
       " Clade(branch_length=7.86143690204e-05, name='Rickettsia_prowazekii_str._RpGvF24'),\n",
       " Clade(branch_length=1.92489740376e-05, name='Rickettsia_typhi_str._TH1527'),\n",
       " Clade(branch_length=3.72715881373e-05, name='Rickettsia_typhi_str._B9991CWPP'),\n",
       " Clade(branch_length=2.85134260927e-05, name='Rickettsia_typhi_str._Wilmington'),\n",
       " Clade(branch_length=0.00184300752319, name='Rickettsia_canadensis_str._CA410'),\n",
       " Clade(branch_length=0.00217952569742, name='Rickettsia_canadensis_str._McKiel'),\n",
       " Clade(branch_length=0.00151283556278, name='Rickettsia_bellii_OSU_85-389'),\n",
       " Clade(branch_length=0.00112944312485, name='Rickettsia_bellii_RML369-C'),\n",
       " Clade(branch_length=0.405603677766, name='Candidatus_Midichloria_mitochondrii_IricVA'),\n",
       " Clade(branch_length=0.329490582143, name='Candidatus_Odyssella_thessalonicensis_L13'),\n",
       " Clade(branch_length=0.340597621743, name='Granulibacter_bethesdensis_CGDNIH1'),\n",
       " Clade(branch_length=0.129062186385, name='Oceanicaulis_sp._HTCC2633'),\n",
       " Clade(branch_length=0.259274137183, name='Caulobacter_crescentus_CB15'),\n",
       " Clade(branch_length=0.247322523043, name='Oceanicaulis_alexandrii_HTCC2633'),\n",
       " Clade(branch_length=0.239768855977, name='Bradyrhizobium_japonicum_USDA_110'),\n",
       " Clade(branch_length=0.188057439289, name='Brucella_suis_1330'),\n",
       " Clade(branch_length=0.192393803906, name='Pseudovibrio_sp._JE062'),\n",
       " Clade(branch_length=0.209069857365, name='Erythrobacter_litoralis_HTCC2594'),\n",
       " Clade(branch_length=0.167165905551, name='Sphingomonas_wittichii_RW1'),\n",
       " Clade(branch_length=0.0437796286956, name='Ehrlichia_canis_str._Jake'),\n",
       " Clade(branch_length=0.000496950058391, name='Ehrlichia_chaffeensis_str._Arkansas'),\n",
       " Clade(branch_length=0.000966364912825, name='Ehrlichia_chaffeensis_str._Sapulpa'),\n",
       " Clade(branch_length=0.00243988332183, name='Ehrlichia_ruminantium_str._Gardel'),\n",
       " Clade(branch_length=0.000270772502548, name='Ehrlichia_ruminantium_str._Welgevonden'),\n",
       " Clade(branch_length=0.000137172374836, name='Ehrlichia_ruminantium_str._Welgevonden_Prj_9614_'),\n",
       " Clade(branch_length=0.154512635883, name='Anaplasma_phagocytophilum_HZ'),\n",
       " Clade(branch_length=0.0228352140592, name='Anaplasma_centrale_str._Israel'),\n",
       " Clade(branch_length=0.0012631907389, name='Anaplasma_marginale_str._South_Idaho'),\n",
       " Clade(branch_length=0.00153978743596, name='Anaplasma_marginale_str._Oklahoma'),\n",
       " Clade(branch_length=0.00160797607026, name='Anaplasma_marginale_str._Washington_Okanogan'),\n",
       " Clade(branch_length=0.00143274985233, name='Anaplasma_marginale_str._Okeechobee'),\n",
       " Clade(branch_length=0.00133754726062, name='Anaplasma_marginale_str._Puerto_Rico'),\n",
       " Clade(branch_length=0.00557217149529, name='Anaplasma_marginale_str._Mississippi'),\n",
       " Clade(branch_length=0.00241748778022, name='Anaplasma_marginale_str._Virginia'),\n",
       " Clade(branch_length=0.000367209652865, name='Anaplasma_marginale_str._Florida_Relapse'),\n",
       " Clade(branch_length=0.00024708681384, name='Anaplasma_marginale_str._Florida'),\n",
       " Clade(branch_length=0.00171436545466, name='Anaplasma_marginale_str._Florida_Prj_64631_'),\n",
       " Clade(branch_length=9.47823129271e-05, name='Anaplasma_marginale_str._St._Maries'),\n",
       " Clade(branch_length=0.000528793641404, name='Anaplasma_marginale_str._St._Maries_Prj_64635_'),\n",
       " Clade(branch_length=0.0777037335045, name='Wolbachia_endosymbiont_of_Onchocerca_ochengi'),\n",
       " Clade(branch_length=0.0596321870108, name='Wolbachia_endosymbiont_strain_TRS_of_Brugia_malayi'),\n",
       " Clade(branch_length=0.00790812365041, name='Wolbachia_endosymbiont_of_Muscidifurax_uniraptor'),\n",
       " Clade(branch_length=0.00072566289154, name='Wolbachia_endosymbiont_of_Drosophila_melanogaster'),\n",
       " Clade(branch_length=0.0028602866647, name='Wolbachia_endosymbiont_of_Drosophila_willistoni_TSC#14030...'),\n",
       " Clade(branch_length=0.0019754156964, name='Wolbachia_endosymbiont_of_Drosophila_simulans'),\n",
       " Clade(branch_length=0.00626012850956, name='Wolbachia_endosymbiont_of_Drosophila_ananassae'),\n",
       " Clade(branch_length=0.0, name='Wolbachia_sp._wRi'),\n",
       " Clade(branch_length=0.0123086472375, name='Wolbachia_pipientis_wAlbB'),\n",
       " Clade(branch_length=0.000371318623629, name='Wolbachia_endosymbiont_of_Culex_quinquefasciatus_JHB'),\n",
       " Clade(branch_length=0.0, name='Wolbachia_endosymbiont_of_Culex_quinquefasciatus_Pel'),\n",
       " Clade(branch_length=0.0183273995339, name='Neorickettsia_risticii_str._Illinois'),\n",
       " Clade(branch_length=0.0212064882269, name='Neorickettsia_sennetsu_str._Miyayama'),\n",
       " Clade(branch_length=0.00901783244864, name='Orientia_tsutsugamushi_str._Boryong'),\n",
       " Clade(branch_length=0.00785819114051, name='Orientia_tsutsugamushi_str._Ikeda')]"
      ]
     },
     "execution_count": 87,
     "metadata": {},
     "output_type": "execute_result"
    }
   ],
   "source": [
    "# get a list of terminal nodes\n",
    "tree.get_terminals()"
   ]
  },
  {
   "cell_type": "markdown",
   "metadata": {},
   "source": [
    "Each bifurcation and terminal node in the tree is a `Clade` object, with several network like properties. Most of the attributes and methods are shared with the `Tree` object."
   ]
  },
  {
   "cell_type": "code",
   "execution_count": 88,
   "metadata": {
    "collapsed": true,
    "run_control": {
     "frozen": false,
     "read_only": false
    }
   },
   "outputs": [],
   "source": [
    "node = tree.get_terminals()[0]"
   ]
  },
  {
   "cell_type": "code",
   "execution_count": 89,
   "metadata": {
    "collapsed": false,
    "run_control": {
     "frozen": false,
     "read_only": false
    }
   },
   "outputs": [
    {
     "data": {
      "text/plain": [
       "['__bool__',\n",
       " '__class__',\n",
       " '__delattr__',\n",
       " '__dict__',\n",
       " '__doc__',\n",
       " '__format__',\n",
       " '__getattribute__',\n",
       " '__getitem__',\n",
       " '__hash__',\n",
       " '__init__',\n",
       " '__iter__',\n",
       " '__len__',\n",
       " '__module__',\n",
       " '__new__',\n",
       " '__nonzero__',\n",
       " '__reduce__',\n",
       " '__reduce_ex__',\n",
       " '__repr__',\n",
       " '__setattr__',\n",
       " '__sizeof__',\n",
       " '__str__',\n",
       " '__subclasshook__',\n",
       " '__weakref__',\n",
       " '_color',\n",
       " '_filter_search',\n",
       " '_get_color',\n",
       " '_set_color',\n",
       " 'branch_length',\n",
       " 'clades',\n",
       " 'collapse',\n",
       " 'collapse_all',\n",
       " 'color',\n",
       " 'comment',\n",
       " 'common_ancestor',\n",
       " 'confidence',\n",
       " 'count_terminals',\n",
       " 'depths',\n",
       " 'distance',\n",
       " 'find_any',\n",
       " 'find_clades',\n",
       " 'find_elements',\n",
       " 'get_nonterminals',\n",
       " 'get_path',\n",
       " 'get_terminals',\n",
       " 'is_bifurcating',\n",
       " 'is_monophyletic',\n",
       " 'is_parent_of',\n",
       " 'is_preterminal',\n",
       " 'is_terminal',\n",
       " 'ladderize',\n",
       " 'name',\n",
       " 'prune',\n",
       " 'root',\n",
       " 'split',\n",
       " 'total_branch_length',\n",
       " 'trace',\n",
       " 'width']"
      ]
     },
     "execution_count": 89,
     "metadata": {},
     "output_type": "execute_result"
    }
   ],
   "source": [
    "dir(node)"
   ]
  },
  {
   "cell_type": "code",
   "execution_count": 90,
   "metadata": {
    "collapsed": false,
    "run_control": {
     "frozen": false,
     "read_only": false
    }
   },
   "outputs": [
    {
     "name": "stdout",
     "output_type": "stream",
     "text": [
      "Distance between root and \"Rickettsia_helvetica_C9P9\": 0.054998177777\n"
     ]
    }
   ],
   "source": [
    "# distance between root and our node\n",
    "print('Distance between root and \"{0}\": {1}'.format(node.name,\n",
    "                                                  tree.distance(tree.root, node)))"
   ]
  },
  {
   "cell_type": "code",
   "execution_count": 91,
   "metadata": {
    "collapsed": true,
    "run_control": {
     "frozen": false,
     "read_only": false
    }
   },
   "outputs": [],
   "source": [
    "# the root can be changed too\n",
    "tree.root_at_midpoint()"
   ]
  },
  {
   "cell_type": "code",
   "execution_count": 92,
   "metadata": {
    "collapsed": false,
    "run_control": {
     "frozen": false,
     "read_only": false
    }
   },
   "outputs": [
    {
     "name": "stdout",
     "output_type": "stream",
     "text": [
      "                      __________ Caulobacter_crescentus_CB15\n",
      "                     |\n",
      "            _________|__________ Oceanicaulis_alexandrii_HTCC2633\n",
      "           |         |\n",
      "           |         |_____ Oceanicaulis_sp._HTCC2633\n",
      "          _|\n",
      "         | |      _______ Pseudovibrio_sp._JE062\n",
      "         | |    _|\n",
      "         | |___| |_______ Brucella_suis_1330\n",
      "        _|     |\n",
      "       | |     |__________ Bradyrhizobium_japonicum_USDA_110\n",
      "       | |\n",
      "     __| |         _______ Sphingomonas_wittichii_RW1\n",
      "    |  | |________|\n",
      "    |  |          |________ Erythrobacter_litoralis_HTCC2594\n",
      "  __|  |\n",
      " |  |  |______________ Granulibacter_bethesdensis_CGDNIH1\n",
      " |  |\n",
      " |  |______________ Candidatus_Odyssella_thessalonicensis...\n",
      " |\n",
      " |                        , Orientia_tsutsugamushi_str._Ikeda\n",
      " |         _______________|\n",
      " |        |               | Orientia_tsutsugamushi_str._Boryong\n",
      " |        |\n",
      " |        |          , Rickettsia_bellii_RML369-C\n",
      " |        |         _|\n",
      " |        |        | | Rickettsia_bellii_OSU_85-389\n",
      " |        |        |\n",
      " |   _____|        |  , Rickettsia_canadensis_str._McKiel\n",
      " |  |     |        | _|\n",
      " |  |     |        || | Rickettsia_canadensis_str._CA410\n",
      " |  |     |        ||\n",
      " |  |     |        ||  , Rickettsia_typhi_str._Wilmington\n",
      " |  |     |        ||  |\n",
      " |  |     |        ||  | Rickettsia_typhi_str._B9991CWPP\n",
      " |  |     |        ||  |\n",
      " |  |     |________||  | Rickettsia_typhi_str._TH1527\n",
      " |  |              ||  |\n",
      " |  |              || _, Rickettsia_prowazekii_str._RpGvF24\n",
      " |  |              ||| |\n",
      " |  |              ||| | Rickettsia_prowazekii_str._GvV257\n",
      " |  |              ||| |\n",
      " |  |              ||| , Rickettsia_prowazekii_str._Dachau\n",
      " |  |              ||| |\n",
      " |  |              ||| | Rickettsia_prowazekii_str._Chernikova\n",
      " |  |              ||| |\n",
      " |  |              ||| | Rickettsia_prowazekii_Rp22\n",
      " |  |              ||| |\n",
      " |  |              ||| , Rickettsia_prowazekii_str._Madrid_E\n",
      " |  |               || |\n",
      " |  |               || | Rickettsia_prowazekii_str._Katsinyian\n",
      " |  |               || |\n",
      " |  |               || | Rickettsia_prowazekii_str._BuV67-CWPP\n",
      " |  |               ||\n",
      " |  |               |, Rickettsia_australis_str._Cutlack\n",
      " |  |               ||\n",
      " |  |               || Rickettsia_akari_str._Hartford\n",
      " |  |               ||\n",
      " |  |               || Rickettsia_felis_URRWXCal2\n",
      " |  |               ||\n",
      " |  |               |, Rickettsia_massiliae_str._AZT80\n",
      " |  |               ||\n",
      " |  |               || Rickettsia_massiliae_MTU5\n",
      " |  |               ||\n",
      " |  |               || Rickettsia_rhipicephali_str._3-7-fema...\n",
      " |  |               ||\n",
      " |  |               ||, Rickettsia_japonica_YH\n",
      " |  |               |,|\n",
      " |  |               ||| Rickettsia_heilongjiangensis_054\n",
      " |  |                |\n",
      " |  |                |, Rickettsia_rickettsii_str._Iowa\n",
      " |  |                ||\n",
      " |  |                || Rickettsia_rickettsii_str._Hino\n",
      " |  |                ||\n",
      "_|  |                || Rickettsia_rickettsii_str._Hauke\n",
      " |  |                ||\n",
      " |  |                || Rickettsia_rickettsii_str._Arizona\n",
      " |  |                ||\n",
      " |  |                |, Rickettsia_rickettsii_str._Brazil\n",
      " |  |                ||\n",
      " |  |                || Sheila_Smith\n",
      " |  |                ||\n",
      " | ,|                || Rickettsia_rickettsii_str._Colombia\n",
      " | ||                ||\n",
      " | ||                || Rickettsia_rickettsii_str._Hlp#2\n",
      " | ||                ,|\n",
      " | ||                || Rickettsia_philipii_str._364D\n",
      " | ||                ||\n",
      " | ||                || Rickettsia_peacockii_str._Rustic\n",
      " | ||                |\n",
      " | ||                |, Rickettsia_slovaca_str._D-CWPP\n",
      " | ||                ,|\n",
      " | ||                || Rickettsia_slovaca_13-B\n",
      " | ||                |\n",
      " | ||                |, Rickettsia_conorii_subsp._indica_ITTR\n",
      " | ||                ||\n",
      " | ||                || Rickettsia_conorii_str._Malish_7\n",
      " | ||                ||\n",
      " | ||                |, Rickettsia_conorii_subsp._israelensis...\n",
      " | ||                ||\n",
      " | ||                || Rickettsia_conorii_subsp._caspia_A-167\n",
      " | ||                ||\n",
      " | ||                |, Rickettsia_sibirica_subsp._sibirica_B...\n",
      " | ||                ||\n",
      " | ||                || Rickettsia_sibirica_246\n",
      " | ||                ||\n",
      " | ||                || Rickettsia_sibirica_subsp._mongolitim...\n",
      " | ||                ||\n",
      " | ||                |, Rickettsia_parkeri_str._Portsmouth\n",
      " | ||                ||\n",
      " | ||                || Rickettsia_africae_ESF-5\n",
      " | ||                |\n",
      " | ||                | Rickettsia_honei_RB\n",
      " | ||                |\n",
      " | ||                | Rickettsia_montanensis_str._OSU_85-930\n",
      " | ||                |\n",
      " | ||                | Rickettsia_endosymbiont_of_Ixodes_sca...\n",
      " | ||                |\n",
      " | ||                | Rickettsia_helvetica_C9P9\n",
      " | ||\n",
      " | ||                           , Neorickettsia_sennetsu_str._Miyayama\n",
      " | ||     ______________________|\n",
      " | ||    |                      | Neorickettsia_risticii_str._Illinois\n",
      " | ||    |\n",
      " | ||    |               , Wolbachia_endosymbiont_of_Culex_quinq...\n",
      " | ||    |               |\n",
      " | ||    |              _| Wolbachia_endosymbiont_of_Culex_quinq...\n",
      " | ||    |             | |\n",
      " | ||    |             | | Wolbachia_pipientis_wAlbB\n",
      " | ||    |             |\n",
      " | ||    |            ,|, Wolbachia_sp._wRi\n",
      " | ||    |            |||\n",
      " | ||    |            ||| Wolbachia_endosymbiont_of_Drosophila_...\n",
      " | ||    |            |||\n",
      " |_||    |            ||| Wolbachia_endosymbiont_of_Drosophila_...\n",
      "   ||    |            |||\n",
      "   ||    |    ________| |, Wolbachia_endosymbiont_of_Drosophila_...\n",
      "   ||____|   |        | ,|\n",
      "   |     |   |        | || Wolbachia_endosymbiont_of_Drosophila_...\n",
      "   |     |   |        | |\n",
      "   |     |   |        | | Wolbachia_endosymbiont_of_Muscidifura...\n",
      "   |     |   |        |\n",
      "   |     |   |        |__ Wolbachia_endosymbiont_strain_TRS_of_...\n",
      "   |     |   |        |\n",
      "   |     |   |        |___ Wolbachia_endosymbiont_of_Onchocerca_...\n",
      "   |     |   |\n",
      "   |     |   |                 , Anaplasma_marginale_str._St._Maries_P...\n",
      "   |     |   |                 |\n",
      "   |     |   |                 | Anaplasma_marginale_str._St._Maries\n",
      "   |     |   |                 |\n",
      "   |     |   |                 , Anaplasma_marginale_str._Florida_Prj_...\n",
      "   |     |   |                 |\n",
      "   |     |   |                 | Anaplasma_marginale_str._Florida\n",
      "   |     |   |                 |\n",
      "   |     |___|                 | Anaplasma_marginale_str._Florida_Relapse\n",
      "   |         |                 |\n",
      "   |         |                 , Anaplasma_marginale_str._Virginia\n",
      "   |         |                 |\n",
      "   |         |                 | Anaplasma_marginale_str._Mississippi\n",
      "   |         |                ,|\n",
      "   |         |                || Anaplasma_marginale_str._Puerto_Rico\n",
      "   |         |                ||\n",
      "   |         |                || Anaplasma_marginale_str._Okeechobee\n",
      "   |         |                ||\n",
      "   |         |           _____|, Anaplasma_marginale_str._Washington_O...\n",
      "   |         |          |     ||\n",
      "   |         |          |     || Anaplasma_marginale_str._Oklahoma\n",
      "   |         |          |     ||\n",
      "   |         |     _____|     || Anaplasma_marginale_str._South_Idaho\n",
      "   |         |    |     |     |\n",
      "   |         |    |     |     | Anaplasma_centrale_str._Israel\n",
      "   |         |    |     |\n",
      "   |         |    |     |______ Anaplasma_phagocytophilum_HZ\n",
      "   |         |____|\n",
      "   |              |        , Ehrlichia_ruminantium_str._Welgevonde...\n",
      "   |              |       ,|\n",
      "   |              |     __|| Ehrlichia_ruminantium_str._Welgevonden\n",
      "   |              |    |  |\n",
      "   |              |    |  | Ehrlichia_ruminantium_str._Gardel\n",
      "   |              |____|\n",
      "   |                   |   , Ehrlichia_chaffeensis_str._Sapulpa\n",
      "   |                   |  _|\n",
      "   |                   |_| | Ehrlichia_chaffeensis_str._Arkansas\n",
      "   |                     |\n",
      "   |                     |_ Ehrlichia_canis_str._Jake\n",
      "   |\n",
      "   |__________________ Candidatus_Midichloria_mitochondrii_I...\n",
      "\n"
     ]
    }
   ],
   "source": [
    "Phylo.draw_ascii(tree)"
   ]
  },
  {
   "cell_type": "markdown",
   "metadata": {},
   "source": [
    "**Interrogate the NCBI database using Bio.Entrez**\n",
    "\n",
    "The NCBI has a very useful programmatic interface for data retrieval, for which BioPython has a very complex module. Find more information about Entrez here: https://www.ncbi.nlm.nih.gov/books/NBK3837/"
   ]
  },
  {
   "cell_type": "code",
   "execution_count": 2,
   "metadata": {
    "collapsed": true,
    "run_control": {
     "frozen": false,
     "read_only": false
    }
   },
   "outputs": [],
   "source": [
    "from Bio import Entrez\n",
    "Entrez.email = 'your@email.org'"
   ]
  },
  {
   "cell_type": "markdown",
   "metadata": {},
   "source": [
    "In this minimal example we are going to link a Bioproject ID to a NCBI taxonomy record. The possibility of the interface are numerous and complex, given that also pubmed and its reach metadata can be reached through Entrez."
   ]
  },
  {
   "cell_type": "code",
   "execution_count": 3,
   "metadata": {
    "collapsed": false,
    "run_control": {
     "frozen": false,
     "read_only": false
    }
   },
   "outputs": [],
   "source": [
    "r = Entrez.esearch(db='bioproject',\n",
    "                   term='PRJNA57779')\n",
    "h = Entrez.read(r)"
   ]
  },
  {
   "cell_type": "code",
   "execution_count": 4,
   "metadata": {
    "collapsed": false,
    "run_control": {
     "frozen": false,
     "read_only": false
    }
   },
   "outputs": [
    {
     "data": {
      "text/plain": [
       "{u'Count': '1', u'RetMax': '1', u'IdList': ['57779'], u'TranslationStack': [{u'Count': '1', u'Field': 'All Fields', u'Term': 'PRJNA57779[All Fields]', u'Explode': 'N'}, 'GROUP'], u'TranslationSet': [], u'RetStart': '0', u'QueryTranslation': 'PRJNA57779[All Fields]'}"
      ]
     },
     "execution_count": 4,
     "metadata": {},
     "output_type": "execute_result"
    }
   ],
   "source": [
    "h"
   ]
  },
  {
   "cell_type": "code",
   "execution_count": 5,
   "metadata": {
    "collapsed": false,
    "run_control": {
     "frozen": false,
     "read_only": false
    }
   },
   "outputs": [],
   "source": [
    "bioproject_id = h['IdList'][0]"
   ]
  },
  {
   "cell_type": "code",
   "execution_count": 6,
   "metadata": {
    "collapsed": false,
    "run_control": {
     "frozen": false,
     "read_only": false
    }
   },
   "outputs": [],
   "source": [
    "r = Entrez.elink(dbfrom='bioproject', id=bioproject_id, linkname='bioproject_taxonomy')\n",
    "h = Entrez.read(r)"
   ]
  },
  {
   "cell_type": "code",
   "execution_count": 7,
   "metadata": {
    "collapsed": false,
    "run_control": {
     "frozen": false,
     "read_only": false
    }
   },
   "outputs": [
    {
     "data": {
      "text/plain": [
       "[{u'LinkSetDb': [{u'DbTo': 'taxonomy', u'Link': [{u'Id': '511145'}], u'LinkName': 'bioproject_taxonomy'}], u'DbFrom': 'bioproject', u'IdList': ['57779'], u'LinkSetDbHistory': [], u'ERROR': []}]"
      ]
     },
     "execution_count": 7,
     "metadata": {},
     "output_type": "execute_result"
    }
   ],
   "source": [
    "h"
   ]
  },
  {
   "cell_type": "code",
   "execution_count": 8,
   "metadata": {
    "collapsed": false,
    "run_control": {
     "frozen": false,
     "read_only": false
    }
   },
   "outputs": [
    {
     "data": {
      "text/plain": [
       "'511145'"
      ]
     },
     "execution_count": 8,
     "metadata": {},
     "output_type": "execute_result"
    }
   ],
   "source": [
    "taxonomy_id = h[0]['LinkSetDb'][0]['Link'][0]['Id']\n",
    "taxonomy_id"
   ]
  },
  {
   "cell_type": "code",
   "execution_count": 9,
   "metadata": {
    "collapsed": false,
    "run_control": {
     "frozen": false,
     "read_only": false
    }
   },
   "outputs": [],
   "source": [
    "r = Entrez.efetch(db='taxonomy', id=taxonomy_id)"
   ]
  },
  {
   "cell_type": "code",
   "execution_count": 10,
   "metadata": {
    "collapsed": false,
    "run_control": {
     "frozen": false,
     "read_only": false
    }
   },
   "outputs": [],
   "source": [
    "h = Entrez.read(r)"
   ]
  },
  {
   "cell_type": "code",
   "execution_count": 12,
   "metadata": {
    "collapsed": false,
    "run_control": {
     "frozen": false,
     "read_only": false
    }
   },
   "outputs": [
    {
     "data": {
      "text/plain": [
       "[{u'Lineage': 'cellular organisms; Bacteria; Proteobacteria; Gammaproteobacteria; Enterobacterales; Enterobacteriaceae; Escherichia; Escherichia coli; Escherichia coli K-12', u'Division': 'Bacteria', u'ParentTaxId': '83333', u'PubDate': '2008/03/16 18:00:08', u'LineageEx': [{u'ScientificName': 'cellular organisms', u'TaxId': '131567', u'Rank': 'no rank'}, {u'ScientificName': 'Bacteria', u'TaxId': '2', u'Rank': 'superkingdom'}, {u'ScientificName': 'Proteobacteria', u'TaxId': '1224', u'Rank': 'phylum'}, {u'ScientificName': 'Gammaproteobacteria', u'TaxId': '1236', u'Rank': 'class'}, {u'ScientificName': 'Enterobacterales', u'TaxId': '91347', u'Rank': 'order'}, {u'ScientificName': 'Enterobacteriaceae', u'TaxId': '543', u'Rank': 'family'}, {u'ScientificName': 'Escherichia', u'TaxId': '561', u'Rank': 'genus'}, {u'ScientificName': 'Escherichia coli', u'TaxId': '562', u'Rank': 'species'}, {u'ScientificName': 'Escherichia coli K-12', u'TaxId': '83333', u'Rank': 'no rank'}], u'CreateDate': '2008/03/13 14:46:36', u'TaxId': '511145', u'Rank': 'no rank', u'OtherNames': {u'Misspelling': [], u'GenbankSynonym': [], u'Synonym': ['Escherichia coli MG1655'], u'Name': [], u'GenbankAnamorph': [], u'Acronym': [], u'CommonName': [], u'Includes': [], u'Inpart': [], u'Anamorph': [], u'Teleomorph': [], u'EquivalentName': ['Escherichia coli str. K12 substr. MG1655', 'Escherichia coli str. MG1655', 'Escherichia coli strain MG1655'], u'Misnomer': []}, u'GeneticCode': {u'GCId': '11', u'GCName': 'Bacterial, Archaeal and Plant Plastid'}, u'ScientificName': 'Escherichia coli str. K-12 substr. MG1655', u'MitoGeneticCode': {u'MGCId': '0', u'MGCName': 'Unspecified'}, u'UpdateDate': '2015/07/16 13:03:27'}]"
      ]
     },
     "execution_count": 12,
     "metadata": {},
     "output_type": "execute_result"
    }
   ],
   "source": [
    "h"
   ]
  },
  {
   "cell_type": "markdown",
   "metadata": {},
   "source": [
    "NetworkX: Cytoscape-like library\n",
    "-----------------------------------------------------------\n",
    "\n",
    "This library collects many well-known algorithms to inspect graphs and network properties.\n",
    "\n",
    "Graphs are encoded in a dictionary-like way, allowing easy and intuitive parsing. Simple plotting functions are available as well."
   ]
  },
  {
   "cell_type": "code",
   "execution_count": 13,
   "metadata": {
    "collapsed": true,
    "run_control": {
     "frozen": false,
     "read_only": false
    }
   },
   "outputs": [],
   "source": [
    "import networkx as nx"
   ]
  },
  {
   "cell_type": "code",
   "execution_count": 14,
   "metadata": {
    "collapsed": true,
    "run_control": {
     "frozen": false,
     "read_only": false
    }
   },
   "outputs": [],
   "source": [
    "# undirected graph\n",
    "g = nx.Graph()\n",
    "\n",
    "# add nodes\n",
    "g.add_node('eggs', price=2.5)\n",
    "g.add_node('spam', price=3.1, rating=1)\n",
    "\n",
    "# add edges\n",
    "g.add_edge('eggs', 'spam', rating=3)\n",
    "g.add_edge('steak', 'spam')\n",
    "\n",
    "# add edges (and implicitly new nodes)\n",
    "g.add_edge('eggs', 'omelette')\n",
    "g.add_edge('vanilla', 'fudge')"
   ]
  },
  {
   "cell_type": "code",
   "execution_count": 15,
   "metadata": {
    "collapsed": false,
    "run_control": {
     "frozen": false,
     "read_only": false
    }
   },
   "outputs": [
    {
     "data": {
      "text/plain": [
       "['omelette', 'spam', 'eggs', 'steak', 'fudge', 'vanilla']"
      ]
     },
     "execution_count": 15,
     "metadata": {},
     "output_type": "execute_result"
    }
   ],
   "source": [
    "g.nodes()"
   ]
  },
  {
   "cell_type": "code",
   "execution_count": 16,
   "metadata": {
    "collapsed": false,
    "run_control": {
     "frozen": false,
     "read_only": false
    }
   },
   "outputs": [
    {
     "data": {
      "text/plain": [
       "[('omelette', 'eggs'),\n",
       " ('spam', 'eggs'),\n",
       " ('spam', 'steak'),\n",
       " ('fudge', 'vanilla')]"
      ]
     },
     "execution_count": 16,
     "metadata": {},
     "output_type": "execute_result"
    }
   ],
   "source": [
    "g.edges()"
   ]
  },
  {
   "cell_type": "code",
   "execution_count": 17,
   "metadata": {
    "collapsed": false,
    "run_control": {
     "frozen": false,
     "read_only": false
    }
   },
   "outputs": [
    {
     "data": {
      "text/plain": [
       "{'price': 2.5}"
      ]
     },
     "execution_count": 17,
     "metadata": {},
     "output_type": "execute_result"
    }
   ],
   "source": [
    "# access nodes and edges with a dictionary-like syntax\n",
    "g.node['eggs']"
   ]
  },
  {
   "cell_type": "code",
   "execution_count": 18,
   "metadata": {
    "collapsed": false,
    "run_control": {
     "frozen": false,
     "read_only": false
    }
   },
   "outputs": [
    {
     "data": {
      "text/plain": [
       "{'omelette': {}, 'spam': {'rating': 3}}"
      ]
     },
     "execution_count": 18,
     "metadata": {},
     "output_type": "execute_result"
    }
   ],
   "source": [
    "g['eggs']"
   ]
  },
  {
   "cell_type": "code",
   "execution_count": 19,
   "metadata": {
    "collapsed": false,
    "run_control": {
     "frozen": false,
     "read_only": false
    }
   },
   "outputs": [
    {
     "data": {
      "text/plain": [
       "{'rating': 3}"
      ]
     },
     "execution_count": 19,
     "metadata": {},
     "output_type": "execute_result"
    }
   ],
   "source": [
    "g['eggs']['spam']"
   ]
  },
  {
   "cell_type": "code",
   "execution_count": 20,
   "metadata": {
    "collapsed": false,
    "run_control": {
     "frozen": false,
     "read_only": false
    }
   },
   "outputs": [
    {
     "data": {
      "text/plain": [
       "{'rating': 3}"
      ]
     },
     "execution_count": 20,
     "metadata": {},
     "output_type": "execute_result"
    }
   ],
   "source": [
    "g['spam']['eggs']"
   ]
  },
  {
   "cell_type": "markdown",
   "metadata": {},
   "source": [
    "All the obvious properties can be easily computed."
   ]
  },
  {
   "cell_type": "code",
   "execution_count": 21,
   "metadata": {
    "collapsed": false,
    "run_control": {
     "frozen": false,
     "read_only": false
    }
   },
   "outputs": [
    {
     "data": {
      "text/plain": [
       "{'eggs': 2, 'fudge': 1, 'omelette': 1, 'spam': 2, 'steak': 1, 'vanilla': 1}"
      ]
     },
     "execution_count": 21,
     "metadata": {},
     "output_type": "execute_result"
    }
   ],
   "source": [
    "nx.degree(g)"
   ]
  },
  {
   "cell_type": "code",
   "execution_count": 22,
   "metadata": {
    "collapsed": false,
    "run_control": {
     "frozen": false,
     "read_only": false
    }
   },
   "outputs": [
    {
     "data": {
      "text/plain": [
       "{'eggs': 0.2,\n",
       " 'fudge': 0.0,\n",
       " 'omelette': 0.0,\n",
       " 'spam': 0.2,\n",
       " 'steak': 0.0,\n",
       " 'vanilla': 0.0}"
      ]
     },
     "execution_count": 22,
     "metadata": {},
     "output_type": "execute_result"
    }
   ],
   "source": [
    "nx.betweenness_centrality(g)"
   ]
  },
  {
   "cell_type": "code",
   "execution_count": 23,
   "metadata": {
    "collapsed": false,
    "run_control": {
     "frozen": false,
     "read_only": false
    }
   },
   "outputs": [
    {
     "data": {
      "text/plain": [
       "{('fudge', 'vanilla'): 0.06666666666666667,\n",
       " ('omelette', 'eggs'): 0.2,\n",
       " ('spam', 'eggs'): 0.26666666666666666,\n",
       " ('spam', 'steak'): 0.2}"
      ]
     },
     "execution_count": 23,
     "metadata": {},
     "output_type": "execute_result"
    }
   ],
   "source": [
    "nx.edge_betweenness_centrality(g)"
   ]
  },
  {
   "cell_type": "code",
   "execution_count": 24,
   "metadata": {
    "collapsed": false,
    "run_control": {
     "frozen": false,
     "read_only": false
    }
   },
   "outputs": [
    {
     "name": "stdout",
     "output_type": "stream",
     "text": [
      "set(['omelette', 'eggs', 'steak', 'spam'])\n",
      "set(['vanilla', 'fudge'])\n"
     ]
    }
   ],
   "source": [
    "for component in nx.connected_components(g):\n",
    "    print(component)"
   ]
  },
  {
   "cell_type": "markdown",
   "metadata": {},
   "source": [
    "**Graph visualization example**"
   ]
  },
  {
   "cell_type": "code",
   "execution_count": 25,
   "metadata": {
    "collapsed": true,
    "run_control": {
     "frozen": false,
     "read_only": false
    }
   },
   "outputs": [],
   "source": [
    "%matplotlib inline\n",
    "\n",
    "import matplotlib.pyplot as plt\n",
    "import seaborn as sns\n",
    "\n",
    "sns.set_style('white')\n",
    "import random"
   ]
  },
  {
   "cell_type": "code",
   "execution_count": 26,
   "metadata": {
    "collapsed": false,
    "run_control": {
     "frozen": false,
     "read_only": false
    }
   },
   "outputs": [
    {
     "data": {
      "image/png": "[encoded data removed]",
      "text/plain": [
       "<matplotlib.figure.Figure at 0x7f0ed5589f50>"
      ]
     },
     "metadata": {},
     "output_type": "display_data"
    }
   ],
   "source": [
    "# Generate a series of random graphs\n",
    "gs = [nx.random_graphs.powerlaw_cluster_graph(n=random.randint(10, 20),\n",
    "                                             m=random.randint(1, 3),\n",
    "                                             p=random.random()*0.05)\n",
    "      for x in range(7)]\n",
    "\n",
    "# Concatenate then in a single graph\n",
    "# (there might be a more efficient way)\n",
    "g = gs[0]\n",
    "for g1 in gs[1:]:\n",
    "    i = max(g.nodes()) + 1\n",
    "    g.add_edges_from([(x+i, y+i) for (x, y) in g1.edges()])\n",
    "\n",
    "# Calculate nodes and edge properties\n",
    "# to have something to plot\n",
    "betw_cent = nx.betweenness.betweenness_centrality(g).values()\n",
    "edge_betw_cent = nx.edge_betweenness_centrality(g).values()\n",
    "\n",
    "# Graph layout\n",
    "graph_pos = nx.layout.fruchterman_reingold_layout(g)\n",
    "\n",
    "plt.figure(figsize=(9, 9))\n",
    "\n",
    "# Draw nodes\n",
    "nx.draw_networkx_nodes(g, graph_pos,\n",
    "                       # Node size depends on node degree\n",
    "                       node_size=[x*15 for x in nx.degree(g).values()],\n",
    "                       # Node color depends on node centrality\n",
    "                       node_color=betw_cent,\n",
    "                       cmap=plt.get_cmap('Blues'),\n",
    "                       vmax=max(betw_cent),\n",
    "                       vmin=0)\n",
    "# Draw edges\n",
    "nx.draw_networkx_edges(g, graph_pos,\n",
    "                       # Width depends on edge centrality\n",
    "                       width=[x*250 for x in edge_betw_cent],\n",
    "                       color='k')\n",
    "sns.despine(bottom=True, left=True)\n",
    "plt.xticks([])\n",
    "plt.yticks([]);"
   ]
  },
  {
   "cell_type": "markdown",
   "metadata": {},
   "source": [
    "Scikit-learn: machine learning\n",
    "-------------\n",
    "\n",
    "scikit-learn is the most used library for machine learning (but you might want to look into TensorFlow if you like deep-learning). It includes both supervised and unsupervised learning, clustering, feature reduction (PCA) and several pre-processing and performance metrics.\n",
    "\n",
    "Despite the great number of algorithms implemented in the library, the structure is similar for all of them, making it easier to use them. Advanced usage include pipelines and advanced cross-validations."
   ]
  },
  {
   "cell_type": "markdown",
   "metadata": {},
   "source": [
    "**Example: clusterization of the Iris dataset**\n",
    "\n",
    "Datasets in `sciki.learn` follow the scheme `(n_samples, n_features)`; using `numpy.ndarrays` or `pandas.dataFrames` is advised."
   ]
  },
  {
   "cell_type": "code",
   "execution_count": 27,
   "metadata": {
    "collapsed": true,
    "run_control": {
     "frozen": false,
     "read_only": false
    }
   },
   "outputs": [],
   "source": [
    "from sklearn import datasets"
   ]
  },
  {
   "cell_type": "code",
   "execution_count": 28,
   "metadata": {
    "collapsed": false,
    "run_control": {
     "frozen": false,
     "read_only": false
    }
   },
   "outputs": [
    {
     "data": {
      "text/plain": [
       "{'DESCR': 'Iris Plants Database\\n====================\\n\\nNotes\\n-----\\nData Set Characteristics:\\n    :Number of Instances: 150 (50 in each of three classes)\\n    :Number of Attributes: 4 numeric, predictive attributes and the class\\n    :Attribute Information:\\n        - sepal length in cm\\n        - sepal width in cm\\n        - petal length in cm\\n        - petal width in cm\\n        - class:\\n                - Iris-Setosa\\n                - Iris-Versicolour\\n                - Iris-Virginica\\n    :Summary Statistics:\\n\\n    ============== ==== ==== ======= ===== ====================\\n                    Min  Max   Mean    SD   Class Correlation\\n    ============== ==== ==== ======= ===== ====================\\n    sepal length:   4.3  7.9   5.84   0.83    0.7826\\n    sepal width:    2.0  4.4   3.05   0.43   -0.4194\\n    petal length:   1.0  6.9   3.76   1.76    0.9490  (high!)\\n    petal width:    0.1  2.5   1.20  0.76     0.9565  (high!)\\n    ============== ==== ==== ======= ===== ====================\\n\\n    :Missing Attribute Values: None\\n    :Class Distribution: 33.3% for each of 3 classes.\\n    :Creator: R.A. Fisher\\n    :Donor: Michael Marshall (MARSHALL%PLU@io.arc.nasa.gov)\\n    :Date: July, 1988\\n\\nThis is a copy of UCI ML iris datasets.\\nhttp://archive.ics.uci.edu/ml/datasets/Iris\\n\\nThe famous Iris database, first used by Sir R.A Fisher\\n\\nThis is perhaps the best known database to be found in the\\npattern recognition literature.  Fisher\\'s paper is a classic in the field and\\nis referenced frequently to this day.  (See Duda & Hart, for example.)  The\\ndata set contains 3 classes of 50 instances each, where each class refers to a\\ntype of iris plant.  One class is linearly separable from the other 2; the\\nlatter are NOT linearly separable from each other.\\n\\nReferences\\n----------\\n   - Fisher,R.A. \"The use of multiple measurements in taxonomic problems\"\\n     Annual Eugenics, 7, Part II, 179-188 (1936); also in \"Contributions to\\n     Mathematical Statistics\" (John Wiley, NY, 1950).\\n   - Duda,R.O., & Hart,P.E. (1973) Pattern Classification and Scene Analysis.\\n     (Q327.D83) John Wiley & Sons.  ISBN 0-471-22361-1.  See page 218.\\n   - Dasarathy, B.V. (1980) \"Nosing Around the Neighborhood: A New System\\n     Structure and Classification Rule for Recognition in Partially Exposed\\n     Environments\".  IEEE Transactions on Pattern Analysis and Machine\\n     Intelligence, Vol. PAMI-2, No. 1, 67-71.\\n   - Gates, G.W. (1972) \"The Reduced Nearest Neighbor Rule\".  IEEE Transactions\\n     on Information Theory, May 1972, 431-433.\\n   - See also: 1988 MLC Proceedings, 54-64.  Cheeseman et al\"s AUTOCLASS II\\n     conceptual clustering system finds 3 classes in the data.\\n   - Many, many more ...\\n',\n",
       " 'data': array([[ 5.1,  3.5,  1.4,  0.2],\n",
       "        [ 4.9,  3. ,  1.4,  0.2],\n",
       "        [ 4.7,  3.2,  1.3,  0.2],\n",
       "        [ 4.6,  3.1,  1.5,  0.2],\n",
       "        [ 5. ,  3.6,  1.4,  0.2],\n",
       "        [ 5.4,  3.9,  1.7,  0.4],\n",
       "        [ 4.6,  3.4,  1.4,  0.3],\n",
       "        [ 5. ,  3.4,  1.5,  0.2],\n",
       "        [ 4.4,  2.9,  1.4,  0.2],\n",
       "        [ 4.9,  3.1,  1.5,  0.1],\n",
       "        [ 5.4,  3.7,  1.5,  0.2],\n",
       "        [ 4.8,  3.4,  1.6,  0.2],\n",
       "        [ 4.8,  3. ,  1.4,  0.1],\n",
       "        [ 4.3,  3. ,  1.1,  0.1],\n",
       "        [ 5.8,  4. ,  1.2,  0.2],\n",
       "        [ 5.7,  4.4,  1.5,  0.4],\n",
       "        [ 5.4,  3.9,  1.3,  0.4],\n",
       "        [ 5.1,  3.5,  1.4,  0.3],\n",
       "        [ 5.7,  3.8,  1.7,  0.3],\n",
       "        [ 5.1,  3.8,  1.5,  0.3],\n",
       "        [ 5.4,  3.4,  1.7,  0.2],\n",
       "        [ 5.1,  3.7,  1.5,  0.4],\n",
       "        [ 4.6,  3.6,  1. ,  0.2],\n",
       "        [ 5.1,  3.3,  1.7,  0.5],\n",
       "        [ 4.8,  3.4,  1.9,  0.2],\n",
       "        [ 5. ,  3. ,  1.6,  0.2],\n",
       "        [ 5. ,  3.4,  1.6,  0.4],\n",
       "        [ 5.2,  3.5,  1.5,  0.2],\n",
       "        [ 5.2,  3.4,  1.4,  0.2],\n",
       "        [ 4.7,  3.2,  1.6,  0.2],\n",
       "        [ 4.8,  3.1,  1.6,  0.2],\n",
       "        [ 5.4,  3.4,  1.5,  0.4],\n",
       "        [ 5.2,  4.1,  1.5,  0.1],\n",
       "        [ 5.5,  4.2,  1.4,  0.2],\n",
       "        [ 4.9,  3.1,  1.5,  0.1],\n",
       "        [ 5. ,  3.2,  1.2,  0.2],\n",
       "        [ 5.5,  3.5,  1.3,  0.2],\n",
       "        [ 4.9,  3.1,  1.5,  0.1],\n",
       "        [ 4.4,  3. ,  1.3,  0.2],\n",
       "        [ 5.1,  3.4,  1.5,  0.2],\n",
       "        [ 5. ,  3.5,  1.3,  0.3],\n",
       "        [ 4.5,  2.3,  1.3,  0.3],\n",
       "        [ 4.4,  3.2,  1.3,  0.2],\n",
       "        [ 5. ,  3.5,  1.6,  0.6],\n",
       "        [ 5.1,  3.8,  1.9,  0.4],\n",
       "        [ 4.8,  3. ,  1.4,  0.3],\n",
       "        [ 5.1,  3.8,  1.6,  0.2],\n",
       "        [ 4.6,  3.2,  1.4,  0.2],\n",
       "        [ 5.3,  3.7,  1.5,  0.2],\n",
       "        [ 5. ,  3.3,  1.4,  0.2],\n",
       "        [ 7. ,  3.2,  4.7,  1.4],\n",
       "        [ 6.4,  3.2,  4.5,  1.5],\n",
       "        [ 6.9,  3.1,  4.9,  1.5],\n",
       "        [ 5.5,  2.3,  4. ,  1.3],\n",
       "        [ 6.5,  2.8,  4.6,  1.5],\n",
       "        [ 5.7,  2.8,  4.5,  1.3],\n",
       "        [ 6.3,  3.3,  4.7,  1.6],\n",
       "        [ 4.9,  2.4,  3.3,  1. ],\n",
       "        [ 6.6,  2.9,  4.6,  1.3],\n",
       "        [ 5.2,  2.7,  3.9,  1.4],\n",
       "        [ 5. ,  2. ,  3.5,  1. ],\n",
       "        [ 5.9,  3. ,  4.2,  1.5],\n",
       "        [ 6. ,  2.2,  4. ,  1. ],\n",
       "        [ 6.1,  2.9,  4.7,  1.4],\n",
       "        [ 5.6,  2.9,  3.6,  1.3],\n",
       "        [ 6.7,  3.1,  4.4,  1.4],\n",
       "        [ 5.6,  3. ,  4.5,  1.5],\n",
       "        [ 5.8,  2.7,  4.1,  1. ],\n",
       "        [ 6.2,  2.2,  4.5,  1.5],\n",
       "        [ 5.6,  2.5,  3.9,  1.1],\n",
       "        [ 5.9,  3.2,  4.8,  1.8],\n",
       "        [ 6.1,  2.8,  4. ,  1.3],\n",
       "        [ 6.3,  2.5,  4.9,  1.5],\n",
       "        [ 6.1,  2.8,  4.7,  1.2],\n",
       "        [ 6.4,  2.9,  4.3,  1.3],\n",
       "        [ 6.6,  3. ,  4.4,  1.4],\n",
       "        [ 6.8,  2.8,  4.8,  1.4],\n",
       "        [ 6.7,  3. ,  5. ,  1.7],\n",
       "        [ 6. ,  2.9,  4.5,  1.5],\n",
       "        [ 5.7,  2.6,  3.5,  1. ],\n",
       "        [ 5.5,  2.4,  3.8,  1.1],\n",
       "        [ 5.5,  2.4,  3.7,  1. ],\n",
       "        [ 5.8,  2.7,  3.9,  1.2],\n",
       "        [ 6. ,  2.7,  5.1,  1.6],\n",
       "        [ 5.4,  3. ,  4.5,  1.5],\n",
       "        [ 6. ,  3.4,  4.5,  1.6],\n",
       "        [ 6.7,  3.1,  4.7,  1.5],\n",
       "        [ 6.3,  2.3,  4.4,  1.3],\n",
       "        [ 5.6,  3. ,  4.1,  1.3],\n",
       "        [ 5.5,  2.5,  4. ,  1.3],\n",
       "        [ 5.5,  2.6,  4.4,  1.2],\n",
       "        [ 6.1,  3. ,  4.6,  1.4],\n",
       "        [ 5.8,  2.6,  4. ,  1.2],\n",
       "        [ 5. ,  2.3,  3.3,  1. ],\n",
       "        [ 5.6,  2.7,  4.2,  1.3],\n",
       "        [ 5.7,  3. ,  4.2,  1.2],\n",
       "        [ 5.7,  2.9,  4.2,  1.3],\n",
       "        [ 6.2,  2.9,  4.3,  1.3],\n",
       "        [ 5.1,  2.5,  3. ,  1.1],\n",
       "        [ 5.7,  2.8,  4.1,  1.3],\n",
       "        [ 6.3,  3.3,  6. ,  2.5],\n",
       "        [ 5.8,  2.7,  5.1,  1.9],\n",
       "        [ 7.1,  3. ,  5.9,  2.1],\n",
       "        [ 6.3,  2.9,  5.6,  1.8],\n",
       "        [ 6.5,  3. ,  5.8,  2.2],\n",
       "        [ 7.6,  3. ,  6.6,  2.1],\n",
       "        [ 4.9,  2.5,  4.5,  1.7],\n",
       "        [ 7.3,  2.9,  6.3,  1.8],\n",
       "        [ 6.7,  2.5,  5.8,  1.8],\n",
       "        [ 7.2,  3.6,  6.1,  2.5],\n",
       "        [ 6.5,  3.2,  5.1,  2. ],\n",
       "        [ 6.4,  2.7,  5.3,  1.9],\n",
       "        [ 6.8,  3. ,  5.5,  2.1],\n",
       "        [ 5.7,  2.5,  5. ,  2. ],\n",
       "        [ 5.8,  2.8,  5.1,  2.4],\n",
       "        [ 6.4,  3.2,  5.3,  2.3],\n",
       "        [ 6.5,  3. ,  5.5,  1.8],\n",
       "        [ 7.7,  3.8,  6.7,  2.2],\n",
       "        [ 7.7,  2.6,  6.9,  2.3],\n",
       "        [ 6. ,  2.2,  5. ,  1.5],\n",
       "        [ 6.9,  3.2,  5.7,  2.3],\n",
       "        [ 5.6,  2.8,  4.9,  2. ],\n",
       "        [ 7.7,  2.8,  6.7,  2. ],\n",
       "        [ 6.3,  2.7,  4.9,  1.8],\n",
       "        [ 6.7,  3.3,  5.7,  2.1],\n",
       "        [ 7.2,  3.2,  6. ,  1.8],\n",
       "        [ 6.2,  2.8,  4.8,  1.8],\n",
       "        [ 6.1,  3. ,  4.9,  1.8],\n",
       "        [ 6.4,  2.8,  5.6,  2.1],\n",
       "        [ 7.2,  3. ,  5.8,  1.6],\n",
       "        [ 7.4,  2.8,  6.1,  1.9],\n",
       "        [ 7.9,  3.8,  6.4,  2. ],\n",
       "        [ 6.4,  2.8,  5.6,  2.2],\n",
       "        [ 6.3,  2.8,  5.1,  1.5],\n",
       "        [ 6.1,  2.6,  5.6,  1.4],\n",
       "        [ 7.7,  3. ,  6.1,  2.3],\n",
       "        [ 6.3,  3.4,  5.6,  2.4],\n",
       "        [ 6.4,  3.1,  5.5,  1.8],\n",
       "        [ 6. ,  3. ,  4.8,  1.8],\n",
       "        [ 6.9,  3.1,  5.4,  2.1],\n",
       "        [ 6.7,  3.1,  5.6,  2.4],\n",
       "        [ 6.9,  3.1,  5.1,  2.3],\n",
       "        [ 5.8,  2.7,  5.1,  1.9],\n",
       "        [ 6.8,  3.2,  5.9,  2.3],\n",
       "        [ 6.7,  3.3,  5.7,  2.5],\n",
       "        [ 6.7,  3. ,  5.2,  2.3],\n",
       "        [ 6.3,  2.5,  5. ,  1.9],\n",
       "        [ 6.5,  3. ,  5.2,  2. ],\n",
       "        [ 6.2,  3.4,  5.4,  2.3],\n",
       "        [ 5.9,  3. ,  5.1,  1.8]]),\n",
       " 'feature_names': ['sepal length (cm)',\n",
       "  'sepal width (cm)',\n",
       "  'petal length (cm)',\n",
       "  'petal width (cm)'],\n",
       " 'target': array([0, 0, 0, 0, 0, 0, 0, 0, 0, 0, 0, 0, 0, 0, 0, 0, 0, 0, 0, 0, 0, 0, 0,\n",
       "        0, 0, 0, 0, 0, 0, 0, 0, 0, 0, 0, 0, 0, 0, 0, 0, 0, 0, 0, 0, 0, 0, 0,\n",
       "        0, 0, 0, 0, 1, 1, 1, 1, 1, 1, 1, 1, 1, 1, 1, 1, 1, 1, 1, 1, 1, 1, 1,\n",
       "        1, 1, 1, 1, 1, 1, 1, 1, 1, 1, 1, 1, 1, 1, 1, 1, 1, 1, 1, 1, 1, 1, 1,\n",
       "        1, 1, 1, 1, 1, 1, 1, 1, 2, 2, 2, 2, 2, 2, 2, 2, 2, 2, 2, 2, 2, 2, 2,\n",
       "        2, 2, 2, 2, 2, 2, 2, 2, 2, 2, 2, 2, 2, 2, 2, 2, 2, 2, 2, 2, 2, 2, 2,\n",
       "        2, 2, 2, 2, 2, 2, 2, 2, 2, 2, 2, 2]),\n",
       " 'target_names': array(['setosa', 'versicolor', 'virginica'], \n",
       "       dtype='|S10')}"
      ]
     },
     "execution_count": 28,
     "metadata": {},
     "output_type": "execute_result"
    }
   ],
   "source": [
    "datasets.load_iris()"
   ]
  },
  {
   "cell_type": "code",
   "execution_count": 29,
   "metadata": {
    "collapsed": true,
    "run_control": {
     "frozen": false,
     "read_only": false
    }
   },
   "outputs": [],
   "source": [
    "iris = datasets.load_iris()"
   ]
  },
  {
   "cell_type": "code",
   "execution_count": 30,
   "metadata": {
    "collapsed": false,
    "run_control": {
     "frozen": false,
     "read_only": false
    }
   },
   "outputs": [
    {
     "data": {
      "text/plain": [
       "array([[ 5.1,  3.5,  1.4,  0.2],\n",
       "       [ 4.9,  3. ,  1.4,  0.2],\n",
       "       [ 4.7,  3.2,  1.3,  0.2],\n",
       "       [ 4.6,  3.1,  1.5,  0.2],\n",
       "       [ 5. ,  3.6,  1.4,  0.2],\n",
       "       [ 5.4,  3.9,  1.7,  0.4],\n",
       "       [ 4.6,  3.4,  1.4,  0.3],\n",
       "       [ 5. ,  3.4,  1.5,  0.2],\n",
       "       [ 4.4,  2.9,  1.4,  0.2],\n",
       "       [ 4.9,  3.1,  1.5,  0.1],\n",
       "       [ 5.4,  3.7,  1.5,  0.2],\n",
       "       [ 4.8,  3.4,  1.6,  0.2],\n",
       "       [ 4.8,  3. ,  1.4,  0.1],\n",
       "       [ 4.3,  3. ,  1.1,  0.1],\n",
       "       [ 5.8,  4. ,  1.2,  0.2],\n",
       "       [ 5.7,  4.4,  1.5,  0.4],\n",
       "       [ 5.4,  3.9,  1.3,  0.4],\n",
       "       [ 5.1,  3.5,  1.4,  0.3],\n",
       "       [ 5.7,  3.8,  1.7,  0.3],\n",
       "       [ 5.1,  3.8,  1.5,  0.3],\n",
       "       [ 5.4,  3.4,  1.7,  0.2],\n",
       "       [ 5.1,  3.7,  1.5,  0.4],\n",
       "       [ 4.6,  3.6,  1. ,  0.2],\n",
       "       [ 5.1,  3.3,  1.7,  0.5],\n",
       "       [ 4.8,  3.4,  1.9,  0.2],\n",
       "       [ 5. ,  3. ,  1.6,  0.2],\n",
       "       [ 5. ,  3.4,  1.6,  0.4],\n",
       "       [ 5.2,  3.5,  1.5,  0.2],\n",
       "       [ 5.2,  3.4,  1.4,  0.2],\n",
       "       [ 4.7,  3.2,  1.6,  0.2],\n",
       "       [ 4.8,  3.1,  1.6,  0.2],\n",
       "       [ 5.4,  3.4,  1.5,  0.4],\n",
       "       [ 5.2,  4.1,  1.5,  0.1],\n",
       "       [ 5.5,  4.2,  1.4,  0.2],\n",
       "       [ 4.9,  3.1,  1.5,  0.1],\n",
       "       [ 5. ,  3.2,  1.2,  0.2],\n",
       "       [ 5.5,  3.5,  1.3,  0.2],\n",
       "       [ 4.9,  3.1,  1.5,  0.1],\n",
       "       [ 4.4,  3. ,  1.3,  0.2],\n",
       "       [ 5.1,  3.4,  1.5,  0.2],\n",
       "       [ 5. ,  3.5,  1.3,  0.3],\n",
       "       [ 4.5,  2.3,  1.3,  0.3],\n",
       "       [ 4.4,  3.2,  1.3,  0.2],\n",
       "       [ 5. ,  3.5,  1.6,  0.6],\n",
       "       [ 5.1,  3.8,  1.9,  0.4],\n",
       "       [ 4.8,  3. ,  1.4,  0.3],\n",
       "       [ 5.1,  3.8,  1.6,  0.2],\n",
       "       [ 4.6,  3.2,  1.4,  0.2],\n",
       "       [ 5.3,  3.7,  1.5,  0.2],\n",
       "       [ 5. ,  3.3,  1.4,  0.2],\n",
       "       [ 7. ,  3.2,  4.7,  1.4],\n",
       "       [ 6.4,  3.2,  4.5,  1.5],\n",
       "       [ 6.9,  3.1,  4.9,  1.5],\n",
       "       [ 5.5,  2.3,  4. ,  1.3],\n",
       "       [ 6.5,  2.8,  4.6,  1.5],\n",
       "       [ 5.7,  2.8,  4.5,  1.3],\n",
       "       [ 6.3,  3.3,  4.7,  1.6],\n",
       "       [ 4.9,  2.4,  3.3,  1. ],\n",
       "       [ 6.6,  2.9,  4.6,  1.3],\n",
       "       [ 5.2,  2.7,  3.9,  1.4],\n",
       "       [ 5. ,  2. ,  3.5,  1. ],\n",
       "       [ 5.9,  3. ,  4.2,  1.5],\n",
       "       [ 6. ,  2.2,  4. ,  1. ],\n",
       "       [ 6.1,  2.9,  4.7,  1.4],\n",
       "       [ 5.6,  2.9,  3.6,  1.3],\n",
       "       [ 6.7,  3.1,  4.4,  1.4],\n",
       "       [ 5.6,  3. ,  4.5,  1.5],\n",
       "       [ 5.8,  2.7,  4.1,  1. ],\n",
       "       [ 6.2,  2.2,  4.5,  1.5],\n",
       "       [ 5.6,  2.5,  3.9,  1.1],\n",
       "       [ 5.9,  3.2,  4.8,  1.8],\n",
       "       [ 6.1,  2.8,  4. ,  1.3],\n",
       "       [ 6.3,  2.5,  4.9,  1.5],\n",
       "       [ 6.1,  2.8,  4.7,  1.2],\n",
       "       [ 6.4,  2.9,  4.3,  1.3],\n",
       "       [ 6.6,  3. ,  4.4,  1.4],\n",
       "       [ 6.8,  2.8,  4.8,  1.4],\n",
       "       [ 6.7,  3. ,  5. ,  1.7],\n",
       "       [ 6. ,  2.9,  4.5,  1.5],\n",
       "       [ 5.7,  2.6,  3.5,  1. ],\n",
       "       [ 5.5,  2.4,  3.8,  1.1],\n",
       "       [ 5.5,  2.4,  3.7,  1. ],\n",
       "       [ 5.8,  2.7,  3.9,  1.2],\n",
       "       [ 6. ,  2.7,  5.1,  1.6],\n",
       "       [ 5.4,  3. ,  4.5,  1.5],\n",
       "       [ 6. ,  3.4,  4.5,  1.6],\n",
       "       [ 6.7,  3.1,  4.7,  1.5],\n",
       "       [ 6.3,  2.3,  4.4,  1.3],\n",
       "       [ 5.6,  3. ,  4.1,  1.3],\n",
       "       [ 5.5,  2.5,  4. ,  1.3],\n",
       "       [ 5.5,  2.6,  4.4,  1.2],\n",
       "       [ 6.1,  3. ,  4.6,  1.4],\n",
       "       [ 5.8,  2.6,  4. ,  1.2],\n",
       "       [ 5. ,  2.3,  3.3,  1. ],\n",
       "       [ 5.6,  2.7,  4.2,  1.3],\n",
       "       [ 5.7,  3. ,  4.2,  1.2],\n",
       "       [ 5.7,  2.9,  4.2,  1.3],\n",
       "       [ 6.2,  2.9,  4.3,  1.3],\n",
       "       [ 5.1,  2.5,  3. ,  1.1],\n",
       "       [ 5.7,  2.8,  4.1,  1.3],\n",
       "       [ 6.3,  3.3,  6. ,  2.5],\n",
       "       [ 5.8,  2.7,  5.1,  1.9],\n",
       "       [ 7.1,  3. ,  5.9,  2.1],\n",
       "       [ 6.3,  2.9,  5.6,  1.8],\n",
       "       [ 6.5,  3. ,  5.8,  2.2],\n",
       "       [ 7.6,  3. ,  6.6,  2.1],\n",
       "       [ 4.9,  2.5,  4.5,  1.7],\n",
       "       [ 7.3,  2.9,  6.3,  1.8],\n",
       "       [ 6.7,  2.5,  5.8,  1.8],\n",
       "       [ 7.2,  3.6,  6.1,  2.5],\n",
       "       [ 6.5,  3.2,  5.1,  2. ],\n",
       "       [ 6.4,  2.7,  5.3,  1.9],\n",
       "       [ 6.8,  3. ,  5.5,  2.1],\n",
       "       [ 5.7,  2.5,  5. ,  2. ],\n",
       "       [ 5.8,  2.8,  5.1,  2.4],\n",
       "       [ 6.4,  3.2,  5.3,  2.3],\n",
       "       [ 6.5,  3. ,  5.5,  1.8],\n",
       "       [ 7.7,  3.8,  6.7,  2.2],\n",
       "       [ 7.7,  2.6,  6.9,  2.3],\n",
       "       [ 6. ,  2.2,  5. ,  1.5],\n",
       "       [ 6.9,  3.2,  5.7,  2.3],\n",
       "       [ 5.6,  2.8,  4.9,  2. ],\n",
       "       [ 7.7,  2.8,  6.7,  2. ],\n",
       "       [ 6.3,  2.7,  4.9,  1.8],\n",
       "       [ 6.7,  3.3,  5.7,  2.1],\n",
       "       [ 7.2,  3.2,  6. ,  1.8],\n",
       "       [ 6.2,  2.8,  4.8,  1.8],\n",
       "       [ 6.1,  3. ,  4.9,  1.8],\n",
       "       [ 6.4,  2.8,  5.6,  2.1],\n",
       "       [ 7.2,  3. ,  5.8,  1.6],\n",
       "       [ 7.4,  2.8,  6.1,  1.9],\n",
       "       [ 7.9,  3.8,  6.4,  2. ],\n",
       "       [ 6.4,  2.8,  5.6,  2.2],\n",
       "       [ 6.3,  2.8,  5.1,  1.5],\n",
       "       [ 6.1,  2.6,  5.6,  1.4],\n",
       "       [ 7.7,  3. ,  6.1,  2.3],\n",
       "       [ 6.3,  3.4,  5.6,  2.4],\n",
       "       [ 6.4,  3.1,  5.5,  1.8],\n",
       "       [ 6. ,  3. ,  4.8,  1.8],\n",
       "       [ 6.9,  3.1,  5.4,  2.1],\n",
       "       [ 6.7,  3.1,  5.6,  2.4],\n",
       "       [ 6.9,  3.1,  5.1,  2.3],\n",
       "       [ 5.8,  2.7,  5.1,  1.9],\n",
       "       [ 6.8,  3.2,  5.9,  2.3],\n",
       "       [ 6.7,  3.3,  5.7,  2.5],\n",
       "       [ 6.7,  3. ,  5.2,  2.3],\n",
       "       [ 6.3,  2.5,  5. ,  1.9],\n",
       "       [ 6.5,  3. ,  5.2,  2. ],\n",
       "       [ 6.2,  3.4,  5.4,  2.3],\n",
       "       [ 5.9,  3. ,  5.1,  1.8]])"
      ]
     },
     "execution_count": 30,
     "metadata": {},
     "output_type": "execute_result"
    }
   ],
   "source": [
    "# rows are observations, columns are features\n",
    "iris.data"
   ]
  },
  {
   "cell_type": "code",
   "execution_count": 31,
   "metadata": {
    "collapsed": false,
    "run_control": {
     "frozen": false,
     "read_only": false
    }
   },
   "outputs": [
    {
     "data": {
      "text/plain": [
       "array([0, 0, 0, 0, 0, 0, 0, 0, 0, 0, 0, 0, 0, 0, 0, 0, 0, 0, 0, 0, 0, 0, 0,\n",
       "       0, 0, 0, 0, 0, 0, 0, 0, 0, 0, 0, 0, 0, 0, 0, 0, 0, 0, 0, 0, 0, 0, 0,\n",
       "       0, 0, 0, 0, 1, 1, 1, 1, 1, 1, 1, 1, 1, 1, 1, 1, 1, 1, 1, 1, 1, 1, 1,\n",
       "       1, 1, 1, 1, 1, 1, 1, 1, 1, 1, 1, 1, 1, 1, 1, 1, 1, 1, 1, 1, 1, 1, 1,\n",
       "       1, 1, 1, 1, 1, 1, 1, 1, 2, 2, 2, 2, 2, 2, 2, 2, 2, 2, 2, 2, 2, 2, 2,\n",
       "       2, 2, 2, 2, 2, 2, 2, 2, 2, 2, 2, 2, 2, 2, 2, 2, 2, 2, 2, 2, 2, 2, 2,\n",
       "       2, 2, 2, 2, 2, 2, 2, 2, 2, 2, 2, 2])"
      ]
     },
     "execution_count": 31,
     "metadata": {},
     "output_type": "execute_result"
    }
   ],
   "source": [
    "# true label for each observation\n",
    "iris.target"
   ]
  },
  {
   "cell_type": "code",
   "execution_count": 32,
   "metadata": {
    "collapsed": false,
    "run_control": {
     "frozen": false,
     "read_only": false
    }
   },
   "outputs": [
    {
     "data": {
      "text/plain": [
       "array(['setosa', 'versicolor', 'virginica'], \n",
       "      dtype='|S10')"
      ]
     },
     "execution_count": 32,
     "metadata": {},
     "output_type": "execute_result"
    }
   ],
   "source": [
    "# label names\n",
    "iris.target_names"
   ]
  },
  {
   "cell_type": "markdown",
   "metadata": {},
   "source": [
    "A good practicein machine learning is to normalize the features, so that larger ones don\\'t influence the clusterization process more than the others. "
   ]
  },
  {
   "cell_type": "code",
   "execution_count": 33,
   "metadata": {
    "collapsed": true,
    "run_control": {
     "frozen": false,
     "read_only": false
    }
   },
   "outputs": [],
   "source": [
    "from sklearn import preprocessing"
   ]
  },
  {
   "cell_type": "code",
   "execution_count": 34,
   "metadata": {
    "collapsed": false,
    "run_control": {
     "frozen": false,
     "read_only": false
    }
   },
   "outputs": [],
   "source": [
    "# the simplest preprocessing is to standardize the data\n",
    "std_scaler = preprocessing.StandardScaler()\n",
    "iris.data = std_scaler.fit_transform(iris.data)"
   ]
  },
  {
   "cell_type": "code",
   "execution_count": 35,
   "metadata": {
    "collapsed": true,
    "run_control": {
     "frozen": false,
     "read_only": false
    }
   },
   "outputs": [],
   "source": [
    "from sklearn.cluster import KMeans"
   ]
  },
  {
   "cell_type": "markdown",
   "metadata": {},
   "source": [
    "Most algorithms have a `fit` method for training and then either a `transform` or a `predict` method that acts on new data."
   ]
  },
  {
   "cell_type": "code",
   "execution_count": 36,
   "metadata": {
    "collapsed": false,
    "run_control": {
     "frozen": false,
     "read_only": false
    }
   },
   "outputs": [
    {
     "data": {
      "text/plain": [
       "KMeans(algorithm='auto', copy_x=True, init='k-means++', max_iter=300,\n",
       "    n_clusters=3, n_init=10, n_jobs=1, precompute_distances='auto',\n",
       "    random_state=0, tol=0.0001, verbose=0)"
      ]
     },
     "execution_count": 36,
     "metadata": {},
     "output_type": "execute_result"
    }
   ],
   "source": [
    "kmeans = KMeans(n_clusters=3, random_state=0)\n",
    "kmeans.fit(iris.data)"
   ]
  },
  {
   "cell_type": "code",
   "execution_count": 37,
   "metadata": {
    "collapsed": false,
    "run_control": {
     "frozen": false,
     "read_only": false
    }
   },
   "outputs": [
    {
     "data": {
      "text/plain": [
       "array([1, 1, 1, 1, 1, 1, 1, 1, 1, 1, 1, 1, 1, 1, 1, 1, 1, 1, 1, 1, 1, 1, 1,\n",
       "       1, 1, 1, 1, 1, 1, 1, 1, 1, 1, 1, 1, 1, 1, 1, 1, 1, 1, 1, 1, 1, 1, 1,\n",
       "       1, 1, 1, 1, 2, 2, 2, 0, 0, 0, 2, 0, 0, 0, 0, 0, 0, 0, 0, 2, 0, 0, 0,\n",
       "       0, 2, 0, 0, 0, 0, 2, 2, 2, 0, 0, 0, 0, 0, 0, 0, 2, 2, 0, 0, 0, 0, 0,\n",
       "       0, 0, 0, 0, 0, 0, 0, 0, 2, 0, 2, 2, 2, 2, 0, 2, 2, 2, 2, 2, 2, 0, 0,\n",
       "       2, 2, 2, 2, 0, 2, 0, 2, 0, 2, 2, 0, 2, 2, 2, 2, 2, 2, 0, 0, 2, 2, 2,\n",
       "       0, 2, 2, 2, 0, 2, 2, 2, 0, 2, 2, 0], dtype=int32)"
      ]
     },
     "execution_count": 37,
     "metadata": {},
     "output_type": "execute_result"
    }
   ],
   "source": [
    "kmeans.labels_"
   ]
  },
  {
   "cell_type": "code",
   "execution_count": 38,
   "metadata": {
    "collapsed": false,
    "run_control": {
     "frozen": false,
     "read_only": false
    }
   },
   "outputs": [
    {
     "data": {
      "text/plain": [
       "array([2], dtype=int32)"
      ]
     },
     "execution_count": 38,
     "metadata": {},
     "output_type": "execute_result"
    }
   ],
   "source": [
    "# once the model has been fitted, we can add a new observation and can try to predict to which cluster they belong to\n",
    "kmeans.predict([[5.8,  2.7,  4.0,  1.25],])"
   ]
  },
  {
   "cell_type": "markdown",
   "metadata": {},
   "source": [
    "We are going to plot the dataset (using only two features for semplicity), together with the true labels (glyphs) and the clusters (colors). "
   ]
  },
  {
   "cell_type": "code",
   "execution_count": 39,
   "metadata": {
    "collapsed": false,
    "run_control": {
     "frozen": false,
     "read_only": false
    }
   },
   "outputs": [
    {
     "data": {
      "image/png": "[encoded data removed]",
      "text/plain": [
       "<matplotlib.figure.Figure at 0x7f0ecc693390>"
      ]
     },
     "metadata": {},
     "output_type": "display_data"
    }
   ],
   "source": [
    "plt.figure(figsize=(15, 7))\n",
    "\n",
    "plt.subplot(121)\n",
    "for label, glyph in zip(set(iris.target), ('o', 'D', '^')):\n",
    "    for cluster, color in zip(set(kmeans.labels_), ('b', 'r', 'g')):\n",
    "        plt.plot(iris.data[(iris.target == label) & (kmeans.labels_ == cluster)][:, 0],\n",
    "                 iris.data[(iris.target == label) & (kmeans.labels_ == cluster)][:, 1],\n",
    "                 marker=glyph,\n",
    "                 linestyle='',\n",
    "                 color=color,\n",
    "                 label='{0} - {1}'.format(iris.target_names[label],\n",
    "                                          cluster))\n",
    "plt.xlabel('feature 0')\n",
    "plt.ylabel('feature 1')\n",
    "\n",
    "plt.subplot(122)\n",
    "for label, glyph in zip(set(iris.target), ('o', 'D', '^')):\n",
    "    for cluster, color in zip(set(kmeans.labels_), ('b', 'r', 'g')):\n",
    "        plt.plot(iris.data[(iris.target == label) & (kmeans.labels_ == cluster)][:, 2],\n",
    "                 iris.data[(iris.target == label) & (kmeans.labels_ == cluster)][:, 3],\n",
    "                 marker=glyph,\n",
    "                 linestyle='',\n",
    "                 color=color,\n",
    "                 label='{0} - {1}'.format(iris.target_names[label],\n",
    "                                          cluster))\n",
    "plt.xlabel('feature 2')\n",
    "plt.ylabel('feature 3')\n",
    "plt.legend(loc=(1, 0));"
   ]
  },
  {
   "cell_type": "markdown",
   "metadata": {},
   "source": [
    "The clustering is separating the three categories with a decent discriminative power; we can use some metrics implemented in scikit-learn to be more precise. We are going to use an homogeinity score to measure how \"pure\" each cluster is."
   ]
  },
  {
   "cell_type": "code",
   "execution_count": 40,
   "metadata": {
    "collapsed": true,
    "run_control": {
     "frozen": false,
     "read_only": false
    }
   },
   "outputs": [],
   "source": [
    "from sklearn import metrics"
   ]
  },
  {
   "cell_type": "code",
   "execution_count": 41,
   "metadata": {
    "collapsed": false,
    "run_control": {
     "frozen": false,
     "read_only": false
    }
   },
   "outputs": [
    {
     "data": {
      "text/plain": [
       "0.65912650180490084"
      ]
     },
     "execution_count": 41,
     "metadata": {},
     "output_type": "execute_result"
    }
   ],
   "source": [
    "metrics.homogeneity_score(iris.target, kmeans.labels_)"
   ]
  },
  {
   "cell_type": "markdown",
   "metadata": {},
   "source": [
    "**Linear model classifier example**\n",
    "\n",
    "In a real world scenario we would need to divide our dataset into a training and test set; for that purpose the `sklearn.cross_validation` module should be used."
   ]
  },
  {
   "cell_type": "code",
   "execution_count": 42,
   "metadata": {
    "collapsed": true,
    "run_control": {
     "frozen": false,
     "read_only": false
    }
   },
   "outputs": [],
   "source": [
    "from sklearn.linear_model import RidgeClassifier"
   ]
  },
  {
   "cell_type": "markdown",
   "metadata": {},
   "source": [
    "The Ridge linear classifier has a parameter `alpha` that influences the fitting process; it is advisable to perform an additional cross-validation on the training data to find the optimal value for it."
   ]
  },
  {
   "cell_type": "code",
   "execution_count": 43,
   "metadata": {
    "collapsed": false,
    "run_control": {
     "frozen": false,
     "read_only": false
    }
   },
   "outputs": [
    {
     "data": {
      "text/plain": [
       "RidgeClassifier(alpha=1.0, class_weight=None, copy_X=True, fit_intercept=True,\n",
       "        max_iter=None, normalize=False, random_state=None, solver='auto',\n",
       "        tol=0.001)"
      ]
     },
     "execution_count": 43,
     "metadata": {},
     "output_type": "execute_result"
    }
   ],
   "source": [
    "ridge = RidgeClassifier(alpha=1.0)\n",
    "ridge.fit(iris.data, iris.target)"
   ]
  },
  {
   "cell_type": "code",
   "execution_count": 44,
   "metadata": {
    "collapsed": false,
    "run_control": {
     "frozen": false,
     "read_only": false
    }
   },
   "outputs": [],
   "source": [
    "predictions = ridge.predict(iris.data)"
   ]
  },
  {
   "cell_type": "code",
   "execution_count": 45,
   "metadata": {
    "collapsed": false,
    "run_control": {
     "frozen": false,
     "read_only": false
    }
   },
   "outputs": [
    {
     "data": {
      "text/plain": [
       "array([ 1.        ,  0.74157303,  0.79279279])"
      ]
     },
     "execution_count": 45,
     "metadata": {},
     "output_type": "execute_result"
    }
   ],
   "source": [
    "metrics.f1_score(iris.target, predictions, average=None)"
   ]
  },
  {
   "cell_type": "markdown",
   "metadata": {},
   "source": [
    "With this `alpha` parameter we are probably not overfitting the model, as we are not correctly predicting even the training data!"
   ]
  },
  {
   "cell_type": "code",
   "execution_count": 46,
   "metadata": {
    "collapsed": false,
    "run_control": {
     "frozen": false,
     "read_only": false
    }
   },
   "outputs": [
    {
     "data": {
      "image/png": "[encoded data removed]",
      "text/plain": [
       "<matplotlib.figure.Figure at 0x7f0ecb948e10>"
      ]
     },
     "metadata": {},
     "output_type": "display_data"
    }
   ],
   "source": [
    "plt.figure(figsize=(15, 7))\n",
    "\n",
    "plt.subplot(121)\n",
    "plt.plot(iris.data[iris.target == predictions][:, 0],\n",
    "         iris.data[iris.target == predictions][:, 1],\n",
    "         'k.',\n",
    "         label='correct predictions')\n",
    "plt.plot(iris.data[iris.target != predictions][:, 0],\n",
    "         iris.data[iris.target != predictions][:, 1],\n",
    "         'ro',\n",
    "         label='incorrect predictions')\n",
    "plt.xlabel('feature 0')\n",
    "plt.ylabel('feature 1')\n",
    "\n",
    "plt.subplot(122)\n",
    "plt.plot(iris.data[iris.target == predictions][:, 2],\n",
    "         iris.data[iris.target == predictions][:, 3],\n",
    "         'k.',\n",
    "         label='correct predictions')\n",
    "plt.plot(iris.data[iris.target != predictions][:, 2],\n",
    "         iris.data[iris.target != predictions][:, 3],\n",
    "         'ro',\n",
    "         label='incorrect predictions')\n",
    "plt.xlabel('feature 2')\n",
    "plt.ylabel('feature 3')\n",
    "plt.legend(loc=(1, 0));"
   ]
  },
  {
   "cell_type": "markdown",
   "metadata": {},
   "source": [
    "Other useful libraries\n",
    "--------\n",
    "\n",
    "- GOAtools: GO terms enrichment analysis in python\n",
    "- statmodels: advanced statistics\n",
    "- rpy2: useful interface to R, when your favorite library doesn\\'t have a python alternative\n",
    "- pysam: read and manipulate sam files\n",
    "- pyvcf: read and manipulate VCF files\n",
    "\n",
    "...and many more"
   ]
  }
 ],
 "metadata": {
  "kernelspec": {
   "display_name": "Python 2",
   "language": "python",
   "name": "python2"
  },
  "language_info": {
   "codemirror_mode": {
    "name": "ipython",
    "version": 2
   },
   "file_extension": ".py",
   "mimetype": "text/x-python",
   "name": "python",
   "nbconvert_exporter": "python",
   "pygments_lexer": "ipython2",
   "version": "2.7.12"
  }
 },
 "nbformat": 4,
 "nbformat_minor": 0
}
