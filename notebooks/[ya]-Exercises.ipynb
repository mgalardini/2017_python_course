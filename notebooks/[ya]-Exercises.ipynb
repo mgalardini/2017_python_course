{
 "cells": [
  {
   "cell_type": "markdown",
   "metadata": {},
   "source": [
    "Scripting: exercises\n",
    "============="
   ]
  },
  {
   "cell_type": "markdown",
   "metadata": {},
   "source": [
    "Can you write a series of scripts that feed into each other's output? Ideally you want to write a series of scripts that accept a stream of text as input, and output another stream of text. If you don't know ho wto read a stream of text as input in python, consider how we used the `sys` module to write to `stderr`.\n",
    "\n",
    "**Hint:** you should write the scripts as text files and then run them in a notebook cell using either the `!` or `%%bash` notation.\n",
    "\n",
    "**Hint:** you coulkd reuse the classes from the OOP exercizes."
   ]
  },
  {
   "cell_type": "markdown",
   "metadata": {},
   "source": [
    "**Exercise 1: biological sequences manipulation**\n",
    "\n",
    "Can you write (and chain) the following scripts:\n",
    "\n",
    "* read a nucleotide fasta file and output a restricted region of the sequence based on a criteria of your choice\n",
    "    * For instance you could restrict by position\n",
    "    * You could add options to only output one strand, or both\n",
    "* read a series of nucleotide sequences and output the all possible frame translations, in Fasta format\n",
    "* read a series of translated nucleotide sequences and filter those with a stop codon in the middle of the sequence \n",
    "\n",
    "You can use the `../data/proteome.faa` and `../data/genome.fasta` as input files."
   ]
  },
  {
   "cell_type": "code",
   "execution_count": null,
   "metadata": {
    "collapsed": true
   },
   "outputs": [],
   "source": []
  },
  {
   "cell_type": "markdown",
   "metadata": {},
   "source": [
    "**Exercise 2: graph theory, manipulation and analysis**\n",
    "\n",
    "Can you write (and chain) the following scripts:\n",
    "\n",
    "* read a stream of text from the string website (e.g. using `curl`) and filter the interactions by their string score\n",
    "    * you can also filter by specific sub-scores, bonus points if you can make the option generic enough\n",
    "* read the filtered string interactions and build a graph, outputting the degree of each node\n",
    "\n",
    "You can use the *E. coli* string network as an example; [you can download it here](https://string-db.org/download/protein.links.detailed.v10.5/511145.protein.links.detailed.v10.5.txt.gz). You can decide to parse the whole network, or to filter for high scoring interactions (i.e. > 800)."
   ]
  },
  {
   "cell_type": "code",
   "execution_count": null,
   "metadata": {
    "collapsed": true
   },
   "outputs": [],
   "source": []
  }
 ],
 "metadata": {
  "kernelspec": {
   "display_name": "Python 3",
   "language": "python",
   "name": "python3"
  },
  "language_info": {
   "codemirror_mode": {
    "name": "ipython",
    "version": 3
   },
   "file_extension": ".py",
   "mimetype": "text/x-python",
   "name": "python",
   "nbconvert_exporter": "python",
   "pygments_lexer": "ipython3",
   "version": "3.5.3"
  }
 },
 "nbformat": 4,
 "nbformat_minor": 0
}
