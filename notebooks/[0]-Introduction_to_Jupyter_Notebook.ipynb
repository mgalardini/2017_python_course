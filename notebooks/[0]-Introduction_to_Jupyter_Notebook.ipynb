{
 "cells": [
  {
   "cell_type": "markdown",
   "metadata": {
    "slideshow": {
     "slide_type": "skip"
    }
   },
   "source": [
    "# Introduction to Jupyter Notebook\n",
    "\n",
    "**Copyright** : [GNU General Public License v2](http://www.gnu.org/licenses/gpl-2.0.html)\n",
    "\n",
    "**Author** : Adrien Leger / <aleg@ebi.ac.uk> / [Github](https://github.com/a-slide)\n",
    "\n",
    "**Date** : 17/11/2016\n",
    "\n",
    "**Source** : https://jupyter.org/"
   ]
  },
  {
   "cell_type": "markdown",
   "metadata": {
    "slideshow": {
     "slide_type": "skip"
    }
   },
   "source": [
    "### Generic imports and notebook configuration "
   ]
  },
  {
   "cell_type": "code",
   "execution_count": 1,
   "metadata": {
    "ExecuteTime": {
     "end_time": "2016-11-17T13:05:29.608868",
     "start_time": "2016-11-17T13:05:28.956522"
    },
    "collapsed": false,
    "hide_input": false,
    "run_control": {
     "frozen": false,
     "read_only": false
    },
    "slideshow": {
     "slide_type": "skip"
    }
   },
   "outputs": [
    {
     "data": {
      "text/html": [
       "<style>.container { width:80% !important; }</style>"
      ],
      "text/plain": [
       "<IPython.core.display.HTML object>"
      ]
     },
     "metadata": {},
     "output_type": "display_data"
    }
   ],
   "source": [
    "from IPython.core.display import display, HTML, Image\n",
    "\n",
    "display(HTML(\"<style>.container { width:80% !important; }</style>\"))\n",
    "%load_ext rpy2.ipython"
   ]
  },
  {
   "cell_type": "markdown",
   "metadata": {
    "slideshow": {
     "slide_type": "skip"
    }
   },
   "source": [
    "### RISE configuration for the presentation"
   ]
  },
  {
   "cell_type": "code",
   "execution_count": 2,
   "metadata": {
    "ExecuteTime": {
     "end_time": "2016-11-17T13:05:31.772289",
     "start_time": "2016-11-17T13:05:31.754105"
    },
    "collapsed": false,
    "run_control": {
     "frozen": false,
     "read_only": false
    },
    "slideshow": {
     "slide_type": "skip"
    }
   },
   "outputs": [
    {
     "data": {
      "text/plain": [
       "{'scroll': True,\n",
       " 'start_slideshow_at': 'selected',\n",
       " 'theme': 'simple',\n",
       " 'transition': 'zoom',\n",
       " 'transition-speed': 'fast'}"
      ]
     },
     "execution_count": 2,
     "metadata": {},
     "output_type": "execute_result"
    }
   ],
   "source": [
    "from traitlets.config.manager import BaseJSONConfigManager\n",
    "path = \"/home/damian/miniconda3/envs/rise_latest/etc/jupyter/nbconfig\"\n",
    "cm = BaseJSONConfigManager(config_dir=\"/home/aleg/.jupyter/nbconfig/\")\n",
    "cm.update(\n",
    "    'livereveal', {\n",
    "        'theme': 'simple',\n",
    "        'transition': 'zoom',\n",
    "        'transition-speed' :'fast',\n",
    "        'start_slideshow_at': 'selected',\n",
    "        'scroll': True,})"
   ]
  },
  {
   "cell_type": "markdown",
   "metadata": {
    "ExecuteTime": {
     "end_time": "2016-11-17T12:47:08.043195",
     "start_time": "2016-11-17T12:47:08.031138"
    },
    "slideshow": {
     "slide_type": "skip"
    }
   },
   "source": [
    "---"
   ]
  },
  {
   "cell_type": "markdown",
   "metadata": {
    "ExecuteTime": {
     "end_time": "2016-11-16T19:26:18.666529",
     "start_time": "2016-11-16T19:26:18.551721"
    },
    "collapsed": false,
    "run_control": {
     "frozen": false,
     "read_only": false
    },
    "slideshow": {
     "slide_type": "slide"
    }
   },
   "source": [
    "![jupyter](../pictures/jupyter_main-logo.png)"
   ]
  },
  {
   "cell_type": "markdown",
   "metadata": {
    "slideshow": {
     "slide_type": "subslide"
    }
   },
   "source": [
    "## Jupyter notebook, spiritual son of Galileo \n",
    "\n",
    ">I therefore concluded and decided unhesitatingly, that there are three stars in the heavens moving about Jupiter, as Venus and Mercury round the Sun; which at length was established as clear as daylight by numerous subsequent observations. These observations also established that there are not only three, but four, erratic sidereal bodies performing their revolutions round Jupiter...the revolutions are so swift that an observer may generally get differences of position every hour.\n",
    "\n",
    "Galileo trans Carlos, Sidereus Nuncius (1610), 1880, p47.\n",
    "\n",
    "![](../pictures/Sidereus_Nuncius_Medicean_Stars.jpg)"
   ]
  },
  {
   "cell_type": "markdown",
   "metadata": {
    "hide_input": false,
    "slideshow": {
     "slide_type": "subslide"
    }
   },
   "source": [
    "<p style=\"background-color:black;color:white;font-family:courier;font-size:150%\">>>>jupyter notebook</p>\n",
    "\n",
    "* Open source, data science and scientific computing\n",
    "* A web application that run in your favorite browser\n",
    "* Create and share documents that contain live code, equations, visualizations and explanatory text\n",
    "* Example of application :\n",
    "    * Data cleaning and transformation\n",
    "    * Numerical simulation\n",
    "    * Statistical modeling\n",
    "    * Machine learning\n",
    "    * ..."
   ]
  },
  {
   "cell_type": "markdown",
   "metadata": {
    "slideshow": {
     "slide_type": "subslide"
    }
   },
   "source": [
    "## Preview of the Jupyter command panel\n",
    "\n",
    "![jupyter](../pictures/tryjupyter_file.png)"
   ]
  },
  {
   "cell_type": "markdown",
   "metadata": {
    "slideshow": {
     "slide_type": "subslide"
    }
   },
   "source": [
    "## Preview of a jupyter notebook\n",
    "\n",
    "![jupyter](../pictures/trynb.png)"
   ]
  },
  {
   "cell_type": "markdown",
   "metadata": {
    "ExecuteTime": {
     "end_time": "2016-11-16T20:35:22.506261",
     "start_time": "2016-11-16T20:35:22.490475"
    },
    "slideshow": {
     "slide_type": "slide"
    }
   },
   "source": [
    "## Why using Jupyter ?\n",
    "\n"
   ]
  },
  {
   "cell_type": "markdown",
   "metadata": {
    "slideshow": {
     "slide_type": "subslide"
    }
   },
   "source": [
    "![jupyter](../pictures/language.svg)\n",
    "**Choice of language**\n",
    "* Support for over 40 programming languages such as Python, Bash, R, Julia ... (**Jupyter** = **Ju**lia + **Pyt**hon + **R**)\n",
    "* Different optional Kernel can run interactive code in a particular programming language and return output to the user."
   ]
  },
  {
   "cell_type": "markdown",
   "metadata": {
    "slideshow": {
     "slide_type": "subslide"
    }
   },
   "source": [
    "![jupyter](../pictures/share.svg)\n",
    "**Readable code and easy to share with others**\n",
    "* .ipyn = Open document format based on JSON\n",
    "* Can be export in many formats (html, latex, pdf...)\n",
    "* Contain a complete record of the user's sessions (embed code, narrative text, equations and rich output)\n",
    "* Can be put under version control\n",
    "* Easy online sharing with [Jupyter Notebook Viewer](https://nbviewer.jupyter.org/)"
   ]
  },
  {
   "cell_type": "markdown",
   "metadata": {
    "slideshow": {
     "slide_type": "subslide"
    }
   },
   "source": [
    "![jupyter](../pictures/widget.svg)\n",
    "**Rich inline output and interactive widgets**\n",
    "* Code can produce HTML, images, videos, LaTeX, and JavaScript\n",
    "* Interactive widgets to manipulate and visualize data in real time"
   ]
  },
  {
   "cell_type": "markdown",
   "metadata": {
    "ExecuteTime": {
     "end_time": "2016-11-16T19:38:06.548474",
     "start_time": "2016-11-16T19:38:06.530337"
    },
    "slideshow": {
     "slide_type": "subslide"
    }
   },
   "source": [
    "![jupyter](../pictures/spark.svg)\n",
    "**Big data integration**\n",
    "* Leverage big data tools, such as Apache Spark, from Python and R\n",
    "* Integration of data analysis and data visualization packages (pandas, scikit-learn, matplotlib, ggplot2, dplyr...)\n",
    "* Can be ran from a computational node and forwarded in your local browser"
   ]
  },
  {
   "cell_type": "markdown",
   "metadata": {
    "ExecuteTime": {
     "end_time": "2016-11-16T14:24:28.443295",
     "start_time": "2016-11-16T14:24:28.408629"
    },
    "collapsed": true,
    "run_control": {
     "frozen": false,
     "read_only": false
    },
    "slideshow": {
     "slide_type": "slide"
    }
   },
   "source": [
    "##  The notebook is divided in “cells”\n",
    "\n",
    "* Markdown (for descriptions)\n",
    "\n",
    "* Code\n",
    "\n",
    "* Output (text, graphics, ...)"
   ]
  },
  {
   "cell_type": "markdown",
   "metadata": {
    "slideshow": {
     "slide_type": "subslide"
    }
   },
   "source": [
    "## Markdown cells\n",
    "![](../pictures/Markdown-mark.svg)"
   ]
  },
  {
   "cell_type": "markdown",
   "metadata": {
    "slideshow": {
     "slide_type": "subslide"
    }
   },
   "source": [
    "### Using directly Markdown synthax\n",
    "[See synthax at daringfireball](https://daringfireball.net/projects/markdown/)"
   ]
  },
  {
   "cell_type": "markdown",
   "metadata": {
    "ExecuteTime": {
     "end_time": "2016-11-16T18:39:38.243353",
     "start_time": "2016-11-16T18:39:38.234863"
    },
    "slideshow": {
     "slide_type": "-"
    }
   },
   "source": [
    "*italic* / **bold** / ***italic and bold*** \n",
    "\n",
    "> Blockquote.\n",
    ">> Second paragraph in the blockquote\n",
    "\n",
    "* Unordered list item\n",
    "    1. ordered sub-item\n",
    "    2. second sub-item\n",
    "---\n",
    "# Title1\n",
    "## Title2\n",
    "### Title 3"
   ]
  },
  {
   "cell_type": "markdown",
   "metadata": {
    "slideshow": {
     "slide_type": "subslide"
    }
   },
   "source": [
    "![jupiter](../pictures/jupiterplanet.gif)"
   ]
  },
  {
   "cell_type": "markdown",
   "metadata": {
    "slideshow": {
     "slide_type": "subslide"
    }
   },
   "source": [
    "### Using HMTL formatted text"
   ]
  },
  {
   "cell_type": "markdown",
   "metadata": {
    "ExecuteTime": {
     "end_time": "2016-11-16T21:03:18.100958",
     "start_time": "2016-11-16T21:03:18.088610"
    },
    "slideshow": {
     "slide_type": "-"
    }
   },
   "source": [
    "<p style=\"color:red;font-family:sans_serif\">Sans serif red</p>\n",
    "\n",
    "<p><b> Bold </b><i> Italic </i> <ins> Underligned </ins></p>\n",
    "\n",
    "<h1> title 1 </h1>\n",
    "\n",
    "<p style=\"background-color:black;color:white;font-family:courier;font-size:150%\">Terminal like</p>"
   ]
  },
  {
   "cell_type": "markdown",
   "metadata": {
    "slideshow": {
     "slide_type": "subslide"
    }
   },
   "source": [
    "### Display mathematics with MathJax"
   ]
  },
  {
   "cell_type": "markdown",
   "metadata": {
    "slideshow": {
     "slide_type": "-"
    }
   },
   "source": [
    "When $a \\ne 0$ there are two solutions to $ax^2 + bx + c = 0$\n",
    "\n",
    "$$x = {-b \\pm \\sqrt{b^2-4ac} \\over 2a}$$"
   ]
  },
  {
   "cell_type": "markdown",
   "metadata": {
    "slideshow": {
     "slide_type": "subslide"
    }
   },
   "source": [
    "### Or mix everything together"
   ]
  },
  {
   "cell_type": "markdown",
   "metadata": {
    "slideshow": {
     "slide_type": "-"
    }
   },
   "source": [
    "This line mixes **markdown formatting** with *<ins>HTML formatting</ins>* and even MathJax mathematics \n",
    "* $a \\sqrt 2$\n",
    "* $b^2-4ac$"
   ]
  },
  {
   "cell_type": "markdown",
   "metadata": {
    "hide_input": true,
    "slideshow": {
     "slide_type": "slide"
    }
   },
   "source": [
    "## Code cells"
   ]
  },
  {
   "cell_type": "markdown",
   "metadata": {
    "collapsed": true,
    "run_control": {
     "frozen": false,
     "read_only": false
    },
    "slideshow": {
     "slide_type": "-"
    }
   },
   "source": [
    "### The default language in a cell depends on the active kernel\n",
    "\n",
    "---\n",
    "\n",
    "* Python3 kernel\n",
    "![](../pictures/python_kernel.png)\n",
    "\n",
    "---\n",
    "\n",
    "* Julia kernel\n",
    "![](../pictures/julia_kernel.png)\n",
    "\n",
    "---\n",
    "\n",
    "* R kernel\n",
    "![](../pictures/R_kernel.png)"
   ]
  },
  {
   "cell_type": "markdown",
   "metadata": {
    "slideshow": {
     "slide_type": "subslide"
    }
   },
   "source": [
    "### Run a cell\n",
    "\n",
    "Select a cell and press **CTRL** + **ENTER**"
   ]
  },
  {
   "cell_type": "code",
   "execution_count": null,
   "metadata": {
    "ExecuteTime": {
     "end_time": "2016-11-17T01:04:30.757815",
     "start_time": "2016-11-17T01:04:30.755406"
    },
    "collapsed": false,
    "run_control": {
     "frozen": false,
     "read_only": false
    },
    "slideshow": {
     "slide_type": "-"
    }
   },
   "outputs": [],
   "source": [
    "for i in range (5):\n",
    "    print (i)"
   ]
  },
  {
   "cell_type": "code",
   "execution_count": null,
   "metadata": {
    "collapsed": false,
    "run_control": {
     "frozen": false,
     "read_only": false
    },
    "slideshow": {
     "slide_type": "-"
    }
   },
   "outputs": [],
   "source": [
    "from random import choice\n",
    "\"\".join(choice([\"A\",\"T\",\"C\",\"G\"]) for i in range(100))"
   ]
  },
  {
   "cell_type": "markdown",
   "metadata": {
    "slideshow": {
     "slide_type": "subslide"
    }
   },
   "source": [
    "### Easy Shell invocation\n",
    "\n",
    "**Independent of the kernel selected some common shell commands can be invoked directly **\n",
    "\n",
    "* alias\n",
    "* cat\n",
    "* cd\n",
    "* clear\n",
    "* cp\n",
    "* less\n",
    "* ls\n",
    "* man\n",
    "* mkdir\n",
    "* more\n",
    "* mv\n",
    "* pushd\n",
    "* pwd\n",
    "* rm\n",
    "* rmdir\n"
   ]
  },
  {
   "cell_type": "markdown",
   "metadata": {
    "slideshow": {
     "slide_type": "subslide"
    }
   },
   "source": [
    "**Examples of direct shell commands**"
   ]
  },
  {
   "cell_type": "code",
   "execution_count": null,
   "metadata": {
    "collapsed": false,
    "run_control": {
     "frozen": false,
     "read_only": false
    },
    "slideshow": {
     "slide_type": "-"
    }
   },
   "outputs": [],
   "source": [
    "ls ../"
   ]
  },
  {
   "cell_type": "code",
   "execution_count": null,
   "metadata": {
    "collapsed": false,
    "run_control": {
     "frozen": false,
     "read_only": false
    },
    "slideshow": {
     "slide_type": "-"
    }
   },
   "outputs": [],
   "source": [
    "pwd"
   ]
  },
  {
   "cell_type": "code",
   "execution_count": null,
   "metadata": {
    "collapsed": true,
    "run_control": {
     "frozen": false,
     "read_only": false
    },
    "slideshow": {
     "slide_type": "-"
    }
   },
   "outputs": [],
   "source": [
    "man ls"
   ]
  },
  {
   "cell_type": "markdown",
   "metadata": {
    "slideshow": {
     "slide_type": "subslide"
    }
   },
   "source": [
    "**By adding the magic \"!\" any bash command can be run in Jupyter**"
   ]
  },
  {
   "cell_type": "code",
   "execution_count": null,
   "metadata": {
    "collapsed": false,
    "run_control": {
     "frozen": false,
     "read_only": false
    },
    "slideshow": {
     "slide_type": "-"
    }
   },
   "outputs": [],
   "source": [
    "!for l in *.ipynb; do echo $l; done"
   ]
  },
  {
   "cell_type": "code",
   "execution_count": null,
   "metadata": {
    "collapsed": false,
    "run_control": {
     "frozen": false,
     "read_only": false
    },
    "slideshow": {
     "slide_type": "-"
    }
   },
   "outputs": [],
   "source": [
    "!cat \"./[0]-Introduction_to_Jupyter_Notebook.ipynb\" | grep \"cell_type\" | head"
   ]
  },
  {
   "cell_type": "markdown",
   "metadata": {
    "slideshow": {
     "slide_type": "subslide"
    }
   },
   "source": [
    "**You can even mix bash and python in the same cell**"
   ]
  },
  {
   "cell_type": "code",
   "execution_count": null,
   "metadata": {
    "collapsed": false,
    "run_control": {
     "frozen": false,
     "read_only": false
    },
    "slideshow": {
     "slide_type": "-"
    }
   },
   "outputs": [],
   "source": [
    "# Attribute a bash output to a python variable\n",
    "a = !ls\n",
    "\n",
    "# Loop with python over the lines returned previously\n",
    "for file in a:\n",
    "    # print with bash\n",
    "    !echo {file}"
   ]
  },
  {
   "cell_type": "markdown",
   "metadata": {
    "ExecuteTime": {
     "end_time": "2016-11-17T00:09:19.636702",
     "start_time": "2016-11-17T00:09:19.017807"
    },
    "slideshow": {
     "slide_type": "subslide"
    }
   },
   "source": [
    "### More languages\n",
    "**You can also use special python *Magics* to run whole cells under other language interpreters**"
   ]
  },
  {
   "cell_type": "code",
   "execution_count": null,
   "metadata": {
    "ExecuteTime": {
     "end_time": "2016-11-16T23:47:27.109088",
     "start_time": "2016-11-16T23:47:27.091708"
    },
    "collapsed": false,
    "run_control": {
     "frozen": false,
     "read_only": false
    },
    "slideshow": {
     "slide_type": "-"
    }
   },
   "outputs": [],
   "source": [
    "%%bash\n",
    "echo -e \"Bash kernel!\\n\""
   ]
  },
  {
   "cell_type": "code",
   "execution_count": null,
   "metadata": {
    "ExecuteTime": {
     "end_time": "2016-11-16T23:47:28.334511",
     "start_time": "2016-11-16T23:47:28.325587"
    },
    "collapsed": false,
    "run_control": {
     "frozen": false,
     "read_only": false
    },
    "slideshow": {
     "slide_type": "-"
    }
   },
   "outputs": [],
   "source": [
    "%%perl\n",
    "print \"PERL Kernel\\n\";"
   ]
  },
  {
   "cell_type": "code",
   "execution_count": null,
   "metadata": {
    "ExecuteTime": {
     "end_time": "2016-11-16T23:47:29.045948",
     "start_time": "2016-11-16T23:47:29.004755"
    },
    "collapsed": false,
    "run_control": {
     "frozen": false,
     "read_only": false
    },
    "scrolled": false,
    "slideshow": {
     "slide_type": "-"
    }
   },
   "outputs": [],
   "source": [
    "%%python3\n",
    "print (\"Python3 kernel\")"
   ]
  },
  {
   "cell_type": "code",
   "execution_count": null,
   "metadata": {
    "ExecuteTime": {
     "end_time": "2016-11-17T00:10:05.018019",
     "start_time": "2016-11-17T00:10:05.010531"
    },
    "collapsed": false,
    "run_control": {
     "frozen": false,
     "read_only": false
    }
   },
   "outputs": [],
   "source": [
    "%%R\n",
    "cat (\"R kernel\")"
   ]
  },
  {
   "cell_type": "code",
   "execution_count": null,
   "metadata": {
    "ExecuteTime": {
     "end_time": "2016-11-16T23:47:30.284404",
     "start_time": "2016-11-16T23:47:30.271849"
    },
    "collapsed": false,
    "run_control": {
     "frozen": false,
     "read_only": false
    },
    "slideshow": {
     "slide_type": "-"
    }
   },
   "outputs": [],
   "source": [
    "%%javascript\n",
    "alert(\"Javascript kernel\");"
   ]
  },
  {
   "cell_type": "markdown",
   "metadata": {
    "slideshow": {
     "slide_type": "slide"
    }
   },
   "source": [
    "## Now it is you turn to get your hands dirty"
   ]
  },
  {
   "cell_type": "markdown",
   "metadata": {
    "slideshow": {
     "slide_type": "-"
    }
   },
   "source": [
    "* First open a terminal\n",
    "\n",
    "* Go to a working directory (with cd and mkdir) \n",
    "\n",
    "* Launch the notebook server with:\n",
    "\n",
    "<p style=\"background-color:black;color:white;font-family:courier;font-size:100%\">jupyter notebook</p>\n",
    "\n",
    "* A tab will be open in you default web browser\n",
    "\n",
    "* If not, or if you want to use a different browser, open the browser and type the following URL :\n",
    "\n",
    "<p style=\"background-color:azure;font-family:sans;font-size:100%\"><b>http://localhost:8888/</b></p>\n",
    "\n",
    "* Explore the tabs of the control panel \n",
    "\n",
    "* Navigate in the files/folders in the *files* tab\n",
    "\n",
    "* You can create new, files, folder or run a terminal"
   ]
  },
  {
   "cell_type": "markdown",
   "metadata": {
    "slideshow": {
     "slide_type": "subslide"
    }
   },
   "source": [
    "* Create a new python3 notebook\n",
    "    \n",
    "    > **Handy shortcuts**\n",
    "\n",
    "    > **A** : insert cell above\n",
    "    \n",
    "    > **B** : insert cell below\n",
    "    \n",
    "    > **X** : cut selected cells\n",
    "    \n",
    "    > **C** : copy selected cells\n",
    "    \n",
    "    > **Y** : convert cell type to code\n",
    "    \n",
    "    > **M** : convert cell type to markdown\n",
    "    \n",
    "    > **R** : convert cell type to raw\n",
    "\n",
    "* Now you can play with markdown and code cells..."
   ]
  },
  {
   "cell_type": "markdown",
   "metadata": {
    "slideshow": {
     "slide_type": "slide"
    }
   },
   "source": [
    "---\n",
    "Presentation powered by [**Jupyter Notebook**](https://jupyter.org/) with [**RISE**](https://github.com/damianavila/RISE) (\"Live\" Reveal.js Jupyter/IPython Slideshow Extension)"
   ]
  }
 ],
 "metadata": {
  "celltoolbar": "Slideshow",
  "kernelspec": {
   "display_name": "Python 2",
   "language": "python",
   "name": "python2"
  },
  "language_info": {
   "codemirror_mode": {
    "name": "ipython",
    "version": 3
   },
   "file_extension": ".py",
   "mimetype": "text/x-python",
   "name": "python",
   "nbconvert_exporter": "python",
   "pygments_lexer": "ipython3",
   "version": "3.5.2"
  }
 },
 "nbformat": 4,
 "nbformat_minor": 0
}
