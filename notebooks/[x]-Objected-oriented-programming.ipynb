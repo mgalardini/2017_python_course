{
 "cells": [
  {
   "cell_type": "markdown",
   "metadata": {},
   "source": [
    "Object oriented programming (OOP)\n",
    "==========\n",
    "\n",
    "Python is not ony a powerful scripting language, but it also supports object-oriented programming. In fact, everything in Python is an object. Working with functions is instead called *procedure-oriented programming*. Both styles (or philosophies) are acceptable and appropriate.\n",
    "\n",
    "Objected-oriented programming is well suited for creating [modules](https://docs.python.org/3/tutorial/modules.html) and [APIs](https://en.wikipedia.org/wiki/Application_programming_interface).\n",
    "\n",
    "Objects are defined and handled trhough the `Class` type\n",
    "\n",
    "More reading on objected-oriented programming:\n",
    "\n",
    "* From [Wikipedia](https://en.wikipedia.org/wiki/Object-oriented_programming)\n",
    "* [OOP in python](https://www.python-course.eu/object_oriented_programming.php)\n",
    "* Classes in [python's documentation](https://docs.python.org/3/tutorial/classes.html)"
   ]
  },
  {
   "cell_type": "markdown",
   "metadata": {},
   "source": [
    "A note about objects (reprise)\n",
    "-------\n",
    "\n",
    "- Everything in Python is an object, which can be seen as an advanced version of a variable\n",
    "- objects have methods\n",
    "- the **dir** keyword allows the user to discover them\n",
    "\n",
    "This is different from other languages like `c` or `C++`, where `int` and `bool` are primitive types "
   ]
  },
  {
   "cell_type": "code",
   "execution_count": null,
   "metadata": {
    "collapsed": false,
    "run_control": {
     "frozen": false,
     "read_only": false
    }
   },
   "outputs": [],
   "source": [
    "print(dir(bool))"
   ]
  },
  {
   "cell_type": "markdown",
   "metadata": {},
   "source": [
    "A note about scopes and namespaces\n",
    "--------\n",
    "\n",
    "Like in other programming languages, variables are only visible in certain parts of the code, formally termed [\"scopes\"](https://en.wikipedia.org/wiki/Scope_(computer_science)). In practical terms this means that certain variables will only be visible inside a limited part of the code, and that variables in different scopes can have the same name, without generating any conflict.\n",
    "\n",
    "Consider the following example:"
   ]
  },
  {
   "cell_type": "code",
   "execution_count": null,
   "metadata": {
    "collapsed": false
   },
   "outputs": [],
   "source": [
    "def f():\n",
    "    x = 1\n",
    "    print(x)\n",
    "\n",
    "x = 2\n",
    "f()\n",
    "print(x)"
   ]
  },
  {
   "cell_type": "markdown",
   "metadata": {},
   "source": [
    "List-comprehensions (and all other comprehensions) have their own scope"
   ]
  },
  {
   "cell_type": "code",
   "execution_count": null,
   "metadata": {
    "collapsed": false
   },
   "outputs": [],
   "source": [
    "x = 2\n",
    "a = [x**2 for x in range(10)]\n",
    "print(a)\n",
    "print(x)"
   ]
  },
  {
   "cell_type": "markdown",
   "metadata": {},
   "source": [
    "**Note:** despite these notes about scopes, it is still a good idea to use descriptive variable names, and to avoid name conflicts as much as possible."
   ]
  },
  {
   "cell_type": "markdown",
   "metadata": {},
   "source": [
    "**Note:** despite scopes, it is still a good idea to avoid globally-defined varaibles as much as possible."
   ]
  },
  {
   "cell_type": "markdown",
   "metadata": {},
   "source": [
    "[**Namespaces**](https://www.python-course.eu/namespaces.php) define the \"areas\" of the code between which the same variable names can appear. Modules are a great example of a namespace:"
   ]
  },
  {
   "cell_type": "code",
   "execution_count": null,
   "metadata": {
    "collapsed": false
   },
   "outputs": [],
   "source": [
    "import math\n",
    "import numpy\n",
    "print(math.pi, numpy.pi)\n",
    "\n",
    "# don't do this at home\n",
    "math.pi = 2\n",
    "\n",
    "print(math.pi, numpy.pi)"
   ]
  },
  {
   "cell_type": "markdown",
   "metadata": {},
   "source": [
    "The `attribute` `pi` is present in both namespaces, so that there are no conflicts between variables or functions with the same name.\n",
    "\n",
    "**Classes** are also examples of namespaces."
   ]
  },
  {
   "cell_type": "markdown",
   "metadata": {},
   "source": [
    "Classes\n",
    "-------\n",
    "\n",
    "Think of a class as a container of data and functionality at the same time. A class is essentially a new object `type`, which can create new `instances`, much like the `int` type is used to create different numbers (the `instances`).\n",
    "\n",
    "Each class instance can have `attributes` of any type attached to it and `methods` that can act on those `attributes` or other variables.\n",
    "\n",
    "**Example:** a cake recipe (`class` or `type`) and a baked cake (`instance`)\n",
    "\n",
    "The syntax to creat a class is as follows; notice how class names are by convention written with the first letter uppercase."
   ]
  },
  {
   "cell_type": "markdown",
   "metadata": {},
   "source": [
    "```class ClassName:\n",
    "    statement-1\n",
    "    .\n",
    "    .\n",
    "    .\n",
    "    statement-N```"
   ]
  },
  {
   "cell_type": "markdown",
   "metadata": {},
   "source": [
    "When a class definition is entered, a new **namespace** is created, and used as the local scope."
   ]
  },
  {
   "cell_type": "code",
   "execution_count": null,
   "metadata": {
    "collapsed": true
   },
   "outputs": [],
   "source": [
    "class MyClass:\n",
    "    \"\"\"A simple example class\"\"\"\n",
    "    i = 12345\n",
    "\n",
    "    def __init__(self):\n",
    "        self.data = []\n",
    "    \n",
    "    def f(self):\n",
    "        return 'hello world'"
   ]
  },
  {
   "cell_type": "markdown",
   "metadata": {},
   "source": [
    "`MyClass.i` and `MyClass.f` are valid attribute references, returning an integer and a function object. Class attributes can also be assigned to, so you can change the value of `MyClass.i` by assignment. `__doc__` is also a valid attribute, returning the docstring belonging to the class.\n",
    "\n",
    "Class *instantiation* is the creation of a new `instance` of type `MyClass`, and uses the function notation."
   ]
  },
  {
   "cell_type": "code",
   "execution_count": null,
   "metadata": {
    "collapsed": false
   },
   "outputs": [],
   "source": [
    "x = MyClass()\n",
    "print(x.i)\n",
    "print(x.f())\n",
    "print(x.__doc__)"
   ]
  },
  {
   "cell_type": "code",
   "execution_count": null,
   "metadata": {
    "collapsed": false
   },
   "outputs": [],
   "source": [
    "print(x.i)\n",
    "x.i = 2\n",
    "print(x.i)"
   ]
  },
  {
   "cell_type": "markdown",
   "metadata": {},
   "source": [
    "New class instances can be created with specific initial variables, either with default values or user-defined ones. The `__init__` method is used for this task, usually as the first method in the class definition. If `__init__` has any positional arguments, an `instance` cannot be created without providing them."
   ]
  },
  {
   "cell_type": "code",
   "execution_count": null,
   "metadata": {
    "collapsed": true
   },
   "outputs": [],
   "source": [
    "class Complex:\n",
    "    def __init__(self, realpart, imagpart):\n",
    "        self.r = realpart\n",
    "        self.i = imagpart\n",
    "    \n",
    "    def generic_method(self, value):\n",
    "        print(value)"
   ]
  },
  {
   "cell_type": "code",
   "execution_count": null,
   "metadata": {
    "collapsed": false
   },
   "outputs": [],
   "source": [
    "x = Complex()"
   ]
  },
  {
   "cell_type": "code",
   "execution_count": null,
   "metadata": {
    "collapsed": false
   },
   "outputs": [],
   "source": [
    "x = Complex(1.1, -2.3)\n",
    "x.r, x.i"
   ]
  },
  {
   "cell_type": "markdown",
   "metadata": {},
   "source": [
    "**What about the `self` variable?**\n",
    "\n",
    "`self` refers to the specific `instance` of the `class` any method acts upon. The two following cells are perfectly equivalent, even though the second notation is very rare."
   ]
  },
  {
   "cell_type": "code",
   "execution_count": null,
   "metadata": {
    "collapsed": false
   },
   "outputs": [],
   "source": [
    "x.generic_method(100)"
   ]
  },
  {
   "cell_type": "code",
   "execution_count": null,
   "metadata": {
    "collapsed": false
   },
   "outputs": [],
   "source": [
    "Complex.generic_method(x, 100)"
   ]
  },
  {
   "cell_type": "markdown",
   "metadata": {},
   "source": [
    "On top of the `attributes` (variables) and `methods` (functions) created when a class instance is created, we can attach attributes to an already existing class instance"
   ]
  },
  {
   "cell_type": "code",
   "execution_count": null,
   "metadata": {
    "collapsed": false
   },
   "outputs": [],
   "source": [
    "x.counter = 1\n",
    "while x.counter < 10:\n",
    "    x.counter = x.counter * 2\n",
    "print(x.counter)\n",
    "del x.counter"
   ]
  },
  {
   "cell_type": "code",
   "execution_count": null,
   "metadata": {
    "collapsed": false
   },
   "outputs": [],
   "source": [
    "x.counter"
   ]
  },
  {
   "cell_type": "markdown",
   "metadata": {},
   "source": [
    "**`Class` and `instance` variables**\n",
    "\n",
    "Generally speaking, instance variables are for data unique to each instance and class variables are for attributes and methods shared by all instances of the class:"
   ]
  },
  {
   "cell_type": "code",
   "execution_count": null,
   "metadata": {
    "collapsed": true
   },
   "outputs": [],
   "source": [
    "class Dog:\n",
    "\n",
    "    # class variable shared by all instances\n",
    "    kind = 'canine'\n",
    "\n",
    "    def __init__(self, name):\n",
    "        # instance variable unique to each instance\n",
    "        self.name = name"
   ]
  },
  {
   "cell_type": "code",
   "execution_count": null,
   "metadata": {
    "collapsed": false
   },
   "outputs": [],
   "source": [
    "d = Dog('Fido')\n",
    "e = Dog('Buddy')\n",
    "\n",
    "# shared by all dogs\n",
    "print(d.kind)\n",
    "print(e.kind)\n",
    "\n",
    "# unique to each instance\n",
    "print(d.name)\n",
    "print(e.name)"
   ]
  },
  {
   "cell_type": "markdown",
   "metadata": {},
   "source": [
    "**Warning**\n",
    "\n",
    "When mutable objects (lists, and so on, see previous chapter) are used as class variables, any change to that variable will be shared by *all* of that class instances."
   ]
  },
  {
   "cell_type": "code",
   "execution_count": null,
   "metadata": {
    "collapsed": false
   },
   "outputs": [],
   "source": [
    "class Dog:\n",
    "\n",
    "    # this is ok\n",
    "    kind = 'canine'\n",
    "\n",
    "    # mutable class variable\n",
    "    tricks = []\n",
    "\n",
    "    def __init__(self, name):\n",
    "        self.name = name\n",
    "\n",
    "    def add_trick(self, trick):\n",
    "        self.tricks.append(trick)\n",
    "\n",
    "d = Dog('Fido')\n",
    "e = Dog('Buddy')\n",
    "\n",
    "# operating on the `tricks` class variable in two separate instances\n",
    "d.add_trick('roll over')\n",
    "e.add_trick('play dead')\n",
    "\n",
    "# changing the `kind` class variable\n",
    "e.kind = 'super-dog'\n",
    "\n",
    "print(d.kind)\n",
    "print(d.tricks)"
   ]
  },
  {
   "cell_type": "markdown",
   "metadata": {},
   "source": [
    "Inheritance\n",
    "-----------\n",
    "\n",
    "A powerful design principle in OOP is class `inheritance`: in a nutshell, it allows to reuse and expand code written for a class (the `parent`) and create a new one that has all the characteristics of the parent class and additional `attributes` and `methods`.\n",
    "\n",
    "From a `type` we can then create an infinite number of `subtypes`. Usually the parent class is a generic object and the subsequent subtypes are more specialized concepts."
   ]
  },
  {
   "cell_type": "code",
   "execution_count": null,
   "metadata": {
    "collapsed": true
   },
   "outputs": [],
   "source": [
    "# base class\n",
    "class Sequence:\n",
    "    def __init__(self, name, sequence):\n",
    "        self.name = name\n",
    "        self.sequence = sequence\n",
    "\n",
    "# inherits Sequence,\n",
    "# has specific attributes and methods\n",
    "class Dna(Sequence):\n",
    "    def reverse_complement(self):\n",
    "        revcomp_sequence = ''\n",
    "        for base in self.sequence[::-1]:\n",
    "            if base == 'A':\n",
    "                revcomp_sequence += 'T'\n",
    "            elif base == 'T':\n",
    "                revcomp_sequence += 'A'\n",
    "            elif base == 'G':\n",
    "                revcomp_sequence += 'C'\n",
    "            elif base == 'C':\n",
    "                revcomp_sequence += 'G'\n",
    "            else:\n",
    "                revcomp_sequence += 'N'\n",
    "        return revcomp_sequence\n",
    "\n",
    "# inherits Sequence,\n",
    "# has specific attributes and methods\n",
    "class Protein(Sequence):\n",
    "    def get_exon_length(self):\n",
    "        return len(self.sequence) * 3"
   ]
  },
  {
   "cell_type": "code",
   "execution_count": null,
   "metadata": {
    "collapsed": false
   },
   "outputs": [],
   "source": [
    "dna = Dna('gene1', 'ACTGCGACCAAGACATAG')\n",
    "dna.reverse_complement()"
   ]
  },
  {
   "cell_type": "code",
   "execution_count": null,
   "metadata": {
    "collapsed": false
   },
   "outputs": [],
   "source": [
    "prot = Protein('protein1', 'MPNFFIDRPIFAWVIAIIIMLAGGLAILKLPVAQYPTIAP')\n",
    "prot.reverse_complement()"
   ]
  },
  {
   "cell_type": "code",
   "execution_count": null,
   "metadata": {
    "collapsed": false
   },
   "outputs": [],
   "source": [
    "prot = Protein('protein1', 'MPNFFIDRPIFAWVIAIIIMLAGGLAILKLPVAQYPTIAP')\n",
    "prot.get_exon_length()"
   ]
  },
  {
   "cell_type": "markdown",
   "metadata": {},
   "source": [
    "An underappreciated advantage of inheritance is that it is allows to expand classes that belong to different namespaces. This means that even classes belonging to different modules (or even the base namespace) can be expanded."
   ]
  },
  {
   "cell_type": "code",
   "execution_count": null,
   "metadata": {
    "collapsed": true
   },
   "outputs": [],
   "source": [
    "class BetterInt(int):\n",
    "    def is_odd(self):\n",
    "        return bool(self % 2)"
   ]
  },
  {
   "cell_type": "code",
   "execution_count": null,
   "metadata": {
    "collapsed": false
   },
   "outputs": [],
   "source": [
    "x = BetterInt(2)\n",
    "x.is_odd()"
   ]
  },
  {
   "cell_type": "markdown",
   "metadata": {},
   "source": [
    "Public and private attributes/methods\n",
    "-------------------------------------\n",
    "\n",
    "Another paradigm of OOP is the distinction between public/private/protected `attributes` and `methods`.\n",
    "Specifically:\n",
    "\n",
    "* `public`: completely visible and accessible\n",
    "* `private`: only visible from *inside* the class\n",
    "* `protected`: only visible from *inside* the class they belong to, and any subclass derived from it\n",
    "\n",
    "In python, all `attributes` and `methods` are public, but there are a few conventions to have them treated as `private`. They would still be publically accessible, but the other of the class has \"warned\" the user not to tamper with them to avoid possible conflicts."
   ]
  },
  {
   "cell_type": "code",
   "execution_count": null,
   "metadata": {
    "collapsed": false
   },
   "outputs": [],
   "source": [
    "class Reverser():\n",
    "    def __init__(self, name):\n",
    "        self.public = name\n",
    "        self._private = name[::-1]\n",
    "    \n",
    "    def get_reverse(self):\n",
    "        return self._private\n",
    "        \n",
    "x = Reverser('hello world')\n",
    "print(x.public)\n",
    "print(x.get_reverse())\n",
    "x._private = 'luddism'\n",
    "print(x.get_reverse())"
   ]
  },
  {
   "cell_type": "markdown",
   "metadata": {},
   "source": [
    "In the above example, the `_private` attribute is meant to not be called by the class user, but it can still easily accessed. In languages like `C++` accessing or changing the value of a private attribute would trigger an error. In python it might interfere with the intended purpose of that `attribute`/`method`.\n",
    "\n",
    "A way to obfuscate a private `attribute`/`method` a bit more is to use *Name mangling*, that is using a double underscore before the attribute name:"
   ]
  },
  {
   "cell_type": "code",
   "execution_count": null,
   "metadata": {
    "collapsed": false
   },
   "outputs": [],
   "source": [
    "class Reverser():\n",
    "    def __init__(self, name):\n",
    "        self.public = name\n",
    "        self.__private = name[::-1]\n",
    "    \n",
    "    def get_reverse(self):\n",
    "        return self.__private\n",
    "    \n",
    "x = Reverser('hello world')\n",
    "print(x.public)\n",
    "print(x.get_reverse())\n",
    "x.__private = 'luddism'\n",
    "print(x.get_reverse())"
   ]
  },
  {
   "cell_type": "markdown",
   "metadata": {},
   "source": [
    "We have created a new attribute called `__private`, but the original class attribute has not been changed. That is because name mangling has transformed the `__private` attribute to `_Reverser__private` internally."
   ]
  },
  {
   "cell_type": "code",
   "execution_count": null,
   "metadata": {
    "collapsed": false
   },
   "outputs": [],
   "source": [
    "print(x.__private)\n",
    "print(x._Reverser__private)"
   ]
  },
  {
   "cell_type": "markdown",
   "metadata": {},
   "source": [
    "Operators: handy methods\n",
    "------------------------\n",
    "\n",
    "As stated at the beginning of this chapter, *everything* in python is an object. As we have seen with objects of `type` `int`, we can apply some operators to them:"
   ]
  },
  {
   "cell_type": "code",
   "execution_count": null,
   "metadata": {
    "collapsed": false
   },
   "outputs": [],
   "source": [
    "x = 1\n",
    "y = 2\n",
    "x + 2"
   ]
  },
  {
   "cell_type": "markdown",
   "metadata": {},
   "source": [
    "The `sum` operator is in fact a method of the `int` class. The following expression is exactly equivalent to calling `x + y`."
   ]
  },
  {
   "cell_type": "code",
   "execution_count": null,
   "metadata": {
    "collapsed": false
   },
   "outputs": [],
   "source": [
    "x = 1\n",
    "y = 2\n",
    "x.__add__(y)"
   ]
  },
  {
   "cell_type": "markdown",
   "metadata": {},
   "source": [
    "A comprehensive list of operators that can be implemented for any given class can be found [here](https://docs.python.org/3/reference/datamodel.html#special-method-names). It's worth noting that many of those operators are already implemented for any class. Re-implementing an existing operator (or more generally a `method`) is termed `overloading`."
   ]
  },
  {
   "cell_type": "code",
   "execution_count": null,
   "metadata": {
    "collapsed": false
   },
   "outputs": [],
   "source": [
    "x = Protein('prot1', 'MPNFFIDRPIFAWVIAIIIMLAGGLAILKLPVAQYPTIAP')\n",
    "dir(x)"
   ]
  },
  {
   "cell_type": "markdown",
   "metadata": {},
   "source": [
    "For instance, the `__eq__` method implements the `==` boolean operation. The basic implementation checks whether two instances are exactly the same, a behaviour that is not always intuitive."
   ]
  },
  {
   "cell_type": "code",
   "execution_count": null,
   "metadata": {
    "collapsed": false
   },
   "outputs": [],
   "source": [
    "p1 = Protein('prot1', 'MPNFFIDRPIFAWVIAIIIMLAGGLAILKLPVAQYPTIAP')\n",
    "p2 = Protein('prot1', 'MPNFFIDRPIFAWVIAIIIMLAGGLAILKLPVAQYPTIAP')\n",
    "p1 == p2"
   ]
  },
  {
   "cell_type": "code",
   "execution_count": null,
   "metadata": {
    "collapsed": true
   },
   "outputs": [],
   "source": [
    "# let's fix it\n",
    "class Protein(Sequence):\n",
    "    def get_exon_length(self):\n",
    "        return len(self.sequence) * 3\n",
    "    \n",
    "    def __eq__(self, other_instance):\n",
    "        return self.sequence == other_instance.sequence"
   ]
  },
  {
   "cell_type": "code",
   "execution_count": null,
   "metadata": {
    "collapsed": false
   },
   "outputs": [],
   "source": [
    "p1 = Protein('prot1', 'MPNFFIDRPIFAWVIAIIIMLAGGLAILKLPVAQYPTIAP')\n",
    "p2 = Protein('prot1', 'MPNFFIDRPIFAWVIAIIIMLAGGLAILKLPVAQYPTIAP')\n",
    "p1 == p2"
   ]
  },
  {
   "cell_type": "markdown",
   "metadata": {},
   "source": [
    "Other interesting operators:\n",
    "\n",
    "* `__lt__` (x<y), `__le__` (x<=y)\n",
    "* `__gt__` (x>y), `__ge__` (x>=y)\n",
    "* `__eq__` (x==y), `__ne__` (x!=y)\n",
    "* `__str__`: how the instance will be represented when calling the `print` or `format` functions on it\n",
    "* `__bool__` cast the instance to bool, for instance based on one of its attributes\n",
    "\n",
    "Many more are available, and allow to create new interesting data types."
   ]
  },
  {
   "cell_type": "markdown",
   "metadata": {},
   "source": [
    "Duck typing\n",
    "-----------\n",
    "\n",
    "Unlike languages like `c`, where the type of arguments to functions have to be previously defined, python uses the [\"Duck typing\"](https://en.wikipedia.org/wiki/Duck_typing) paradigm.\n",
    "\n",
    "**\"If it walks like a duck and it quacks like a duck, then it must be a duck.\"**\n",
    "\n",
    "In other words it means that we are not interested in checking and enforcing the `type` of an object to be used by a `method`, only that it needs to contain certain attributes and methods. More importantly, the check is performed ad runtime, and not at compilation time (which python doesn't have anyway!). This allows greater flexibility in passing objects to functions."
   ]
  },
  {
   "cell_type": "code",
   "execution_count": null,
   "metadata": {
    "collapsed": true
   },
   "outputs": [],
   "source": [
    "def sum_two_things(a, b):\n",
    "    return a + b"
   ]
  },
  {
   "cell_type": "code",
   "execution_count": null,
   "metadata": {
    "collapsed": false
   },
   "outputs": [],
   "source": [
    "sum_two_things(1, 2)"
   ]
  },
  {
   "cell_type": "code",
   "execution_count": null,
   "metadata": {
    "collapsed": false
   },
   "outputs": [],
   "source": [
    "sum_two_things('a', 'b')"
   ]
  },
  {
   "cell_type": "markdown",
   "metadata": {},
   "source": [
    "For the above examples we just need two objects that support the `__add__` operator, but we don't care about their actual `type`, as long as they say \"quack!\""
   ]
  }
 ],
 "metadata": {
  "kernelspec": {
   "display_name": "Python 3",
   "language": "python",
   "name": "python3"
  },
  "language_info": {
   "codemirror_mode": {
    "name": "ipython",
    "version": 3
   },
   "file_extension": ".py",
   "mimetype": "text/x-python",
   "name": "python",
   "nbconvert_exporter": "python",
   "pygments_lexer": "ipython3",
   "version": "3.5.3"
  }
 },
 "nbformat": 4,
 "nbformat_minor": 0
}
