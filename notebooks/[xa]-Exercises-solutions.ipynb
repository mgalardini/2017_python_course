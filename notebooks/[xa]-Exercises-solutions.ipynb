{
 "cells": [
  {
   "cell_type": "markdown",
   "metadata": {},
   "source": [
    "Object-oriented programming: solutions\n",
    "=============\n",
    "\n",
    "You can pick either of the proposed exercises, or both, depending on how deep you want to expand the classes."
   ]
  },
  {
   "cell_type": "markdown",
   "metadata": {},
   "source": [
    "**Exercise 1: biological sequences manipulation**\n",
    "\n",
    "using object-oriented programming, can you write a series of classes to handle biological sequences and read/write them in Fasta format? Can you add the functionality to check for the correct alphabet being used? Bonus points for writing simple sequence manipulation methods.\n",
    "\n",
    "You can use the `../data/proteome.faa` and `../data/genome.fasta` as input files.\n",
    "\n",
    "**Hint:** a biological sequence is an abstract concept, nucleotide and protein sequences are more specific."
   ]
  },
  {
   "cell_type": "code",
   "execution_count": null,
   "metadata": {
    "collapsed": true
   },
   "outputs": [],
   "source": []
  },
  {
   "cell_type": "markdown",
   "metadata": {},
   "source": [
    "**Exercise 2: graph theory, manipulation and analysis**\n",
    "\n",
    "Can you write a series of classes/methods to represent and analyse biological networks? You would probably need a `Node` and `Edge` class, and a `Graph` container class. But you are free to implement it however you see fit. Some methods to compute each node's degree and extract the graph's connected components should be implemented as well.\n",
    "\n",
    "You can use the *E. coli* string network as an example; [you can download it here](https://string-db.org/download/protein.links.v10.5/511145.protein.links.v10.5.txt.gz). You can decide to parse the whole network, or to filter for high scoring interactions (i.e. > 800)."
   ]
  },
  {
   "cell_type": "code",
   "execution_count": null,
   "metadata": {
    "collapsed": true
   },
   "outputs": [],
   "source": []
  }
 ],
 "metadata": {
  "kernelspec": {
   "display_name": "Python 3",
   "language": "python",
   "name": "python3"
  },
  "language_info": {
   "codemirror_mode": {
    "name": "ipython",
    "version": 3
   },
   "file_extension": ".py",
   "mimetype": "text/x-python",
   "name": "python",
   "nbconvert_exporter": "python",
   "pygments_lexer": "ipython3",
   "version": "3.5.3"
  }
 },
 "nbformat": 4,
 "nbformat_minor": 0
}
